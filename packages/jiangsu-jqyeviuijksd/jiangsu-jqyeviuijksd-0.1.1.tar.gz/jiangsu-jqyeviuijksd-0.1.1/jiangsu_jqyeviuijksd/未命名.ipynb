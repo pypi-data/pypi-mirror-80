{
 "cells": [
  {
   "cell_type": "code",
   "execution_count": 1,
   "metadata": {},
   "outputs": [
    {
     "name": "stdout",
     "output_type": "stream",
     "text": [
      "MuggleOCR Session [captcha] Loaded.\n"
     ]
    }
   ],
   "source": [
    "from faker import Faker\n",
    "import muggle_ocr\n",
    "import requests\n",
    "import re\n",
    "from json import loads, dumps\n",
    "from lxml import etree\n",
    "\n",
    "from jiangsu_jqyeviuijksd.get_session import get_session\n",
    "from jiangsu_jqyeviuijksd.common import get_const\n",
    "from jiangsu_jqyeviuijksd.get_question import get_question_from_file\n",
    "\n",
    "\n",
    "\n",
    "const = get_const()"
   ]
  },
  {
   "cell_type": "code",
   "execution_count": 12,
   "metadata": {},
   "outputs": [],
   "source": [
    "\n",
    "SCHOOL_PREFIX = 'cslg'\n",
    "ROOT_URL = f'http://{SCHOOL_PREFIX}.91job.org.cn'\n",
    "\n",
    "CAPTCHA_URL = f'{ROOT_URL}/user/captcha/v/5f6eb838209d2'\n",
    "LOGIN_URL = f'{ROOT_URL}/user/login?referer=/contest/question&callback=login'\n",
    "QUESTION_PAGE_URL = f'{ROOT_URL}/contest/question'\n",
    "INDEX_URL = f'{ROOT_URL}/contest/explain'\n",
    "ANSWER_URL = f'{ROOT_URL}/contest/answer'\n",
    "SAVE_ANSWER_URL = f'{ROOT_URL}/contest/savedata'\n",
    "\n",
    "username = '040717130'\n",
    "password = 'dDffZYVF6j43qDX'"
   ]
  },
  {
   "cell_type": "code",
   "execution_count": 3,
   "metadata": {},
   "outputs": [
    {
     "name": "stderr",
     "output_type": "stream",
     "text": [
      "2020-09-26 18:07:55,251 captcha 识别结果: cexi\n",
      "2020-09-26 18:07:56,261 登录成功: 040717130\n"
     ]
    }
   ],
   "source": [
    "sess = get_session(username, password, '常熟理工学院')"
   ]
  },
  {
   "cell_type": "code",
   "execution_count": 4,
   "metadata": {},
   "outputs": [],
   "source": [
    "proxies = { \"http\": \"http://127.0.0.1:8889\", \"https\": \"http://127.0.0.1:8889\"} \n",
    "questions = get_question_from_file('../questions.json')"
   ]
  },
  {
   "cell_type": "code",
   "execution_count": 13,
   "metadata": {},
   "outputs": [
    {
     "data": {
      "text/plain": [
       "Question(id='294', title='第126题(单选)', type='radio', topic='工作与家庭冲突中最为常见的一种冲突形式是（  ）', right='D', know='', answers=[{'id': 'A', 'title': '【A】 思想冲突 ', 'subId': '294'}, {'id': 'B', 'title': '【B】 利益冲突', 'subId': '294'}, {'id': 'C', 'title': '【C】 行为冲突', 'subId': '294'}, {'id': 'D', 'title': '【D】 时间冲突', 'subId': '294'}])"
      ]
     },
     "execution_count": 13,
     "metadata": {},
     "output_type": "execute_result"
    }
   ],
   "source": [
    "index = sess.get(ANSWER_URL, proxies=proxies)\n",
    "\n",
    "root = etree.fromstring(index.content, etree.HTMLParser())\n",
    "question = root.xpath('//div[@class=\"title\"]/b/text()')[0][3:]\n",
    "q = next((i for i in questions if i.topic == question))\n",
    "save_res = sess.post(SAVE_ANSWER_URL, {'value': q.right, 'tid': q.id})\n",
    "save_res.json()"
   ]
  },
  {
   "cell_type": "code",
   "execution_count": 48,
   "metadata": {},
   "outputs": [
    {
     "name": "stderr",
     "output_type": "stream",
     "text": [
      "2020-09-26 20:02:30,836 captcha 识别结果: yeha\n",
      "2020-09-26 20:02:31,890 登录成功: 040717130\n"
     ]
    }
   ],
   "source": [
    "sess = get_session(username, password, '常熟理工学院')\n"
   ]
  },
  {
   "cell_type": "code",
   "execution_count": 49,
   "metadata": {},
   "outputs": [],
   "source": [
    "question_res = sess.get(QUESTION_PAGE_URL, proxies=proxies)\n",
    "proxies = { \"http\": \"http://127.0.0.1:8889\", \"https\": \"http://127.0.0.1:8889\"} \n"
   ]
  },
  {
   "cell_type": "code",
   "execution_count": 47,
   "metadata": {},
   "outputs": [
    {
     "name": "stdout",
     "output_type": "stream",
     "text": [
      "    约翰·霍兰德将人的职业性向分为六种类型，其中表现为顺从、高效、实际、缺乏想象力、缺乏灵活性等个性特征的人的职业性向属于（       ）\n",
      "['【A】 企业性向', '【B】 常规性向', '【C】 现实性向', '【D】 社会性向']\n",
      "正确答案:B\n"
     ]
    }
   ],
   "source": [
    "root = etree.fromstring(question_res.content, etree.HTMLParser())\n",
    "question = root.xpath('//div[@class=\"title\"]/b/text()')[0]\n",
    "print(question)\n",
    "answers = root.xpath('//div[@class=\"answer\"]/ul/li/label')\n",
    "print([i.text for i in answers])\n",
    "answer = root.xpath('//div[@class=\"right\"]/p/font/b')[0]\n",
    "print(answer.text)\n"
   ]
  },
  {
   "cell_type": "code",
   "execution_count": 29,
   "metadata": {},
   "outputs": [],
   "source": [
    "answer[0].text"
   ]
  },
  {
   "cell_type": "code",
   "execution_count": 21,
   "metadata": {
    "scrolled": true
   },
   "outputs": [
    {
     "name": "stdout",
     "output_type": "stream",
     "text": [
      "<!DOCTYPE html PUBLIC \"-//W3C//DTD XHTML 1.0 Transitional//EN\" \"http://www.w3.org/TR/xhtml1/DTD/xhtml1-transitional.dtd\">\r\n",
      "<html xmlns=\"http://www.w3.org/1999/xhtml\">\r\n",
      "    <head>\r\n",
      "        <meta http-equiv=\"Content-Type\" content=\"text/html; charset=utf-8\" />\r\n",
      "        <title>江苏省大学生就（创）业知识竞赛</title>\r\n",
      "        <link rel=\"stylesheet\" href=\"/static/contest/all.css\"></link>\r\n",
      "        <script type=\"text/javascript\" src=\"/static/js/jquery.js\"></script>\r\n",
      "    </head>\r\n",
      "    <style>\r\n",
      "        .goto{\r\n",
      "            background-color: #003399;\r\n",
      "            padding: 0px;\r\n",
      "            border: 0px;\r\n",
      "            height: 30px;\r\n",
      "            width: 60px;\r\n",
      "            margin:0px auto;\r\n",
      "            color: #ffffff;\r\n",
      "            font-weight: bold;\r\n",
      "            font-size: 14px;\r\n",
      "            -webkit-appearance: none;\r\n",
      "            border-radius: 5px;\r\n",
      "            margin-left: 10px;\r\n",
      "        }\r\n",
      "    </style>\r\n",
      "    <body>\r\n",
      "        <table width=\"960\" border=\"0\" align=\"center\" cellpadding=\"0\" cellspacing=\"0\">\r\n",
      "            <tr>\r\n",
      "                <td height=\"171\"><img src=\"/static/91job/images/top.jpg\" width=\"960\" height=\"171\" /></td>\r\n",
      "            </tr>\r\n",
      "        </table>\r\n",
      "        <div class=\"all\">\r\n",
      "                            <div class=\"title\">\r\n",
      "                    <b><font color=\"red\">第1题(单选)：</font><br/>&nbsp;&nbsp;&nbsp; 约翰·霍兰德将人的职业性向分为六种类型，其中表现为顺从、高效、实际、缺乏想象力、缺乏灵活性等个性特征的人的职业性向属于（       ）</b>\r\n",
      "                </div>\r\n",
      "                <div class=\"answer\">\r\n",
      "                    <ul>\r\n",
      "                                                    <li><input name=\"CheckBoxList1\" type=\"radio\" value=\"A\"/><label>【A】 企业性向</label></li>\r\n",
      "                                                                            <li><input  name=\"CheckBoxList1\" type=\"radio\" value=\"B\"/><label>【B】 常规性向</label></li>\r\n",
      "                                                                            <li><input name=\"CheckBoxList1\" type=\"radio\" value=\"C\"/><label>【C】 现实性向</label></li>\r\n",
      "                                                                            <li><input name=\"CheckBoxList1\" type=\"radio\" value=\"D\"/><label>【D】 社会性向</label></li>\r\n",
      "                                            </ul>\r\n",
      "                </div>\r\n",
      "                <div class=\"right\">\r\n",
      "                    <p><font color=\"red\"><b>正确答案:B</b></font></p>\r\n",
      "                                    </div>\r\n",
      "                <div class=\"div_page\">\r\n",
      "                    <ul class=\"page_contest\" id=\"yw0\"><li class=\"first hidden\"><a href=\"/contest/question\">首页</a></li>\n",
      "<li class=\"previous hidden\"><a href=\"/contest/question\">上一题</a></li>\n",
      "<li class=\"next\"><a href=\"/contest/question?page=2\">下一题</a></li>\n",
      "<li class=\"last\"><a href=\"/contest/question?page=530\">尾页</a></li></ul>                </div>\r\n",
      "                        <div class=\"last\">\r\n",
      "                <span style=\"height:25px;line-height:25px;margin-left:30px;\">共530题，前往第  <input style=\"border:1px solid #717071;width:42px;height:21px;text-align:center\" type=\"text\" value=\"\" name=\"pageNumber\" id=\"pageNumber\" />题<button class=\"goto\" id=\"gotoBtn\">确定</button></span>                <br/>\r\n",
      "                <br/>\r\n",
      "                <li style=\"list-style:none;padding-left: 50px;\">\r\n",
      "                    <a style=\"color:Red;text-decoration-line: none;padding-top: 10px;\" href=\"/contest\" id=\"HyperLink1\">返回首页</a>\r\n",
      "                </li>\r\n",
      "            </div>\r\n",
      "        </div>\r\n",
      "        <table width=\"960\" border=\"0\" align=\"center\" cellpadding=\"0\" cellspacing=\"0\">\r\n",
      "            <tr>\r\n",
      "                <td height=\"40\" bgcolor=\"#073E74\" style=\"color:#608EB9\">&nbsp;&nbsp;&nbsp;&nbsp;江苏省第八届大学生就业、创业知识竞赛   主办：江苏省教育厅  承办：江苏省高校招生就业指导服务中心</tr>\r\n",
      "        </table>\r\n",
      "    </body>\r\n",
      "    ​<script type=\"text/javascript\">\r\n",
      "        document.body.onselectstart = document.body.oncontextmenu = function () {\r\n",
      "            return false;\r\n",
      "        }\r\n",
      "        $(function () {\r\n",
      "            $(\"#pageNumber\").val(\" \");\r\n",
      "            $(\"#gotoBtn\").click(function () {\r\n",
      "                var page = $(\"#pageNumber\").val();\r\n",
      "                window.location.href='/contest/question?page='+page;\r\n",
      "            });\r\n",
      "        });\r\n",
      "    </script> \r\n",
      "</html>\r\n",
      "\n"
     ]
    }
   ],
   "source": [
    "print(question_res.text)"
   ]
  },
  {
   "cell_type": "code",
   "execution_count": 50,
   "metadata": {},
   "outputs": [
    {
     "data": {
      "text/plain": [
       "['ANSWER_URL',\n",
       " 'CAPTCHA_URL',\n",
       " 'Faker',\n",
       " 'INDEX_URL',\n",
       " 'In',\n",
       " 'LOGIN_URL',\n",
       " 'Out',\n",
       " 'QUESTION_PAGE_URL',\n",
       " 'ROOT_URL',\n",
       " 'SAVE_ANSWER_URL',\n",
       " 'SCHOOL_PREFIX',\n",
       " '_',\n",
       " '_10',\n",
       " '_11',\n",
       " '_13',\n",
       " '_14',\n",
       " '_15',\n",
       " '_20',\n",
       " '_23',\n",
       " '_24',\n",
       " '_25',\n",
       " '_27',\n",
       " '_6',\n",
       " '_8',\n",
       " '_9',\n",
       " '__',\n",
       " '___',\n",
       " '__builtin__',\n",
       " '__builtins__',\n",
       " '__doc__',\n",
       " '__loader__',\n",
       " '__name__',\n",
       " '__package__',\n",
       " '__spec__',\n",
       " '_dh',\n",
       " '_i',\n",
       " '_i1',\n",
       " '_i10',\n",
       " '_i11',\n",
       " '_i12',\n",
       " '_i13',\n",
       " '_i14',\n",
       " '_i15',\n",
       " '_i16',\n",
       " '_i17',\n",
       " '_i18',\n",
       " '_i19',\n",
       " '_i2',\n",
       " '_i20',\n",
       " '_i21',\n",
       " '_i22',\n",
       " '_i23',\n",
       " '_i24',\n",
       " '_i25',\n",
       " '_i26',\n",
       " '_i27',\n",
       " '_i28',\n",
       " '_i29',\n",
       " '_i3',\n",
       " '_i30',\n",
       " '_i31',\n",
       " '_i32',\n",
       " '_i33',\n",
       " '_i34',\n",
       " '_i35',\n",
       " '_i36',\n",
       " '_i37',\n",
       " '_i38',\n",
       " '_i39',\n",
       " '_i4',\n",
       " '_i40',\n",
       " '_i41',\n",
       " '_i42',\n",
       " '_i43',\n",
       " '_i44',\n",
       " '_i45',\n",
       " '_i46',\n",
       " '_i47',\n",
       " '_i48',\n",
       " '_i49',\n",
       " '_i5',\n",
       " '_i50',\n",
       " '_i6',\n",
       " '_i7',\n",
       " '_i8',\n",
       " '_i9',\n",
       " '_ih',\n",
       " '_ii',\n",
       " '_iii',\n",
       " '_oh',\n",
       " 'answer',\n",
       " 'answers',\n",
       " 'black_reformat',\n",
       " 'const',\n",
       " 'divs',\n",
       " 'dumps',\n",
       " 'etree',\n",
       " 'exit',\n",
       " 'get_const',\n",
       " 'get_ipython',\n",
       " 'get_question_from_file',\n",
       " 'get_session',\n",
       " 'index',\n",
       " 'json',\n",
       " 'loads',\n",
       " 'muggle_ocr',\n",
       " 'password',\n",
       " 'proxies',\n",
       " 'q',\n",
       " 'question',\n",
       " 'question_res',\n",
       " 'questions',\n",
       " 'quit',\n",
       " 're',\n",
       " 'requests',\n",
       " 'root',\n",
       " 'save_res',\n",
       " 'sess',\n",
       " 'username']"
      ]
     },
     "execution_count": 50,
     "metadata": {},
     "output_type": "execute_result"
    }
   ],
   "source": [
    "dir()"
   ]
  },
  {
   "cell_type": "code",
   "execution_count": 3,
   "metadata": {},
   "outputs": [],
   "source": [
    "from jiangsu_jqyeviuijksd.common import Answer, Question"
   ]
  },
  {
   "cell_type": "code",
   "execution_count": 6,
   "metadata": {},
   "outputs": [],
   "source": []
  },
  {
   "cell_type": "code",
   "execution_count": 9,
   "metadata": {},
   "outputs": [],
   "source": [
    "import json\n",
    "from dataclasses import asdict\n",
    "\n",
    "with open('./questions.json', 'w') as f:\n",
    "    json.dump([asdict(i) for i in questions], f)"
   ]
  },
  {
   "cell_type": "code",
   "execution_count": 17,
   "metadata": {},
   "outputs": [
    {
     "data": {
      "text/plain": [
       "{'1': 3}"
      ]
     },
     "execution_count": 17,
     "metadata": {},
     "output_type": "execute_result"
    }
   ],
   "source": [
    "dict({'1':2}, **{'1':3})"
   ]
  }
 ],
 "metadata": {
  "kernelspec": {
   "display_name": "Python 3",
   "language": "python",
   "name": "python3"
  },
  "language_info": {
   "codemirror_mode": {
    "name": "ipython",
    "version": 3
   },
   "file_extension": ".py",
   "mimetype": "text/x-python",
   "name": "python",
   "nbconvert_exporter": "python",
   "pygments_lexer": "ipython3",
   "version": "3.7.4"
  }
 },
 "nbformat": 4,
 "nbformat_minor": 4
}
