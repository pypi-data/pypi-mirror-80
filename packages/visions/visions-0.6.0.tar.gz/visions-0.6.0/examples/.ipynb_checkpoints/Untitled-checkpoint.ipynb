{
 "cells": [
  {
   "cell_type": "code",
   "execution_count": 54,
   "metadata": {},
   "outputs": [
    {
     "name": "stdout",
     "output_type": "stream",
     "text": [
      "The autoreload extension is already loaded. To reload it, use:\n",
      "  %reload_ext autoreload\n"
     ]
    }
   ],
   "source": [
    "%load_ext autoreload\n",
    "%autoreload 2"
   ]
  },
  {
   "cell_type": "code",
   "execution_count": 55,
   "metadata": {},
   "outputs": [],
   "source": [
    "import pandas as pd"
   ]
  },
  {
   "cell_type": "code",
   "execution_count": 56,
   "metadata": {},
   "outputs": [],
   "source": [
    "import visions\n",
    "from visions import StandardSet, VisionsBaseType, String\n",
    "from visions.relations import IdentityRelation"
   ]
  },
  {
   "cell_type": "markdown",
   "metadata": {},
   "source": [
    "As programmer, data scientist or engineer we often work with data with a complex underlying standard. \n",
    "Think of phone numbers, email addresses, IBAN accounts and country codes.\n",
    "We're often confronted with new datasets. The initial process of understanding the data is often refered to as exploratory data analysis."
   ]
  },
  {
   "cell_type": "code",
   "execution_count": 57,
   "metadata": {},
   "outputs": [],
   "source": [
    "df = pd.read_csv(\"https://raw.githubusercontent.com/lukes/ISO-3166-Countries-with-Regional-Codes/master/all/all.csv\")"
   ]
  },
  {
   "cell_type": "code",
   "execution_count": 58,
   "metadata": {},
   "outputs": [
    {
     "data": {
      "text/html": [
       "<div>\n",
       "<style scoped>\n",
       "    .dataframe tbody tr th:only-of-type {\n",
       "        vertical-align: middle;\n",
       "    }\n",
       "\n",
       "    .dataframe tbody tr th {\n",
       "        vertical-align: top;\n",
       "    }\n",
       "\n",
       "    .dataframe thead th {\n",
       "        text-align: right;\n",
       "    }\n",
       "</style>\n",
       "<table border=\"1\" class=\"dataframe\">\n",
       "  <thead>\n",
       "    <tr style=\"text-align: right;\">\n",
       "      <th></th>\n",
       "      <th>name</th>\n",
       "      <th>alpha-2</th>\n",
       "      <th>alpha-3</th>\n",
       "      <th>country-code</th>\n",
       "      <th>iso_3166-2</th>\n",
       "      <th>region</th>\n",
       "      <th>sub-region</th>\n",
       "      <th>intermediate-region</th>\n",
       "      <th>region-code</th>\n",
       "      <th>sub-region-code</th>\n",
       "      <th>intermediate-region-code</th>\n",
       "    </tr>\n",
       "  </thead>\n",
       "  <tbody>\n",
       "    <tr>\n",
       "      <th>0</th>\n",
       "      <td>Afghanistan</td>\n",
       "      <td>AF</td>\n",
       "      <td>AFG</td>\n",
       "      <td>4</td>\n",
       "      <td>ISO 3166-2:AF</td>\n",
       "      <td>Asia</td>\n",
       "      <td>Southern Asia</td>\n",
       "      <td>NaN</td>\n",
       "      <td>142.0</td>\n",
       "      <td>34.0</td>\n",
       "      <td>NaN</td>\n",
       "    </tr>\n",
       "    <tr>\n",
       "      <th>1</th>\n",
       "      <td>Åland Islands</td>\n",
       "      <td>AX</td>\n",
       "      <td>ALA</td>\n",
       "      <td>248</td>\n",
       "      <td>ISO 3166-2:AX</td>\n",
       "      <td>Europe</td>\n",
       "      <td>Northern Europe</td>\n",
       "      <td>NaN</td>\n",
       "      <td>150.0</td>\n",
       "      <td>154.0</td>\n",
       "      <td>NaN</td>\n",
       "    </tr>\n",
       "    <tr>\n",
       "      <th>2</th>\n",
       "      <td>Albania</td>\n",
       "      <td>AL</td>\n",
       "      <td>ALB</td>\n",
       "      <td>8</td>\n",
       "      <td>ISO 3166-2:AL</td>\n",
       "      <td>Europe</td>\n",
       "      <td>Southern Europe</td>\n",
       "      <td>NaN</td>\n",
       "      <td>150.0</td>\n",
       "      <td>39.0</td>\n",
       "      <td>NaN</td>\n",
       "    </tr>\n",
       "    <tr>\n",
       "      <th>3</th>\n",
       "      <td>Algeria</td>\n",
       "      <td>DZ</td>\n",
       "      <td>DZA</td>\n",
       "      <td>12</td>\n",
       "      <td>ISO 3166-2:DZ</td>\n",
       "      <td>Africa</td>\n",
       "      <td>Northern Africa</td>\n",
       "      <td>NaN</td>\n",
       "      <td>2.0</td>\n",
       "      <td>15.0</td>\n",
       "      <td>NaN</td>\n",
       "    </tr>\n",
       "    <tr>\n",
       "      <th>4</th>\n",
       "      <td>American Samoa</td>\n",
       "      <td>AS</td>\n",
       "      <td>ASM</td>\n",
       "      <td>16</td>\n",
       "      <td>ISO 3166-2:AS</td>\n",
       "      <td>Oceania</td>\n",
       "      <td>Polynesia</td>\n",
       "      <td>NaN</td>\n",
       "      <td>9.0</td>\n",
       "      <td>61.0</td>\n",
       "      <td>NaN</td>\n",
       "    </tr>\n",
       "  </tbody>\n",
       "</table>\n",
       "</div>"
      ],
      "text/plain": [
       "             name alpha-2 alpha-3  country-code     iso_3166-2   region  \\\n",
       "0     Afghanistan      AF     AFG             4  ISO 3166-2:AF     Asia   \n",
       "1   Åland Islands      AX     ALA           248  ISO 3166-2:AX   Europe   \n",
       "2         Albania      AL     ALB             8  ISO 3166-2:AL   Europe   \n",
       "3         Algeria      DZ     DZA            12  ISO 3166-2:DZ   Africa   \n",
       "4  American Samoa      AS     ASM            16  ISO 3166-2:AS  Oceania   \n",
       "\n",
       "        sub-region intermediate-region  region-code  sub-region-code  \\\n",
       "0    Southern Asia                 NaN        142.0             34.0   \n",
       "1  Northern Europe                 NaN        150.0            154.0   \n",
       "2  Southern Europe                 NaN        150.0             39.0   \n",
       "3  Northern Africa                 NaN          2.0             15.0   \n",
       "4        Polynesia                 NaN          9.0             61.0   \n",
       "\n",
       "   intermediate-region-code  \n",
       "0                       NaN  \n",
       "1                       NaN  \n",
       "2                       NaN  \n",
       "3                       NaN  \n",
       "4                       NaN  "
      ]
     },
     "execution_count": 58,
     "metadata": {},
     "output_type": "execute_result"
    }
   ],
   "source": [
    "df.head()"
   ]
  },
  {
   "cell_type": "code",
   "execution_count": 78,
   "metadata": {},
   "outputs": [
    {
     "name": "stdout",
     "output_type": "stream",
     "text": [
      "Caribbean          28\n",
      "Eastern Africa     22\n",
      "Western Africa     17\n",
      "South America      16\n",
      "Middle Africa       9\n",
      "Central America     8\n",
      "Southern Africa     5\n",
      "Channel Islands     2\n",
      "Name: intermediate-region, dtype: int64\n"
     ]
    }
   ],
   "source": [
    "print(df['intermediate-region'].value_counts())"
   ]
  },
  {
   "cell_type": "markdown",
   "metadata": {},
   "source": [
    "We see the country name, two and three letter codes, other unique identifiers, and region information. Looking at the (semantic) data types helps us explore the data. "
   ]
  },
  {
   "cell_type": "code",
   "execution_count": 59,
   "metadata": {},
   "outputs": [
    {
     "data": {
      "text/plain": [
       "{'name': String,\n",
       " 'alpha-2': String,\n",
       " 'alpha-3': String,\n",
       " 'country-code': Integer,\n",
       " 'iso_3166-2': String,\n",
       " 'region': String,\n",
       " 'sub-region': String,\n",
       " 'intermediate-region': String,\n",
       " 'region-code': Float,\n",
       " 'sub-region-code': Float,\n",
       " 'intermediate-region-code': Float}"
      ]
     },
     "execution_count": 59,
     "metadata": {},
     "output_type": "execute_result"
    }
   ],
   "source": [
    "typeset = StandardSet()\n",
    "typeset.detect_type(df)"
   ]
  },
  {
   "cell_type": "markdown",
   "metadata": {},
   "source": [
    "The region-code and sub-region-code seem to be integers stored as float. This is confirmed when we use \"infer_type\". Under the hood visions traverses relations that are defined on the StandardSet, such as considering floats that are actually integers."
   ]
  },
  {
   "cell_type": "code",
   "execution_count": 60,
   "metadata": {},
   "outputs": [
    {
     "data": {
      "text/plain": [
       "{'name': String,\n",
       " 'alpha-2': String,\n",
       " 'alpha-3': String,\n",
       " 'country-code': Integer,\n",
       " 'iso_3166-2': String,\n",
       " 'region': String,\n",
       " 'sub-region': String,\n",
       " 'intermediate-region': String,\n",
       " 'region-code': Integer,\n",
       " 'sub-region-code': Integer,\n",
       " 'intermediate-region-code': Integer}"
      ]
     },
     "execution_count": 60,
     "metadata": {},
     "output_type": "execute_result"
    }
   ],
   "source": [
    "typeset.infer_type(df)"
   ]
  },
  {
   "cell_type": "markdown",
   "metadata": {},
   "source": [
    "\"String\" is a broad class for the two and three letter codes, and provides us with little grip. Let's extend the typeset."
   ]
  },
  {
   "cell_type": "code",
   "execution_count": 61,
   "metadata": {},
   "outputs": [],
   "source": [
    "def is_len_3(series):\n",
    "    return (series.str.len() == 3).all()"
   ]
  },
  {
   "cell_type": "code",
   "execution_count": 62,
   "metadata": {},
   "outputs": [],
   "source": [
    "class ThreeLetter(VisionsBaseType):\n",
    "    @classmethod\n",
    "    def get_relations(cls):\n",
    "        return [\n",
    "            IdentityRelation(cls, String)\n",
    "        ]\n",
    "    \n",
    "    @classmethod\n",
    "    def contains_op(cls, series):\n",
    "        return is_len_3(series) and not series.hasnans"
   ]
  },
  {
   "cell_type": "code",
   "execution_count": 63,
   "metadata": {},
   "outputs": [],
   "source": [
    "typeset += ThreeLetter"
   ]
  },
  {
   "cell_type": "markdown",
   "metadata": {},
   "source": [
    "What we have done is create a new subtype of String, for two letter codes"
   ]
  },
  {
   "cell_type": "code",
   "execution_count": 77,
   "metadata": {},
   "outputs": [
    {
     "data": {
      "text/plain": [
       "{'name': String,\n",
       " 'alpha-2': TwoLetter,\n",
       " 'alpha-3': ThreeLetter,\n",
       " 'country-code': Integer,\n",
       " 'iso_3166-2': String,\n",
       " 'region': String,\n",
       " 'sub-region': String,\n",
       " 'intermediate-region': String,\n",
       " 'region-code': Integer,\n",
       " 'sub-region-code': Integer,\n",
       " 'intermediate-region-code': Integer}"
      ]
     },
     "execution_count": 77,
     "metadata": {},
     "output_type": "execute_result"
    }
   ],
   "source": [
    "typeset.infer_type(df)"
   ]
  },
  {
   "cell_type": "markdown",
   "metadata": {},
   "source": [
    "Let's do the same for TwoLetter codes."
   ]
  },
  {
   "cell_type": "code",
   "execution_count": 65,
   "metadata": {},
   "outputs": [],
   "source": [
    "def is_len_2(series):\n",
    "    return (series.str.len() == 2).all()"
   ]
  },
  {
   "cell_type": "code",
   "execution_count": 66,
   "metadata": {},
   "outputs": [],
   "source": [
    "class TwoLetter(VisionsBaseType):\n",
    "    @classmethod\n",
    "    def get_relations(cls):\n",
    "        return [\n",
    "            IdentityRelation(cls, String)\n",
    "        ]\n",
    "    \n",
    "    @classmethod\n",
    "    def contains_op(cls, series):\n",
    "        return is_len_2(series) and not series.hasnans"
   ]
  },
  {
   "cell_type": "code",
   "execution_count": 67,
   "metadata": {},
   "outputs": [],
   "source": [
    "typeset += TwoLetter"
   ]
  },
  {
   "cell_type": "code",
   "execution_count": 76,
   "metadata": {},
   "outputs": [
    {
     "data": {
      "text/plain": [
       "{'name': String,\n",
       " 'alpha-2': TwoLetter,\n",
       " 'alpha-3': ThreeLetter,\n",
       " 'country-code': Integer,\n",
       " 'iso_3166-2': String,\n",
       " 'region': String,\n",
       " 'sub-region': String,\n",
       " 'intermediate-region': String,\n",
       " 'region-code': Integer,\n",
       " 'sub-region-code': Integer,\n",
       " 'intermediate-region-code': Integer}"
      ]
     },
     "execution_count": 76,
     "metadata": {},
     "output_type": "execute_result"
    }
   ],
   "source": [
    "typeset.infer_type(df)"
   ]
  },
  {
   "cell_type": "markdown",
   "metadata": {},
   "source": [
    "Why didn't the code above recognize the two letter codes? "
   ]
  },
  {
   "cell_type": "code",
   "execution_count": 69,
   "metadata": {},
   "outputs": [
    {
     "data": {
      "text/html": [
       "<div>\n",
       "<style scoped>\n",
       "    .dataframe tbody tr th:only-of-type {\n",
       "        vertical-align: middle;\n",
       "    }\n",
       "\n",
       "    .dataframe tbody tr th {\n",
       "        vertical-align: top;\n",
       "    }\n",
       "\n",
       "    .dataframe thead th {\n",
       "        text-align: right;\n",
       "    }\n",
       "</style>\n",
       "<table border=\"1\" class=\"dataframe\">\n",
       "  <thead>\n",
       "    <tr style=\"text-align: right;\">\n",
       "      <th></th>\n",
       "      <th>name</th>\n",
       "      <th>alpha-2</th>\n",
       "      <th>alpha-3</th>\n",
       "      <th>country-code</th>\n",
       "      <th>iso_3166-2</th>\n",
       "      <th>region</th>\n",
       "      <th>sub-region</th>\n",
       "      <th>intermediate-region</th>\n",
       "      <th>region-code</th>\n",
       "      <th>sub-region-code</th>\n",
       "      <th>intermediate-region-code</th>\n",
       "    </tr>\n",
       "  </thead>\n",
       "  <tbody>\n",
       "    <tr>\n",
       "      <th>153</th>\n",
       "      <td>Namibia</td>\n",
       "      <td>NaN</td>\n",
       "      <td>NAM</td>\n",
       "      <td>516</td>\n",
       "      <td>ISO 3166-2:NA</td>\n",
       "      <td>Africa</td>\n",
       "      <td>Sub-Saharan Africa</td>\n",
       "      <td>Southern Africa</td>\n",
       "      <td>2.0</td>\n",
       "      <td>202.0</td>\n",
       "      <td>18.0</td>\n",
       "    </tr>\n",
       "  </tbody>\n",
       "</table>\n",
       "</div>"
      ],
      "text/plain": [
       "        name alpha-2 alpha-3  country-code     iso_3166-2  region  \\\n",
       "153  Namibia     NaN     NAM           516  ISO 3166-2:NA  Africa   \n",
       "\n",
       "             sub-region intermediate-region  region-code  sub-region-code  \\\n",
       "153  Sub-Saharan Africa     Southern Africa          2.0            202.0   \n",
       "\n",
       "     intermediate-region-code  \n",
       "153                      18.0  "
      ]
     },
     "execution_count": 69,
     "metadata": {},
     "output_type": "execute_result"
    }
   ],
   "source": [
    "df.loc[(df['alpha-2'].str.len() != 2)]"
   ]
  },
  {
   "cell_type": "markdown",
   "metadata": {},
   "source": [
    "Namibia has the alpha-2 code NA. Using pandas.read_csv naively, we parsed it as np.NaN!"
   ]
  },
  {
   "cell_type": "code",
   "execution_count": 72,
   "metadata": {},
   "outputs": [],
   "source": [
    "# We do this to prevent reloading the data, we could also use pd.read_csv(data, nan_filter=False)\n",
    "df['alpha-2'] = df['alpha-2'].fillna('NA')"
   ]
  },
  {
   "cell_type": "code",
   "execution_count": 75,
   "metadata": {},
   "outputs": [
    {
     "data": {
      "text/plain": [
       "{'name': String,\n",
       " 'alpha-2': TwoLetter,\n",
       " 'alpha-3': ThreeLetter,\n",
       " 'country-code': Integer,\n",
       " 'iso_3166-2': String,\n",
       " 'region': String,\n",
       " 'sub-region': String,\n",
       " 'intermediate-region': String,\n",
       " 'region-code': Integer,\n",
       " 'sub-region-code': Integer,\n",
       " 'intermediate-region-code': Integer}"
      ]
     },
     "execution_count": 75,
     "metadata": {},
     "output_type": "execute_result"
    }
   ],
   "source": [
    "typeset.infer_type(df)"
   ]
  },
  {
   "cell_type": "code",
   "execution_count": 89,
   "metadata": {},
   "outputs": [],
   "source": [
    "class Alpha2(VisionsBaseType):\n",
    "    @classmethod\n",
    "    def get_relations(cls):\n",
    "        return [\n",
    "            IdentityRelation(cls, TwoLetter)\n",
    "        ]\n",
    "    \n",
    "    @classmethod\n",
    "    def contains_op(cls, series):\n",
    "        iso_3166_alpha_iso_2_codes = [\n",
    "            'AF', 'AX', 'AL', 'DZ', 'AS', 'AD', 'AO', 'AI', 'AQ', 'AG', 'AR',\n",
    "           'AM', 'AW', 'AU', 'AT', 'AZ', 'BS', 'BH', 'BD', 'BB', 'BY', 'BE',\n",
    "           'BZ', 'BJ', 'BM', 'BT', 'BO', 'BQ', 'BA', 'BW', 'BV', 'BR', 'IO',\n",
    "           'BN', 'BG', 'BF', 'BI', 'CV', 'KH', 'CM', 'CA', 'KY', 'CF', 'TD',\n",
    "           'CL', 'CN', 'CX', 'CC', 'CO', 'KM', 'CG', 'CD', 'CK', 'CR', 'CI',\n",
    "           'HR', 'CU', 'CW', 'CY', 'CZ', 'DK', 'DJ', 'DM', 'DO', 'EC', 'EG',\n",
    "           'SV', 'GQ', 'ER', 'EE', 'SZ', 'ET', 'FK', 'FO', 'FJ', 'FI', 'FR',\n",
    "           'GF', 'PF', 'TF', 'GA', 'GM', 'GE', 'DE', 'GH', 'GI', 'GR', 'GL',\n",
    "           'GD', 'GP', 'GU', 'GT', 'GG', 'GN', 'GW', 'GY', 'HT', 'HM', 'VA',\n",
    "           'HN', 'HK', 'HU', 'IS', 'IN', 'ID', 'IR', 'IQ', 'IE', 'IM', 'IL',\n",
    "           'IT', 'JM', 'JP', 'JE', 'JO', 'KZ', 'KE', 'KI', 'KP', 'KR', 'KW',\n",
    "           'KG', 'LA', 'LV', 'LB', 'LS', 'LR', 'LY', 'LI', 'LT', 'LU', 'MO',\n",
    "           'MG', 'MW', 'MY', 'MV', 'ML', 'MT', 'MH', 'MQ', 'MR', 'MU', 'YT',\n",
    "           'MX', 'FM', 'MD', 'MC', 'MN', 'ME', 'MS', 'MA', 'MZ', 'MM', 'NA',\n",
    "           'NR', 'NP', 'NL', 'NC', 'NZ', 'NI', 'NE', 'NG', 'NU', 'NF', 'MK',\n",
    "           'MP', 'NO', 'OM', 'PK', 'PW', 'PS', 'PA', 'PG', 'PY', 'PE', 'PH',\n",
    "           'PN', 'PL', 'PT', 'PR', 'QA', 'RE', 'RO', 'RU', 'RW', 'BL', 'SH',\n",
    "           'KN', 'LC', 'MF', 'PM', 'VC', 'WS', 'SM', 'ST', 'SA', 'SN', 'RS',\n",
    "           'SC', 'SL', 'SG', 'SX', 'SK', 'SI', 'SB', 'SO', 'ZA', 'GS', 'SS',\n",
    "           'ES', 'LK', 'SD', 'SR', 'SJ', 'SE', 'CH', 'SY', 'TW', 'TJ', 'TZ',\n",
    "           'TH', 'TL', 'TG', 'TK', 'TO', 'TT', 'TN', 'TR', 'TM', 'TC', 'TV',\n",
    "           'UG', 'UA', 'AE', 'GB', 'US', 'UM', 'UY', 'UZ', 'VU', 'VE', 'VN',\n",
    "           'VG', 'VI', 'WF', 'EH', 'YE', 'ZM', 'ZW'\n",
    "        ]\n",
    "        return series.isin(iso_3166_alpha_iso_2_codes).all()"
   ]
  },
  {
   "cell_type": "code",
   "execution_count": 90,
   "metadata": {},
   "outputs": [],
   "source": [
    "typeset += Alpha2"
   ]
  },
  {
   "cell_type": "code",
   "execution_count": 91,
   "metadata": {},
   "outputs": [
    {
     "data": {
      "text/plain": [
       "{'name': String,\n",
       " 'alpha-2': ISO3166Alpha2,\n",
       " 'alpha-3': ThreeLetter,\n",
       " 'country-code': Integer,\n",
       " 'iso_3166-2': String,\n",
       " 'region': String,\n",
       " 'sub-region': String,\n",
       " 'intermediate-region': String,\n",
       " 'region-code': Integer,\n",
       " 'sub-region-code': Integer,\n",
       " 'intermediate-region-code': Integer}"
      ]
     },
     "execution_count": 91,
     "metadata": {},
     "output_type": "execute_result"
    }
   ],
   "source": [
    "typeset.infer_type(df)"
   ]
  },
  {
   "cell_type": "code",
   "execution_count": 97,
   "metadata": {},
   "outputs": [],
   "source": [
    "# typeset.plot_graph()"
   ]
  },
  {
   "cell_type": "code",
   "execution_count": 103,
   "metadata": {},
   "outputs": [],
   "source": [
    "# Examples pulled from: https://www.xe.com/ibancalculator/sample/?ibancountry=france\n",
    "iban_df = pd.DataFrame([\n",
    "    {'iban': \"LV80 BANK 0000 4351 9500 1\", 'country': 'Latvia', 'country_code': 'LV'},\n",
    "    {'iban': \"FR14 2004 1010 0505 0001 3M02 606\", \"country\": \"Martinique\", 'country_code': 'MQ'},\n",
    "    {'iban': \"FR14 2004 1010 1234 0001 3M02 606\", \"country\": \"France\", 'country_code': 'FR'}\n",
    "])"
   ]
  },
  {
   "cell_type": "code",
   "execution_count": 105,
   "metadata": {},
   "outputs": [],
   "source": [
    "iban_df['iban_country_code'] = iban_df['iban'].str.slice(stop=2)"
   ]
  },
  {
   "cell_type": "code",
   "execution_count": 107,
   "metadata": {},
   "outputs": [
    {
     "data": {
      "text/html": [
       "<div>\n",
       "<style scoped>\n",
       "    .dataframe tbody tr th:only-of-type {\n",
       "        vertical-align: middle;\n",
       "    }\n",
       "\n",
       "    .dataframe tbody tr th {\n",
       "        vertical-align: top;\n",
       "    }\n",
       "\n",
       "    .dataframe thead th {\n",
       "        text-align: right;\n",
       "    }\n",
       "</style>\n",
       "<table border=\"1\" class=\"dataframe\">\n",
       "  <thead>\n",
       "    <tr style=\"text-align: right;\">\n",
       "      <th></th>\n",
       "      <th>iban</th>\n",
       "      <th>country</th>\n",
       "      <th>country_code</th>\n",
       "      <th>iban_country_code</th>\n",
       "    </tr>\n",
       "  </thead>\n",
       "  <tbody>\n",
       "    <tr>\n",
       "      <th>0</th>\n",
       "      <td>LV80 BANK 0000 4351 9500 1</td>\n",
       "      <td>Latvia</td>\n",
       "      <td>LV</td>\n",
       "      <td>LV</td>\n",
       "    </tr>\n",
       "    <tr>\n",
       "      <th>1</th>\n",
       "      <td>FR14 2004 1010 0505 0001 3M02 606</td>\n",
       "      <td>Martinique</td>\n",
       "      <td>MQ</td>\n",
       "      <td>FR</td>\n",
       "    </tr>\n",
       "    <tr>\n",
       "      <th>2</th>\n",
       "      <td>FR14 2004 1010 1234 0001 3M02 606</td>\n",
       "      <td>France</td>\n",
       "      <td>FR</td>\n",
       "      <td>FR</td>\n",
       "    </tr>\n",
       "  </tbody>\n",
       "</table>\n",
       "</div>"
      ],
      "text/plain": [
       "                                iban     country country_code  \\\n",
       "0         LV80 BANK 0000 4351 9500 1      Latvia           LV   \n",
       "1  FR14 2004 1010 0505 0001 3M02 606  Martinique           MQ   \n",
       "2  FR14 2004 1010 1234 0001 3M02 606      France           FR   \n",
       "\n",
       "  iban_country_code  \n",
       "0                LV  \n",
       "1                FR  \n",
       "2                FR  "
      ]
     },
     "execution_count": 107,
     "metadata": {},
     "output_type": "execute_result"
    }
   ],
   "source": [
    "iban_df"
   ]
  },
  {
   "cell_type": "code",
   "execution_count": 106,
   "metadata": {},
   "outputs": [
    {
     "data": {
      "text/plain": [
       "{'iban': String,\n",
       " 'country': String,\n",
       " 'country_code': ISO3166Alpha2,\n",
       " 'iban_country_code': ISO3166Alpha2}"
      ]
     },
     "execution_count": 106,
     "metadata": {},
     "output_type": "execute_result"
    }
   ],
   "source": [
    "typeset.infer_type(iban_df)"
   ]
  },
  {
   "cell_type": "code",
   "execution_count": 74,
   "metadata": {},
   "outputs": [],
   "source": [
    "# https://github.com/globalcitizen/php-iban/tree/master/utils/example-ibans"
   ]
  },
  {
   "cell_type": "code",
   "execution_count": 109,
   "metadata": {},
   "outputs": [],
   "source": [
    "# https://www.xe.com/ibancalculator/sample/?ibancountry=martinique\n",
    "# https://en.wikipedia.org/wiki/ISO_3166-2:MQ"
   ]
  }
 ],
 "metadata": {
  "kernelspec": {
   "display_name": "my-virtualenv-name",
   "language": "python",
   "name": "my-virtualenv-name"
  },
  "language_info": {
   "codemirror_mode": {
    "name": "ipython",
    "version": 3
   },
   "file_extension": ".py",
   "mimetype": "text/x-python",
   "name": "python",
   "nbconvert_exporter": "python",
   "pygments_lexer": "ipython3",
   "version": "3.7.3"
  }
 },
 "nbformat": 4,
 "nbformat_minor": 2
}
