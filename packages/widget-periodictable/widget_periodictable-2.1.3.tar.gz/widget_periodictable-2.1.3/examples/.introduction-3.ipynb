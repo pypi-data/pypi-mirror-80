{
 "cells": [
  {
   "cell_type": "code",
   "execution_count": 38,
   "metadata": {},
   "outputs": [],
   "source": [
    "import ipywidgets as widgets\n",
    "from widget_periodictable import PTableWidget"
   ]
  },
  {
   "cell_type": "markdown",
   "metadata": {},
   "source": [
    "# Visualize the element grid"
   ]
  },
  {
   "cell_type": "code",
   "execution_count": 39,
   "metadata": {},
   "outputs": [
    {
     "data": {
      "application/vnd.jupyter.widget-view+json": {
       "model_id": "1281cbe763d64f41b1acf74f73a6f9ba",
       "version_major": 2,
       "version_minor": 0
      },
      "text/plain": [
       "PTableWidget(selected_colors=['red', 'green', 'yellow'], states=3)"
      ]
     },
     "metadata": {},
     "output_type": "display_data"
    }
   ],
   "source": [
    "# Show the widget\n",
    "widget = PTableWidget(states = 3, disabled_color = 'gray', selected_colors = ['red', 'green', 'yellow'])\n",
    "widget"
   ]
  },
  {
   "cell_type": "markdown",
   "metadata": {},
   "source": [
    "# Get the selected values in python"
   ]
  },
  {
   "cell_type": "markdown",
   "metadata": {},
   "source": [
    "Check which elements are currently selected"
   ]
  },
  {
   "cell_type": "code",
   "execution_count": 21,
   "metadata": {},
   "outputs": [
    {
     "data": {
      "application/vnd.jupyter.widget-view+json": {
       "model_id": "4b9f2ea42eaf47efbf4daf880e5eb779",
       "version_major": 2,
       "version_minor": 0
      },
      "text/plain": [
       "VBox(children=(Button(button_style='success', description='Get the currently selected values', layout=Layout(w…"
      ]
     },
     "metadata": {},
     "output_type": "display_data"
    }
   ],
   "source": [
    "output = widgets.Output()\n",
    "\n",
    "def on_get_in_python(event):\n",
    "    output.clear_output()\n",
    "    with output:\n",
    "        print(\n",
    "            \"Currently selected values:\",  \n",
    "            widget.selected_elements)\n",
    "\n",
    "button2 = widgets.Button(\n",
    "    description=\"Get the currently selected values\", \n",
    "    button_style='success',\n",
    "    layout={'width': '300px'}\n",
    ")\n",
    "button2.on_click(on_get_in_python)\n",
    "vbox = widgets.VBox([button2, output])\n",
    "vbox"
   ]
  },
  {
   "cell_type": "markdown",
   "metadata": {},
   "source": [
    "# Play with enabling/disabling some elements"
   ]
  },
  {
   "cell_type": "code",
   "execution_count": 14,
   "metadata": {},
   "outputs": [
    {
     "data": {
      "application/vnd.jupyter.widget-view+json": {
       "model_id": "ab1d7cfed905464a9c4ebbbc32bd6cd8",
       "version_major": 2,
       "version_minor": 0
      },
      "text/plain": [
       "Checkbox(value=False, description='Disable oxygen')"
      ]
     },
     "metadata": {},
     "output_type": "display_data"
    }
   ],
   "source": [
    "toggle_disabled = widgets.Checkbox(\n",
    "    value=\"O\" in widget.disabled_elements,\n",
    "    description='Disable oxygen',\n",
    "    disabled=False\n",
    ")\n",
    "\n",
    "def on_change_disabled(event):\n",
    "    if toggle_disabled.value:\n",
    "        # It's set, meaning we want to disable oxygen\n",
    "        widget.disabled_elements = [\"O\"]\n",
    "    else:\n",
    "        widget.disabled_elements = []\n",
    "toggle_disabled.observe(on_change_disabled, names='value')\n",
    "\n",
    "def on_change(event):\n",
    "    \"\"\"\n",
    "    Update the toggle value if manually changing the disabled_elements list.\n",
    "    \"\"\"\n",
    "    toggle_disabled.value = \"O\" in widget.disabled_elements\n",
    "widget.observe(on_change, names='disabled_elements', type='change')        \n",
    "        \n",
    "toggle_disabled"
   ]
  },
  {
   "cell_type": "markdown",
   "metadata": {},
   "source": [
    "# Set the selected values from python\n",
    "Choose the selected values from python"
   ]
  },
  {
   "cell_type": "code",
   "execution_count": 15,
   "metadata": {},
   "outputs": [
    {
     "data": {
      "application/vnd.jupyter.widget-view+json": {
       "model_id": "2db50068266445f5a54914f14b74ca3f",
       "version_major": 2,
       "version_minor": 0
      },
      "text/plain": [
       "Button(button_style='success', description='Select only Li and H (from python)', layout=Layout(width='300px'),…"
      ]
     },
     "metadata": {},
     "output_type": "display_data"
    }
   ],
   "source": [
    "def on_set_from_ptyhon(event):\n",
    "    # NOTE! If you put an element which does not exist, it will stay forever in the list, but it's ignored\n",
    "    widget.selected_elements = ['Li', 'H']\n",
    "\n",
    "button = widgets.Button(\n",
    "    description=\"Select only Li and H (from python)\", \n",
    "    button_style='success',\n",
    "    layout={'width': '300px'}\n",
    ")\n",
    "button.on_click(on_set_from_ptyhon)\n",
    "button"
   ]
  },
  {
   "cell_type": "markdown",
   "metadata": {},
   "source": [
    "# Change the displayed string for some elements\n",
    "Note that you should pass valid HTML strings, as they will not be escaped. On the other hand this allows to use HTML to change the class, color, ..."
   ]
  },
  {
   "cell_type": "code",
   "execution_count": 16,
   "metadata": {},
   "outputs": [
    {
     "data": {
      "application/vnd.jupyter.widget-view+json": {
       "model_id": "71f721c7aa524c85a570d649fa9369ba",
       "version_major": 2,
       "version_minor": 0
      },
      "text/plain": [
       "Button(button_style='success', description='Make noble gases bold', layout=Layout(width='300px'), style=Button…"
      ]
     },
     "metadata": {},
     "output_type": "display_data"
    }
   ],
   "source": [
    "def get_noble_gases_state():\n",
    "    label_deactivate = \"Make noble gases bold\"\n",
    "    label_activate = \"Make noble gases not bold\"\n",
    "    def deactivate_noble_gases(event):\n",
    "        widget.display_names_replacements = {}\n",
    "    def activate_noble_gases(event):\n",
    "        widget.display_names_replacements = {\n",
    "            elem_name: \"<strong>{}</strong>\".format(elem_name)\n",
    "            for elem_name in ['He', 'Ne', 'Ar', 'Kr', 'Xe', 'Rn', 'Og']\n",
    "        }\n",
    "\n",
    "    if 'He' in widget.display_names_replacements:\n",
    "        return {\n",
    "            'is_active': True,\n",
    "            'toggler_function': deactivate_noble_gases,\n",
    "            'toggled_label': label_deactivate,\n",
    "            'current_label': label_activate\n",
    "        }\n",
    "    else:\n",
    "        return {\n",
    "            'is_active': True,\n",
    "            'toggler_function': activate_noble_gases,\n",
    "            'toggled_label': label_activate,\n",
    "            'current_label': label_deactivate\n",
    "        }\n",
    "\n",
    "button_noble = widgets.Button(\n",
    "    description=get_noble_gases_state()['current_label'], \n",
    "    button_style='success',\n",
    "    layout={'width': '300px'}\n",
    ")\n",
    "                \n",
    "def on_toggle_noble_gases(event):\n",
    "    \"\"\"Toggle the state of the button and of the .\"\"\"\n",
    "    state = get_noble_gases_state() \n",
    "    # Change the table\n",
    "    state['toggler_function'](event)\n",
    "    # Change the button description\n",
    "    button_noble.description = state['toggled_label']\n",
    "    \n",
    "button_noble.on_click(on_toggle_noble_gases)\n",
    "button_noble"
   ]
  }
 ],
 "metadata": {
  "kernelspec": {
   "display_name": "Python 3",
   "language": "python",
   "name": "python3"
  },
  "language_info": {
   "codemirror_mode": {
    "name": "ipython",
    "version": 3
   },
   "file_extension": ".py",
   "mimetype": "text/x-python",
   "name": "python",
   "nbconvert_exporter": "python",
   "pygments_lexer": "ipython3",
   "version": "3.7.6"
  }
 },
 "nbformat": 4,
 "nbformat_minor": 4
}
