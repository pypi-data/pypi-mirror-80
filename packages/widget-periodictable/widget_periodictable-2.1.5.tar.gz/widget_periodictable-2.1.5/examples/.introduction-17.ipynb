{
 "cells": [
  {
   "cell_type": "markdown",
   "metadata": {},
   "source": [
    "# The widget periodic table"
   ]
  },
  {
   "cell_type": "code",
   "execution_count": null,
   "metadata": {},
   "outputs": [],
   "source": [
    "import ipywidgets as widgets\n",
    "from widget_periodictable import PTableWidget"
   ]
  },
  {
   "cell_type": "markdown",
   "metadata": {},
   "source": [
    "## Visualize the element grid"
   ]
  },
  {
   "cell_type": "code",
   "execution_count": null,
   "metadata": {},
   "outputs": [],
   "source": [
    "# Show the widget\n",
    "widget = PTableWidget(states = 3, selected_colors = ['red', 'green', 'yellow'], unselected_color='pink')\n",
    "widget"
   ]
  },
  {
   "cell_type": "markdown",
   "metadata": {},
   "source": [
    "## Set the states of the elements\n",
    "\n",
    "The periodic table allows users to customize the states of the selected elements. \n",
    "If one do not give the selected element's state, it will set the state as zero."
   ]
  },
  {
   "cell_type": "markdown",
   "metadata": {},
   "source": [
    "Select the element and set the state:\n",
    "\n",
    "```python\n",
    "widget.set_element_state(\"Ce\", 2)\n",
    "widget.set_element_state(\"Am\", 1)\n",
    "```"
   ]
  },
  {
   "cell_type": "code",
   "execution_count": null,
   "metadata": {},
   "outputs": [],
   "source": [
    "widget.set_element_state(\"Ce\", 2)\n",
    "widget.set_element_state(\"Am\", 1)"
   ]
  },
  {
   "cell_type": "markdown",
   "metadata": {},
   "source": [
    "Only select the elements. If the element has been selected before, it will keep the previous state.\n",
    "Ohterwise, the state will be set as zero. \n",
    "\n",
    "```python\n",
    "widget.selected_elements = [\"Ce\", \"Am\", \"Bk\", \"Cf\"]\n",
    "widget.get_elements_by_state(0)\n",
    "```"
   ]
  },
  {
   "cell_type": "code",
   "execution_count": null,
   "metadata": {},
   "outputs": [],
   "source": [
    "widget.selected_elements = [\"Ce\", \"Am\", \"Bk\", \"Cf\"]\n",
    "widget.get_elements_by_state(0)"
   ]
  },
  {
   "cell_type": "markdown",
   "metadata": {},
   "source": [
    "## Get the selected values in python"
   ]
  },
  {
   "cell_type": "markdown",
   "metadata": {},
   "source": [
    "Check which elements are currently selected"
   ]
  },
  {
   "cell_type": "code",
   "execution_count": null,
   "metadata": {},
   "outputs": [],
   "source": [
    "output = widgets.Output()\n",
    "\n",
    "def on_get_in_python(event):\n",
    "    output.clear_output()\n",
    "    with output:\n",
    "        print(\n",
    "            \"Currently selected values:\",  \n",
    "            widget.selected_elements)\n",
    "\n",
    "button2 = widgets.Button(\n",
    "    description=\"Get the currently selected values\", \n",
    "    button_style='success',\n",
    "    layout={'width': '300px'}\n",
    ")\n",
    "button2.on_click(on_get_in_python)\n",
    "vbox = widgets.VBox([button2, output])\n",
    "vbox"
   ]
  },
  {
   "cell_type": "markdown",
   "metadata": {},
   "source": [
    "## Play with enabling/disabling some elements"
   ]
  },
  {
   "cell_type": "code",
   "execution_count": null,
   "metadata": {},
   "outputs": [],
   "source": [
    "toggle_disabled = widgets.Checkbox(\n",
    "    value=\"O\" in widget.disabled_elements,\n",
    "    description='Disable oxygen',\n",
    "    disabled=False\n",
    ")\n",
    "\n",
    "def on_change_disabled(event):\n",
    "    if toggle_disabled.value:\n",
    "        # It's set, meaning we want to disable oxygen\n",
    "        widget.disabled_elements = [\"O\"]\n",
    "    else:\n",
    "        widget.disabled_elements = []\n",
    "toggle_disabled.observe(on_change_disabled, names='value')\n",
    "\n",
    "def on_change(event):\n",
    "    \"\"\"\n",
    "    Update the toggle value if manually changing the disabled_elements list.\n",
    "    \"\"\"\n",
    "    toggle_disabled.value = \"O\" in widget.disabled_elements\n",
    "widget.observe(on_change, names='disabled_elements', type='change')        \n",
    "        \n",
    "toggle_disabled"
   ]
  },
  {
   "cell_type": "markdown",
   "metadata": {},
   "source": [
    "## Set the selected values from python\n",
    "Choose the selected values from python"
   ]
  },
  {
   "cell_type": "code",
   "execution_count": null,
   "metadata": {},
   "outputs": [],
   "source": [
    "def on_set_from_python(event):\n",
    "    # NOTE! If you put an element which does not exist, it will stay forever in the list, but it's ignored\n",
    "    widget.selected_elements = ['Li', 'H']\n",
    "\n",
    "button = widgets.Button(\n",
    "    description=\"Select only Li and H (from python)\", \n",
    "    button_style='success',\n",
    "    layout={'width': '300px'}\n",
    ")\n",
    "button.on_click(on_set_from_python)\n",
    "button"
   ]
  },
  {
   "cell_type": "markdown",
   "metadata": {},
   "source": [
    "## Change the displayed string for some elements\n",
    "Note that you should pass valid HTML strings, as they will not be escaped. On the other hand this allows to use HTML to change the class, color, ..."
   ]
  },
  {
   "cell_type": "code",
   "execution_count": null,
   "metadata": {},
   "outputs": [],
   "source": [
    "def get_noble_gases_state():\n",
    "    label_deactivate = \"Make noble gases bold\"\n",
    "    label_activate = \"Make noble gases not bold\"\n",
    "    def deactivate_noble_gases(event):\n",
    "        widget.display_names_replacements = {}\n",
    "    def activate_noble_gases(event):\n",
    "        widget.display_names_replacements = {\n",
    "            elem_name: \"<b>{}</b>\".format(elem_name)\n",
    "            for elem_name in ['He', 'Ne', 'Ar', 'Kr', 'Xe', 'Rn', 'Og']\n",
    "        }\n",
    "\n",
    "    if 'He' in widget.display_names_replacements:\n",
    "        return {\n",
    "            'is_active': True,\n",
    "            'toggler_function': deactivate_noble_gases,\n",
    "            'toggled_label': label_deactivate,\n",
    "            'current_label': label_activate\n",
    "        }\n",
    "    else:\n",
    "        return {\n",
    "            'is_active': True,\n",
    "            'toggler_function': activate_noble_gases,\n",
    "            'toggled_label': label_activate,\n",
    "            'current_label': label_deactivate\n",
    "        }\n",
    "\n",
    "button_noble = widgets.Button(\n",
    "    description=get_noble_gases_state()['current_label'], \n",
    "    button_style='success',\n",
    "    layout={'width': '300px'}\n",
    ")\n",
    "                \n",
    "def on_toggle_noble_gases(event):\n",
    "    \"\"\"Toggle the state of the button and of the .\"\"\"\n",
    "    state = get_noble_gases_state() \n",
    "    # Change the table\n",
    "    state['toggler_function'](event)\n",
    "    # Change the button description\n",
    "    button_noble.description = state['toggled_label']\n",
    "    \n",
    "button_noble.on_click(on_toggle_noble_gases)\n",
    "button_noble"
   ]
  },
  {
   "cell_type": "markdown",
   "metadata": {},
   "source": [
    "This work has been done with the support of the EPFL Open Science Fund [OSSCAR](http://www.osscar.org).\n",
    "\n",
    "<img src=\"http://www.osscar.org/wp-content/uploads/2019/03/OSSCAR-logo.png\" style=\"height:40px; width: 200px\"/>"
   ]
  }
 ],
 "metadata": {
  "kernelspec": {
   "display_name": "Python 3",
   "language": "python",
   "name": "python3"
  },
  "language_info": {
   "codemirror_mode": {
    "name": "ipython",
    "version": 3
   },
   "file_extension": ".py",
   "mimetype": "text/x-python",
   "name": "python",
   "nbconvert_exporter": "python",
   "pygments_lexer": "ipython3",
   "version": "3.7.6"
  }
 },
 "nbformat": 4,
 "nbformat_minor": 4
}
