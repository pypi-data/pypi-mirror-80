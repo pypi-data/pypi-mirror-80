{
 "cells": [
  {
   "cell_type": "code",
   "execution_count": 1,
   "metadata": {},
   "outputs": [],
   "source": [
    "%matplotlib widget\n",
    "import matplotlib.pyplot as plt\n",
    "import numpy as np\n",
    "from mpl_interactions import heatmap_slicer"
   ]
  },
  {
   "cell_type": "markdown",
   "metadata": {},
   "source": [
    "## Comparing heatmaps\n",
    "\n",
    "Sometimes I find myself wanting to compare horizontal or vertical slices across two different heatmaps with the same shape. The function `heatmap_slicer` makes this easy and should work for any number of heatmaps from 1 to many (likely not all the way $\\inf$ though). \n",
    "\n",
    "The most important options to play with are `slices = {'both', 'vertical', 'horizontal'}`, and `interaction_type = {'move', 'click'}`"
   ]
  },
  {
   "cell_type": "code",
   "execution_count": 2,
   "metadata": {},
   "outputs": [
    {
     "data": {
      "application/vnd.jupyter.widget-view+json": {
       "model_id": "a90fe94053274027ad53704afcc3eb80",
       "version_major": 2,
       "version_minor": 0
      },
      "text/plain": [
       "Canvas(toolbar=Toolbar(toolitems=[('Home', 'Reset original view', 'home', 'home'), ('Back', 'Back to previous …"
      ]
     },
     "metadata": {},
     "output_type": "display_data"
    },
    {
     "name": "stderr",
     "output_type": "stream",
     "text": [
      "/home/ian/Documents/ipympl-interactions/mpl_interactions/generic.py:96: MatplotlibDeprecationWarning: shading='flat' when X and Y have the same dimensions as C is deprecated since 3.3.  Either specify the corners of the quadrilaterals with X and Y, or pass shading='auto', 'nearest' or 'gouraud', or set rcParams['pcolor.shading'].  This will become an error two minor releases later.\n",
      "  ax.pcolormesh(X,Y,heatmaps[i])\n",
      "/home/ian/Documents/ipympl-interactions/mpl_interactions/generic.py:96: MatplotlibDeprecationWarning: shading='flat' when X and Y have the same dimensions as C is deprecated since 3.3.  Either specify the corners of the quadrilaterals with X and Y, or pass shading='auto', 'nearest' or 'gouraud', or set rcParams['pcolor.shading'].  This will become an error two minor releases later.\n",
      "  ax.pcolormesh(X,Y,heatmaps[i])\n"
     ]
    }
   ],
   "source": [
    "x = np.linspace(0,np.pi,100)\n",
    "y = np.linspace(0,10,200)\n",
    "X,Y = np.meshgrid(x,y)\n",
    "data1 = np.sin(X)+np.exp(np.cos(Y))\n",
    "data2 = np.cos(X)+np.exp(np.sin(Y))\n",
    "fig,axes = heatmap_slicer(x,y,(data1,data2),slices='both',heatmap_names=('dataset 1','dataset 2'),labels=('Some wild X variable','Y axis'),interaction_type='move')"
   ]
  },
  {
   "cell_type": "code",
   "execution_count": 4,
   "metadata": {},
   "outputs": [],
   "source": [
    "from matplotlib.image import PcolorImage"
   ]
  },
  {
   "cell_type": "code",
   "execution_count": null,
   "metadata": {},
   "outputs": [],
   "source": [
    "PcolorImage()"
   ]
  },
  {
   "cell_type": "code",
   "execution_count": 3,
   "metadata": {},
   "outputs": [
    {
     "data": {
      "application/vnd.jupyter.widget-view+json": {
       "model_id": "5dc4d24481f24571be937ac3d0d4849c",
       "version_major": 2,
       "version_minor": 0
      },
      "text/plain": [
       "Canvas(toolbar=Toolbar(toolitems=[('Home', 'Reset original view', 'home', 'home'), ('Back', 'Back to previous …"
      ]
     },
     "metadata": {},
     "output_type": "display_data"
    },
    {
     "data": {
      "text/plain": [
       "\u001b[0;31mSignature:\u001b[0m \u001b[0max\u001b[0m\u001b[0;34m.\u001b[0m\u001b[0mconvert_xunits\u001b[0m\u001b[0;34m(\u001b[0m\u001b[0mx\u001b[0m\u001b[0;34m)\u001b[0m\u001b[0;34m\u001b[0m\u001b[0;34m\u001b[0m\u001b[0m\n",
       "\u001b[0;31mSource:\u001b[0m   \n",
       "    \u001b[0;32mdef\u001b[0m \u001b[0mconvert_xunits\u001b[0m\u001b[0;34m(\u001b[0m\u001b[0mself\u001b[0m\u001b[0;34m,\u001b[0m \u001b[0mx\u001b[0m\u001b[0;34m)\u001b[0m\u001b[0;34m:\u001b[0m\u001b[0;34m\u001b[0m\n",
       "\u001b[0;34m\u001b[0m        \u001b[0;34m\"\"\"\u001b[0m\n",
       "\u001b[0;34m        Convert *x* using the unit type of the xaxis.\u001b[0m\n",
       "\u001b[0;34m\u001b[0m\n",
       "\u001b[0;34m        If the artist is not in contained in an Axes or if the xaxis does not\u001b[0m\n",
       "\u001b[0;34m        have units, *x* itself is returned.\u001b[0m\n",
       "\u001b[0;34m        \"\"\"\u001b[0m\u001b[0;34m\u001b[0m\n",
       "\u001b[0;34m\u001b[0m        \u001b[0max\u001b[0m \u001b[0;34m=\u001b[0m \u001b[0mgetattr\u001b[0m\u001b[0;34m(\u001b[0m\u001b[0mself\u001b[0m\u001b[0;34m,\u001b[0m \u001b[0;34m'axes'\u001b[0m\u001b[0;34m,\u001b[0m \u001b[0;32mNone\u001b[0m\u001b[0;34m)\u001b[0m\u001b[0;34m\u001b[0m\n",
       "\u001b[0;34m\u001b[0m        \u001b[0;32mif\u001b[0m \u001b[0max\u001b[0m \u001b[0;32mis\u001b[0m \u001b[0;32mNone\u001b[0m \u001b[0;32mor\u001b[0m \u001b[0max\u001b[0m\u001b[0;34m.\u001b[0m\u001b[0mxaxis\u001b[0m \u001b[0;32mis\u001b[0m \u001b[0;32mNone\u001b[0m\u001b[0;34m:\u001b[0m\u001b[0;34m\u001b[0m\n",
       "\u001b[0;34m\u001b[0m            \u001b[0;32mreturn\u001b[0m \u001b[0mx\u001b[0m\u001b[0;34m\u001b[0m\n",
       "\u001b[0;34m\u001b[0m        \u001b[0;32mreturn\u001b[0m \u001b[0max\u001b[0m\u001b[0;34m.\u001b[0m\u001b[0mxaxis\u001b[0m\u001b[0;34m.\u001b[0m\u001b[0mconvert_units\u001b[0m\u001b[0;34m(\u001b[0m\u001b[0mx\u001b[0m\u001b[0;34m)\u001b[0m\u001b[0;34m\u001b[0m\u001b[0;34m\u001b[0m\u001b[0m\n",
       "\u001b[0;31mFile:\u001b[0m      ~/Documents/matplotlib/lib/matplotlib/artist.py\n",
       "\u001b[0;31mType:\u001b[0m      method\n"
      ]
     },
     "metadata": {},
     "output_type": "display_data"
    }
   ],
   "source": [
    "fig, ax = plt.subplots()\n",
    "ax.convert_xunits??"
   ]
  },
  {
   "cell_type": "code",
   "execution_count": 18,
   "metadata": {},
   "outputs": [
    {
     "data": {
      "application/vnd.jupyter.widget-view+json": {
       "model_id": "e1963aa25ef64c81b613917eeede0c2e",
       "version_major": 2,
       "version_minor": 0
      },
      "text/plain": [
       "Canvas(toolbar=Toolbar(toolitems=[('Home', 'Reset original view', 'home', 'home'), ('Back', 'Back to previous …"
      ]
     },
     "metadata": {},
     "output_type": "display_data"
    },
    {
     "data": {
      "application/vnd.jupyter.widget-view+json": {
       "model_id": "9baacf8290db45ce82892aba96c818db",
       "version_major": 2,
       "version_minor": 0
      },
      "text/plain": [
       "Canvas(toolbar=Toolbar(toolitems=[('Home', 'Reset original view', 'home', 'home'), ('Back', 'Back to previous …"
      ]
     },
     "metadata": {},
     "output_type": "display_data"
    },
    {
     "name": "stderr",
     "output_type": "stream",
     "text": [
      "/home/ian/Documents/ipympl-interactions/mpl_interactions/generic.py:96: MatplotlibDeprecationWarning: shading='flat' when X and Y have the same dimensions as C is deprecated since 3.3.  Either specify the corners of the quadrilaterals with X and Y, or pass shading='auto', 'nearest' or 'gouraud', or set rcParams['pcolor.shading'].  This will become an error two minor releases later.\n",
      "  ax.pcolormesh(X,Y,heatmaps[i])\n"
     ]
    },
    {
     "data": {
      "text/plain": [
       "(<Figure size 1800x900 with 2 Axes>,\n",
       " array([<AxesSubplot:title={'center':'heatmap_0'}, xlabel='X', ylabel='Y'>,\n",
       "        <AxesSubplot:title={'center':'Horizontal'}>], dtype=object))"
      ]
     },
     "execution_count": 18,
     "metadata": {},
     "output_type": "execute_result"
    }
   ],
   "source": [
    "%matplotlib widget\n",
    "import matplotlib.pyplot as plt\n",
    "import numpy as np\n",
    "from mpl_interactions import heatmap_slicer\n",
    "X = np.linspace(0, 10, 11)\n",
    "Y = np.linspace(0, 5, 11)\n",
    "Z = np.random.randn(10,10 )\n",
    "plt.figure()\n",
    "plt.pcolormesh(X, Y, Z) # works\n",
    "heatmap_slicer(X[:-1],Y[:-1],Z) # breaks"
   ]
  },
  {
   "cell_type": "code",
   "execution_count": 17,
   "metadata": {
    "collapsed": true,
    "jupyter": {
     "outputs_hidden": true
    }
   },
   "outputs": [
    {
     "data": {
      "text/plain": [
       "array([2.26013860e-03, 6.78041580e-03, 1.13006930e-02, 1.58209702e-02,\n",
       "       2.03412474e-02, 2.48615246e-02, 2.93818018e-02, 3.39020790e-02,\n",
       "       3.84223562e-02, 4.29426334e-02, 4.74629106e-02, 5.19831878e-02,\n",
       "       5.65034650e-02, 6.10237422e-02, 6.55440194e-02, 7.00642966e-02,\n",
       "       7.45845738e-02, 7.91048510e-02, 8.36251282e-02, 8.81454054e-02,\n",
       "       9.26656826e-02, 9.71859598e-02, 1.01706237e-01, 1.06226514e-01,\n",
       "       1.10746791e-01, 1.15267069e-01, 1.19787346e-01, 1.24307623e-01,\n",
       "       1.28827900e-01, 1.33348177e-01, 1.37868455e-01, 1.42388732e-01,\n",
       "       1.46909009e-01, 1.51429286e-01, 1.55949563e-01, 1.60469841e-01,\n",
       "       1.64990118e-01, 1.69510395e-01, 1.74030672e-01, 1.78550949e-01,\n",
       "       1.83071227e-01, 1.87591504e-01, 1.92111781e-01, 1.96632058e-01,\n",
       "       2.01152335e-01, 2.05672613e-01, 2.10192890e-01, 2.14713167e-01,\n",
       "       2.19233444e-01, 2.23753721e-01, 2.28273999e-01, 2.32794276e-01,\n",
       "       2.37314553e-01, 2.41834830e-01, 2.46355107e-01, 2.50875385e-01,\n",
       "       2.55395662e-01, 2.59915939e-01, 2.64436216e-01, 2.68956493e-01,\n",
       "       2.73476771e-01, 2.77997048e-01, 2.82517325e-01, 2.87037602e-01,\n",
       "       2.91557879e-01, 2.96078157e-01, 3.00598434e-01, 3.05118711e-01,\n",
       "       3.09638988e-01, 3.14159265e-01, 3.18679543e-01, 3.23199820e-01,\n",
       "       3.27720097e-01, 3.32240374e-01, 3.36760651e-01, 3.41280929e-01,\n",
       "       3.45801206e-01, 3.50321483e-01, 3.54841760e-01, 3.59362037e-01,\n",
       "       3.63882315e-01, 3.68402592e-01, 3.72922869e-01, 3.77443146e-01,\n",
       "       3.81963423e-01, 3.86483701e-01, 3.91003978e-01, 3.95524255e-01,\n",
       "       4.00044532e-01, 4.04564809e-01, 4.09085087e-01, 4.13605364e-01,\n",
       "       4.18125641e-01, 4.22645918e-01, 4.27166195e-01, 4.31686473e-01,\n",
       "       4.36206750e-01, 4.40727027e-01, 4.45247304e-01, 4.49767581e-01,\n",
       "       4.54287859e-01, 4.58808136e-01, 4.63328413e-01, 4.67848690e-01,\n",
       "       4.72368967e-01, 4.76889245e-01, 4.81409522e-01, 4.85929799e-01,\n",
       "       4.90450076e-01, 4.94970353e-01, 4.99490631e-01, 5.04010908e-01,\n",
       "       5.08531185e-01, 5.13051462e-01, 5.17571739e-01, 5.22092017e-01,\n",
       "       5.26612294e-01, 5.31132571e-01, 5.35652848e-01, 5.40173125e-01,\n",
       "       5.44693403e-01, 5.49213680e-01, 5.53733957e-01, 5.58254234e-01,\n",
       "       5.62774511e-01, 5.67294789e-01, 5.71815066e-01, 5.76335343e-01,\n",
       "       5.80855620e-01, 5.85375897e-01, 5.89896175e-01, 5.94416452e-01,\n",
       "       5.98936729e-01, 6.03457006e-01, 6.07977283e-01, 6.12497561e-01,\n",
       "       6.17017838e-01, 6.21538115e-01, 6.26058392e-01, 6.30578669e-01,\n",
       "       6.35098947e-01, 6.39619224e-01, 6.44139501e-01, 6.48659778e-01,\n",
       "       6.53180055e-01, 6.57700333e-01, 6.62220610e-01, 6.66740887e-01,\n",
       "       6.71261164e-01, 6.75781441e-01, 6.80301719e-01, 6.84821996e-01,\n",
       "       6.89342273e-01, 6.93862550e-01, 6.98382827e-01, 7.02903105e-01,\n",
       "       7.07423382e-01, 7.11943659e-01, 7.16463936e-01, 7.20984213e-01,\n",
       "       7.25504491e-01, 7.30024768e-01, 7.34545045e-01, 7.39065322e-01,\n",
       "       7.43585599e-01, 7.48105877e-01, 7.52626154e-01, 7.57146431e-01,\n",
       "       7.61666708e-01, 7.66186985e-01, 7.70707262e-01, 7.75227540e-01,\n",
       "       7.79747817e-01, 7.84268094e-01, 7.88788371e-01, 7.93308648e-01,\n",
       "       7.97828926e-01, 8.02349203e-01, 8.06869480e-01, 8.11389757e-01,\n",
       "       8.15910034e-01, 8.20430312e-01, 8.24950589e-01, 8.29470866e-01,\n",
       "       8.33991143e-01, 8.38511420e-01, 8.43031698e-01, 8.47551975e-01,\n",
       "       8.52072252e-01, 8.56592529e-01, 8.61112806e-01, 8.65633084e-01,\n",
       "       8.70153361e-01, 8.74673638e-01, 8.79193915e-01, 8.83714192e-01,\n",
       "       8.88234470e-01, 8.92754747e-01, 8.97275024e-01, 9.01795301e-01,\n",
       "       9.06315578e-01, 9.10835856e-01, 9.15356133e-01, 9.19876410e-01,\n",
       "       9.24396687e-01, 9.28916964e-01, 9.33437242e-01, 9.37957519e-01,\n",
       "       9.42477796e-01, 9.46998073e-01, 9.51518350e-01, 9.56038628e-01,\n",
       "       9.60558905e-01, 9.65079182e-01, 9.69599459e-01, 9.74119736e-01,\n",
       "       9.78640014e-01, 9.83160291e-01, 9.87680568e-01, 9.92200845e-01,\n",
       "       9.96721122e-01, 1.00124140e+00, 1.00576168e+00, 1.01028195e+00,\n",
       "       1.01480223e+00, 1.01932251e+00, 1.02384279e+00, 1.02836306e+00,\n",
       "       1.03288334e+00, 1.03740362e+00, 1.04192389e+00, 1.04644417e+00,\n",
       "       1.05096445e+00, 1.05548473e+00, 1.06000500e+00, 1.06452528e+00,\n",
       "       1.06904556e+00, 1.07356583e+00, 1.07808611e+00, 1.08260639e+00,\n",
       "       1.08712667e+00, 1.09164694e+00, 1.09616722e+00, 1.10068750e+00,\n",
       "       1.10520778e+00, 1.10972805e+00, 1.11424833e+00, 1.11876861e+00,\n",
       "       1.12328888e+00, 1.12780916e+00, 1.13232944e+00, 1.13684972e+00,\n",
       "       1.14136999e+00, 1.14589027e+00, 1.15041055e+00, 1.15493082e+00,\n",
       "       1.15945110e+00, 1.16397138e+00, 1.16849166e+00, 1.17301193e+00,\n",
       "       1.17753221e+00, 1.18205249e+00, 1.18657276e+00, 1.19109304e+00,\n",
       "       1.19561332e+00, 1.20013360e+00, 1.20465387e+00, 1.20917415e+00,\n",
       "       1.21369443e+00, 1.21821471e+00, 1.22273498e+00, 1.22725526e+00,\n",
       "       1.23177554e+00, 1.23629581e+00, 1.24081609e+00, 1.24533637e+00,\n",
       "       1.24985665e+00, 1.25437692e+00, 1.25889720e+00, 1.26341748e+00,\n",
       "       1.26793775e+00, 1.27245803e+00, 1.27697831e+00, 1.28149859e+00,\n",
       "       1.28601886e+00, 1.29053914e+00, 1.29505942e+00, 1.29957969e+00,\n",
       "       1.30409997e+00, 1.30862025e+00, 1.31314053e+00, 1.31766080e+00,\n",
       "       1.32218108e+00, 1.32670136e+00, 1.33122164e+00, 1.33574191e+00,\n",
       "       1.34026219e+00, 1.34478247e+00, 1.34930274e+00, 1.35382302e+00,\n",
       "       1.35834330e+00, 1.36286358e+00, 1.36738385e+00, 1.37190413e+00,\n",
       "       1.37642441e+00, 1.38094468e+00, 1.38546496e+00, 1.38998524e+00,\n",
       "       1.39450552e+00, 1.39902579e+00, 1.40354607e+00, 1.40806635e+00,\n",
       "       1.41258662e+00, 1.41710690e+00, 1.42162718e+00, 1.42614746e+00,\n",
       "       1.43066773e+00, 1.43518801e+00, 1.43970829e+00, 1.44422857e+00,\n",
       "       1.44874884e+00, 1.45326912e+00, 1.45778940e+00, 1.46230967e+00,\n",
       "       1.46682995e+00, 1.47135023e+00, 1.47587051e+00, 1.48039078e+00,\n",
       "       1.48491106e+00, 1.48943134e+00, 1.49395161e+00, 1.49847189e+00,\n",
       "       1.50299217e+00, 1.50751245e+00, 1.51203272e+00, 1.51655300e+00,\n",
       "       1.52107328e+00, 1.52559355e+00, 1.53011383e+00, 1.53463411e+00,\n",
       "       1.53915439e+00, 1.54367466e+00, 1.54819494e+00, 1.55271522e+00,\n",
       "       1.55723550e+00, 1.56175577e+00, 1.56627605e+00, 1.57079633e+00,\n",
       "       1.57531660e+00, 1.57983688e+00, 1.58435716e+00, 1.58887744e+00,\n",
       "       1.59339771e+00, 1.59791799e+00, 1.60243827e+00, 1.60695854e+00,\n",
       "       1.61147882e+00, 1.61599910e+00, 1.62051938e+00, 1.62503965e+00,\n",
       "       1.62955993e+00, 1.63408021e+00, 1.63860048e+00, 1.64312076e+00,\n",
       "       1.64764104e+00, 1.65216132e+00, 1.65668159e+00, 1.66120187e+00,\n",
       "       1.66572215e+00, 1.67024243e+00, 1.67476270e+00, 1.67928298e+00,\n",
       "       1.68380326e+00, 1.68832353e+00, 1.69284381e+00, 1.69736409e+00,\n",
       "       1.70188437e+00, 1.70640464e+00, 1.71092492e+00, 1.71544520e+00,\n",
       "       1.71996547e+00, 1.72448575e+00, 1.72900603e+00, 1.73352631e+00,\n",
       "       1.73804658e+00, 1.74256686e+00, 1.74708714e+00, 1.75160741e+00,\n",
       "       1.75612769e+00, 1.76064797e+00, 1.76516825e+00, 1.76968852e+00,\n",
       "       1.77420880e+00, 1.77872908e+00, 1.78324936e+00, 1.78776963e+00,\n",
       "       1.79228991e+00, 1.79681019e+00, 1.80133046e+00, 1.80585074e+00,\n",
       "       1.81037102e+00, 1.81489130e+00, 1.81941157e+00, 1.82393185e+00,\n",
       "       1.82845213e+00, 1.83297240e+00, 1.83749268e+00, 1.84201296e+00,\n",
       "       1.84653324e+00, 1.85105351e+00, 1.85557379e+00, 1.86009407e+00,\n",
       "       1.86461434e+00, 1.86913462e+00, 1.87365490e+00, 1.87817518e+00,\n",
       "       1.88269545e+00, 1.88721573e+00, 1.89173601e+00, 1.89625629e+00,\n",
       "       1.90077656e+00, 1.90529684e+00, 1.90981712e+00, 1.91433739e+00,\n",
       "       1.91885767e+00, 1.92337795e+00, 1.92789823e+00, 1.93241850e+00,\n",
       "       1.93693878e+00, 1.94145906e+00, 1.94597933e+00, 1.95049961e+00,\n",
       "       1.95501989e+00, 1.95954017e+00, 1.96406044e+00, 1.96858072e+00,\n",
       "       1.97310100e+00, 1.97762127e+00, 1.98214155e+00, 1.98666183e+00,\n",
       "       1.99118211e+00, 1.99570238e+00, 2.00022266e+00, 2.00474294e+00,\n",
       "       2.00926322e+00, 2.01378349e+00, 2.01830377e+00, 2.02282405e+00,\n",
       "       2.02734432e+00, 2.03186460e+00, 2.03638488e+00, 2.04090516e+00,\n",
       "       2.04542543e+00, 2.04994571e+00, 2.05446599e+00, 2.05898626e+00,\n",
       "       2.06350654e+00, 2.06802682e+00, 2.07254710e+00, 2.07706737e+00,\n",
       "       2.08158765e+00, 2.08610793e+00, 2.09062820e+00, 2.09514848e+00,\n",
       "       2.09966876e+00, 2.10418904e+00, 2.10870931e+00, 2.11322959e+00,\n",
       "       2.11774987e+00, 2.12227015e+00, 2.12679042e+00, 2.13131070e+00,\n",
       "       2.13583098e+00, 2.14035125e+00, 2.14487153e+00, 2.14939181e+00,\n",
       "       2.15391209e+00, 2.15843236e+00, 2.16295264e+00, 2.16747292e+00,\n",
       "       2.17199319e+00, 2.17651347e+00, 2.18103375e+00, 2.18555403e+00,\n",
       "       2.19007430e+00, 2.19459458e+00, 2.19911486e+00, 2.20363513e+00,\n",
       "       2.20815541e+00, 2.21267569e+00, 2.21719597e+00, 2.22171624e+00,\n",
       "       2.22623652e+00, 2.23075680e+00, 2.23527708e+00, 2.23979735e+00,\n",
       "       2.24431763e+00, 2.24883791e+00, 2.25335818e+00, 2.25787846e+00,\n",
       "       2.26239874e+00, 2.26691902e+00, 2.27143929e+00, 2.27595957e+00,\n",
       "       2.28047985e+00, 2.28500012e+00, 2.28952040e+00, 2.29404068e+00,\n",
       "       2.29856096e+00, 2.30308123e+00, 2.30760151e+00, 2.31212179e+00,\n",
       "       2.31664206e+00, 2.32116234e+00, 2.32568262e+00, 2.33020290e+00,\n",
       "       2.33472317e+00, 2.33924345e+00, 2.34376373e+00, 2.34828401e+00,\n",
       "       2.35280428e+00, 2.35732456e+00, 2.36184484e+00, 2.36636511e+00,\n",
       "       2.37088539e+00, 2.37540567e+00, 2.37992595e+00, 2.38444622e+00,\n",
       "       2.38896650e+00, 2.39348678e+00, 2.39800705e+00, 2.40252733e+00,\n",
       "       2.40704761e+00, 2.41156789e+00, 2.41608816e+00, 2.42060844e+00,\n",
       "       2.42512872e+00, 2.42964899e+00, 2.43416927e+00, 2.43868955e+00,\n",
       "       2.44320983e+00, 2.44773010e+00, 2.45225038e+00, 2.45677066e+00,\n",
       "       2.46129094e+00, 2.46581121e+00, 2.47033149e+00, 2.47485177e+00,\n",
       "       2.47937204e+00, 2.48389232e+00, 2.48841260e+00, 2.49293288e+00,\n",
       "       2.49745315e+00, 2.50197343e+00, 2.50649371e+00, 2.51101398e+00,\n",
       "       2.51553426e+00, 2.52005454e+00, 2.52457482e+00, 2.52909509e+00,\n",
       "       2.53361537e+00, 2.53813565e+00, 2.54265592e+00, 2.54717620e+00,\n",
       "       2.55169648e+00, 2.55621676e+00, 2.56073703e+00, 2.56525731e+00,\n",
       "       2.56977759e+00, 2.57429787e+00, 2.57881814e+00, 2.58333842e+00,\n",
       "       2.58785870e+00, 2.59237897e+00, 2.59689925e+00, 2.60141953e+00,\n",
       "       2.60593981e+00, 2.61046008e+00, 2.61498036e+00, 2.61950064e+00,\n",
       "       2.62402091e+00, 2.62854119e+00, 2.63306147e+00, 2.63758175e+00,\n",
       "       2.64210202e+00, 2.64662230e+00, 2.65114258e+00, 2.65566285e+00,\n",
       "       2.66018313e+00, 2.66470341e+00, 2.66922369e+00, 2.67374396e+00,\n",
       "       2.67826424e+00, 2.68278452e+00, 2.68730480e+00, 2.69182507e+00,\n",
       "       2.69634535e+00, 2.70086563e+00, 2.70538590e+00, 2.70990618e+00,\n",
       "       2.71442646e+00, 2.71894674e+00, 2.72346701e+00, 2.72798729e+00,\n",
       "       2.73250757e+00, 2.73702784e+00, 2.74154812e+00, 2.74606840e+00,\n",
       "       2.75058868e+00, 2.75510895e+00, 2.75962923e+00, 2.76414951e+00,\n",
       "       2.76866978e+00, 2.77319006e+00, 2.77771034e+00, 2.78223062e+00,\n",
       "       2.78675089e+00, 2.79127117e+00, 2.79579145e+00, 2.80031173e+00,\n",
       "       2.80483200e+00, 2.80935228e+00, 2.81387256e+00, 2.81839283e+00,\n",
       "       2.82291311e+00, 2.82743339e+00, 2.83195367e+00, 2.83647394e+00,\n",
       "       2.84099422e+00, 2.84551450e+00, 2.85003477e+00, 2.85455505e+00,\n",
       "       2.85907533e+00, 2.86359561e+00, 2.86811588e+00, 2.87263616e+00,\n",
       "       2.87715644e+00, 2.88167671e+00, 2.88619699e+00, 2.89071727e+00,\n",
       "       2.89523755e+00, 2.89975782e+00, 2.90427810e+00, 2.90879838e+00,\n",
       "       2.91331866e+00, 2.91783893e+00, 2.92235921e+00, 2.92687949e+00,\n",
       "       2.93139976e+00, 2.93592004e+00, 2.94044032e+00, 2.94496060e+00,\n",
       "       2.94948087e+00, 2.95400115e+00, 2.95852143e+00, 2.96304170e+00,\n",
       "       2.96756198e+00, 2.97208226e+00, 2.97660254e+00, 2.98112281e+00,\n",
       "       2.98564309e+00, 2.99016337e+00, 2.99468364e+00, 2.99920392e+00,\n",
       "       3.00372420e+00, 3.00824448e+00, 3.01276475e+00, 3.01728503e+00,\n",
       "       3.02180531e+00, 3.02632559e+00, 3.03084586e+00, 3.03536614e+00,\n",
       "       3.03988642e+00, 3.04440669e+00, 3.04892697e+00, 3.05344725e+00,\n",
       "       3.05796753e+00, 3.06248780e+00, 3.06700808e+00, 3.07152836e+00,\n",
       "       3.07604863e+00, 3.08056891e+00, 3.08508919e+00, 3.08960947e+00,\n",
       "       3.09412974e+00, 3.09865002e+00, 3.10317030e+00, 3.10769057e+00,\n",
       "       3.11221085e+00, 3.11673113e+00, 3.12125141e+00, 3.12577168e+00,\n",
       "       3.13029196e+00, 3.13481224e+00, 3.13933251e+00])"
      ]
     },
     "execution_count": 17,
     "metadata": {},
     "output_type": "execute_result"
    }
   ],
   "source": [
    "(X[1:] + X[:-1]) / 2"
   ]
  },
  {
   "cell_type": "code",
   "execution_count": 8,
   "metadata": {},
   "outputs": [
    {
     "data": {
      "application/vnd.jupyter.widget-view+json": {
       "model_id": "291f3dfba46f4d31bde4ed2b4d86d6b5",
       "version_major": 2,
       "version_minor": 0
      },
      "text/plain": [
       "Canvas(toolbar=Toolbar(toolitems=[('Home', 'Reset original view', 'home', 'home'), ('Back', 'Back to previous …"
      ]
     },
     "metadata": {},
     "output_type": "display_data"
    }
   ],
   "source": [
    "# make these smaller to increase the resolution\n",
    "dx, dy = 0.15, 0.05\n",
    "\n",
    "# generate 2 2d grids for the x & y bounds\n",
    "y, x = np.mgrid[-3:3+dy:dy, -3:3+dx:dx]\n",
    "z = (1 - x/2 + x**5 + y**3) * np.exp(-x**2 - y**2)\n",
    "# x and y are bounds, so z should be the value *inside* those bounds.\n",
    "# Therefore, remove the last value from the z array.\n",
    "z = z[:-1, :-1]\n",
    "z_min, z_max = -abs(z).max(), abs(z).max()\n",
    "\n",
    "fig, axs = plt.subplots(2, 2)\n",
    "\n",
    "ax = axs[0, 0]\n",
    "c = ax.pcolor(x, y, z, cmap='RdBu', vmin=z_min, vmax=z_max)\n",
    "ax.set_title('pcolor')\n",
    "fig.colorbar(c, ax=ax)\n",
    "\n",
    "ax = axs[0, 1]\n",
    "c = ax.pcolormesh(x, y, z, cmap='RdBu', vmin=z_min, vmax=z_max)\n",
    "ax.set_title('pcolormesh')\n",
    "fig.colorbar(c, ax=ax)\n",
    "\n",
    "ax = axs[1, 0]\n",
    "im = ax.imshow(z, cmap='RdBu', vmin=z_min, vmax=z_max,\n",
    "              extent=[x.min(), x.max(), y.min(), y.max()],\n",
    "              interpolation='nearest', origin='lower', aspect='auto')\n",
    "ax.set_title('image (nearest, aspect=\"auto\")')\n",
    "fig.colorbar(c, ax=ax)\n",
    "\n",
    "ax = axs[1, 1]\n",
    "c = ax.pcolorfast(x, y, z, cmap='RdBu', vmin=z_min, vmax=z_max)\n",
    "ax.set_title('pcolorfast')\n",
    "fig.colorbar(c, ax=ax)\n",
    "\n",
    "fig.tight_layout()\n",
    "plt.show()"
   ]
  },
  {
   "cell_type": "code",
   "execution_count": 9,
   "metadata": {},
   "outputs": [
    {
     "data": {
      "text/plain": [
       "<matplotlib.image.AxesImage at 0x7fc582f69090>"
      ]
     },
     "execution_count": 9,
     "metadata": {},
     "output_type": "execute_result"
    }
   ],
   "source": [
    "im"
   ]
  },
  {
   "cell_type": "code",
   "execution_count": 10,
   "metadata": {},
   "outputs": [
    {
     "data": {
      "application/vnd.jupyter.widget-view+json": {
       "model_id": "43abeae292cd4a9f9f0955a77d989e85",
       "version_major": 2,
       "version_minor": 0
      },
      "text/plain": [
       "Canvas(toolbar=Toolbar(toolitems=[('Home', 'Reset original view', 'home', 'home'), ('Back', 'Back to previous …"
      ]
     },
     "metadata": {},
     "output_type": "display_data"
    }
   ],
   "source": [
    "nrows = 3\n",
    "ncols = 5\n",
    "Z = np.arange(nrows * ncols).reshape(nrows, ncols)\n",
    "x = np.arange(ncols + 1)\n",
    "y = np.arange(nrows + 1)\n",
    "\n",
    "fig, ax = plt.subplots()\n",
    "ax.pcolormesh(x, y, Z, shading='flat', vmin=Z.min(), vmax=Z.max())\n",
    "\n",
    "\n",
    "def _annotate(ax, x, y, title):\n",
    "    # this all gets repeated below:\n",
    "    X, Y = np.meshgrid(x, y)\n",
    "    ax.plot(X.flat, Y.flat, 'o', color='m')\n",
    "    ax.set_xlim(-0.7, 5.2)\n",
    "    ax.set_ylim(-0.7, 3.2)\n",
    "    ax.set_title(title)\n",
    "\n",
    "_annotate(ax, x, y, \"shading='flat'\")\n"
   ]
  },
  {
   "cell_type": "code",
   "execution_count": 11,
   "metadata": {},
   "outputs": [
    {
     "data": {
      "application/vnd.jupyter.widget-view+json": {
       "model_id": "78fe1f9c5638444ca35081d0bfb6c5aa",
       "version_major": 2,
       "version_minor": 0
      },
      "text/plain": [
       "Canvas(toolbar=Toolbar(toolitems=[('Home', 'Reset original view', 'home', 'home'), ('Back', 'Back to previous …"
      ]
     },
     "metadata": {},
     "output_type": "display_data"
    },
    {
     "name": "stderr",
     "output_type": "stream",
     "text": [
      "/home/ian/anaconda3/envs/ipympl/lib/python3.7/site-packages/ipykernel_launcher.py:4: MatplotlibDeprecationWarning: shading='flat' when X and Y have the same dimensions as C is deprecated since 3.3.  Either specify the corners of the quadrilaterals with X and Y, or pass shading='auto', 'nearest' or 'gouraud', or set rcParams['pcolor.shading'].  This will become an error two minor releases later.\n",
      "  after removing the cwd from sys.path.\n"
     ]
    }
   ],
   "source": [
    "x = np.arange(ncols)  # note *not* ncols + 1 as before\n",
    "y = np.arange(nrows)\n",
    "fig, ax = plt.subplots()\n",
    "ax.pcolormesh(x, y, Z, shading='flat', vmin=Z.min(), vmax=Z.max())\n",
    "_annotate(ax, x, y, \"shading='flat': X, Y, C same shape\")"
   ]
  },
  {
   "cell_type": "code",
   "execution_count": 12,
   "metadata": {},
   "outputs": [
    {
     "data": {
      "application/vnd.jupyter.widget-view+json": {
       "model_id": "86ade2fe2ef6490999cc7a831061976f",
       "version_major": 2,
       "version_minor": 0
      },
      "text/plain": [
       "Canvas(toolbar=Toolbar(toolitems=[('Home', 'Reset original view', 'home', 'home'), ('Back', 'Back to previous …"
      ]
     },
     "metadata": {},
     "output_type": "display_data"
    }
   ],
   "source": [
    "fig, ax = plt.subplots()\n",
    "ax.pcolormesh(x, y, Z, shading='nearest', vmin=Z.min(), vmax=Z.max())\n",
    "_annotate(ax, x, y, \"shading='nearest'\")"
   ]
  },
  {
   "cell_type": "markdown",
   "metadata": {},
   "source": [
    "### Possible cases\n",
    "\n",
    "**mpl < 3.3**\n",
    "\n",
    "- same shape\n",
    "- shape + 1\n",
    "\n",
    "**mpl >= 3.3**\n",
    "\n"
   ]
  }
 ],
 "metadata": {
  "kernelspec": {
   "display_name": "Python 3",
   "language": "python",
   "name": "python3"
  },
  "language_info": {
   "codemirror_mode": {
    "name": "ipython",
    "version": 3
   },
   "file_extension": ".py",
   "mimetype": "text/x-python",
   "name": "python",
   "nbconvert_exporter": "python",
   "pygments_lexer": "ipython3",
   "version": "3.7.8"
  },
  "widgets": {
   "application/vnd.jupyter.widget-state+json": {
    "state": {
     "01089f0a61ca4214a29a59abc12db8fa": {
      "model_module": "@jupyter-widgets/base",
      "model_module_version": "1.2.0",
      "model_name": "LayoutModel",
      "state": {}
     },
     "071f5fd284394aaabb5a82ac42498a9a": {
      "model_module": "@jupyter-widgets/base",
      "model_module_version": "1.2.0",
      "model_name": "LayoutModel",
      "state": {}
     },
     "1188013ad1af4b24b84c8ec65ecedc5b": {
      "model_module": "jupyter-matplotlib",
      "model_module_version": "^0.7.1",
      "model_name": "ToolbarModel",
      "state": {
       "layout": "IPY_MODEL_721f8ce8b65e4f5888a696a336533c27",
       "toolitems": [
        [
         "Home",
         "Reset original view",
         "home",
         "home"
        ],
        [
         "Back",
         "Back to previous view",
         "arrow-left",
         "back"
        ],
        [
         "Forward",
         "Forward to next view",
         "arrow-right",
         "forward"
        ],
        [
         "Pan",
         "Pan axes with left mouse, zoom with right",
         "arrows",
         "pan"
        ],
        [
         "Zoom",
         "Zoom to rectangle",
         "square-o",
         "zoom"
        ],
        [
         "Download",
         "Download plot",
         "floppy-o",
         "save_figure"
        ]
       ]
      }
     },
     "13126ef3af3e457db5b8e5e3da6a48ab": {
      "model_module": "@jupyter-widgets/base",
      "model_module_version": "1.2.0",
      "model_name": "LayoutModel",
      "state": {}
     },
     "1347c00042e5454e8a504c94962d8096": {
      "model_module": "jupyter-matplotlib",
      "model_module_version": "^0.7.1",
      "model_name": "MPLCanvasModel",
      "state": {
       "_figure_label": "Figure 4",
       "_height": 899,
       "_width": 1799,
       "layout": "IPY_MODEL_ef3945e12d304cf39a9b5245d3f073f7",
       "toolbar": "IPY_MODEL_acf3277ecc38448499fbd710ea1ab4d9",
       "toolbar_position": "left"
      }
     },
     "204dbbb0a02f4761b2ac63effe848d5c": {
      "model_module": "@jupyter-widgets/base",
      "model_module_version": "1.2.0",
      "model_name": "LayoutModel",
      "state": {}
     },
     "2db56d505e9c4c8a860a8a4d0f22837e": {
      "model_module": "jupyter-matplotlib",
      "model_module_version": "^0.7.1",
      "model_name": "MPLCanvasModel",
      "state": {
       "_cursor": "default",
       "_figure_label": "Figure 2",
       "_height": 899,
       "_image_mode": "diff",
       "_message": "zoom rect",
       "_rubberband_x": -1,
       "_rubberband_y": 900,
       "_width": 1799,
       "layout": "IPY_MODEL_4bef0958f5094b2ea624e1c93133e5c5",
       "toolbar": "IPY_MODEL_e8a035657ae44c6d91c8c52daae8ebca",
       "toolbar_position": "left"
      }
     },
     "4a38a7c5e9ee47a1a685e0ca3621efe6": {
      "model_module": "jupyter-matplotlib",
      "model_module_version": "^0.7.1",
      "model_name": "ToolbarModel",
      "state": {
       "layout": "IPY_MODEL_b2ac2d4e908c4920b9d4895c0c68d30c",
       "toolitems": [
        [
         "Home",
         "Reset original view",
         "home",
         "home"
        ],
        [
         "Back",
         "Back to previous view",
         "arrow-left",
         "back"
        ],
        [
         "Forward",
         "Forward to next view",
         "arrow-right",
         "forward"
        ],
        [
         "Pan",
         "Pan axes with left mouse, zoom with right",
         "arrows",
         "pan"
        ],
        [
         "Zoom",
         "Zoom to rectangle",
         "square-o",
         "zoom"
        ],
        [
         "Download",
         "Download plot",
         "floppy-o",
         "save_figure"
        ]
       ]
      }
     },
     "4bef0958f5094b2ea624e1c93133e5c5": {
      "model_module": "@jupyter-widgets/base",
      "model_module_version": "1.2.0",
      "model_name": "LayoutModel",
      "state": {}
     },
     "4c42a8bd630e46caba9ef47b8d301f97": {
      "model_module": "jupyter-matplotlib",
      "model_module_version": "^0.7.1",
      "model_name": "MPLCanvasModel",
      "state": {
       "_figure_label": "Figure 3",
       "_height": 899,
       "_image_mode": "diff",
       "_width": 1799,
       "layout": "IPY_MODEL_01089f0a61ca4214a29a59abc12db8fa",
       "toolbar": "IPY_MODEL_b3b0baf798764165bb8ef5cd6b2e7293",
       "toolbar_position": "left"
      }
     },
     "6ae28a8ad7354377b25eb81853c822ea": {
      "model_module": "jupyter-matplotlib",
      "model_module_version": "^0.7.1",
      "model_name": "MPLCanvasModel",
      "state": {
       "_figure_label": "Figure 5",
       "_height": 899,
       "_image_mode": "diff",
       "_width": 1799,
       "layout": "IPY_MODEL_7b95b5427fcf4ea1b5e1287b6efa1038",
       "toolbar": "IPY_MODEL_1188013ad1af4b24b84c8ec65ecedc5b",
       "toolbar_position": "left"
      }
     },
     "721f8ce8b65e4f5888a696a336533c27": {
      "model_module": "@jupyter-widgets/base",
      "model_module_version": "1.2.0",
      "model_name": "LayoutModel",
      "state": {}
     },
     "7b95b5427fcf4ea1b5e1287b6efa1038": {
      "model_module": "@jupyter-widgets/base",
      "model_module_version": "1.2.0",
      "model_name": "LayoutModel",
      "state": {}
     },
     "acf3277ecc38448499fbd710ea1ab4d9": {
      "model_module": "jupyter-matplotlib",
      "model_module_version": "^0.7.1",
      "model_name": "ToolbarModel",
      "state": {
       "layout": "IPY_MODEL_204dbbb0a02f4761b2ac63effe848d5c",
       "toolitems": [
        [
         "Home",
         "Reset original view",
         "home",
         "home"
        ],
        [
         "Back",
         "Back to previous view",
         "arrow-left",
         "back"
        ],
        [
         "Forward",
         "Forward to next view",
         "arrow-right",
         "forward"
        ],
        [
         "Pan",
         "Pan axes with left mouse, zoom with right",
         "arrows",
         "pan"
        ],
        [
         "Zoom",
         "Zoom to rectangle",
         "square-o",
         "zoom"
        ],
        [
         "Download",
         "Download plot",
         "floppy-o",
         "save_figure"
        ]
       ]
      }
     },
     "b2ac2d4e908c4920b9d4895c0c68d30c": {
      "model_module": "@jupyter-widgets/base",
      "model_module_version": "1.2.0",
      "model_name": "LayoutModel",
      "state": {}
     },
     "b36e1d0241314f948d674d2a620b9d00": {
      "model_module": "@jupyter-widgets/base",
      "model_module_version": "1.2.0",
      "model_name": "LayoutModel",
      "state": {}
     },
     "b3b0baf798764165bb8ef5cd6b2e7293": {
      "model_module": "jupyter-matplotlib",
      "model_module_version": "^0.7.1",
      "model_name": "ToolbarModel",
      "state": {
       "layout": "IPY_MODEL_071f5fd284394aaabb5a82ac42498a9a",
       "toolitems": [
        [
         "Home",
         "Reset original view",
         "home",
         "home"
        ],
        [
         "Back",
         "Back to previous view",
         "arrow-left",
         "back"
        ],
        [
         "Forward",
         "Forward to next view",
         "arrow-right",
         "forward"
        ],
        [
         "Pan",
         "Pan axes with left mouse, zoom with right",
         "arrows",
         "pan"
        ],
        [
         "Zoom",
         "Zoom to rectangle",
         "square-o",
         "zoom"
        ],
        [
         "Download",
         "Download plot",
         "floppy-o",
         "save_figure"
        ]
       ]
      }
     },
     "bdec589a3dd9441786c7a7cef6fa351e": {
      "model_module": "jupyter-matplotlib",
      "model_module_version": "^0.7.1",
      "model_name": "MPLCanvasModel",
      "state": {
       "_figure_label": "Figure 1",
       "_height": 899,
       "_image_mode": "diff",
       "_width": 1799,
       "layout": "IPY_MODEL_13126ef3af3e457db5b8e5e3da6a48ab",
       "toolbar": "IPY_MODEL_4a38a7c5e9ee47a1a685e0ca3621efe6",
       "toolbar_position": "left"
      }
     },
     "e8a035657ae44c6d91c8c52daae8ebca": {
      "model_module": "jupyter-matplotlib",
      "model_module_version": "^0.7.1",
      "model_name": "ToolbarModel",
      "state": {
       "_current_action": "zoom",
       "layout": "IPY_MODEL_b36e1d0241314f948d674d2a620b9d00",
       "toolitems": [
        [
         "Home",
         "Reset original view",
         "home",
         "home"
        ],
        [
         "Back",
         "Back to previous view",
         "arrow-left",
         "back"
        ],
        [
         "Forward",
         "Forward to next view",
         "arrow-right",
         "forward"
        ],
        [
         "Pan",
         "Pan axes with left mouse, zoom with right",
         "arrows",
         "pan"
        ],
        [
         "Zoom",
         "Zoom to rectangle",
         "square-o",
         "zoom"
        ],
        [
         "Download",
         "Download plot",
         "floppy-o",
         "save_figure"
        ]
       ]
      }
     },
     "ef3945e12d304cf39a9b5245d3f073f7": {
      "model_module": "@jupyter-widgets/base",
      "model_module_version": "1.2.0",
      "model_name": "LayoutModel",
      "state": {}
     }
    },
    "version_major": 2,
    "version_minor": 0
   }
  }
 },
 "nbformat": 4,
 "nbformat_minor": 4
}
