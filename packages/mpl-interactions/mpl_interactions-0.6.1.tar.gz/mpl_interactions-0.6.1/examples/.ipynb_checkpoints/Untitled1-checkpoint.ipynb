{
 "cells": [
  {
   "cell_type": "code",
   "execution_count": 3,
   "metadata": {},
   "outputs": [
    {
     "name": "stdout",
     "output_type": "stream",
     "text": [
      "The autoreload extension is already loaded. To reload it, use:\n",
      "  %reload_ext autoreload\n"
     ]
    }
   ],
   "source": [
    "%load_ext autoreload\n",
    "%autoreload 2\n",
    "%matplotlib ipympl\n",
    "import matplotlib.pyplot as plt\n",
    "import numpy as np\n",
    "from mpl_interactions import interactive_plot, interactive_plot_factory\n",
    "import ipywidgets as widgets"
   ]
  },
  {
   "cell_type": "code",
   "execution_count": 4,
   "metadata": {},
   "outputs": [
    {
     "data": {
      "application/vnd.jupyter.widget-view+json": {
       "model_id": "1e4b154df8ef4349aa6c3f6d0efaed0f",
       "version_major": 2,
       "version_minor": 0
      },
      "text/plain": [
       "VBox(children=(VBox(children=(HBox(children=(IntSlider(value=0, description='tau', max=99, readout=False), Lab…"
      ]
     },
     "metadata": {},
     "output_type": "display_data"
    }
   ],
   "source": [
    "\n",
    "x = np.linspace(0,np.pi,100)\n",
    "tau = np.linspace(1,10, 100)\n",
    "beta = np.linspace(1,10)\n",
    "def f(x, tau, beta):\n",
    "    return np.sin(x*tau)*x**beta\n",
    "fig, ax, sliders = interactive_plot(f, x=x, tau = tau, beta = beta)"
   ]
  },
  {
   "cell_type": "code",
   "execution_count": 5,
   "metadata": {},
   "outputs": [
    {
     "data": {
      "application/vnd.jupyter.widget-view+json": {
       "model_id": "75e3e12777534702a560d9801b7b1fb7",
       "version_major": 2,
       "version_minor": 0
      },
      "text/plain": [
       "VBox(children=(VBox(children=(HBox(children=(IntSlider(value=0, description='tau', max=99, readout=False), Lab…"
      ]
     },
     "metadata": {},
     "output_type": "display_data"
    },
    {
     "data": {
      "application/vnd.jupyter.widget-view+json": {
       "model_id": "e25672542edb4577a234d7c4392a20d6",
       "version_major": 2,
       "version_minor": 0
      },
      "text/plain": [
       "HBox(children=(VBox(children=(HBox(children=(IntSlider(value=0, description='tau', max=99, readout=False), Lab…"
      ]
     },
     "metadata": {},
     "output_type": "display_data"
    }
   ],
   "source": [
    "\n",
    "x = np.linspace(0,np.pi,100)\n",
    "tau = np.linspace(.5, 10, 100)\n",
    "beta = np.linspace(1, 10, 100)\n",
    "def f1(x, tau, beta):\n",
    "    return np.sin(x*tau)*x*beta\n",
    "def f2(x, tau, beta):\n",
    "    return np.sin(x*beta)*x*tau\n",
    "fig, ax, sliders = interactive_plot([f1, f2], x=x, tau = tau, beta = beta, slider_format_string = {\"tau\": '{:.99e}'})\n",
    "_ = plt.legend()\n",
    "from ipywidgets import HBox, VBox\n",
    "fig, ax, sliders = interactive_plot([f1, f2], x=x, tau = tau, beta = beta, display=False)\n",
    "HBox([sliders, VBox([sliders,fig.canvas,sliders]), sliders])"
   ]
  },
  {
   "cell_type": "code",
   "execution_count": 15,
   "metadata": {},
   "outputs": [
    {
     "data": {
      "application/vnd.jupyter.widget-view+json": {
       "model_id": "edfac6176592439aab6b53d015945b0c",
       "version_major": 2,
       "version_minor": 0
      },
      "text/plain": [
       "Canvas(toolbar=Toolbar(toolitems=[('Home', 'Reset original view', 'home', 'home'), ('Back', 'Back to previous …"
      ]
     },
     "metadata": {},
     "output_type": "display_data"
    }
   ],
   "source": [
    "\n",
    "plt.ioff(); fig, (ax1, ax2) = plt.subplots(1,2); plt.ion()\n",
    "ax2.set_title('a totally separate axis', fontsize=14)\n",
    "ax2.plot(f2(x, -.4, 3))\n",
    "controls = interactive_plot_factory(ax1, [f1, f2], x=x, tau = tau, beta = beta, use_ipywidgets=False)\n",
    "ax1.legend()\n",
    "display(controls[0].canvas)"
   ]
  },
  {
   "cell_type": "code",
   "execution_count": 16,
   "metadata": {},
   "outputs": [
    {
     "data": {
      "application/vnd.jupyter.widget-view+json": {
       "model_id": "ac9d18d840544e508b104972d6e0a471",
       "version_major": 2,
       "version_minor": 0
      },
      "text/plain": [
       "Canvas(toolbar=Toolbar(toolitems=[('Home', 'Reset original view', 'home', 'home'), ('Back', 'Back to previous …"
      ]
     },
     "metadata": {},
     "output_type": "display_data"
    }
   ],
   "source": [
    "fig.canvas"
   ]
  },
  {
   "cell_type": "code",
   "execution_count": null,
   "metadata": {},
   "outputs": [],
   "source": []
  }
 ],
 "metadata": {
  "kernelspec": {
   "display_name": "Python 3",
   "language": "python",
   "name": "python3"
  },
  "language_info": {
   "codemirror_mode": {
    "name": "ipython",
    "version": 3
   },
   "file_extension": ".py",
   "mimetype": "text/x-python",
   "name": "python",
   "nbconvert_exporter": "python",
   "pygments_lexer": "ipython3",
   "version": "3.8.3"
  }
 },
 "nbformat": 4,
 "nbformat_minor": 4
}
