{
 "cells": [
  {
   "cell_type": "code",
   "execution_count": null,
   "metadata": {},
   "outputs": [],
   "source": [
    "%matplotlib ipympl\n",
    "import ipywidgets as widgets\n",
    "import numpy as np\n",
    "import matplotlib.pyplot as plt\n",
    "# %load_ext autoreload\n",
    "# %autoreload 2\n",
    "from mpl_interactions import interactive_hist"
   ]
  },
  {
   "cell_type": "markdown",
   "metadata": {},
   "source": [
    "limitations:  \n",
    "    \n",
    "    1. only one function at a time \n",
    "    2. zorder may be funky (this is not calling ax.hist internally)\n",
    "    3. only vertical histograms\n",
    "    4. no stacked histograms\n",
    "    5. currently no labels are possible\n",
    "        - this one may actually be worth fixing\n",
    "    6. only allows stretching the axis limits\n",
    "    7. the axis relimming is a bit hacky, may not be exactly equivalent to what you'd get by call plt.hist\n",
    "    \n",
    "There are some limitations to the current approach that could be worked around. But that would require a high amount of effort and all of these limitations should be solved by https://github.com/matplotlib/matplotlib/pull/18275\n",
    "\n",
    "\n",
    "This accepts the following arguments that are passed through to `np.histogram`. Here they are with their default values:\n",
    "- `density = False`\n",
    "- `bins = 'auto'`\n",
    "- `weight = None`\n",
    "\n",
    "otherwise it works like `interactive_plot` except that f must return an array of numbers to be used `np.histogram` and `x` is no longer special"
   ]
  },
  {
   "cell_type": "code",
   "execution_count": null,
   "metadata": {},
   "outputs": [],
   "source": [
    "def f(loc, scale):\n",
    "    return np.random.randn(10000)*scale + loc"
   ]
  },
  {
   "cell_type": "code",
   "execution_count": null,
   "metadata": {},
   "outputs": [],
   "source": [
    "interactive_hist(f, loc=(0,10,100), scale=(.5,5))"
   ]
  },
  {
   "cell_type": "code",
   "execution_count": null,
   "metadata": {},
   "outputs": [],
   "source": [
    "interactive_hist(f, loc=(0,10,100), scale=(.5,5), bins=100, density=True)"
   ]
  },
  {
   "cell_type": "code",
   "execution_count": null,
   "metadata": {},
   "outputs": [],
   "source": []
  }
 ],
 "metadata": {
  "kernelspec": {
   "display_name": "Python 3",
   "language": "python",
   "name": "python3"
  },
  "language_info": {
   "codemirror_mode": {
    "name": "ipython",
    "version": 3
   },
   "file_extension": ".py",
   "mimetype": "text/x-python",
   "name": "python",
   "nbconvert_exporter": "python",
   "pygments_lexer": "ipython3",
   "version": "3.8.3"
  }
 },
 "nbformat": 4,
 "nbformat_minor": 4
}
