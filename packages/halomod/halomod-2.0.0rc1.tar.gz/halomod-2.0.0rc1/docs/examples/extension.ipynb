{
 "cells": [
  {
   "cell_type": "markdown",
   "metadata": {},
   "source": [
    "# Customised extension with `halomod`"
   ]
  },
  {
   "cell_type": "markdown",
   "metadata": {},
   "source": [
    "In this tutorial, we use the existing infrastructure of `halomod` and plug in a new type of tracer, namely HI using the model from 1611.06235. This model requires three additions: a new density profile for HI; a new concentration-mass relation for HI; and finally a new HI HOD. Notice that you can also add a lot of other stuff into `halomod` as well, however, most likely you'll need to add something to build a new type of tracer, which is the case here."
   ]
  },
  {
   "cell_type": "markdown",
   "metadata": {},
   "source": [
    "Let's import a few baisc things first:"
   ]
  },
  {
   "cell_type": "code",
   "execution_count": 1,
   "metadata": {},
   "outputs": [],
   "source": [
    "%matplotlib inline\n",
    "import matplotlib.pyplot as plt\n",
    "import numpy as np\n",
    "\n",
    "from halomod import TracerHaloModel\n",
    "import halomod\n",
    "import hmf\n",
    "import scipy"
   ]
  },
  {
   "cell_type": "code",
   "execution_count": 2,
   "metadata": {},
   "outputs": [
    {
     "name": "stdout",
     "output_type": "stream",
     "text": [
      "halomod version:  1.4.6.dev71+gaca1ec0\n",
      "hmf version: 3.1.0\n"
     ]
    }
   ],
   "source": [
    "print(\"halomod version: \", halomod.__version__)\n",
    "print(\"hmf version:\", hmf.__version__)"
   ]
  },
  {
   "cell_type": "markdown",
   "metadata": {},
   "source": [
    "## Creating a new density profile"
   ]
  },
  {
   "cell_type": "markdown",
   "metadata": {},
   "source": [
    "The HI density profile used here is:"
   ]
  },
  {
   "cell_type": "markdown",
   "metadata": {},
   "source": [
    "$$\n",
    "\\rho_{\\rm HI}(r) = \\rho_0 \\;{\\rm exp}(-r/r_s)\n",
    "$$\n"
   ]
  },
  {
   "cell_type": "markdown",
   "metadata": {},
   "source": [
    "Notice that all the infrastructure has been set up by `Profile` class, and all you need to modify is the `_f` function, its integration `_h` and its Fourier transform `_p` (see documentation for `profiles.py`)"
   ]
  },
  {
   "cell_type": "code",
   "execution_count": 3,
   "metadata": {},
   "outputs": [],
   "source": [
    "from halomod.profiles import Profile"
   ]
  },
  {
   "cell_type": "code",
   "execution_count": 4,
   "metadata": {},
   "outputs": [],
   "source": [
    "class Exponential(Profile):\n",
    "    def _f(self, x):\n",
    "        return np.exp(-x)\n",
    "\n",
    "    def _h(self, c):\n",
    "        return 2-2*np.exp(-c)-2*c*np.exp(-c)-c**2*np.exp(-c)\n",
    "\n",
    "    def _p(self, K, c=None):\n",
    "        sin = np.sin(c*K)\n",
    "        cos = np.cos(c*K)\n",
    "        func1 = (1+K**2)**(-2)\n",
    "        exp = np.exp(c)\n",
    "        return func1/K/exp*(2*exp*K-K*(2+c+c*K**2)*cos-(1+c-K**2+c*K**2)*sin)"
   ]
  },
  {
   "cell_type": "markdown",
   "metadata": {},
   "source": [
    "At bare minimum, you should specify `_f` which is just the density profile itself, and all the integration and Fourier transformation will be done numerically. However, that is very inefficient so you should always find analytical expression and specify if you can."
   ]
  },
  {
   "cell_type": "markdown",
   "metadata": {},
   "source": [
    "Now let's plug it into a halo model:"
   ]
  },
  {
   "cell_type": "code",
   "execution_count": 5,
   "metadata": {},
   "outputs": [],
   "source": [
    "hm = TracerHaloModel(tracer_profile_model=Exponential)"
   ]
  },
  {
   "cell_type": "markdown",
   "metadata": {},
   "source": [
    "And see the profile for a halo of mass $10^{10} M_\\odot h^{-1}$ in Fourier space:"
   ]
  },
  {
   "cell_type": "code",
   "execution_count": 29,
   "metadata": {},
   "outputs": [
    {
     "data": {
      "image/png": "[encoded data removed]",
      "text/plain": [
       "<Figure size 432x288 with 1 Axes>"
      ]
     },
     "metadata": {
      "needs_background": "light"
     },
     "output_type": "display_data"
    }
   ],
   "source": [
    "plt.plot(hm.k,hm.tracer_profile_ukm[:,1000]);\n",
    "plt.xscale('log')\n",
    "plt.yscale('log')\n",
    "plt.xlim((1e-2,1e5));\n",
    "#plt.ylim((1e-1,1))"
   ]
  },
  {
   "cell_type": "markdown",
   "metadata": {},
   "source": [
    "And we've set up our profile model.\n",
    "\n",
    "This profile model does not have additional model parameters. If it does, you can always update these parameters using \n",
    "```python\n",
    "hm = TracerHaloModel(tracer_profile_model=YourProfile,tracer_profile_params=YourParameters)\n",
    "```"
   ]
  },
  {
   "cell_type": "markdown",
   "metadata": {},
   "source": [
    "## Creating a new concentration-mass relation"
   ]
  },
  {
   "cell_type": "markdown",
   "metadata": {},
   "source": [
    "The concentration-mass relation we use here follows the one from Maccio et al.(2007):"
   ]
  },
  {
   "cell_type": "markdown",
   "metadata": {},
   "source": [
    "$$\n",
    "c_{\\rm HI}(M,z) = c_0 \\Big(\\frac{M}{10^{11}{\\rm M_\\odot h^{-1}}}\\Big)^{-0.109}\\frac{4}{(1+z)^\\gamma}\n",
    "$$"
   ]
  },
  {
   "cell_type": "markdown",
   "metadata": {},
   "source": [
    "Again, because `halomod` already has a generic `CMRelation` class in place, all you really need is to specify a `cm` function for the equation above:"
   ]
  },
  {
   "cell_type": "code",
   "execution_count": 30,
   "metadata": {},
   "outputs": [],
   "source": [
    "from halomod.concentration import CMRelation"
   ]
  },
  {
   "cell_type": "code",
   "execution_count": 31,
   "metadata": {},
   "outputs": [],
   "source": [
    "class Maccio07(CMRelation):\n",
    "    \"\"\"\n",
    "        HI concentration-mass relation based on Maccio et al.(2007). Default value taken from 1611.06235\n",
    "        \"\"\"\n",
    "    _defaults = {'c_0': 28.65, \"gamma\": 1.45}\n",
    "\n",
    "    def cm(self,m,z):\n",
    "        return self.params['c_0']*(m*10**(-11))**(-0.109)*4/(1+z)**self.params['gamma']"
   ]
  },
  {
   "cell_type": "markdown",
   "metadata": {},
   "source": [
    "And update our halo model with it:"
   ]
  },
  {
   "cell_type": "code",
   "execution_count": 33,
   "metadata": {},
   "outputs": [],
   "source": [
    "hm.update(tracer_concentration_model=Maccio07)"
   ]
  },
  {
   "cell_type": "markdown",
   "metadata": {},
   "source": [
    "And check the concentration-mass relation at z=0:"
   ]
  },
  {
   "cell_type": "code",
   "execution_count": 44,
   "metadata": {},
   "outputs": [
    {
     "data": {
      "text/plain": [
       "(0.0, 600.0)"
      ]
     },
     "execution_count": 44,
     "metadata": {},
     "output_type": "execute_result"
    },
    {
     "data": {
      "image/png": "[encoded data removed]",
      "text/plain": [
       "<Figure size 432x288 with 1 Axes>"
      ]
     },
     "metadata": {
      "needs_background": "light"
     },
     "output_type": "display_data"
    }
   ],
   "source": [
    "plt.plot(hm.m,hm.tracer_concentration.cm(hm.m,0))\n",
    "plt.xscale('log')\n",
    "plt.xlim(1e5,1e15)\n",
    "plt.ylim((0,600))"
   ]
  },
  {
   "cell_type": "markdown",
   "metadata": {},
   "source": [
    "Notice that this model has two additional parameters, which can be updated using:"
   ]
  },
  {
   "cell_type": "code",
   "execution_count": 45,
   "metadata": {},
   "outputs": [],
   "source": [
    "hm.update(tracer_concentration_params=dict({'c_0': 28.65, \"gamma\": 1.45}))"
   ]
  },
  {
   "cell_type": "markdown",
   "metadata": {},
   "source": [
    "## Creating a new HOD"
   ]
  },
  {
   "cell_type": "markdown",
   "metadata": {},
   "source": [
    "The HI HOD we use here is:"
   ]
  },
  {
   "cell_type": "markdown",
   "metadata": {},
   "source": [
    "$$\n",
    "M_{\\rm HI}(M) = \\alpha f_{H,c} M \\Big(\\frac{M}{10^{11}M_\\odot {\\rm h}^{-1}}\\big)^\\beta\n",
    "{\\rm exp}\\Bigg[-\\Big(\\frac{v_{c0}}{v_c(M)}\\Big)^3\\Bigg]\n",
    "$$"
   ]
  },
  {
   "cell_type": "markdown",
   "metadata": {},
   "source": [
    "For HOD, it's a bit more complicated. First, one need to decide what type of tracer it is. The most generic class to use is `HOD`, however, you may prefer `HODBulk` where the tracer is considered to be continueous distributed ; or `HODPoisson`, which assumes Poisson distributed discrete satellite components, which is commonly used for galaxies.\n",
    "\n",
    "Second, if your model has a minimum halo mass to host any tracer as a sharp cut-off (or not), you need specify \n",
    "\n",
    "```python\n",
    "sharp_cut = True # or False\n",
    "```\n",
    "\n",
    "If your model has a seperation of central and satellite components, you need to specify if the satellite occupation is inherently dependant on the central occupation:\n",
    "\n",
    "```python\n",
    "central_condition_inherent = False # or True\n",
    "```\n",
    "\n",
    "If True, the actual satellite component will be your satellite occupation times central occupation."
   ]
  },
  {
   "cell_type": "markdown",
   "metadata": {},
   "source": [
    "Finally, you need to specify how to convert the unit between your HOD and the resulting power spectrum. For example, for HI the HOD is written in mass unit, whereas the power spectrum is in temperature unit. This is done by specifying a `unit_conversion` function"
   ]
  },
  {
   "cell_type": "markdown",
   "metadata": {},
   "source": [
    "Additionally, sometimes your HOD contains function that need to be calculated, such as virial velocity in this case, which you can just put into the class:"
   ]
  },
  {
   "cell_type": "code",
   "execution_count": 49,
   "metadata": {},
   "outputs": [],
   "source": [
    "from halomod.hod import HODBulk\n",
    "import scipy.constants as const\n",
    "import astropy.constants as astroconst"
   ]
  },
  {
   "cell_type": "markdown",
   "metadata": {},
   "source": [
    "For simple demonstration, we simplify the HOD a bit:"
   ]
  },
  {
   "cell_type": "code",
   "execution_count": 70,
   "metadata": {},
   "outputs": [],
   "source": [
    "class Padmanabhan(HODBulk):\n",
    "    \"\"\"\n",
    "    A continuous HOD following Padmanabhan & Refregier (1607.01021)\n",
    "    \"\"\"\n",
    "    _defaults = {\"alpha\": 0.09,  # gives HI mass amplitude\n",
    "                 \"f_Hc\": 0.12,  # gives HI mass amplitude, fixed by Yp and Omegab\n",
    "                 \"beta\": -0.58, #slop of mass\n",
    "                 \"M_min\": 9, # Truncation Mass, if needed\n",
    "                 \"M_1\": 11,  # Characteristic Mass\n",
    "                 \"M_max\": 18,   # Truncation mass, if needed\n",
    "                 }\n",
    "    sharp_cut = False\n",
    "        \n",
    "    def _satellite_occupation(self, m):\n",
    "        '''Notice that for Bulk distribution, there's only satellite distribution. '''\n",
    "        alpha = self.params['alpha']\n",
    "        f_Hc = self.params['f_Hc']\n",
    "        beta = self.params['beta']\n",
    "        M_1 = 10 ** self.params['M_1']\n",
    "\n",
    "        out = alpha*f_Hc*m*(m/M_1)**beta\n",
    "        return out\n",
    "\n",
    "    def unit_conversion(self, cosmo, z):\n",
    "        \"\"\"A factor (potentially with astropy units) to convert \n",
    "        the total occupation to a desired unit.\n",
    "        In this case from solar mass to temperature unit\"\"\"\n",
    "        A12=2.869e-15\n",
    "        nu21cm=1.42e9\n",
    "        Const=( 3.0*A12*const.h*const.c**3.0 )/( 32.0*np.pi*(const.m_p+const.m_e)*const.Boltzmann * nu21cm**2);\n",
    "        Mpcoverh_3=((astroconst.kpc.value*1e3)/(cosmo.H0.value/100.0) )**3\n",
    "        hubble = cosmo.H0.value * cosmo.efunc(z)*1.0e3/(astroconst.kpc.value*1e3)\n",
    "        temp_conv=Const * ((1.0+z)**2/hubble)\n",
    "        # convert to Mpc^3, solar mass\n",
    "        temp_conv=temp_conv/Mpcoverh_3 * astroconst.M_sun.value\n",
    "        return temp_conv\n"
   ]
  },
  {
   "cell_type": "markdown",
   "metadata": {},
   "source": [
    "And now update the halo model with this newly defined HOD:"
   ]
  },
  {
   "cell_type": "code",
   "execution_count": 71,
   "metadata": {},
   "outputs": [],
   "source": [
    "hm.update(hod_model=Padmanabhan)"
   ]
  },
  {
   "cell_type": "markdown",
   "metadata": {},
   "source": [
    "You can check out the mean density of this HI in solar mass over Mpc^3 unit:"
   ]
  },
  {
   "cell_type": "code",
   "execution_count": 72,
   "metadata": {},
   "outputs": [
    {
     "data": {
      "text/plain": [
       "756951559.9143287"
      ]
     },
     "execution_count": 72,
     "metadata": {},
     "output_type": "execute_result"
    }
   ],
   "source": [
    "hm.mean_tracer_den"
   ]
  },
  {
   "cell_type": "markdown",
   "metadata": {},
   "source": [
    "And in temeperature unit:"
   ]
  },
  {
   "cell_type": "code",
   "execution_count": 73,
   "metadata": {},
   "outputs": [
    {
     "data": {
      "text/plain": [
       "0.00023797929128430576"
      ]
     },
     "execution_count": 73,
     "metadata": {},
     "output_type": "execute_result"
    }
   ],
   "source": [
    "hm.mean_tracer_den_unit"
   ]
  },
  {
   "cell_type": "markdown",
   "metadata": {},
   "source": [
    "You can easily update the parameters using:"
   ]
  },
  {
   "cell_type": "code",
   "execution_count": 75,
   "metadata": {},
   "outputs": [],
   "source": [
    "hm.update(hod_params=dict({\"beta\": -0.68}))"
   ]
  },
  {
   "cell_type": "markdown",
   "metadata": {},
   "source": [
    "And to confirm it is indeed updated let's check the density again:"
   ]
  },
  {
   "cell_type": "code",
   "execution_count": 76,
   "metadata": {},
   "outputs": [
    {
     "name": "stdout",
     "output_type": "stream",
     "text": [
      "1003872103.8453474\n",
      "0.00031560906201215757\n"
     ]
    }
   ],
   "source": [
    "print(hm.mean_tracer_den)\n",
    "print(hm.mean_tracer_den_unit)"
   ]
  },
  {
   "cell_type": "markdown",
   "metadata": {},
   "source": [
    "And the power spectrum in length unit:"
   ]
  },
  {
   "cell_type": "code",
   "execution_count": 77,
   "metadata": {},
   "outputs": [
    {
     "name": "stderr",
     "output_type": "stream",
     "text": [
      "/home/ztchen/work/gitproject/halomod/src/halomod/tools.py:534: RuntimeWarning: invalid value encountered in true_divide\n",
      "  norm = self._spl(match_x) / fnc(match_x)\n",
      "/home/ztchen/work/gitproject/halomod/src/halomod/tools.py:534: RuntimeWarning: divide by zero encountered in true_divide\n",
      "  norm = self._spl(match_x) / fnc(match_x)\n"
     ]
    },
    {
     "data": {
      "image/png": "[encoded data removed]",
      "text/plain": [
       "<Figure size 432x288 with 1 Axes>"
      ]
     },
     "metadata": {
      "needs_background": "light"
     },
     "output_type": "display_data"
    }
   ],
   "source": [
    "plt.plot(hm.k_hm, hm.power_auto_tracer)\n",
    "plt.xscale('log')\n",
    "plt.yscale('log')\n",
    "\n",
    "plt.xlabel(\"k [$Mpc^{-1} h$]\")\n",
    "plt.ylabel(r\"$\\rm P(k) \\ [{\\rm Mpc^3}h^{-3}]$\");"
   ]
  },
  {
   "cell_type": "markdown",
   "metadata": {},
   "source": [
    "And in temperature unit:"
   ]
  },
  {
   "cell_type": "code",
   "execution_count": 78,
   "metadata": {},
   "outputs": [
    {
     "data": {
      "image/png": "[encoded data removed]",
      "text/plain": [
       "<Figure size 432x288 with 1 Axes>"
      ]
     },
     "metadata": {
      "needs_background": "light"
     },
     "output_type": "display_data"
    }
   ],
   "source": [
    "plt.plot(hm.k_hm, hm.power_auto_tracer*hm.mean_tracer_den_unit**2)\n",
    "plt.xscale('log')\n",
    "plt.yscale('log')\n",
    "\n",
    "plt.xlabel(\"k [$Mpc^{-1} h$]\")\n",
    "plt.ylabel(r\"$\\rm P(k) \\ [{\\rm K^2 Mpc^3}h^{-5}]$\");"
   ]
  }
 ],
 "metadata": {
  "kernelspec": {
   "display_name": "Python 3",
   "language": "python",
   "name": "python3"
  },
  "language_info": {
   "codemirror_mode": {
    "name": "ipython",
    "version": 3
   },
   "file_extension": ".py",
   "mimetype": "text/x-python",
   "name": "python",
   "nbconvert_exporter": "python",
   "pygments_lexer": "ipython3",
   "version": "3.8.3"
  }
 },
 "nbformat": 4,
 "nbformat_minor": 4
}
