{
 "cells": [
  {
   "cell_type": "markdown",
   "metadata": {},
   "source": [
    "## Tutorial showing use of a `Workspace` object\n",
    "### Part 2: Switchboards\n",
    "\n",
    "\"This tutorial introduces the `Switchboard` workspace object and demonstrates its use.  You may have gotten the sense from the last tutorial that screen real estate can quickly be taken up by plots and tables.  Wouldn't it me nice if we could interactively switch between plots or figures using buttons or sliders instead of having to scroll through endless pages of plots?  `Switchboard` to the rescue!\n",
    "\n",
    "First though, let's run GST on the standard 1Q model to get some results (the same ones as the first tutorial)."
   ]
  },
  {
   "cell_type": "code",
   "execution_count": 1,
   "metadata": {},
   "outputs": [],
   "source": [
    "import numpy as np\n",
    "import pygsti\n",
    "from pygsti.modelpacks import smq1Q_XYI\n",
    "\n",
    "#The usual GST setup: we're going to run GST on the standard XYI 1-qubit model\n",
    "target_model = smq1Q_XYI.target_model()\n",
    "prep_fiducials = smq1Q_XYI.prep_fiducials()\n",
    "meas_fiducials = smq1Q_XYI.meas_fiducials()\n",
    "germs = smq1Q_XYI.germs()\n",
    "maxLengths = [1,2,4,8]\n",
    "listOfExperiments = pygsti.construction.make_lsgst_experiment_list(\n",
    "    target_model.operations.keys(), prep_fiducials, meas_fiducials, germs, maxLengths)\n",
    "\n",
    "#Create some datasets for analysis\n",
    "mdl_datagen1 = target_model.depolarize(op_noise=0.1, spam_noise=0.001)\n",
    "mdl_datagen2 = target_model.depolarize(op_noise=0.05, spam_noise=0.01).rotate(rotate=(0.01,0,0))\n",
    "\n",
    "ds1 = pygsti.construction.generate_fake_data(mdl_datagen1, listOfExperiments, nSamples=1000,\n",
    "                                            sampleError=\"binomial\", seed=1234)\n",
    "ds2 = pygsti.construction.generate_fake_data(mdl_datagen2, listOfExperiments, nSamples=1000,\n",
    "                                            sampleError=\"binomial\", seed=1234)\n",
    "ds3 = ds1.copy_nonstatic(); ds3.add_counts_from_dataset(ds2); ds3.done_adding_data()\n",
    "\n",
    "#Run GST on all three datasets\n",
    "target_model.set_all_parameterizations(\"TP\")\n",
    "results1 = pygsti.do_long_sequence_gst(ds1, target_model, prep_fiducials, meas_fiducials, germs, maxLengths, verbosity=0)\n",
    "results2 = pygsti.do_long_sequence_gst(ds2, target_model, prep_fiducials, meas_fiducials, germs, maxLengths, verbosity=0)\n",
    "results3 = pygsti.do_long_sequence_gst(ds3, target_model, prep_fiducials, meas_fiducials, germs, maxLengths, verbosity=0)\n",
    "\n",
    "#make some shorthand variable names for later\n",
    "tgt = results1.estimates['default'].models['target']\n",
    "\n",
    "ds1 = results1.dataset\n",
    "ds2 = results2.dataset\n",
    "ds3 = results3.dataset\n",
    "\n",
    "mdl1 = results1.estimates['default'].models['go0']\n",
    "mdl2 = results2.estimates['default'].models['go0']\n",
    "mdl3 = results3.estimates['default'].models['go0']\n",
    "\n",
    "gss = results1.circuit_structs['final']"
   ]
  },
  {
   "cell_type": "markdown",
   "metadata": {},
   "source": [
    "Next we create the workspace, as before.  This time, we'll leave `autodisplay=False` (the default), to demonstrate how this gives us more control over when workspace items are displayed.  In particular, we'll build up a several workspace objects and display them all at once.  **NOTE that setting `connected=True` means you need to have an internet connection!**"
   ]
  },
  {
   "cell_type": "code",
   "execution_count": 2,
   "metadata": {},
   "outputs": [],
   "source": [
    "w = pygsti.report.Workspace()  #create a new workspace\n",
    "w.init_notebook_mode(connected=False) # and initialize it so it works within a notebook"
   ]
  },
  {
   "cell_type": "markdown",
   "metadata": {},
   "source": [
    "Note that if we create a table it doesn't get displayed automatically."
   ]
  },
  {
   "cell_type": "code",
   "execution_count": 3,
   "metadata": {},
   "outputs": [],
   "source": [
    "tbl1 = w.GatesVsTargetTable(mdl1, tgt)"
   ]
  },
  {
   "cell_type": "markdown",
   "metadata": {},
   "source": [
    "To see it, we need to call `display()`:"
   ]
  },
  {
   "cell_type": "code",
   "execution_count": 4,
   "metadata": {},
   "outputs": [],
   "source": [
    "tbl1.display()"
   ]
  },
  {
   "cell_type": "markdown",
   "metadata": {},
   "source": [
    "### Switchboards\n",
    "A `Switchboard` is essentially a collection of one or more switches along with a dictionary of \"values\" which depend on some or all of the switch positions.  Each value looks like a NumPy `ndarray` whose axes correspond to the switches that value depends upon.  The array can hold whatever you want: `Model`s, `DataSet`s, `float`s, etc., and from the perspective of the plot and table workspace objects the value looks like the thing contained in its array (e.g. a *single* `Model`, `DataSet`, or `float`, etc.).  \n",
    "\n",
    "Let's start off simple and create a switchboard with a single switch named \"My Switch\" that has two positions \"On\" and \"Off\":"
   ]
  },
  {
   "cell_type": "code",
   "execution_count": 5,
   "metadata": {},
   "outputs": [],
   "source": [
    "switchbd = w.Switchboard([\"My Switch\"],[[\"On\",\"Off\"]],[\"buttons\"])"
   ]
  },
  {
   "cell_type": "markdown",
   "metadata": {},
   "source": [
    "Next, add a \"value\" to the switchboard called \"mdl\" (for \"model\"), with is dependent on the 0-th (and only) switch of the switchboard:"
   ]
  },
  {
   "cell_type": "code",
   "execution_count": 6,
   "metadata": {},
   "outputs": [],
   "source": [
    "switchbd.add(\"mdl\", [0])"
   ]
  },
  {
   "cell_type": "markdown",
   "metadata": {},
   "source": [
    "Now `switchbd` has a member, `mdl`, which looks like a 1-dimensional Numpy array (since `mdl` only depends on a single switch) of length 2 (because that single switch has 2 positions). "
   ]
  },
  {
   "cell_type": "code",
   "execution_count": 7,
   "metadata": {},
   "outputs": [],
   "source": [
    "switchbd.mdl.shape"
   ]
  },
  {
   "cell_type": "markdown",
   "metadata": {},
   "source": [
    "We'll use `switchbd.mdl` to switch between the models `mdl1` and `mdl2`.  We associate the \"On\" position with `mdl1` and the \"Off\" position with `mdl2` by simply assigning them to the corresponding locations of the array.  Note that we can use NumPy's fancy indexing to make this a breeze."
   ]
  },
  {
   "cell_type": "code",
   "execution_count": 8,
   "metadata": {},
   "outputs": [],
   "source": [
    "switchbd.mdl[:] = [mdl1,mdl2]"
   ]
  },
  {
   "cell_type": "markdown",
   "metadata": {},
   "source": [
    "Ok, now here's the magical part: even though `switchbd.mdl` is really an array holding `Model` objects, when you provide it as an input to create a workspace item such as a plot or a table, it *behaves* like a single `Model` and can thus be used for any `Model`-type argument.  We'll use it as the first argument to `GatesVsTargetTable`. "
   ]
  },
  {
   "cell_type": "code",
   "execution_count": 9,
   "metadata": {},
   "outputs": [],
   "source": [
    "tbl2 = w.GatesVsTargetTable(switchbd.mdl, tgt)"
   ]
  },
  {
   "cell_type": "markdown",
   "metadata": {},
   "source": [
    "Note the the second argument (`tgt`, the target model) in the above call is just a plain old `Model`, just like it's always been up to this point.  The above line creates a table, `tbl2`, that is *connected* to the switchboard `switchbd`.  Let's display both the switchboard and the table together."
   ]
  },
  {
   "cell_type": "code",
   "execution_count": 10,
   "metadata": {},
   "outputs": [],
   "source": [
    "switchbd.display()\n",
    "tbl2.display()"
   ]
  },
  {
   "cell_type": "markdown",
   "metadata": {},
   "source": [
    "My pressing the \"On\" or \"Off\" button the table changes between displaying metrics for `mdl1` vs. `tgt` and `mdl2` vs. `tgt`, as expected.  In this simple example there was one switch controlling on table.  It is possible to have any number of switches controlling any number of tables and/or plots, and also to have multiple switchboards controlling a single plot or table.  In the following cells, more sophisticated uses of switchboards are demonstrated."
   ]
  },
  {
   "cell_type": "code",
   "execution_count": 11,
   "metadata": {
    "scrolled": false
   },
   "outputs": [],
   "source": [
    "# Create a switchboard with straighforward dataset and model dropdown switches\n",
    "switchbd2 = w.Switchboard([\"dataset\",\"model\"], [[\"DS1\",\"DS2\",\"DS3\"],[\"MODEL1\",\"MODEL2\",\"MODEL3\"]], [\"dropdown\",\"dropdown\"])\n",
    "switchbd2.add(\"ds\",(0,))\n",
    "switchbd2.add(\"mdl\",(1,))\n",
    "switchbd2.ds[:] = [ds1, ds2, ds3]\n",
    "switchbd2.mdl[:] = [mdl1, mdl2, mdl3]\n",
    "\n",
    "#Then create a chi2 plot that can show the goodness-of-fit between any model-dataset pair\n",
    "gss2 = gss.copy(); gss2.germs = gss.germs[0:5] #truncate gss to only a subset of the germs\n",
    "chi2plot = w.ColorBoxPlot((\"chi2\",), gss2, switchbd2.ds, switchbd2.mdl, scale=0.75)\n",
    "\n",
    "switchbd2.display()\n",
    "chi2plot.display()"
   ]
  },
  {
   "cell_type": "code",
   "execution_count": 12,
   "metadata": {},
   "outputs": [],
   "source": [
    "#Perform gauge optimizations of gs1 using different spam weights\n",
    "spamWts = np.linspace(0.0,1.0,20)\n",
    "mdl_gaugeopts = [ pygsti.gaugeopt_to_target(mdl1, tgt,{'gates': 1, 'spam': x}) for x in spamWts]"
   ]
  },
  {
   "cell_type": "code",
   "execution_count": 13,
   "metadata": {
    "scrolled": false
   },
   "outputs": [],
   "source": [
    "# Create a switchboard with a slider that controls the spam-weight used in gauge optimization\n",
    "switchbd3 = w.Switchboard([\"spam-weight\"], [[\"%.2f\" % x for x in spamWts]], [\"slider\"])\n",
    "switchbd3.add(\"mdlGO\",(0,))\n",
    "switchbd3.mdlGO[:] = mdl_gaugeopts\n",
    "\n",
    "#Then create a comparison vs. target tables\n",
    "tbl3 = w.GatesVsTargetTable(switchbd3.mdlGO, tgt)\n",
    "tbl4 = w.SpamVsTargetTable(switchbd3.mdlGO, tgt)\n",
    "\n",
    "switchbd3.display()\n",
    "tbl3.display()\n",
    "tbl4.display()"
   ]
  },
  {
   "cell_type": "code",
   "execution_count": 14,
   "metadata": {
    "scrolled": false
   },
   "outputs": [],
   "source": [
    "# Create a slider showing the color box plot at different GST iterations\n",
    "switchbd4 = w.Switchboard([\"max(L)\"], [list(map(str,gss.Ls))], [\"slider\"])\n",
    "switchbd4.add(\"mdl\",(0,))\n",
    "switchbd4.add(\"gss\",(0,))\n",
    "switchbd4.mdl[:] = results1.estimates['default'].models['iteration estimates']\n",
    "switchbd4.gss[:] = results1.circuit_structs['iteration']\n",
    "            \n",
    "#Then create a logl plot that can show the goodness-of-fit at different iterations\n",
    "logLProgress = w.ColorBoxPlot((\"logl\",), switchbd4.gss, ds1, switchbd4.mdl, scale=0.75)\n",
    "\n",
    "logLProgress.display()\n",
    "switchbd4.display()"
   ]
  },
  {
   "cell_type": "markdown",
   "metadata": {},
   "source": [
    "### Switchboard Views\n",
    "If you want to duplicate a switch board in order to have the same switches accessible at different (multiple) location in a page, you need to create switchboard *views*.  These are somewhat like NumPy array views in that they are windows into some base data - in this case the original `Switchboard` object.  Let's create a view of the `Switchboard` above."
   ]
  },
  {
   "cell_type": "code",
   "execution_count": 15,
   "metadata": {},
   "outputs": [],
   "source": [
    "sbv = switchbd4.view()\n",
    "sbv.display()"
   ]
  },
  {
   "cell_type": "markdown",
   "metadata": {},
   "source": [
    "Note that when you move one slider, the other moves with it.  This is because there's really only *one* switch.\n",
    "\n",
    "Views don't need to contain *all* of the switches of the base `Switchboard` either.  Here's an example where each view only shows only a subset of the switches.  We also demonstrate here how the *initial positions* of each switch can be set via the `initial_pos` argument."
   ]
  },
  {
   "cell_type": "code",
   "execution_count": 16,
   "metadata": {},
   "outputs": [],
   "source": [
    "parent = w.Switchboard([\"My Buttons\",\"My Dropdown\", \"My Slider\"],\n",
    "                         [[\"On\",\"Off\"],[\"A\",\"B\",\"C\"],[\"0\",\"0.5\",\"0.8\",\"1.0\"]],\n",
    "                         [\"buttons\",\"dropdown\",\"slider\"], initial_pos=[0,1,2])\n",
    "parent.display()"
   ]
  },
  {
   "cell_type": "code",
   "execution_count": 17,
   "metadata": {},
   "outputs": [],
   "source": [
    "buttonsView = parent.view([\"My Buttons\"])\n",
    "buttonsView.display()"
   ]
  },
  {
   "cell_type": "code",
   "execution_count": 18,
   "metadata": {},
   "outputs": [],
   "source": [
    "otherView = parent.view([\"My Dropdown\",\"My Slider\"])\n",
    "otherView.display()"
   ]
  },
  {
   "cell_type": "markdown",
   "metadata": {
    "collapsed": true
   },
   "source": [
    "### Exporting to HTML\n",
    "Again, you can save this notebook as an HTML file by going to **File => Download As => HTML** in the Jupyter menu.  The resulting file will retain all of the plot *and switch* interactivity, and in this case doesn't need the `offline` folder (because we set `connected=True` in `init_notebook_mode` above) but does need an internet connection."
   ]
  },
  {
   "cell_type": "code",
   "execution_count": null,
   "metadata": {},
   "outputs": [],
   "source": []
  }
 ],
 "metadata": {
  "kernelspec": {
   "display_name": "Python 3",
   "language": "python",
   "name": "python3"
  },
  "language_info": {
   "codemirror_mode": {
    "name": "ipython",
    "version": 3
   },
   "file_extension": ".py",
   "mimetype": "text/x-python",
   "name": "python",
   "nbconvert_exporter": "python",
   "pygments_lexer": "ipython3",
   "version": "3.7.0"
  }
 },
 "nbformat": 4,
 "nbformat_minor": 2
}
