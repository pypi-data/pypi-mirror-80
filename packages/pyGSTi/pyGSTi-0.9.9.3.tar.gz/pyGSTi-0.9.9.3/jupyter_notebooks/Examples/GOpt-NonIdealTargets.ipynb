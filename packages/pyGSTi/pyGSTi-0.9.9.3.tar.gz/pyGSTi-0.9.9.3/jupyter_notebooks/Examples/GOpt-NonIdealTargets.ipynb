{
 "cells": [
  {
   "cell_type": "markdown",
   "metadata": {
    "collapsed": true
   },
   "source": [
    "# How to gauge-optimize to a model other than the ideal targets \n",
    "Typically gauge optimizations are performed with respect to the set of ideal target gates and spam operations.  This is convenient, since you need to specify the ideal targets as points of comparison, but not always the best approach.  Particularly when you expect all or some of the gate estimates to either substantially differ from the ideal operations or differ, even by small amounts, in particular ways from the ideal operations, it can be hugely aid later interpretation to specify a non-ideal `Model` as the target for gauge-optimization.  By separating the \"ideal targets\" from the \"gauge optimization targets\", you're able to tell the gauge optimizer what gates you *think* you have, including any known errors.  This can result in a gauge-optimized estimate which is much more sensible and straightforward to interpet.\n",
    "\n",
    "For example, gauge transformations can slosh error between the SPAM operations and the non-unital parts of gates.  If you know your gates are slightly non-unital you can include this information in the gauge-optimization-target (by specifying a `Model` which is slightly non-unital) and obtain a resulting estimate of low SPAM-error and slightly non-unital gates.  If you just used the ideal (unital) target gates, the gauge-optimizer, which is often setup to care more about matching gate than SPAM ops, could have sloshed all the error into the SPAM ops, resulting in a confusing estimate that indicates perfectly unital gates and horrible SPAM operations.\n",
    "\n",
    "This example demonstrates how to separately specify the gauge-optimization-target `Model`.  There are two places where you might want to do this: 1) when calling `pygsti.do_long_sequence_gst`, to direct the gauge-optimization it performs, or 2) when calling `estimate.add_gaugeoptimized` to add a gauge-optimized version of an estimate after the main GST algorithms have been run.  \n",
    "\n",
    "In both cases, a dictionary of gauge-optimization \"parameters\" (really just a dictionary of arguments for `pygsti.gaugeopt_to_target`) is required, and one simply needs to set the `targetModel` argument of `pygsti.gaugeopt_to_target` by specifying `targetModel` within the parameter dictionary.  We demonstrate this below.\n",
    "\n",
    "First, we'll setup a standard GST analysis as usual except we'll create a `mdl_guess` model that is meant to be an educated guess at what we expect the estimate to be.  We'll gauge optimize to `mdl_guess` instead of the usual `target_model`:"
   ]
  },
  {
   "cell_type": "code",
   "execution_count": 1,
   "metadata": {},
   "outputs": [],
   "source": [
    "import pygsti\n",
    "from pygsti.modelpacks import smq1Q_XYI"
   ]
  },
  {
   "cell_type": "code",
   "execution_count": 2,
   "metadata": {},
   "outputs": [],
   "source": [
    "#Generate some fake data (all usual stuff here)\n",
    "exp_design = smq1Q_XYI.get_gst_experiment_design(max_max_length=4)\n",
    "mdl_datagen  = smq1Q_XYI.target_model().depolarize(op_noise=0.1, spam_noise=0.001)\n",
    "ds = pygsti.construction.generate_fake_data(mdl_datagen, exp_design.all_circuits_needing_data, nSamples=1000, seed=1234)\n",
    "data = pygsti.protocols.ProtocolData(exp_design, ds)"
   ]
  },
  {
   "cell_type": "markdown",
   "metadata": {},
   "source": [
    "#### Create a \"guess\" model that anticipates a more-depolarized Gx gate"
   ]
  },
  {
   "cell_type": "code",
   "execution_count": 3,
   "metadata": {},
   "outputs": [],
   "source": [
    "mdl_guess = smq1Q_XYI.target_model()\n",
    "mdl_guess[('Gxpi2',0)].depolarize(0.1)"
   ]
  },
  {
   "cell_type": "markdown",
   "metadata": {},
   "source": [
    "#### Run GST with and without the guess model"
   ]
  },
  {
   "cell_type": "code",
   "execution_count": 4,
   "metadata": {},
   "outputs": [
    {
     "name": "stdout",
     "output_type": "stream",
     "text": [
      "-- Std Practice:  Iter 1 of 1  (TP) --: \n",
      "  --- Iterative MLGST: [##################################################] 100.0%  285 operation sequences ---\n",
      "  Iterative MLGST Total Time: 1.6s\n"
     ]
    }
   ],
   "source": [
    "# GST with standard \"ideal target\" gauge optimization\n",
    "results1 = pygsti.protocols.StandardGST(\"TP\").run(data)"
   ]
  },
  {
   "cell_type": "code",
   "execution_count": 5,
   "metadata": {},
   "outputs": [
    {
     "name": "stdout",
     "output_type": "stream",
     "text": [
      "-- Std Practice:  Iter 1 of 1  (TP) --: \n",
      "  --- Iterative MLGST: [##################################################] 100.0%  285 operation sequences ---\n",
      "  Iterative MLGST Total Time: 1.5s\n"
     ]
    }
   ],
   "source": [
    "# GST with our guess as the gauge optimization target\n",
    "results2 = pygsti.protocols.StandardGST(\"TP\", gaugeopt_target=mdl_guess).run(data)"
   ]
  },
  {
   "cell_type": "markdown",
   "metadata": {},
   "source": [
    "#### Comparisons\n",
    "After running both the \"ideal-target\" and \"mdl_guess-target\" gauge optimizations, we can compare them with the ideal targets and the data-generating gates themselves.  We see that using `mdl_guess` results in a similar frobenius distance to the ideal targets, a slightly closer estimate to the data-generating model, and reflects our expectation that the `Gx` gate is slightly worse than the other gates."
   ]
  },
  {
   "cell_type": "code",
   "execution_count": 6,
   "metadata": {
    "scrolled": true
   },
   "outputs": [
    {
     "name": "stdout",
     "output_type": "stream",
     "text": [
      "Diff between ideal and ideal-target-gauge-opt =  0.03904392299032879\n",
      "Diff between ideal and mdl_guess-gauge-opt =  0.039044044480355915\n",
      "Diff between data-gen and ideal-target-gauge-opt =  0.004230160250105865\n",
      "Diff between data-gen and mdl_guess-gauge-opt =  0.004231907180189587\n",
      "Diff between ideal-target-GO and mdl_guess-GO =  0.0001137761844631341\n",
      "\n",
      "Per-op difference between ideal and ideal-target-GO\n",
      "Model Difference:\n",
      " Preps:\n",
      "  rho0 = 0.00261568\n",
      " POVMs:\n",
      "  Mdefault:     0 = 0.00601109\n",
      "    1 = 0.00601109\n",
      " Gates:\n",
      "  [] = 0.174705\n",
      "  Gxpi2:0 = 0.175015\n",
      "  Gypi2:0 = 0.173881\n",
      "\n",
      "\n",
      "Per-op difference between ideal and mdl_guess-GO\n",
      "Model Difference:\n",
      " Preps:\n",
      "  rho0 = 0.00254256\n",
      " POVMs:\n",
      "  Mdefault:     0 = 0.00593128\n",
      "    1 = 0.00593128\n",
      " Gates:\n",
      "  [] = 0.174704\n",
      "  Gxpi2:0 = 0.175004\n",
      "  Gypi2:0 = 0.173901\n",
      "\n"
     ]
    }
   ],
   "source": [
    "target_model = smq1Q_XYI.target_model()\n",
    "mdl_1 = results1.estimates['TP'].models['stdgaugeopt']\n",
    "mdl_2 = results2.estimates['TP'].models['stdgaugeopt']\n",
    "print(\"Diff between ideal and ideal-target-gauge-opt = \", mdl_1.frobeniusdist(target_model))\n",
    "print(\"Diff between ideal and mdl_guess-gauge-opt = \", mdl_2.frobeniusdist(target_model))\n",
    "print(\"Diff between data-gen and ideal-target-gauge-opt = \", mdl_1.frobeniusdist(mdl_datagen))\n",
    "print(\"Diff between data-gen and mdl_guess-gauge-opt = \", mdl_2.frobeniusdist(mdl_datagen))\n",
    "print(\"Diff between ideal-target-GO and mdl_guess-GO = \", mdl_1.frobeniusdist(mdl_2))\n",
    "\n",
    "print(\"\\nPer-op difference between ideal and ideal-target-GO\")\n",
    "print(mdl_1.strdiff(target_model))\n",
    "\n",
    "print(\"\\nPer-op difference between ideal and mdl_guess-GO\")\n",
    "print(mdl_2.strdiff(target_model))"
   ]
  },
  {
   "cell_type": "markdown",
   "metadata": {},
   "source": [
    "#### Adding a gauge optimization to existing `Results`\n",
    "We can also include our `mdl_guess` as the `targetModel` when adding a new gauge-optimized result.  See other examples for more info on using `add_gaugeoptimized`."
   ]
  },
  {
   "cell_type": "code",
   "execution_count": 7,
   "metadata": {},
   "outputs": [],
   "source": [
    "results1.estimates['TP'].add_gaugeoptimized(results2.estimates['TP'].goparameters['stdgaugeopt'],\n",
    "                                            label=\"using mdl_guess\")"
   ]
  },
  {
   "cell_type": "code",
   "execution_count": 8,
   "metadata": {},
   "outputs": [
    {
     "name": "stdout",
     "output_type": "stream",
     "text": [
      "0.0\n"
     ]
    }
   ],
   "source": [
    "mdl_1b = results1.estimates['TP'].models['using mdl_guess']\n",
    "print(mdl_1b.frobeniusdist(mdl_2)) # gs1b is the same as gs2"
   ]
  },
  {
   "cell_type": "code",
   "execution_count": null,
   "metadata": {},
   "outputs": [],
   "source": []
  }
 ],
 "metadata": {
  "kernelspec": {
   "display_name": "Python 3",
   "language": "python",
   "name": "python3"
  },
  "language_info": {
   "codemirror_mode": {
    "name": "ipython",
    "version": 3
   },
   "file_extension": ".py",
   "mimetype": "text/x-python",
   "name": "python",
   "nbconvert_exporter": "python",
   "pygments_lexer": "ipython3",
   "version": "3.7.0"
  }
 },
 "nbformat": 4,
 "nbformat_minor": 2
}
