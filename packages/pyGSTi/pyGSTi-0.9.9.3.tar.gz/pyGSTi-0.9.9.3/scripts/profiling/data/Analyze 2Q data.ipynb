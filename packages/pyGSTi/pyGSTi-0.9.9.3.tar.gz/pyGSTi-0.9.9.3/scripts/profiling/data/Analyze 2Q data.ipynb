{
 "cells": [
  {
   "cell_type": "code",
   "execution_count": 1,
   "metadata": {
    "collapsed": true
   },
   "outputs": [],
   "source": [
    "import pygsti\n",
    "import pickle"
   ]
  },
  {
   "cell_type": "code",
   "execution_count": 2,
   "metadata": {
    "collapsed": false
   },
   "outputs": [],
   "source": [
    "results1, results2 = pickle.load(open(\"rigetti1QGST.pkl\",\"rb\"))"
   ]
  },
  {
   "cell_type": "code",
   "execution_count": 3,
   "metadata": {
    "collapsed": false
   },
   "outputs": [
    {
     "name": "stdout",
     "output_type": "stream",
     "text": [
      "*** Generating tables ***\n",
      "*** Generating plots ***\n",
      "*** Merging into template file ***\n",
      "Output written to rigetti1Qx2test_online.html\n",
      "Opening rigetti1Qx2test_online.html...\n"
     ]
    }
   ],
   "source": [
    "pygsti.report.create_general_report({\"qubit1\": results1, \"qubit2\": results2}, \"rigetti1Qx2test_online.html\",\n",
    "                                    verbosity=3, auto_open=True, connected=True)"
   ]
  },
  {
   "cell_type": "code",
   "execution_count": 4,
   "metadata": {
    "collapsed": false
   },
   "outputs": [
    {
     "name": "stdout",
     "output_type": "stream",
     "text": [
      "*** Generating tables ***\n",
      "*** Generating plots ***\n",
      "*** Merging into template file ***\n",
      "Output written to rigetti2Qb_online.html\n",
      "Opening rigetti2Qb_online.html...\n"
     ]
    }
   ],
   "source": [
    "results2Q_TPonly = pickle.load(open(\"rigetti2QGSTb.pkl\",\"rb\"))\n",
    "pygsti.report.create_general_report(results2Q_TPonly, \"rigetti2Qb_online.html\",\n",
    "                                    verbosity=3, auto_open=True, connected=True)"
   ]
  },
  {
   "cell_type": "code",
   "execution_count": null,
   "metadata": {
    "collapsed": true
   },
   "outputs": [],
   "source": []
  }
 ],
 "metadata": {
  "kernelspec": {
   "display_name": "Python 2",
   "language": "python",
   "name": "python2"
  },
  "language_info": {
   "codemirror_mode": {
    "name": "ipython",
    "version": 2
   },
   "file_extension": ".py",
   "mimetype": "text/x-python",
   "name": "python",
   "nbconvert_exporter": "python",
   "pygments_lexer": "ipython2",
   "version": "2.7.10"
  }
 },
 "nbformat": 4,
 "nbformat_minor": 2
}
