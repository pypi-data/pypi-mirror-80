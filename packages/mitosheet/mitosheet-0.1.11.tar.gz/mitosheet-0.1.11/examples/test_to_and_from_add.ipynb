{
 "cells": [
  {
   "cell_type": "code",
   "execution_count": 4,
   "metadata": {},
   "outputs": [],
   "source": [
    "import mitosheet\n",
    "import pandas as pd\n",
    "\n",
    "df = pd.DataFrame(data={'A':[1], 'B':[2]})\n",
    "mito = mitosheet.sheet(df)\n",
    "\n",
    "# Set a message to create a column C\n",
    "mito.receive_message(mito, {\n",
    "    'event': 'edit_event',\n",
    "    'type': 'add_column',\n",
    "    'id': '123',\n",
    "    'timestamp': '456',\n",
    "    'column_header': 'C'\n",
    "})\n",
    "# Make it add A + B\n",
    "mito.receive_message(mito, {\n",
    "    'event': 'edit_event',\n",
    "    'type': 'cell_edit',\n",
    "    'id': '123',\n",
    "    'timestamp': '456',\n",
    "    'address': 'C',\n",
    "    'new_formula': '=A + B',\n",
    "})\n",
    "# And then set it back to 0\n",
    "mito.receive_message(mito, {\n",
    "    'event': 'edit_event',\n",
    "    'type': 'cell_edit',\n",
    "    'id': '123',\n",
    "    'timestamp': '456',\n",
    "    'address': 'C',\n",
    "    'new_formula': '=0',\n",
    "})"
   ]
  },
  {
   "cell_type": "code",
   "execution_count": 5,
   "metadata": {},
   "outputs": [],
   "source": [
    "sheet_json = '{\\\"columns\\\":[\\\"A\\\",\\\"B\\\",\\\"C\\\"],\\\"index\\\":[0],\\\"data\\\":[[1,2,0]]}'\n",
    "code_json = '{\\\"code\\\": \\\"df[\\'C\\'] = 0\\\"}'\n",
    "\n",
    "assert mito.sheet_json == sheet_json\n",
    "assert mito.code_json == code_json"
   ]
  }
 ],
 "metadata": {
  "kernelspec": {
   "display_name": "Python 3",
   "language": "python",
   "name": "python3"
  },
  "language_info": {
   "codemirror_mode": {
    "name": "ipython",
    "version": 3
   },
   "file_extension": ".py",
   "mimetype": "text/x-python",
   "name": "python",
   "nbconvert_exporter": "python",
   "pygments_lexer": "ipython3",
   "version": "3.8.5"
  },
  "widgets": {
   "application/vnd.jupyter.widget-state+json": {
    "state": {},
    "version_major": 2,
    "version_minor": 0
   }
  }
 },
 "nbformat": 4,
 "nbformat_minor": 4
}
