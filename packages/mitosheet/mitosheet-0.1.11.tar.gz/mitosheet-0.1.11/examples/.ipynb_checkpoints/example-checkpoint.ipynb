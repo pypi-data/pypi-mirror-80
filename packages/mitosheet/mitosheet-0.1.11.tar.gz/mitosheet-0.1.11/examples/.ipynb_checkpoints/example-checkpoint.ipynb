{
 "cells": [
  {
   "cell_type": "code",
   "execution_count": 2,
   "metadata": {},
   "outputs": [
    {
     "data": {
      "application/vnd.jupyter.widget-view+json": {
       "model_id": "777c46aa927f40d6bba1c108936623a4",
       "version_major": 2,
       "version_minor": 0
      },
      "text/plain": [
       "MitoWidget(code_json='{\"code\": \"0\"}', column_spreadsheet_code_json='{\"A\": \"\", \"B\": \"\"}', sheet_json='{\"columns…"
      ]
     },
     "metadata": {},
     "output_type": "display_data"
    }
   ],
   "source": [
    "import mitosheet\n",
    "import pandas as pd\n",
    "\n",
    "d = {'A': [1, 2, 3, 4, 5, 6, 7, 8, 9, 10], 'B': [11, 12, 13, 14, 15, 16, 17, 18, 19, 20]}\n",
    "df = pd.DataFrame(data=d)\n",
    "mitosheet.sheet(df)"
   ]
  },
  {
   "cell_type": "code",
   "execution_count": null,
   "metadata": {},
   "outputs": [],
   "source": []
  }
 ],
 "metadata": {
  "kernelspec": {
   "display_name": "Python 3",
   "language": "python",
   "name": "python3"
  },
  "language_info": {
   "codemirror_mode": {
    "name": "ipython",
    "version": 3
   },
   "file_extension": ".py",
   "mimetype": "text/x-python",
   "name": "python",
   "nbconvert_exporter": "python",
   "pygments_lexer": "ipython3",
   "version": "3.8.5"
  },
  "widgets": {
   "application/vnd.jupyter.widget-state+json": {
    "state": {
     "2b145b8ca9334ed1bff80cf6b8574b04": {
      "model_module": "@jupyter-widgets/base",
      "model_module_version": "1.2.0",
      "model_name": "LayoutModel",
      "state": {}
     },
     "777c46aa927f40d6bba1c108936623a4": {
      "model_module": "mitosheet",
      "model_module_version": "^0.1.9",
      "model_name": "ExampleModel",
      "state": {
       "_model_module_version": "^0.1.9",
       "_view_module_version": "^0.1.9",
       "code_json": "{\"code\": \"0\"}",
       "column_spreadsheet_code_json": "{\"A\": \"\", \"B\": \"\"}",
       "df_name": "df",
       "layout": "IPY_MODEL_2b145b8ca9334ed1bff80cf6b8574b04",
       "sheet_json": "{\"columns\":[\"A\",\"B\"],\"index\":[0,1,2,3,4,5,6,7,8,9],\"data\":[[1,11],[2,12],[3,13],[4,14],[5,15],[6,16],[7,17],[8,18],[9,19],[10,20]]}",
       "user_id": "/Users/nate/saga-vcs/monorepo/mito/mitosheet/example.py",
       "value": "Hello World"
      }
     },
     "e65fc40bc2e345ee9684a39089a76404": {
      "model_module": "mitosheet",
      "model_module_version": "^0.1.9",
      "model_name": "ExampleModel",
      "state": {
       "_model_module_version": "^0.1.9",
       "_view_module_version": "^0.1.9",
       "code_json": "{\"code\": \"df['C'] = df['A'] + df['B']\"}",
       "column_spreadsheet_code_json": "{\"A\": \"\", \"B\": \"\", \"C\": \"=A +    B\"}",
       "df_name": "df",
       "layout": "IPY_MODEL_f12c91a1abdd435ca3ae7818b9c62ec8",
       "sheet_json": "{\"columns\":[\"A\",\"B\",\"C\"],\"index\":[0,1,2,3,4,5,6,7,8,9],\"data\":[[1,11,12],[2,12,14],[3,13,16],[4,14,18],[5,15,20],[6,16,22],[7,17,24],[8,18,26],[9,19,28],[10,20,30]]}",
       "user_id": "/Users/nate/saga-vcs/monorepo/mito/mitosheet/example.py",
       "value": "Hello World"
      }
     },
     "f12c91a1abdd435ca3ae7818b9c62ec8": {
      "model_module": "@jupyter-widgets/base",
      "model_module_version": "1.2.0",
      "model_name": "LayoutModel",
      "state": {}
     }
    },
    "version_major": 2,
    "version_minor": 0
   }
  }
 },
 "nbformat": 4,
 "nbformat_minor": 4
}
