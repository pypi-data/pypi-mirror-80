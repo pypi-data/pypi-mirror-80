{
 "cells": [
  {
   "cell_type": "code",
   "execution_count": 2,
   "metadata": {},
   "outputs": [
    {
     "data": {
      "application/vnd.jupyter.widget-view+json": {
       "model_id": "764eb2df25b349dfa58992cbffb2ab41",
       "version_major": 2,
       "version_minor": 0
      },
      "text/plain": [
       "MitoWidget(code_json='{\"code\": \"0\"}', column_spreadsheet_code_json='{\"A\": \"\"}', sheet_json='{\"columns\":[\"A\"],\"…"
      ]
     },
     "metadata": {},
     "output_type": "display_data"
    }
   ],
   "source": [
    "\"\"\"\n",
    "This file should test some common error conditions,\n",
    "and make sure mito can detect and handle them.\n",
    "\n",
    "Instructions:\n",
    "1. Simple circular reference test\n",
    "    - Make a new column, B. \n",
    "    - Set B equal to =B\n",
    "    - Should generate a circular reference error\n",
    "    - Close error by clicking on it. \n",
    "2. Loop circular reference.\n",
    "    - Make a new column, C.\n",
    "    - Set C equal to =B\n",
    "    - Set B equal to =C\n",
    "    - Should generate a circular reference error\n",
    "    - Close error by clicking on it. \n",
    "3. Column does not exist\n",
    "    - Set B equal to =D\n",
    "    - Should throw an error with column not existing.\n",
    "\"\"\"\n",
    "import mitosheet\n",
    "import pandas as pd\n",
    "\n",
    "df = pd.DataFrame(data={'A': [1]})\n",
    "mito = mitosheet.sheet(df)\n",
    "mito"
   ]
  },
  {
   "cell_type": "code",
   "execution_count": null,
   "metadata": {},
   "outputs": [],
   "source": []
  }
 ],
 "metadata": {
  "kernelspec": {
   "display_name": "Python 3",
   "language": "python",
   "name": "python3"
  },
  "language_info": {
   "codemirror_mode": {
    "name": "ipython",
    "version": 3
   },
   "file_extension": ".py",
   "mimetype": "text/x-python",
   "name": "python",
   "nbconvert_exporter": "python",
   "pygments_lexer": "ipython3",
   "version": "3.8.5"
  },
  "widgets": {
   "application/vnd.jupyter.widget-state+json": {
    "state": {
     "375ef43572a8406f84580c9b4cb623ca": {
      "model_module": "@jupyter-widgets/base",
      "model_module_version": "1.2.0",
      "model_name": "LayoutModel",
      "state": {}
     },
     "5e95038de16147479bd1938ea8829400": {
      "model_module": "@jupyter-widgets/base",
      "model_module_version": "1.2.0",
      "model_name": "LayoutModel",
      "state": {}
     },
     "764eb2df25b349dfa58992cbffb2ab41": {
      "model_module": "mitosheet",
      "model_module_version": "^0.1.9",
      "model_name": "ExampleModel",
      "state": {
       "_model_module_version": "^0.1.9",
       "_view_module_version": "^0.1.9",
       "code_json": "{\"code\": \"0\"}",
       "column_spreadsheet_code_json": "{\"A\": \"\"}",
       "df_name": "df",
       "layout": "IPY_MODEL_5e95038de16147479bd1938ea8829400",
       "sheet_json": "{\"columns\":[\"A\"],\"index\":[0],\"data\":[[1]]}",
       "user_id": "/Users/nate/saga-vcs/monorepo/mito/mitosheet/example.py",
       "value": "Hello World"
      }
     },
     "76d00c40f18f496283552806b88aad2d": {
      "model_module": "mitosheet",
      "model_module_version": "^0.1.9",
      "model_name": "ExampleModel",
      "state": {
       "_model_module_version": "^0.1.9",
       "_view_module_version": "^0.1.9",
       "code_json": "{\"code\": \"df['B'] = 0\"}",
       "column_spreadsheet_code_json": "{\"A\": \"\", \"B\": \"=0\"}",
       "df_name": "df",
       "layout": "IPY_MODEL_375ef43572a8406f84580c9b4cb623ca",
       "sheet_json": "{\"columns\":[\"A\",\"B\"],\"index\":[0],\"data\":[[1,0]]}",
       "user_id": "/Users/nate/saga-vcs/monorepo/mito/mitosheet/example.py",
       "value": "Hello World"
      }
     }
    },
    "version_major": 2,
    "version_minor": 0
   }
  }
 },
 "nbformat": 4,
 "nbformat_minor": 4
}
