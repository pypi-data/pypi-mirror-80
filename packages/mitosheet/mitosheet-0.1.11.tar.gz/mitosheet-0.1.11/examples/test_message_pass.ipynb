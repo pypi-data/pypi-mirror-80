{
 "cells": [
  {
   "cell_type": "code",
   "execution_count": 5,
   "metadata": {},
   "outputs": [],
   "source": [
    "import mitosheet\n",
    "import pandas as pd\n",
    "\n",
    "df = pd.DataFrame(data={'A': [1], 'B': [1]})\n",
    "mito = mitosheet.sheet(df)\n",
    "\n",
    "# Send a message to add a column C\n",
    "mito.receive_message(mito, {\n",
    "    'event': 'edit_event',\n",
    "    'type': 'add_column',\n",
    "    'id': '123',\n",
    "    'timestamp': '456',\n",
    "    'column_header': 'C'\n",
    "})\n",
    "# Set that column equal to column A\n",
    "mito.receive_message(mito, {\n",
    "    'event': 'edit_event',\n",
    "    'type': 'cell_edit',\n",
    "    'id': '123',\n",
    "    'timestamp': '456',\n",
    "    'address': 'C',\n",
    "    'new_formula': '=A + B',\n",
    "})"
   ]
  },
  {
   "cell_type": "code",
   "execution_count": null,
   "metadata": {},
   "outputs": [],
   "source": [
    "# MITO SHEET\n"
   ]
  },
  {
   "cell_type": "code",
   "execution_count": 6,
   "metadata": {},
   "outputs": [],
   "source": [
    "sheet_json = '{\\\"columns\\\":[\\\"A\\\",\\\"B\\\",\\\"C\\\"],\\\"index\\\":[0],\\\"data\\\":[[1,1,2]]}'\n",
    "code_json = '{\\\"code\\\": \\\"df[\\'C\\'] = df[\\'A\\'] + df[\\'B\\']\\\"}'\n",
    "\n",
    "assert mito.sheet_json == sheet_json\n",
    "assert mito.code_json == code_json"
   ]
  }
 ],
 "metadata": {
  "kernelspec": {
   "display_name": "Python 3",
   "language": "python",
   "name": "python3"
  },
  "language_info": {
   "codemirror_mode": {
    "name": "ipython",
    "version": 3
   },
   "file_extension": ".py",
   "mimetype": "text/x-python",
   "name": "python",
   "nbconvert_exporter": "python",
   "pygments_lexer": "ipython3",
   "version": "3.8.5"
  },
  "widgets": {
   "application/vnd.jupyter.widget-state+json": {
    "state": {},
    "version_major": 2,
    "version_minor": 0
   }
  }
 },
 "nbformat": 4,
 "nbformat_minor": 4
}
