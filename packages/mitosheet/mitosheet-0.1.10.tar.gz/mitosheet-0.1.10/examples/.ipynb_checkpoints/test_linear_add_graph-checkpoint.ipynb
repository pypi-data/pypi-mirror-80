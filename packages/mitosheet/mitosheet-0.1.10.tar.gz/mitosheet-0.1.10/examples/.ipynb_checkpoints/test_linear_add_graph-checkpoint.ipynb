{
 "cells": [
  {
   "cell_type": "code",
   "execution_count": 18,
   "metadata": {},
   "outputs": [],
   "source": [
    "from string import ascii_uppercase\n",
    "from json import loads\n",
    "\n",
    "import mitosheet\n",
    "import pandas as pd\n",
    "\n",
    "df = pd.DataFrame(data={'A':[1], 'B':[2]})\n",
    "mito = mitosheet.sheet(df)\n",
    "\n",
    "two_back = 'A'\n",
    "one_back = 'B'\n",
    "# We make a character for every character in the alphabet, and set it's sum equal to the sum of the two columns before it\n",
    "for char in ascii_uppercase[2:]:\n",
    "    mito.receive_message(mito, {\n",
    "        'event': 'edit_event',\n",
    "        'type': 'add_column',\n",
    "        'id': '123',\n",
    "        'timestamp': '456',\n",
    "        'column_header': char\n",
    "    })\n",
    "    mito.receive_message(mito, {\n",
    "        'event': 'edit_event',\n",
    "        'type': 'cell_edit',\n",
    "        'id': '123',\n",
    "        'timestamp': '456',\n",
    "        'address': char,\n",
    "        'new_formula': f'={two_back} + {one_back}',\n",
    "    })\n",
    "    \n",
    "    \n",
    "    two_back = one_back\n",
    "    one_back = char\n",
    "\n",
    "sheet_json = loads(mito.sheet_json) \n",
    "\n",
    "assert len(sheet_json['columns']) == 26\n",
    "assert len(sheet_json['data'][0]) == 26\n",
    "\n",
    "# We check that all the columns have the correctly computed values\n",
    "two_back = sheet_json['data'][0][0]\n",
    "one_back = sheet_json['data'][0][1]\n",
    "# We make a character for every character in the alphabet, and set it's sum equal to the sum of the two columns before it\n",
    "for i in range(24):\n",
    "    idx = i + 2\n",
    "    assert sheet_json['data'][0][idx] == two_back + one_back    \n",
    "    two_back = one_back\n",
    "    one_back = sheet_json['data'][0][idx]"
   ]
  },
  {
   "cell_type": "code",
   "execution_count": null,
   "metadata": {},
   "outputs": [],
   "source": [
    "# MITO SHEET\n"
   ]
  }
 ],
 "metadata": {
  "kernelspec": {
   "display_name": "Python 3",
   "language": "python",
   "name": "python3"
  },
  "language_info": {
   "codemirror_mode": {
    "name": "ipython",
    "version": 3
   },
   "file_extension": ".py",
   "mimetype": "text/x-python",
   "name": "python",
   "nbconvert_exporter": "python",
   "pygments_lexer": "ipython3",
   "version": "3.8.5"
  },
  "widgets": {
   "application/vnd.jupyter.widget-state+json": {
    "state": {},
    "version_major": 2,
    "version_minor": 0
   }
  }
 },
 "nbformat": 4,
 "nbformat_minor": 4
}
