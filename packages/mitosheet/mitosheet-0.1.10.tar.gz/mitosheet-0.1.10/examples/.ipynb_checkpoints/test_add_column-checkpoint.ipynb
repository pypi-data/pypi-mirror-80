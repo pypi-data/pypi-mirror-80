{
 "cells": [
  {
   "cell_type": "code",
   "execution_count": 1,
   "metadata": {},
   "outputs": [],
   "source": [
    "import mitosheet\n",
    "import pandas as pd\n",
    "\n",
    "df = pd.DataFrame(data={'A': [1]})\n",
    "mito = mitosheet.sheet(df)\n",
    "\n",
    "# Send a message to add a column\n",
    "mito.receive_message(mito, {\n",
    "    'event': 'edit_event',\n",
    "    'type': 'add_column',\n",
    "    'id': '123',\n",
    "    'timestamp': '456',\n",
    "    'column_header': 'B'\n",
    "})\n",
    "assert mito.column_spreadsheet_code['B'] == '=0'\n",
    "# Set that column equal to column A\n",
    "mito.receive_message(mito, {\n",
    "    'event': 'edit_event',\n",
    "    'type': 'cell_edit',\n",
    "    'id': '123',\n",
    "    'timestamp': '456',\n",
    "    'address': 'B',\n",
    "    'new_formula': '=A',\n",
    "})"
   ]
  },
  {
   "cell_type": "code",
   "execution_count": 2,
   "metadata": {},
   "outputs": [],
   "source": [
    "sheet_json = '{\\\"columns\\\":[\\\"A\\\",\\\"B\\\"],\\\"index\\\":[0],\\\"data\\\":[[1,1]]}'\n",
    "code_json = '{\\\"code\\\": \\\"df[\\'B\\'] = df[\\'A\\']\\\"}'\n",
    "\n",
    "assert mito.sheet_json == sheet_json\n",
    "assert mito.code_json == code_json"
   ]
  }
 ],
 "metadata": {
  "kernelspec": {
   "display_name": "Python 3",
   "language": "python",
   "name": "python3"
  },
  "language_info": {
   "codemirror_mode": {
    "name": "ipython",
    "version": 3
   },
   "file_extension": ".py",
   "mimetype": "text/x-python",
   "name": "python",
   "nbconvert_exporter": "python",
   "pygments_lexer": "ipython3",
   "version": "3.8.5"
  },
  "widgets": {
   "application/vnd.jupyter.widget-state+json": {
    "state": {
     "2e44c3d6f11746fbb530ed5efc4931ac": {
      "model_module": "@jupyter-widgets/base",
      "model_module_version": "1.2.0",
      "model_name": "LayoutModel",
      "state": {}
     },
     "931ac18b4f944ba7b992a1021fee6302": {
      "model_module": "mitosheet",
      "model_module_version": "^0.1.7",
      "model_name": "ExampleModel",
      "state": {
       "_model_module_version": "^0.1.7",
       "_view_module_version": "^0.1.7",
       "code_json": "{\"code\": \"df['B'] = df['A']\"}",
       "df_name": "",
       "layout": "IPY_MODEL_2e44c3d6f11746fbb530ed5efc4931ac",
       "sheet_json": "{\"columns\":[\"A\",\"B\"],\"index\":[0],\"data\":[[1,1]]}",
       "user_id": "/Users/nate/saga-vcs/monorepo/mito/mitosheet/example.py",
       "value": "Hello World"
      }
     }
    },
    "version_major": 2,
    "version_minor": 0
   }
  }
 },
 "nbformat": 4,
 "nbformat_minor": 4
}
