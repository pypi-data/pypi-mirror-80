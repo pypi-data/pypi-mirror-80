{
 "cells": [
  {
   "cell_type": "code",
   "execution_count": 1,
   "metadata": {},
   "outputs": [],
   "source": [
    "import mitosheet\n",
    "import pandas as pd\n",
    "\n",
    "df = pd.DataFrame(data={'A': [1]})\n",
    "mito = mitosheet.sheet(df)\n",
    "\n",
    "# Send a message to add a column B\n",
    "mito.receive_message(mito, {\n",
    "    'event': 'edit_event',\n",
    "    'type': 'add_column',\n",
    "    'id': '123',\n",
    "    'timestamp': '456',\n",
    "    'column_header': 'B'\n",
    "})\n",
    "# Update the formula for B to a circular reference, should error\n",
    "\n",
    "mito.receive_message(mito, {\n",
    "    'event': 'edit_event',\n",
    "    'type': 'cell_edit',\n",
    "    'id': '123',\n",
    "    'timestamp': '456',\n",
    "    'address': 'B',\n",
    "    'new_formula': '=B',\n",
    "})\n",
    "\n",
    "# We then check that this change was _not_ made\n",
    "assert mito.column_spreadsheet_code['B'] == '=0'"
   ]
  }
 ],
 "metadata": {
  "kernelspec": {
   "display_name": "Python 3",
   "language": "python",
   "name": "python3"
  },
  "language_info": {
   "codemirror_mode": {
    "name": "ipython",
    "version": 3
   },
   "file_extension": ".py",
   "mimetype": "text/x-python",
   "name": "python",
   "nbconvert_exporter": "python",
   "pygments_lexer": "ipython3",
   "version": "3.8.5"
  },
  "widgets": {
   "application/vnd.jupyter.widget-state+json": {
    "state": {},
    "version_major": 2,
    "version_minor": 0
   }
  }
 },
 "nbformat": 4,
 "nbformat_minor": 4
}
