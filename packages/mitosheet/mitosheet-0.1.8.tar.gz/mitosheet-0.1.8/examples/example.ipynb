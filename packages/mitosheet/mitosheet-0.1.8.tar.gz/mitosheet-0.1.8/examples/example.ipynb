{
 "cells": [
  {
   "cell_type": "code",
   "execution_count": 1,
   "metadata": {},
   "outputs": [
    {
     "data": {
      "application/vnd.jupyter.widget-view+json": {
       "model_id": "2634c2edcb8b4f6da50c948e76b6801b",
       "version_major": 2,
       "version_minor": 0
      },
      "text/plain": [
       "MitoWidget(code_json='{\"code\": \"0\"}', sheet_json='{\"columns\":[\"col1\",\"col2\"],\"index\":[0,1,2,3,4,5,6,7,8,9],\"da…"
      ]
     },
     "metadata": {},
     "output_type": "display_data"
    }
   ],
   "source": [
    "import mitosheet\n",
    "import pandas as pd\n",
    "\n",
    "d = {'col1': [1, 2, 3, 4, 5, 6, 7, 8, 9, 10], 'col2': [11, 12, 13, 14, 15, 16, 17, 18, 19, 20]}\n",
    "example_df = pd.DataFrame(data=d)\n",
    "mitosheet.sheet(example_df)"
   ]
  },
  {
   "cell_type": "code",
   "execution_count": null,
   "metadata": {},
   "outputs": [],
   "source": []
  }
 ],
 "metadata": {
  "kernelspec": {
   "display_name": "Python 3",
   "language": "python",
   "name": "python3"
  },
  "language_info": {
   "codemirror_mode": {
    "name": "ipython",
    "version": 3
   },
   "file_extension": ".py",
   "mimetype": "text/x-python",
   "name": "python",
   "nbconvert_exporter": "python",
   "pygments_lexer": "ipython3",
   "version": "3.8.5"
  },
  "widgets": {
   "application/vnd.jupyter.widget-state+json": {
    "state": {},
    "version_major": 2,
    "version_minor": 0
   }
  }
 },
 "nbformat": 4,
 "nbformat_minor": 4
}
