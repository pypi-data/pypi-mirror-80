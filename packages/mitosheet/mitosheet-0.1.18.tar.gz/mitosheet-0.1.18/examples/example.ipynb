{
 "cells": [
  {
   "cell_type": "code",
   "execution_count": 5,
   "metadata": {},
   "outputs": [
    {
     "data": {
      "application/vnd.jupyter.widget-view+json": {
       "model_id": "2598b1619a074f89b5dce7ae8874cd59",
       "version_major": 2,
       "version_minor": 0
      },
      "text/plain": [
       "MitoWidget(code_json='{\"code\": \"0\"}', column_spreadsheet_code_json='{\"A\": \"\"}', sheet_json='{\"columns\": [\"A\"],…"
      ]
     },
     "metadata": {},
     "output_type": "display_data"
    }
   ],
   "source": [
    "import mitosheet\n",
    "import pandas as pd\n",
    "\n",
    "d = {'A': [1]}\n",
    "df = pd.DataFrame(data=d)\n",
    "mitosheet.sheet(df)"
   ]
  },
  {
   "cell_type": "code",
   "execution_count": null,
   "metadata": {},
   "outputs": [],
   "source": []
  }
 ],
 "metadata": {
  "kernelspec": {
   "display_name": "Python 3",
   "language": "python",
   "name": "python3"
  },
  "language_info": {
   "codemirror_mode": {
    "name": "ipython",
    "version": 3
   },
   "file_extension": ".py",
   "mimetype": "text/x-python",
   "name": "python",
   "nbconvert_exporter": "python",
   "pygments_lexer": "ipython3",
   "version": "3.8.5"
  },
  "widgets": {
   "application/vnd.jupyter.widget-state+json": {
    "state": {
     "00c372b993914d7695dd259489f37683": {
      "model_module": "mitosheet",
      "model_module_version": "^0.1.15",
      "model_name": "ExampleModel",
      "state": {
       "_model_module_version": "^0.1.15",
       "_view_module_version": "^0.1.15",
       "code_json": "{\"imports\": \"from mitosheet import AVG,CLEAN,CONCATENATE,FIND,LEFT,LEN,LOWER,MID,MULTIPLY,PROPER,RIGHT,SUBSTITUTE,SUM,TRIM,UPPER\", \"code\": [\"df['C'] = 0\", \"df['B'] = 0\"]}",
       "column_spreadsheet_code_json": "{\"A\": \"\", \"B\": \"=0\", \"C\": \"=0\"}",
       "df_name": "",
       "layout": "IPY_MODEL_825dbc8f40c442aba46f3fd416110b66",
       "sheet_json": "{\"columns\": [\"A\", \"B\", \"C\"], \"index\": [0], \"data\": [[1, 0, 0]]}",
       "user_id": "/Users/nate/saga-vcs/monorepo/mito/mitosheet/example.py",
       "value": "Hello World"
      }
     },
     "02b5d6e4832a4aaf8b693c7f62083678": {
      "model_module": "@jupyter-widgets/base",
      "model_module_version": "1.2.0",
      "model_name": "LayoutModel",
      "state": {}
     },
     "24903b0c7fbd4bfc8131a5f34f41e66f": {
      "model_module": "mitosheet",
      "model_module_version": "^0.1.15",
      "model_name": "ExampleModel",
      "state": {
       "_model_module_version": "^0.1.15",
       "_view_module_version": "^0.1.15",
       "code_json": "{\"imports\": \"from mitosheet import AVG,CLEAN,CONCATENATE,FIND,LEFT,LEN,LOWER,MID,MULTIPLY,PROPER,RIGHT,SUBSTITUTE,SUM,TRIM,UPPER\", \"code\": [\"df['B'] = 0\"]}",
       "column_spreadsheet_code_json": "{\"A\": \"\", \"B\": \"=0\"}",
       "df_name": "",
       "layout": "IPY_MODEL_3b8f40d1624743b0b3071e49651ad70f",
       "sheet_json": "{\"columns\": [\"A\", \"B\"], \"index\": [0], \"data\": [[1, 0]]}",
       "user_id": "/Users/nate/saga-vcs/monorepo/mito/mitosheet/example.py",
       "value": "Hello World"
      }
     },
     "2598b1619a074f89b5dce7ae8874cd59": {
      "model_module": "mitosheet",
      "model_module_version": "^0.1.15",
      "model_name": "ExampleModel",
      "state": {
       "_model_module_version": "^0.1.15",
       "_view_module_version": "^0.1.15",
       "code_json": "{\"code\": \"0\"}",
       "column_spreadsheet_code_json": "{\"A\": \"\"}",
       "df_name": "df",
       "layout": "IPY_MODEL_02b5d6e4832a4aaf8b693c7f62083678",
       "sheet_json": "{\"columns\": [\"A\"], \"index\": [0], \"data\": [[1]]}",
       "user_id": "/Users/nate/saga-vcs/monorepo/mito/mitosheet/example.py",
       "value": "Hello World"
      }
     },
     "3b8f40d1624743b0b3071e49651ad70f": {
      "model_module": "@jupyter-widgets/base",
      "model_module_version": "1.2.0",
      "model_name": "LayoutModel",
      "state": {}
     },
     "71e70818ccba4b4882560c875d2abdec": {
      "model_module": "@jupyter-widgets/base",
      "model_module_version": "1.2.0",
      "model_name": "LayoutModel",
      "state": {}
     },
     "825dbc8f40c442aba46f3fd416110b66": {
      "model_module": "@jupyter-widgets/base",
      "model_module_version": "1.2.0",
      "model_name": "LayoutModel",
      "state": {}
     },
     "84678d97a3624586a1a358b285109121": {
      "model_module": "@jupyter-widgets/base",
      "model_module_version": "1.2.0",
      "model_name": "LayoutModel",
      "state": {}
     },
     "a9f879e0ba1b46a2a7f4234a0f5afcd1": {
      "model_module": "mitosheet",
      "model_module_version": "^0.1.15",
      "model_name": "ExampleModel",
      "state": {
       "_model_module_version": "^0.1.15",
       "_view_module_version": "^0.1.15",
       "code_json": "{\"imports\": \"from mitosheet import AVG,CLEAN,CONCATENATE,FIND,LEFT,LEN,LOWER,MID,MULTIPLY,PROPER,RIGHT,SUBSTITUTE,SUM,TRIM,UPPER\", \"code\": [\"df['B'] = df['A']\", \"df['C'] = 100 * df['B'] - df['A'] * 10\"]}",
       "column_spreadsheet_code_json": "{\"A\": \"\", \"B\": \"=A\", \"C\": \"=100 * B - A * 10\"}",
       "df_name": "df",
       "layout": "IPY_MODEL_71e70818ccba4b4882560c875d2abdec",
       "sheet_json": "{\"columns\": [\"A\", \"B\", \"C\"], \"index\": [0], \"data\": [[1, 1, 90]]}",
       "user_id": "/Users/nate/saga-vcs/monorepo/mito/mitosheet/example.py",
       "value": "Hello World"
      }
     },
     "b0a97ecbb06b4ae0bfd8647ad5512199": {
      "model_module": "mitosheet",
      "model_module_version": "^0.1.15",
      "model_name": "ExampleModel",
      "state": {
       "_model_module_version": "^0.1.15",
       "_view_module_version": "^0.1.15",
       "code_json": "{\"imports\": \"from mitosheet import AVG,CLEAN,CONCATENATE,FIND,LEFT,LEN,LOWER,MID,MULTIPLY,PROPER,RIGHT,SUBSTITUTE,SUM,TRIM,UPPER\", \"code\": [\"df['C'] = 0\", \"df['B'] = 0\"]}",
       "column_spreadsheet_code_json": "{\"A\": \"\", \"B\": \"=0\", \"C\": \"=0\"}",
       "df_name": "df",
       "layout": "IPY_MODEL_84678d97a3624586a1a358b285109121",
       "sheet_json": "{\"columns\": [\"A\", \"B\", \"C\"], \"index\": [0], \"data\": [[1, 0, 0]]}",
       "user_id": "/Users/nate/saga-vcs/monorepo/mito/mitosheet/example.py",
       "value": "Hello World"
      }
     }
    },
    "version_major": 2,
    "version_minor": 0
   }
  }
 },
 "nbformat": 4,
 "nbformat_minor": 4
}
