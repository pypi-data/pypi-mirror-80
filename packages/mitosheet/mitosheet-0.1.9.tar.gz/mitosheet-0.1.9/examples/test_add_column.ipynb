{
 "cells": [
  {
   "cell_type": "code",
   "execution_count": 1,
   "metadata": {},
   "outputs": [],
   "source": [
    "import mitosheet\n",
    "import pandas as pd\n",
    "\n",
    "df = pd.DataFrame(data={'A': [1]})\n",
    "mito = mitosheet.sheet(df)\n",
    "\n",
    "# Send a message to add a column\n",
    "mito.receive_message(mito, {\n",
    "    'event': 'edit_event',\n",
    "    'type': 'add_column',\n",
    "    'id': '123',\n",
    "    'timestamp': '456',\n",
    "    'column_header': 'B'\n",
    "})\n",
    "assert mito.column_spreadsheet_code['B'] == '=0'\n",
    "# Set that column equal to column A\n",
    "mito.receive_message(mito, {\n",
    "    'event': 'edit_event',\n",
    "    'type': 'cell_edit',\n",
    "    'id': '123',\n",
    "    'timestamp': '456',\n",
    "    'address': 'B',\n",
    "    'new_formula': '=A',\n",
    "})"
   ]
  },
  {
   "cell_type": "code",
   "execution_count": 2,
   "metadata": {},
   "outputs": [],
   "source": [
    "sheet_json = '{\\\"columns\\\":[\\\"A\\\",\\\"B\\\"],\\\"index\\\":[0],\\\"data\\\":[[1,1]]}'\n",
    "code_json = '{\\\"code\\\": \\\"df[\\'B\\'] = df[\\'A\\']\\\"}'\n",
    "\n",
    "assert mito.sheet_json == sheet_json\n",
    "assert mito.code_json == code_json"
   ]
  }
 ],
 "metadata": {
  "kernelspec": {
   "display_name": "Python 3",
   "language": "python",
   "name": "python3"
  },
  "language_info": {
   "codemirror_mode": {
    "name": "ipython",
    "version": 3
   },
   "file_extension": ".py",
   "mimetype": "text/x-python",
   "name": "python",
   "nbconvert_exporter": "python",
   "pygments_lexer": "ipython3",
   "version": "3.8.5"
  },
  "widgets": {
   "application/vnd.jupyter.widget-state+json": {
    "state": {},
    "version_major": 2,
    "version_minor": 0
   }
  }
 },
 "nbformat": 4,
 "nbformat_minor": 4
}
