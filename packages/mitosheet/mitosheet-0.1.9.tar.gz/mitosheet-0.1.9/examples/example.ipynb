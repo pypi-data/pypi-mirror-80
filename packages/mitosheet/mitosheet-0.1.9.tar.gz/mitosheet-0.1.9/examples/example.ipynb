{
 "cells": [
  {
   "cell_type": "code",
   "execution_count": 1,
   "metadata": {},
   "outputs": [
    {
     "data": {
      "application/vnd.jupyter.widget-view+json": {
       "model_id": "8a084bfde9c448eaa00bc0df1048c16e",
       "version_major": 2,
       "version_minor": 0
      },
      "text/plain": [
       "MitoWidget(code_json='{\"code\": \"0\"}', column_spreadsheet_code_json='{\"A\": \"\", \"B\": \"\"}', sheet_json='{\"columns…"
      ]
     },
     "metadata": {},
     "output_type": "display_data"
    }
   ],
   "source": [
    "import mitosheet\n",
    "import pandas as pd\n",
    "\n",
    "d = {'A': [1, 2, 3, 4, 5, 6, 7, 8, 9, 10], 'B': [11, 12, 13, 14, 15, 16, 17, 18, 19, 20]}\n",
    "df = pd.DataFrame(data=d)\n",
    "\n",
    "# MITO CODE START\n",
    "\n",
    "df['C'] = 0\n",
    "\n",
    "# MITO CODE END\n",
    "\n",
    "mitosheet.sheet(df)"
   ]
  },
  {
   "cell_type": "code",
   "execution_count": null,
   "metadata": {},
   "outputs": [],
   "source": []
  }
 ],
 "metadata": {
  "kernelspec": {
   "display_name": "Python 3",
   "language": "python",
   "name": "python3"
  },
  "language_info": {
   "codemirror_mode": {
    "name": "ipython",
    "version": 3
   },
   "file_extension": ".py",
   "mimetype": "text/x-python",
   "name": "python",
   "nbconvert_exporter": "python",
   "pygments_lexer": "ipython3",
   "version": "3.8.2"
  },
  "widgets": {
   "application/vnd.jupyter.widget-state+json": {
    "state": {
     "019c597df658421cb46ddc513e81c1ec": {
      "model_module": "@jupyter-widgets/base",
      "model_module_version": "1.2.0",
      "model_name": "LayoutModel",
      "state": {}
     },
     "22204008b818491fa02fc47395865a16": {
      "model_module": "mitosheet",
      "model_module_version": "^0.1.7",
      "model_name": "ExampleModel",
      "state": {
       "_model_module_version": "^0.1.7",
       "_view_module_version": "^0.1.7",
       "code_json": "{\"code\": \"df['C'] = df['A'] + df['B']\\n\\ndf['D'] = df['A']\"}",
       "column_spreadsheet_code_json": "{\"A\": \"\", \"B\": \"\", \"C\": \"=A + B\", \"D\": \"=A\"}",
       "df_name": "df",
       "layout": "IPY_MODEL_4bc349f11d264d528d75945178049b2c",
       "sheet_json": "{\"columns\":[\"A\",\"B\",\"C\",\"D\"],\"index\":[0,1,2,3,4,5,6,7,8,9],\"data\":[[1,11,12,1],[2,12,14,2],[3,13,16,3],[4,14,18,4],[5,15,20,5],[6,16,22,6],[7,17,24,7],[8,18,26,8],[9,19,28,9],[10,20,30,10]]}",
       "user_id": "/Users/nate/saga-vcs/monorepo/mito/mitosheet/example.py",
       "value": "Hello World"
      }
     },
     "4bc349f11d264d528d75945178049b2c": {
      "model_module": "@jupyter-widgets/base",
      "model_module_version": "1.2.0",
      "model_name": "LayoutModel",
      "state": {}
     },
     "d777ac821a4c4bb2be3fd69d7677e1f8": {
      "model_module": "mitosheet",
      "model_module_version": "^0.1.7",
      "model_name": "ExampleModel",
      "state": {
       "_model_module_version": "^0.1.7",
       "_view_module_version": "^0.1.7",
       "code_json": "{\"code\": \"df['C'] = 0\"}",
       "column_spreadsheet_code_json": "{\"col1\": \"\", \"col2\": \"\", \"C\": \"=0\"}",
       "df_name": "example_df",
       "layout": "IPY_MODEL_019c597df658421cb46ddc513e81c1ec",
       "sheet_json": "{\"columns\":[\"col1\",\"col2\",\"C\"],\"index\":[0,1,2,3,4,5,6,7,8,9],\"data\":[[1,11,0],[2,12,0],[3,13,0],[4,14,0],[5,15,0],[6,16,0],[7,17,0],[8,18,0],[9,19,0],[10,20,0]]}",
       "user_id": "/Users/nate/saga-vcs/monorepo/mito/mitosheet/example.py",
       "value": "Hello World"
      }
     }
    },
    "version_major": 2,
    "version_minor": 0
   }
  }
 },
 "nbformat": 4,
 "nbformat_minor": 4
}
