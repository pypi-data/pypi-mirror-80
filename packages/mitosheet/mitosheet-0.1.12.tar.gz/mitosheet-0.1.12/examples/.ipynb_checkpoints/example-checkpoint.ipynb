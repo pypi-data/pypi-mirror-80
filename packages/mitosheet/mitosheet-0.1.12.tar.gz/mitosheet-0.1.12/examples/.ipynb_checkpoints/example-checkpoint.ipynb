{
 "cells": [
  {
   "cell_type": "code",
   "execution_count": 1,
   "metadata": {},
   "outputs": [
    {
     "data": {
      "application/vnd.jupyter.widget-view+json": {
       "model_id": "217152ba886346409188ef7ac0ae599d",
       "version_major": 2,
       "version_minor": 0
      },
      "text/plain": [
       "MitoWidget(code_json='{\"code\": \"0\"}', column_spreadsheet_code_json='{\"A\": \"\"}', sheet_json='{\"columns\": [\"A\"],…"
      ]
     },
     "metadata": {},
     "output_type": "display_data"
    }
   ],
   "source": [
    "import mitosheet\n",
    "import pandas as pd\n",
    "\n",
    "d = {'A': [1]}\n",
    "df = pd.DataFrame(data=d)\n",
    "mitosheet.sheet(df)"
   ]
  },
  {
   "cell_type": "code",
   "execution_count": null,
   "metadata": {},
   "outputs": [],
   "source": []
  }
 ],
 "metadata": {
  "kernelspec": {
   "display_name": "Python 3",
   "language": "python",
   "name": "python3"
  },
  "language_info": {
   "codemirror_mode": {
    "name": "ipython",
    "version": 3
   },
   "file_extension": ".py",
   "mimetype": "text/x-python",
   "name": "python",
   "nbconvert_exporter": "python",
   "pygments_lexer": "ipython3",
   "version": "3.8.5"
  },
  "widgets": {
   "application/vnd.jupyter.widget-state+json": {
    "state": {
     "217152ba886346409188ef7ac0ae599d": {
      "model_module": "mitosheet",
      "model_module_version": "^0.1.10",
      "model_name": "ExampleModel",
      "state": {
       "_model_module_version": "^0.1.10",
       "_view_module_version": "^0.1.10",
       "code_json": "{\"code\": \"0\"}",
       "column_spreadsheet_code_json": "{\"A\": \"\"}",
       "df_name": "df",
       "layout": "IPY_MODEL_55e58066c3044d719abb8c9bee9707d9",
       "sheet_json": "{\"columns\": [\"A\"], \"index\": [0], \"data\": [[1]]}",
       "user_id": "/Users/nate/saga-vcs/monorepo/mito/mitosheet/example.py",
       "value": "Hello World"
      }
     },
     "55e58066c3044d719abb8c9bee9707d9": {
      "model_module": "@jupyter-widgets/base",
      "model_module_version": "1.2.0",
      "model_name": "LayoutModel",
      "state": {}
     }
    },
    "version_major": 2,
    "version_minor": 0
   }
  }
 },
 "nbformat": 4,
 "nbformat_minor": 4
}
