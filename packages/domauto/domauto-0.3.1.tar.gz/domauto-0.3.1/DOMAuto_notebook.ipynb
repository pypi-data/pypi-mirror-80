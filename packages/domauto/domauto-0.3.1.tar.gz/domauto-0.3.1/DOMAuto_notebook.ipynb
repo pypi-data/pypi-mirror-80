{
 "cells": [
  {
   "cell_type": "code",
   "execution_count": null,
   "metadata": {},
   "outputs": [],
   "source": [
    "%matplotlib inline\n",
    "import os\n",
    "import matplotlib.pyplot as plt\n",
    "import matplotlib.dates as md\n",
    "import matplotlib.colors as mcol\n",
    "\n",
    "import numpy as np\n",
    "\n",
    "from domauto import da_iolib as daio #custom functions\n",
    "from domauto import da_plotlib as dapl\n",
    "import importlib\n",
    "importlib.reload(daio) #reload libraries if developing while running this notebook\n",
    "importlib.reload(dapl)\n",
    "\n",
    "import km3pipe\n",
    "import pandas\n",
    "km3pipe.version"
   ]
  },
  {
   "cell_type": "markdown",
   "metadata": {},
   "source": [
    "# **Welcome to the DOM Autopsy Notebook**\n",
    "\n",
    "## This notebook is intended for handy access to the database and easy plotting of a given run and slow control parameter.\n",
    "\n",
    "## A few commented lines below will print information about the object in question.\n",
    "\n",
    "## Please adress questions about this notebook to jseneca@nikhef.nl.\n",
    "\n",
    "## Git repository: https://git.km3net.de/jseneca/DOMAuto\n",
    "## Website with plots: https://www.nikhef.nl/~jseneca/dom_autopsy_web/"
   ]
  },
  {
   "cell_type": "markdown",
   "metadata": {},
   "source": [
    "# **Load and view database streams**"
   ]
  },
  {
   "cell_type": "code",
   "execution_count": null,
   "metadata": {},
   "outputs": [],
   "source": [
    "sds = km3pipe.db.StreamDS()\n",
    "#sds.print_streams()"
   ]
  },
  {
   "cell_type": "markdown",
   "metadata": {},
   "source": [
    "# **User defined parameters**"
   ]
  },
  {
   "cell_type": "code",
   "execution_count": null,
   "metadata": {},
   "outputs": [],
   "source": [
    "#Required parameters\n",
    "\n",
    "DETECTOR      = \"D_ORCA006\" #OID\n",
    "MINRUN        = 7305\n",
    "MAXRUN        = 7305\n",
    "PARAM_NAME    = 'sys_temp_hum[2]'\n",
    "\n",
    "PLOT_TYPE     = ['hist', 'scat'][0]\n",
    "NORM          = False\n",
    "LOG           = False\n",
    "SAVE_PLOTS    = False\n",
    "OUTDIR        = './plots/notebook_plots'\n",
    "\n",
    "#Optional parameters\n",
    "\n",
    "#Will plot only DU_ID. If None, plot all DUs.\n",
    "DU_ID         = None\n",
    "#Will highlight DOM_ID. If None, no highlighting.\n",
    "DOM_ID        = None\n",
    "#If None, get from database.\n",
    "PARAM_MEANING = None\n",
    "#If None, get from database.\n",
    "PARAM_UNIT    = None\n",
    "\n",
    "if DU_ID and DOM_ID : ACCENT = (DU_ID, DOM_ID)\n",
    "if not PARAM_MEANING: PARAM_MEANING = daio.get_meaning(PARAM_NAME, sds )\n",
    "if not PARAM_UNIT   : PARAM_UNIT    = daio.get_unit(   PARAM_NAME, sds )"
   ]
  },
  {
   "cell_type": "markdown",
   "metadata": {},
   "source": [
    "# **Load, view detectors**"
   ]
  },
  {
   "cell_type": "code",
   "execution_count": null,
   "metadata": {},
   "outputs": [],
   "source": [
    "detector_type = DETECTOR.split(\"_\")[-1]\n",
    "\n",
    "clbm = km3pipe.db.CLBMap(DETECTOR)\n",
    "\n",
    "#sds.detectors()"
   ]
  },
  {
   "cell_type": "markdown",
   "metadata": {},
   "source": [
    "# **View runs**"
   ]
  },
  {
   "cell_type": "code",
   "execution_count": null,
   "metadata": {
    "scrolled": false
   },
   "outputs": [],
   "source": [
    "\"\"\"\n",
    "runtable = sds.runs(detid = DETECTOR)\n",
    "runtable.loc[ runtable.loc[:, 'RUN'] >= MINRUN, :]\n",
    "runtable.loc[ runtable.loc[:, 'RUNSETUPNAME'].str.startswith( 'PHYS'), : ]\n",
    "\"\"\""
   ]
  },
  {
   "cell_type": "markdown",
   "metadata": {},
   "source": [
    "For every run, there is a list of active DU's and DOM's, depending on the detector description in the run setup."
   ]
  },
  {
   "cell_type": "markdown",
   "metadata": {},
   "source": [
    "# **View parameters**"
   ]
  },
  {
   "cell_type": "code",
   "execution_count": null,
   "metadata": {},
   "outputs": [],
   "source": [
    "\"\"\"\n",
    "#all parameters from database\n",
    "pandas.set_option('display.max_rows', 250)\n",
    "sds.allparams().loc[:, ['MAPNAME', 'UNIT_NAME', 'DESCRIPTION']]\n",
    "\"\"\"\n",
    "\n",
    "\"\"\"\n",
    "#shortlist of interesting parameters compiled list in DAU\n",
    "import SC_PARAMETERS as SC\n",
    "SC.SHORT_SC_PARAMETER_LIST\n",
    "\"\"\""
   ]
  },
  {
   "cell_type": "markdown",
   "metadata": {},
   "source": [
    "# Fetching data from database\n",
    "This can take a while..."
   ]
  },
  {
   "cell_type": "code",
   "execution_count": null,
   "metadata": {},
   "outputs": [],
   "source": [
    "scp_dataframe = sds.get( 'datalognumbers',\\\n",
    "                    detid          = DETECTOR,\\\n",
    "                    minrun         = MINRUN,\\\n",
    "                    maxrun         = MAXRUN,\\\n",
    "                    parameter_name = PARAM_NAME)"
   ]
  },
  {
   "cell_type": "code",
   "execution_count": null,
   "metadata": {},
   "outputs": [],
   "source": [
    "if DU_ID:\n",
    "    scp_dataframe = daio.get_DU_datagroup( scp_dataframe, [DU_ID], DETECTOR )\n",
    "\n",
    "if scp_dataframe.size < 1:                                                                                        \n",
    "    print(\"No data found... aborting.\")                                                                           \n",
    "    raise ValueError"
   ]
  },
  {
   "cell_type": "code",
   "execution_count": null,
   "metadata": {},
   "outputs": [],
   "source": [
    "#scp_dataframe"
   ]
  },
  {
   "cell_type": "markdown",
   "metadata": {},
   "source": [
    "# Make plots for individual DOMs"
   ]
  },
  {
   "cell_type": "code",
   "execution_count": null,
   "metadata": {
    "scrolled": true
   },
   "outputs": [],
   "source": [
    "dapl.plot_DET_DOMs(scp_dataframe,\n",
    "                   clbm,\n",
    "                   MINRUN,                                                                                        \n",
    "                   MAXRUN,                                                                                        \n",
    "                   PARAM_NAME,                                                                                    \n",
    "                   PARAM_MEANING,\n",
    "                   PARAM_UNIT,\n",
    "                   OUTDIR = OUTDIR,\n",
    "                   DETECTOR = DETECTOR,\n",
    "                   ACCENT = ACCENT,\n",
    "                   HIST = True,                                                                                   \n",
    "                   SCAT = True,\n",
    "                   SHOW_FIG = True,\n",
    "                   SAVE_FIG = SAVE_PLOTS)                                                                                                                                                                                     \n",
    "print(\" done.\")"
   ]
  },
  {
   "cell_type": "markdown",
   "metadata": {},
   "source": [
    "# Make plots for DUs"
   ]
  },
  {
   "cell_type": "code",
   "execution_count": null,
   "metadata": {},
   "outputs": [],
   "source": [
    "dapl.plot_DET_DUs( scp_dataframe,\n",
    "                   clbm,\n",
    "                   MINRUN,                                                                                        \n",
    "                   MAXRUN,                                                                                        \n",
    "                   PARAM_NAME,                                                                                    \n",
    "                   PARAM_MEANING,\n",
    "                   PARAM_UNIT,\n",
    "                   OUTDIR =  OUTDIR,\n",
    "                   DETECTOR = DETECTOR,\n",
    "                   ACCENT = ACCENT,\n",
    "                   HIST = True,                                                                                   \n",
    "                   SCAT = True,\n",
    "                   NORM = NORM,\n",
    "                   LOG  = LOG,\n",
    "                   SAVE_FIG = SAVE_PLOTS,\n",
    "                   SHOW_FIG = True)                     \n",
    "print(\" done.\")"
   ]
  },
  {
   "cell_type": "code",
   "execution_count": null,
   "metadata": {},
   "outputs": [],
   "source": []
  },
  {
   "cell_type": "markdown",
   "metadata": {},
   "source": [
    "**DOM performance: list of slow control parameters**\n",
    "\n",
    "* 'temp'            -> CLB sensor temperature\n",
    "* 'sys_temp_hum[1]' -> CLB sensor temperature\n",
    "\n",
    "\n",
    "* 'humid'           -> CLB sensor humidity\n",
    "* 'sys_temp_hum[2]' -> CLB sensor humidity\n",
    "\n",
    "\n",
    "* 'sys_temp_hum[0]' -> FPGA temperature\n",
    "* 'sys_temp_hum[3]' -> Power board temperature\n",
    "* 'sys_temp_hum[4]' -> WR sensor temperature\n",
    "* 'sys_temp_hum[5]' -> SFP temperature\n",
    "\n",
    "\n",
    "* 'pwr_meas[0]' -> CLB current\n",
    "\n",
    "\n",
    "* 'ahrs_yaw'   -> AHRS yaw\n",
    "* 'ahrs_pitch' -> AHRS pitch\n",
    "* 'ahrs_roll'  -> AHRS roll\n",
    "\n",
    "\n",
    "* 'ahrs_g[0]' -> AHRS g_0\n",
    "* 'ahrs_g[1]' -> AHRS g_1\n",
    "* 'ahrs_g[2]' -> AHRS g_2\n",
    "\n",
    "\n",
    "* 'ahrs_a[0]' -> AHRS a_0\n",
    "* 'ahrs_a[1]' -> AHRS a_1\n",
    "* 'ahrs_a[2]' -> AHRS a_2\n",
    "\n",
    "\n",
    "* 'ahrs_h[0]' -> AHRS h_0\n",
    "* 'ahrs_h[1]' -> AHRS h_1\n",
    "* 'ahrs_h[2]' -> AHRS h_2\n",
    "\n",
    "\n",
    "* 'pwr_meas[0]' -> power_measurement_12v_cur\n",
    "\n"
   ]
  }
 ],
 "metadata": {
  "kernelspec": {
   "display_name": "Python 3",
   "language": "python",
   "name": "python3"
  },
  "language_info": {
   "codemirror_mode": {
    "name": "ipython",
    "version": 3
   },
   "file_extension": ".py",
   "mimetype": "text/x-python",
   "name": "python",
   "nbconvert_exporter": "python",
   "pygments_lexer": "ipython3",
   "version": "3.6.9"
  }
 },
 "nbformat": 4,
 "nbformat_minor": 4
}
