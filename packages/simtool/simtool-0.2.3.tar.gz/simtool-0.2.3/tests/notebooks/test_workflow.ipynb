{
 "cells": [
  {
   "cell_type": "markdown",
   "metadata": {},
   "source": [
    "# Quickstart"
   ]
  },
  {
   "cell_type": "code",
   "execution_count": 1,
   "metadata": {},
   "outputs": [],
   "source": [
    "from simtool import findInstalledSimToolNotebooks,searchForSimTool\n",
    "from simtool import getSimToolInputs,getSimToolOutputs,Run\n",
    "\n",
    "import numpy as np"
   ]
  },
  {
   "cell_type": "code",
   "execution_count": 2,
   "metadata": {},
   "outputs": [
    {
     "name": "stdout",
     "output_type": "stream",
     "text": [
      "      notebookPath = /home/nanohub/clarksm/Simtool/simtool/tests/notebooks/simtool/test_simtool.ipynb\n",
      "       simToolName = test_simtool\n",
      "   simToolRevision = None\n",
      "         published = False\n"
     ]
    }
   ],
   "source": [
    "# specify a simtool\n",
    "\n",
    "simToolName = \"test_simtool\"\n",
    "simToolLocation = searchForSimTool(simToolName)\n",
    "for key in simToolLocation.keys():\n",
    "    print(\"%18s = %s\" % (key,simToolLocation[key]))"
   ]
  },
  {
   "cell_type": "markdown",
   "metadata": {},
   "source": [
    "## Setting Inputs"
   ]
  },
  {
   "cell_type": "code",
   "execution_count": 3,
   "metadata": {},
   "outputs": [
    {
     "data": {
      "text/plain": [
       "some_text:\n",
       "    desc: Text to Write in Output Image\n",
       "    type: Text\n",
       "    maxlen: 20\n",
       "    value: Default Text\n",
       "\n",
       "volts:\n",
       "    desc: Value to Write in Output Image\n",
       "    type: Number\n",
       "    units: millivolt\n",
       "    max: 1000\n",
       "    value: 0\n",
       "\n",
       "width:\n",
       "    desc: Width of Output Image in pixels\n",
       "    type: Integer\n",
       "    min: 100\n",
       "    max: 2000\n",
       "    value: 400\n",
       "\n",
       "height:\n",
       "    desc: Height of Output Image in pixels\n",
       "    type: Integer\n",
       "    min: 50\n",
       "    max: 1000\n",
       "    value: 200\n",
       "\n",
       "position:\n",
       "    desc: Position of text in image [x, y] in pixels\n",
       "    type: List\n",
       "    value: [20, 20]\n",
       "\n",
       "options:\n",
       "    desc: Color and Font Size Options.\n",
       "    type: Dict\n",
       "    value: {'FontSize': 28, 'FontColor': 'red', 'Background': 'black'}\n",
       "\n",
       "myarray:\n",
       "    type: Array\n",
       "    dim: 1"
      ]
     },
     "execution_count": 3,
     "metadata": {},
     "output_type": "execute_result"
    }
   ],
   "source": [
    "# get the list of inputs for the simtool.\n",
    "inputs = getSimToolInputs(simToolLocation)\n",
    "inputs"
   ]
  },
  {
   "cell_type": "code",
   "execution_count": 4,
   "metadata": {},
   "outputs": [
    {
     "data": {
      "text/plain": [
       "volts:\n",
       "    desc: Input 'volts' returned from SimTool\n",
       "    type: Number\n",
       "    units: millivolt\n",
       "\n",
       "myarray:\n",
       "    desc: The array that was input, doubled.\n",
       "    type: Array\n",
       "\n",
       "PNG:\n",
       "    desc: Image as a PNG\n",
       "    type: Image\n",
       "\n",
       "JPG:\n",
       "    desc: Image as a JPG\n",
       "    type: Image\n",
       "\n",
       "GIF:\n",
       "    desc: Image as a GIF\n",
       "    type: Image\n",
       "\n",
       "nanohub:\n",
       "    desc: Our logo!\n",
       "    type: Image"
      ]
     },
     "execution_count": 4,
     "metadata": {},
     "output_type": "execute_result"
    }
   ],
   "source": [
    "# get the outputs, if we are curious\n",
    "getSimToolOutputs(simToolLocation)"
   ]
  },
  {
   "cell_type": "code",
   "execution_count": 5,
   "metadata": {},
   "outputs": [],
   "source": [
    "# set the input array\n",
    "inputs.myarray.value = np.array([[1, 2.0, 3.14],[4,5,6]])"
   ]
  },
  {
   "cell_type": "code",
   "execution_count": 6,
   "metadata": {},
   "outputs": [
    {
     "data": {
      "text/plain": [
       "    desc: Value to Write in Output Image\n",
       "    type: Number\n",
       "    units: millivolt\n",
       "    max: 1000\n",
       "    value: 0"
      ]
     },
     "execution_count": 6,
     "metadata": {},
     "output_type": "execute_result"
    }
   ],
   "source": [
    "# check the input volts\n",
    "inputs.volts"
   ]
  },
  {
   "cell_type": "code",
   "execution_count": 7,
   "metadata": {},
   "outputs": [
    {
     "data": {
      "text/plain": [
       "    desc: Value to Write in Output Image\n",
       "    type: Number\n",
       "    units: millivolt\n",
       "    max: 1000\n",
       "    value: 20"
      ]
     },
     "execution_count": 7,
     "metadata": {},
     "output_type": "execute_result"
    }
   ],
   "source": [
    "# try setting it to something bad.  it will fail\n",
    "#inputs.volts.value = '20g'\n",
    "inputs.volts.value = 20\n",
    "inputs.volts"
   ]
  },
  {
   "cell_type": "code",
   "execution_count": 8,
   "metadata": {},
   "outputs": [
    {
     "data": {
      "text/plain": [
       "82.0"
      ]
     },
     "execution_count": 8,
     "metadata": {},
     "output_type": "execute_result"
    }
   ],
   "source": [
    "# use units, if you want\n",
    "inputs.volts.value = '.082 V'\n",
    "inputs.volts.value"
   ]
  },
  {
   "cell_type": "markdown",
   "metadata": {},
   "source": [
    "## Running the Simtool"
   ]
  },
  {
   "cell_type": "code",
   "execution_count": 9,
   "metadata": {},
   "outputs": [
    {
     "name": "stdout",
     "output_type": "stream",
     "text": [
      "runname   = c42d6e45163047d0825aa4dac8e20807\n",
      "outdir    = RUNS/c42d6e45163047d0825aa4dac8e20807\n",
      "cached    = False\n",
      "published = False\n",
      "submit --local papermill -f inputs.yaml\n",
      "       /home/nanohub/clarksm/Simtool/simtool/tests/notebooks/simtool/test_simtool.ipynb\n",
      "       test_simtool.ipynb\n"
     ]
    },
    {
     "name": "stderr",
     "output_type": "stream",
     "text": [
      "Input Notebook:  /home/nanohub/clarksm/Simtool/simtool/tests/notebooks/simtool/test_simtool.ipynb\n",
      "Output Notebook: test_simtool.ipynb\n",
      "Executing: 100%|██████████| 16/16 [00:13<00:00,  1.23cell/s]\n"
     ]
    }
   ],
   "source": [
    "# Do a single run with those inputs\n",
    "# Default is to put the run in RUNS/uuid.\n",
    "#r = Run(simToolLocation, inputs, cache=False)\n",
    "\n",
    "r = Run(simToolLocation, inputs)"
   ]
  },
  {
   "cell_type": "markdown",
   "metadata": {},
   "source": [
    "## Visualizing the Outputs"
   ]
  },
  {
   "cell_type": "code",
   "execution_count": 10,
   "metadata": {},
   "outputs": [
    {
     "data": {
      "text/plain": [
       "[[1.0, 2.0, 3.14], [4.0, 5.0, 6.0]]"
      ]
     },
     "execution_count": 10,
     "metadata": {},
     "output_type": "execute_result"
    }
   ],
   "source": [
    "# we can see the inputs used\n",
    "r.inputs.myarray.value"
   ]
  },
  {
   "cell_type": "code",
   "execution_count": 11,
   "metadata": {},
   "outputs": [
    {
     "data": {
      "text/plain": [
       "82.0"
      ]
     },
     "execution_count": 11,
     "metadata": {},
     "output_type": "execute_result"
    }
   ],
   "source": [
    "r.inputs.volts.value"
   ]
  },
  {
   "cell_type": "code",
   "execution_count": 12,
   "metadata": {
    "scrolled": true
   },
   "outputs": [
    {
     "data": {
      "image/png": "[encoded data removed]",
      "text/plain": [
       "<PIL.PngImagePlugin.PngImageFile image mode=RGB size=400x200 at 0x7FE4820D0FD0>"
      ]
     },
     "execution_count": 12,
     "metadata": {},
     "output_type": "execute_result"
    }
   ],
   "source": [
    "# output database is accessed from the Run object\n",
    "\n",
    "r.read('PNG')"
   ]
  },
  {
   "cell_type": "code",
   "execution_count": 13,
   "metadata": {},
   "outputs": [
    {
     "data": {
      "text/html": [
       "<div>\n",
       "<style scoped>\n",
       "    .dataframe tbody tr th:only-of-type {\n",
       "        vertical-align: middle;\n",
       "    }\n",
       "\n",
       "    .dataframe tbody tr th {\n",
       "        vertical-align: top;\n",
       "    }\n",
       "\n",
       "    .dataframe thead th {\n",
       "        text-align: right;\n",
       "    }\n",
       "</style>\n",
       "<table border=\"1\" class=\"dataframe\">\n",
       "  <thead>\n",
       "    <tr style=\"text-align: right;\">\n",
       "      <th></th>\n",
       "      <th>name</th>\n",
       "      <th>data</th>\n",
       "      <th>encoder</th>\n",
       "      <th>display</th>\n",
       "      <th>filename</th>\n",
       "    </tr>\n",
       "  </thead>\n",
       "  <tbody>\n",
       "    <tr>\n",
       "      <th>0</th>\n",
       "      <td>simToolSaveErrorOccurred</td>\n",
       "      <td>0</td>\n",
       "      <td>text</td>\n",
       "      <td>None</td>\n",
       "      <td>test_simtool.ipynb</td>\n",
       "    </tr>\n",
       "    <tr>\n",
       "      <th>1</th>\n",
       "      <td>simToolAllOutputsSaved</td>\n",
       "      <td>1</td>\n",
       "      <td>text</td>\n",
       "      <td>None</td>\n",
       "      <td>test_simtool.ipynb</td>\n",
       "    </tr>\n",
       "    <tr>\n",
       "      <th>2</th>\n",
       "      <td>volts</td>\n",
       "      <td>82.0</td>\n",
       "      <td>text</td>\n",
       "      <td>None</td>\n",
       "      <td>test_simtool.ipynb</td>\n",
       "    </tr>\n",
       "    <tr>\n",
       "      <th>3</th>\n",
       "      <td>myarray</td>\n",
       "      <td>{\"py/reduce\": [{\"py/function\": \"numpy.core.mul...</td>\n",
       "      <td>text</td>\n",
       "      <td>None</td>\n",
       "      <td>test_simtool.ipynb</td>\n",
       "    </tr>\n",
       "    <tr>\n",
       "      <th>4</th>\n",
       "      <td>PNG</td>\n",
       "      <td>file://foo.png</td>\n",
       "      <td>text</td>\n",
       "      <td>None</td>\n",
       "      <td>test_simtool.ipynb</td>\n",
       "    </tr>\n",
       "    <tr>\n",
       "      <th>5</th>\n",
       "      <td>JPG</td>\n",
       "      <td>{\"py/object\": \"PIL.Image.Image\", \"py/state\": [...</td>\n",
       "      <td>text</td>\n",
       "      <td>None</td>\n",
       "      <td>test_simtool.ipynb</td>\n",
       "    </tr>\n",
       "    <tr>\n",
       "      <th>6</th>\n",
       "      <td>GIF</td>\n",
       "      <td>file://foo.gif</td>\n",
       "      <td>text</td>\n",
       "      <td>None</td>\n",
       "      <td>test_simtool.ipynb</td>\n",
       "    </tr>\n",
       "    <tr>\n",
       "      <th>7</th>\n",
       "      <td>nanohub</td>\n",
       "      <td>file://nanoHUB_logo_color.png</td>\n",
       "      <td>text</td>\n",
       "      <td>None</td>\n",
       "      <td>test_simtool.ipynb</td>\n",
       "    </tr>\n",
       "  </tbody>\n",
       "</table>\n",
       "</div>"
      ],
      "text/plain": [
       "                       name  \\\n",
       "0  simToolSaveErrorOccurred   \n",
       "1    simToolAllOutputsSaved   \n",
       "2                     volts   \n",
       "3                   myarray   \n",
       "4                       PNG   \n",
       "5                       JPG   \n",
       "6                       GIF   \n",
       "7                   nanohub   \n",
       "\n",
       "                                                data encoder display  \\\n",
       "0                                                  0    text    None   \n",
       "1                                                  1    text    None   \n",
       "2                                               82.0    text    None   \n",
       "3  {\"py/reduce\": [{\"py/function\": \"numpy.core.mul...    text    None   \n",
       "4                                     file://foo.png    text    None   \n",
       "5  {\"py/object\": \"PIL.Image.Image\", \"py/state\": [...    text    None   \n",
       "6                                     file://foo.gif    text    None   \n",
       "7                      file://nanoHUB_logo_color.png    text    None   \n",
       "\n",
       "             filename  \n",
       "0  test_simtool.ipynb  \n",
       "1  test_simtool.ipynb  \n",
       "2  test_simtool.ipynb  \n",
       "3  test_simtool.ipynb  \n",
       "4  test_simtool.ipynb  \n",
       "5  test_simtool.ipynb  \n",
       "6  test_simtool.ipynb  \n",
       "7  test_simtool.ipynb  "
      ]
     },
     "execution_count": 13,
     "metadata": {},
     "output_type": "execute_result"
    }
   ],
   "source": [
    "# see raw results database\n",
    "r.getResultSummary()"
   ]
  },
  {
   "cell_type": "code",
   "execution_count": 14,
   "metadata": {},
   "outputs": [
    {
     "name": "stdout",
     "output_type": "stream",
     "text": [
      "RUNS/c42d6e45163047d0825aa4dac8e20807\n"
     ]
    }
   ],
   "source": [
    "# where is my output?\n",
    "\n",
    "print(r.outdir)"
   ]
  },
  {
   "cell_type": "code",
   "execution_count": 15,
   "metadata": {},
   "outputs": [
    {
     "data": {
      "image/png": "[encoded data removed]",
      "text/plain": [
       "<PIL.GifImagePlugin.GifImageFile image mode=P size=400x200 at 0x7FE480526BE0>"
      ]
     },
     "execution_count": 15,
     "metadata": {},
     "output_type": "execute_result"
    }
   ],
   "source": [
    "r.read('GIF')"
   ]
  },
  {
   "cell_type": "code",
   "execution_count": 16,
   "metadata": {},
   "outputs": [
    {
     "data": {
      "text/plain": [
       "82.0"
      ]
     },
     "execution_count": 16,
     "metadata": {},
     "output_type": "execute_result"
    }
   ],
   "source": [
    "r.read('volts')"
   ]
  },
  {
   "cell_type": "code",
   "execution_count": 17,
   "metadata": {},
   "outputs": [
    {
     "data": {
      "text/plain": [
       "array([[ 4.1  ,  8.2  , 12.874],\n",
       "       [16.4  , 20.5  , 24.6  ]])"
      ]
     },
     "execution_count": 17,
     "metadata": {},
     "output_type": "execute_result"
    }
   ],
   "source": [
    "r.read('myarray')"
   ]
  },
  {
   "cell_type": "code",
   "execution_count": 18,
   "metadata": {},
   "outputs": [
    {
     "data": {
      "image/png": "[encoded data removed]",
      "text/plain": [
       "<PIL.Image.Image image mode=RGB size=400x200 at 0x7FE4809B84E0>"
      ]
     },
     "execution_count": 18,
     "metadata": {},
     "output_type": "execute_result"
    }
   ],
   "source": [
    "x = r.read('JPG')\n",
    "x"
   ]
  },
  {
   "cell_type": "code",
   "execution_count": 19,
   "metadata": {},
   "outputs": [
    {
     "data": {
      "image/png": "[encoded data removed]",
      "text/plain": [
       "<PIL.PngImagePlugin.PngImageFile image mode=RGBA size=500x168 at 0x7FE4805304A8>"
      ]
     },
     "metadata": {},
     "output_type": "display_data"
    }
   ],
   "source": [
    "hublogo = r.read('nanohub', display=True)"
   ]
  },
  {
   "cell_type": "code",
   "execution_count": 20,
   "metadata": {},
   "outputs": [
    {
     "name": "stdout",
     "output_type": "stream",
     "text": [
      "<class 'PIL.PngImagePlugin.PngImageFile'>\n"
     ]
    },
    {
     "data": {
      "image/png": "[encoded data removed]",
      "text/plain": [
       "<PIL.PngImagePlugin.PngImageFile image mode=RGBA size=500x168 at 0x7FE4805304A8>"
      ]
     },
     "execution_count": 20,
     "metadata": {},
     "output_type": "execute_result"
    }
   ],
   "source": [
    "print(type(hublogo))\n",
    "hublogo"
   ]
  },
  {
   "cell_type": "markdown",
   "metadata": {},
   "source": [
    "## Extras"
   ]
  },
  {
   "cell_type": "code",
   "execution_count": 21,
   "metadata": {},
   "outputs": [
    {
     "data": {
      "text/plain": [
       "{'some_text': 'Default Text',\n",
       " 'volts': 82.0,\n",
       " 'width': 400,\n",
       " 'height': 200,\n",
       " 'position': [20, 20],\n",
       " 'options': {'FontSize': 28, 'FontColor': 'red', 'Background': 'black'},\n",
       " 'myarray': [[1.0, 2.0, 3.14], [4.0, 5.0, 6.0]]}"
      ]
     },
     "execution_count": 21,
     "metadata": {},
     "output_type": "execute_result"
    }
   ],
   "source": [
    "# for debugging, the inputs as passed to papermill\n",
    "r.input_dict"
   ]
  }
 ],
 "metadata": {
  "kernelspec": {
   "display_name": "Python 3",
   "language": "python",
   "name": "python3"
  },
  "language_info": {
   "codemirror_mode": {
    "name": "ipython",
    "version": 3
   },
   "file_extension": ".py",
   "mimetype": "text/x-python",
   "name": "python",
   "nbconvert_exporter": "python",
   "pygments_lexer": "ipython3",
   "version": "3.7.3"
  }
 },
 "nbformat": 4,
 "nbformat_minor": 2
}
