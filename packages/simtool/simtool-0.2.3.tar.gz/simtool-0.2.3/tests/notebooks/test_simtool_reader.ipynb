{
 "cells": [
  {
   "cell_type": "code",
   "execution_count": 1,
   "metadata": {},
   "outputs": [],
   "source": [
    "import sys\n",
    "sys.path.insert(0, \"/opt/simtool\")\n",
    "import simtool\n",
    "import numpy as np"
   ]
  },
  {
   "cell_type": "code",
   "execution_count": 2,
   "metadata": {},
   "outputs": [],
   "source": [
    "from simtool import DB\n",
    "db = DB('test_simtool.ipynb')"
   ]
  },
  {
   "cell_type": "code",
   "execution_count": 3,
   "metadata": {},
   "outputs": [
    {
     "data": {
      "text/plain": [
       "200"
      ]
     },
     "execution_count": 3,
     "metadata": {},
     "output_type": "execute_result"
    }
   ],
   "source": [
    "db.read('volts')"
   ]
  },
  {
   "cell_type": "code",
   "execution_count": 4,
   "metadata": {},
   "outputs": [
    {
     "data": {
      "text/plain": [
       "array([ 0.  ,  0.82,  1.64,  2.46,  3.28,  4.1 ,  4.92,  5.74,  6.56,\n",
       "        7.38,  8.2 ,  9.02,  9.84, 10.66, 11.48, 12.3 , 13.12, 13.94,\n",
       "       14.76, 15.58, 16.4 , 17.22, 18.04, 18.86, 19.68, 20.5 , 21.32,\n",
       "       22.14, 22.96, 23.78, 24.6 , 25.42, 26.24, 27.06, 27.88, 28.7 ,\n",
       "       29.52, 30.34, 31.16, 31.98, 32.8 , 33.62, 34.44, 35.26, 36.08,\n",
       "       36.9 , 37.72, 38.54, 39.36, 40.18])"
      ]
     },
     "execution_count": 4,
     "metadata": {},
     "output_type": "execute_result"
    }
   ],
   "source": [
    "myarray = db.read('myarray')\n",
    "myarray"
   ]
  },
  {
   "cell_type": "code",
   "execution_count": 5,
   "metadata": {},
   "outputs": [
    {
     "name": "stdout",
     "output_type": "stream",
     "text": [
      "READ: /opt/simtool/notebooks/foo.png <class 'simtool.input_types.Image'>\n"
     ]
    },
    {
     "data": {
      "image/png": "[encoded data removed]",
      "text/plain": [
       "<PIL.PngImagePlugin.PngImageFile image mode=RGB size=400x200 at 0x7F5BF64EF940>"
      ]
     },
     "metadata": {},
     "output_type": "display_data"
    }
   ],
   "source": [
    "bs = db.read('PNG', display=True)"
   ]
  },
  {
   "cell_type": "code",
   "execution_count": 6,
   "metadata": {},
   "outputs": [
    {
     "name": "stdout",
     "output_type": "stream",
     "text": [
      "READ: /opt/simtool/notebooks/foo.png <class 'simtool.input_types.Image'>\n"
     ]
    },
    {
     "data": {
      "image/png": "[encoded data removed]",
      "text/plain": [
       "<PIL.PngImagePlugin.PngImageFile image mode=RGB size=400x200 at 0x7F5BF64B1F60>"
      ]
     },
     "execution_count": 6,
     "metadata": {},
     "output_type": "execute_result"
    }
   ],
   "source": [
    "db.read('PNG', raw=False)"
   ]
  },
  {
   "cell_type": "code",
   "execution_count": 7,
   "metadata": {},
   "outputs": [
    {
     "data": {
      "text/plain": [
       "array([ 0.  ,  0.82,  1.64,  2.46,  3.28,  4.1 ,  4.92,  5.74,  6.56,\n",
       "        7.38,  8.2 ,  9.02,  9.84, 10.66, 11.48, 12.3 , 13.12, 13.94,\n",
       "       14.76, 15.58, 16.4 , 17.22, 18.04, 18.86, 19.68, 20.5 , 21.32,\n",
       "       22.14, 22.96, 23.78, 24.6 , 25.42, 26.24, 27.06, 27.88, 28.7 ,\n",
       "       29.52, 30.34, 31.16, 31.98, 32.8 , 33.62, 34.44, 35.26, 36.08,\n",
       "       36.9 , 37.72, 38.54, 39.36, 40.18])"
      ]
     },
     "metadata": {},
     "output_type": "display_data"
    },
    {
     "data": {
      "text/plain": [
       "array([ 0.  ,  0.82,  1.64,  2.46,  3.28,  4.1 ,  4.92,  5.74,  6.56,\n",
       "        7.38,  8.2 ,  9.02,  9.84, 10.66, 11.48, 12.3 , 13.12, 13.94,\n",
       "       14.76, 15.58, 16.4 , 17.22, 18.04, 18.86, 19.68, 20.5 , 21.32,\n",
       "       22.14, 22.96, 23.78, 24.6 , 25.42, 26.24, 27.06, 27.88, 28.7 ,\n",
       "       29.52, 30.34, 31.16, 31.98, 32.8 , 33.62, 34.44, 35.26, 36.08,\n",
       "       36.9 , 37.72, 38.54, 39.36, 40.18])"
      ]
     },
     "execution_count": 7,
     "metadata": {},
     "output_type": "execute_result"
    }
   ],
   "source": [
    "db.read('myarray', display=True)"
   ]
  },
  {
   "cell_type": "code",
   "execution_count": 11,
   "metadata": {},
   "outputs": [
    {
     "data": {
      "image/png": "[encoded data removed]",
      "text/plain": [
       "<PIL.Image.Image image mode=RGB size=400x200 at 0x7F5BF644C160>"
      ]
     },
     "execution_count": 11,
     "metadata": {},
     "output_type": "execute_result"
    }
   ],
   "source": [
    "val = db.read('JPG')\n",
    "val"
   ]
  },
  {
   "cell_type": "code",
   "execution_count": 12,
   "metadata": {},
   "outputs": [
    {
     "data": {
      "text/html": [
       "<div>\n",
       "<style scoped>\n",
       "    .dataframe tbody tr th:only-of-type {\n",
       "        vertical-align: middle;\n",
       "    }\n",
       "\n",
       "    .dataframe tbody tr th {\n",
       "        vertical-align: top;\n",
       "    }\n",
       "\n",
       "    .dataframe thead th {\n",
       "        text-align: right;\n",
       "    }\n",
       "</style>\n",
       "<table border=\"1\" class=\"dataframe\">\n",
       "  <thead>\n",
       "    <tr style=\"text-align: right;\">\n",
       "      <th></th>\n",
       "      <th>name</th>\n",
       "      <th>data</th>\n",
       "    </tr>\n",
       "  </thead>\n",
       "  <tbody>\n",
       "    <tr>\n",
       "      <th>0</th>\n",
       "      <td>volts</td>\n",
       "      <td>200</td>\n",
       "    </tr>\n",
       "    <tr>\n",
       "      <th>1</th>\n",
       "      <td>myarray</td>\n",
       "      <td>{\"py/reduce\": [{\"py/function\": \"numpy.core.mul...</td>\n",
       "    </tr>\n",
       "    <tr>\n",
       "      <th>2</th>\n",
       "      <td>PNG</td>\n",
       "      <td>file:///opt/simtool/notebooks/foo.png</td>\n",
       "    </tr>\n",
       "    <tr>\n",
       "      <th>3</th>\n",
       "      <td>JPG</td>\n",
       "      <td>{\"py/object\": \"PIL.Image.Image\", \"py/state\": [...</td>\n",
       "    </tr>\n",
       "    <tr>\n",
       "      <th>4</th>\n",
       "      <td>GIF</td>\n",
       "      <td>file:///opt/simtool/notebooks/foo.gif</td>\n",
       "    </tr>\n",
       "  </tbody>\n",
       "</table>\n",
       "</div>"
      ],
      "text/plain": [
       "      name                                               data\n",
       "0    volts                                                200\n",
       "1  myarray  {\"py/reduce\": [{\"py/function\": \"numpy.core.mul...\n",
       "2      PNG              file:///opt/simtool/notebooks/foo.png\n",
       "3      JPG  {\"py/object\": \"PIL.Image.Image\", \"py/state\": [...\n",
       "4      GIF              file:///opt/simtool/notebooks/foo.gif"
      ]
     },
     "execution_count": 12,
     "metadata": {},
     "output_type": "execute_result"
    }
   ],
   "source": [
    "db.nb.scrap_dataframe[['name', 'data']]"
   ]
  },
  {
   "cell_type": "code",
   "execution_count": 10,
   "metadata": {},
   "outputs": [
    {
     "ename": "KeyError",
     "evalue": "'octocat'",
     "output_type": "error",
     "traceback": [
      "\u001b[0;31m---------------------------------------------------------------------------\u001b[0m",
      "\u001b[0;31mKeyError\u001b[0m                                  Traceback (most recent call last)",
      "\u001b[0;32m<ipython-input-10-be715c49ddbd>\u001b[0m in \u001b[0;36m<module>\u001b[0;34m\u001b[0m\n\u001b[0;32m----> 1\u001b[0;31m \u001b[0mdb\u001b[0m\u001b[0;34m.\u001b[0m\u001b[0mread\u001b[0m\u001b[0;34m(\u001b[0m\u001b[0;34m'octocat'\u001b[0m\u001b[0;34m)\u001b[0m\u001b[0;34m\u001b[0m\u001b[0;34m\u001b[0m\u001b[0m\n\u001b[0m",
      "\u001b[0;32m/opt/simtool/simtool/rw.py\u001b[0m in \u001b[0;36mread\u001b[0;34m(self, name, display, raw)\u001b[0m\n\u001b[1;32m    116\u001b[0m             \u001b[0mThe\u001b[0m \u001b[0msaved\u001b[0m \u001b[0mvalue\u001b[0m\u001b[0;34m.\u001b[0m\u001b[0;34m\u001b[0m\u001b[0;34m\u001b[0m\u001b[0m\n\u001b[1;32m    117\u001b[0m         \"\"\"    \n\u001b[0;32m--> 118\u001b[0;31m         \u001b[0mdata\u001b[0m \u001b[0;34m=\u001b[0m \u001b[0mself\u001b[0m\u001b[0;34m.\u001b[0m\u001b[0mnb\u001b[0m\u001b[0;34m.\u001b[0m\u001b[0mscraps\u001b[0m\u001b[0;34m[\u001b[0m\u001b[0mname\u001b[0m\u001b[0;34m]\u001b[0m\u001b[0;34m.\u001b[0m\u001b[0mdata\u001b[0m\u001b[0;34m\u001b[0m\u001b[0;34m\u001b[0m\u001b[0m\n\u001b[0m\u001b[1;32m    119\u001b[0m         \u001b[0mhandler\u001b[0m\u001b[0;34m,\u001b[0m \u001b[0mpath\u001b[0m \u001b[0;34m=\u001b[0m \u001b[0mself\u001b[0m\u001b[0;34m.\u001b[0m\u001b[0mget_handler\u001b[0m\u001b[0;34m(\u001b[0m\u001b[0mdata\u001b[0m\u001b[0;34m)\u001b[0m\u001b[0;34m\u001b[0m\u001b[0;34m\u001b[0m\u001b[0m\n\u001b[1;32m    120\u001b[0m         \u001b[0;32mif\u001b[0m \u001b[0mhandler\u001b[0m\u001b[0;34m:\u001b[0m\u001b[0;34m\u001b[0m\u001b[0;34m\u001b[0m\u001b[0m\n",
      "\u001b[0;31mKeyError\u001b[0m: 'octocat'"
     ]
    }
   ],
   "source": [
    "db.read('octocat')"
   ]
  }
 ],
 "metadata": {
  "kernelspec": {
   "display_name": "Python 3",
   "language": "python",
   "name": "python3"
  },
  "language_info": {
   "codemirror_mode": {
    "name": "ipython",
    "version": 3
   },
   "file_extension": ".py",
   "mimetype": "text/x-python",
   "name": "python",
   "nbconvert_exporter": "python",
   "pygments_lexer": "ipython3",
   "version": "3.7.3"
  }
 },
 "nbformat": 4,
 "nbformat_minor": 2
}
