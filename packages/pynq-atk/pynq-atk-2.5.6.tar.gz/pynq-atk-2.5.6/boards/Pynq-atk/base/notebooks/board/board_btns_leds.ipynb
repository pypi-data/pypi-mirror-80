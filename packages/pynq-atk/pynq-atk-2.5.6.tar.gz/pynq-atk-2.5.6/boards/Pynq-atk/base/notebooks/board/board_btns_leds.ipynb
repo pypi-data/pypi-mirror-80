{
 "cells": [
  {
   "cell_type": "markdown",
   "metadata": {
    "deletable": true,
    "editable": true
   },
   "source": [
    "## Buttons and LEDs demonstration\n",
    "\n",
    "This demo shows how to use push-buttons (PL_KEY0-1), LEDs (LED0-2), and tpad on the board. \n",
    "\n",
    "You can do the following to control the LEDs:\n",
    "    \n",
    "    Button 0 pressed:        LEDs shift from right to left (LED0 -> LED2).\n",
    "    Button 1 pressed:        LEDs shift from left to right (LED2 -> LED0).\n",
    "    tpad     pressed:        Turns off all the LEDS and ends this demo.\n",
    " "
   ]
  },
  {
   "cell_type": "code",
   "execution_count": 1,
   "metadata": {
    "deletable": true,
    "editable": true,
    "scrolled": true
   },
   "outputs": [
    {
     "data": {
      "application/javascript": [
       "\n",
       "try {\n",
       "require(['notebook/js/codecell'], function(codecell) {\n",
       "  codecell.CodeCell.options_default.highlight_modes[\n",
       "      'magic_text/x-csrc'] = {'reg':[/^%%microblaze/]};\n",
       "  Jupyter.notebook.events.one('kernel_ready.Kernel', function(){\n",
       "      Jupyter.notebook.get_cells().map(function(cell){\n",
       "          if (cell.cell_type == 'code'){ cell.auto_highlight(); } }) ;\n",
       "  });\n",
       "});\n",
       "} catch (e) {};\n"
      ]
     },
     "metadata": {},
     "output_type": "display_data"
    }
   ],
   "source": [
    "from time import sleep\n",
    "from pynq.overlays.base import BaseOverlay\n",
    "\n",
    "base = BaseOverlay(\"base.bit\")"
   ]
  },
  {
   "cell_type": "code",
   "execution_count": 2,
   "metadata": {},
   "outputs": [
    {
     "name": "stdout",
     "output_type": "stream",
     "text": [
      "End of this demo ...\n"
     ]
    }
   ],
   "source": [
    "Delay1 = 0.3\n",
    "Delay2 = 0.1\n",
    "\n",
    "for led in base.leds:\n",
    "    led.on()    \n",
    "while (base.tpad.read()==0):\n",
    "    if (base.buttons[0].read()==1):\n",
    "        for led in base.leds:\n",
    "            led.off()\n",
    "        sleep(Delay2)\n",
    "        for led in base.leds:\n",
    "            led.toggle()\n",
    "            sleep(Delay1)\n",
    "            \n",
    "    elif (base.buttons[1].read()==1):\n",
    "        for led in reversed(base.leds):\n",
    "            led.off()\n",
    "        sleep(Delay2)\n",
    "        for led in reversed(base.leds):\n",
    "            led.toggle()\n",
    "            sleep(Delay2)                  \n",
    "    \n",
    "print('End of this demo ...')\n",
    "for led in base.leds:\n",
    "    led.off()"
   ]
  }
 ],
 "metadata": {
  "kernelspec": {
   "display_name": "Python 3",
   "language": "python",
   "name": "python3"
  },
  "language_info": {
   "codemirror_mode": {
    "name": "ipython",
    "version": 3
   },
   "file_extension": ".py",
   "mimetype": "text/x-python",
   "name": "python",
   "nbconvert_exporter": "python",
   "pygments_lexer": "ipython3",
   "version": "3.6.5"
  }
 },
 "nbformat": 4,
 "nbformat_minor": 4
}
