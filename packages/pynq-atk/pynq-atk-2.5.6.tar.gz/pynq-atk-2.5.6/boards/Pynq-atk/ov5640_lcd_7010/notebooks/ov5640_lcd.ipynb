{
 "cells": [
  {
   "cell_type": "markdown",
   "metadata": {},
   "source": [
    "## Step 1：初始化Overlay以下载bitstream"
   ]
  },
  {
   "cell_type": "code",
   "execution_count": null,
   "metadata": {},
   "outputs": [],
   "source": [
    "from pynq import Overlay\n",
    "from pynq.lib.iic import *\n",
    "from pynq.lib.video2lcd import *\n",
    "from pynq.lib.ov5640 import OV5640\n",
    "\n",
    "ov5640_ol = Overlay(\"ov5640_lcd_7010.bit\")"
   ]
  },
  {
   "cell_type": "markdown",
   "metadata": {},
   "source": [
    "## Step 2：实例化I2C以配置OV5640 Camera"
   ]
  },
  {
   "cell_type": "code",
   "execution_count": null,
   "metadata": {},
   "outputs": [],
   "source": [
    "iic = AxiIIC(ov5640_ol.ip_dict['cam_iic'])\n",
    "# OV5640器件地址\n",
    "address = 0x3c  \n",
    "ov5640= OV5640(address, iic)"
   ]
  },
  {
   "cell_type": "markdown",
   "metadata": {},
   "source": [
    "### 初始化OV5640"
   ]
  },
  {
   "cell_type": "code",
   "execution_count": null,
   "metadata": {},
   "outputs": [],
   "source": [
    "ov5640.init()"
   ]
  },
  {
   "cell_type": "markdown",
   "metadata": {},
   "source": [
    "### 初始化OV5640自动聚焦功能（如果程序卡在这里，请重新启动kernel，重新启动kernel后再重启一次，然后重新开始执行该notebook，如果还是不行，请跳过自动聚焦相关的代码）"
   ]
  },
  {
   "cell_type": "code",
   "execution_count": null,
   "metadata": {},
   "outputs": [],
   "source": [
    "ov5640.focus_init()"
   ]
  },
  {
   "cell_type": "markdown",
   "metadata": {},
   "source": [
    "### 使能自动聚焦功能"
   ]
  },
  {
   "cell_type": "code",
   "execution_count": null,
   "metadata": {},
   "outputs": [],
   "source": [
    "ov5640.focus_continue()"
   ]
  },
  {
   "cell_type": "markdown",
   "metadata": {},
   "source": [
    "## Step 3：根据LCD的ID配置OV5640的输出分辨率"
   ]
  },
  {
   "cell_type": "markdown",
   "metadata": {},
   "source": [
    "### 实例化视频输入video_in与视频输出video_out"
   ]
  },
  {
   "cell_type": "code",
   "execution_count": null,
   "metadata": {},
   "outputs": [],
   "source": [
    "video_in = ov5640_ol.video.video_in\n",
    "video_out = ov5640_ol.video.video_out"
   ]
  },
  {
   "cell_type": "markdown",
   "metadata": {},
   "source": [
    "### 读取lcd id并选择相应分辨率参数"
   ]
  },
  {
   "cell_type": "code",
   "execution_count": null,
   "metadata": {},
   "outputs": [],
   "source": [
    "lcd_id = video_out.lcd_id_rd()\n",
    "print(\"lcd_id=\",hex(lcd_id))\n",
    "# 4.3寸480*272 RGB屏,ID=0X4342\n",
    "# 7寸800*480 RGB屏,ID=0X7084\n",
    "# 7寸1024*600 RGB屏,ID=0X7016\n",
    "# 4.3寸800*480 RGB屏,ID=0X4384\n",
    "# 10.1寸1280*800 RGB屏,ID=0X1018\n",
    "# 其他值,非法ID;\n",
    "\n",
    "#根据获取的LCD的ID号来进行ov5640显示分辨率参数的选择\n",
    "if lcd_id == 0x4342 :  #4.3寸屏,480*272分辨率\n",
    "    cmos_h_pixel  = 480 \n",
    "    cmos_v_pixel  = 272 \n",
    "    total_h_pixel = 1800 \n",
    "    total_v_pixel = 1000 \n",
    "elif lcd_id == 0x4384 :  #4.3寸屏,800*480分辨率\n",
    "    cmos_h_pixel  = 800 \n",
    "    cmos_v_pixel  = 480 \n",
    "    total_h_pixel = 1800 \n",
    "    total_v_pixel = 1000 \n",
    "elif lcd_id == 0x7084 :  #7寸屏,800*480分辨率\n",
    "    cmos_h_pixel  = 800 \n",
    "    cmos_v_pixel  = 480 \n",
    "    total_h_pixel = 1800 \n",
    "    total_v_pixel = 1000 \n",
    "elif lcd_id == 0x7016 :  #7寸屏,1024*600分辨率\n",
    "    cmos_h_pixel  = 1024 \n",
    "    cmos_v_pixel  = 600 \n",
    "    total_h_pixel = 2200 \n",
    "    total_v_pixel = 1000 \n",
    "elif lcd_id == 0x1018 :  #10.1寸屏,1280*800分辨率\n",
    "    cmos_h_pixel  = 1280\n",
    "    cmos_v_pixel  = 800\n",
    "    total_h_pixel = 2570\n",
    "    total_v_pixel = 980\n",
    "else:\n",
    "    cmos_h_pixel  = 480\n",
    "    cmos_v_pixel  = 272\n",
    "    total_h_pixel = 1800\n",
    "    total_v_pixel = 1000"
   ]
  },
  {
   "cell_type": "markdown",
   "metadata": {},
   "source": [
    "### 配置OV5640的输出分辨率"
   ]
  },
  {
   "cell_type": "code",
   "execution_count": null,
   "metadata": {},
   "outputs": [],
   "source": [
    "ov5640.set_outsize(cmos_h_pixel,cmos_v_pixel,total_h_pixel,total_v_pixel)"
   ]
  },
  {
   "cell_type": "markdown",
   "metadata": {},
   "source": [
    "## Step 4: 配置video_in与video_out并驱动显示"
   ]
  },
  {
   "cell_type": "code",
   "execution_count": null,
   "metadata": {},
   "outputs": [],
   "source": [
    "# mode = VideoMode(800, 480, 24)\n",
    "video_out.configure(1)\n",
    "video_in.configure(video_out.mode)\n",
    "video_in.start()\n",
    "video_out.start()\n",
    "\n",
    "video_in.tie(video_out)"
   ]
  },
  {
   "cell_type": "markdown",
   "metadata": {},
   "source": [
    "## Capture and display one frame of picture, it may takes 3~5 seconds"
   ]
  },
  {
   "cell_type": "code",
   "execution_count": null,
   "metadata": {},
   "outputs": [],
   "source": [
    "while True:\n",
    "    frame = video_in.readframe()\n",
    "    video_out.writeframe(frame)\n",
    "    if(frame.max() != 0):\n",
    "        break;"
   ]
  },
  {
   "cell_type": "code",
   "execution_count": null,
   "metadata": {},
   "outputs": [],
   "source": [
    "from PIL import Image\n",
    "import IPython\n",
    "image = Image.fromarray(frame)\n",
    "g, b, r = image.split()\n",
    "image = Image.merge('RGB', [r,b,g])\n",
    "IPython.display.clear_output(1)\n",
    "display(image)"
   ]
  },
  {
   "cell_type": "markdown",
   "metadata": {},
   "source": [
    "## 结束\n",
    "关闭Video输入与输出"
   ]
  },
  {
   "cell_type": "code",
   "execution_count": null,
   "metadata": {},
   "outputs": [],
   "source": [
    "video_in.close()\n",
    "video_out.close()"
   ]
  }
 ],
 "metadata": {
  "kernelspec": {
   "display_name": "Python 3",
   "language": "python",
   "name": "python3"
  },
  "language_info": {
   "codemirror_mode": {
    "name": "ipython",
    "version": 3
   },
   "file_extension": ".py",
   "mimetype": "text/x-python",
   "name": "python",
   "nbconvert_exporter": "python",
   "pygments_lexer": "ipython3",
   "version": "3.6.5"
  }
 },
 "nbformat": 4,
 "nbformat_minor": 4
}