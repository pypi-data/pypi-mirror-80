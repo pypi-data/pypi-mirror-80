{
 "cells": [
  {
   "cell_type": "code",
   "execution_count": 1,
   "metadata": {
    "ExecuteTime": {
     "end_time": "2020-09-28T13:03:55.877223Z",
     "start_time": "2020-09-28T13:03:55.875116Z"
    },
    "execution": {
     "iopub.execute_input": "2020-09-28T19:51:46.239770Z",
     "iopub.status.busy": "2020-09-28T19:51:46.238848Z",
     "iopub.status.idle": "2020-09-28T19:51:46.241146Z",
     "shell.execute_reply": "2020-09-28T19:51:46.241551Z"
    },
    "papermill": {
     "duration": 0.010533,
     "end_time": "2020-09-28T19:51:46.241806",
     "exception": false,
     "start_time": "2020-09-28T19:51:46.231273",
     "status": "completed"
    },
    "tags": [
     "parameters"
    ]
   },
   "outputs": [],
   "source": [
    "a = 2\n",
    "b = 3"
   ]
  },
  {
   "cell_type": "code",
   "execution_count": 2,
   "metadata": {
    "execution": {
     "iopub.execute_input": "2020-09-28T19:51:46.252323Z",
     "iopub.status.busy": "2020-09-28T19:51:46.251481Z",
     "iopub.status.idle": "2020-09-28T19:51:46.254036Z",
     "shell.execute_reply": "2020-09-28T19:51:46.253609Z"
    },
    "papermill": {
     "duration": 0.009169,
     "end_time": "2020-09-28T19:51:46.254157",
     "exception": false,
     "start_time": "2020-09-28T19:51:46.244988",
     "status": "completed"
    },
    "tags": [
     "injected-parameters"
    ]
   },
   "outputs": [],
   "source": [
    "# Parameters\n",
    "a = 8\n",
    "b = 4\n"
   ]
  },
  {
   "cell_type": "code",
   "execution_count": 3,
   "metadata": {
    "ExecuteTime": {
     "end_time": "2020-09-28T13:04:07.629906Z",
     "start_time": "2020-09-28T13:04:07.627653Z"
    },
    "execution": {
     "iopub.execute_input": "2020-09-28T19:51:46.265285Z",
     "iopub.status.busy": "2020-09-28T19:51:46.264306Z",
     "iopub.status.idle": "2020-09-28T19:51:46.266925Z",
     "shell.execute_reply": "2020-09-28T19:51:46.266516Z"
    },
    "papermill": {
     "duration": 0.009447,
     "end_time": "2020-09-28T19:51:46.267044",
     "exception": false,
     "start_time": "2020-09-28T19:51:46.257597",
     "status": "completed"
    },
    "tags": []
   },
   "outputs": [],
   "source": [
    "def sum_func(x,y):\n",
    "    return x + y"
   ]
  },
  {
   "cell_type": "code",
   "execution_count": 4,
   "metadata": {
    "ExecuteTime": {
     "end_time": "2020-09-28T13:04:18.817726Z",
     "start_time": "2020-09-28T13:04:18.814726Z"
    },
    "execution": {
     "iopub.execute_input": "2020-09-28T19:51:46.277825Z",
     "iopub.status.busy": "2020-09-28T19:51:46.276903Z",
     "iopub.status.idle": "2020-09-28T19:51:46.280784Z",
     "shell.execute_reply": "2020-09-28T19:51:46.280348Z"
    },
    "papermill": {
     "duration": 0.010749,
     "end_time": "2020-09-28T19:51:46.280901",
     "exception": false,
     "start_time": "2020-09-28T19:51:46.270152",
     "status": "completed"
    },
    "tags": []
   },
   "outputs": [
    {
     "name": "stdout",
     "output_type": "stream",
     "text": [
      "called 12\n"
     ]
    }
   ],
   "source": [
    "print('called', sum_func(a,b))"
   ]
  }
 ],
 "metadata": {
  "celltoolbar": "Tags",
  "kernelspec": {
   "display_name": "Python 3",
   "language": "python",
   "name": "python3"
  },
  "language_info": {
   "codemirror_mode": {
    "name": "ipython",
    "version": 3
   },
   "file_extension": ".py",
   "mimetype": "text/x-python",
   "name": "python",
   "nbconvert_exporter": "python",
   "pygments_lexer": "ipython3",
   "version": "3.7.1"
  },
  "papermill": {
   "default_parameters": {},
   "duration": 2.020917,
   "end_time": "2020-09-28T19:51:47.527327",
   "environment_variables": {},
   "exception": null,
   "input_path": "tests/notebooks/sum_test.ipynb",
   "output_path": "tests/notebooks/sum_test_out.ipynb",
   "parameters": {
    "a": 8,
    "b": 4
   },
   "start_time": "2020-09-28T19:51:45.506410",
   "version": "2.2.0"
  }
 },
 "nbformat": 4,
 "nbformat_minor": 4
}