{
 "cells": [
  {
   "cell_type": "code",
   "execution_count": 1,
   "metadata": {
    "ExecuteTime": {
     "end_time": "2020-09-28T13:03:55.877223Z",
     "start_time": "2020-09-28T13:03:55.875116Z"
    },
    "execution": {
     "iopub.execute_input": "2020-09-28T14:28:17.851296Z",
     "iopub.status.busy": "2020-09-28T14:28:17.850728Z",
     "iopub.status.idle": "2020-09-28T14:28:17.852621Z",
     "shell.execute_reply": "2020-09-28T14:28:17.853084Z"
    },
    "papermill": {
     "duration": 0.008636,
     "end_time": "2020-09-28T14:28:17.853328",
     "exception": false,
     "start_time": "2020-09-28T14:28:17.844692",
     "status": "completed"
    },
    "tags": [
     "parameters"
    ]
   },
   "outputs": [],
   "source": [
    "a = 2\n",
    "b = 3"
   ]
  },
  {
   "cell_type": "code",
   "execution_count": 2,
   "metadata": {
    "execution": {
     "iopub.execute_input": "2020-09-28T14:28:17.861499Z",
     "iopub.status.busy": "2020-09-28T14:28:17.860942Z",
     "iopub.status.idle": "2020-09-28T14:28:17.862507Z",
     "shell.execute_reply": "2020-09-28T14:28:17.862965Z"
    },
    "papermill": {
     "duration": 0.006927,
     "end_time": "2020-09-28T14:28:17.863135",
     "exception": false,
     "start_time": "2020-09-28T14:28:17.856208",
     "status": "completed"
    },
    "tags": [
     "injected-parameters"
    ]
   },
   "outputs": [],
   "source": [
    "# Parameters\n",
    "a = 8\n",
    "b = 4\n"
   ]
  },
  {
   "cell_type": "code",
   "execution_count": 3,
   "metadata": {
    "ExecuteTime": {
     "end_time": "2020-09-28T13:04:07.629906Z",
     "start_time": "2020-09-28T13:04:07.627653Z"
    },
    "execution": {
     "iopub.execute_input": "2020-09-28T14:28:17.871019Z",
     "iopub.status.busy": "2020-09-28T14:28:17.870471Z",
     "iopub.status.idle": "2020-09-28T14:28:17.872285Z",
     "shell.execute_reply": "2020-09-28T14:28:17.872679Z"
    },
    "papermill": {
     "duration": 0.007273,
     "end_time": "2020-09-28T14:28:17.872875",
     "exception": false,
     "start_time": "2020-09-28T14:28:17.865602",
     "status": "completed"
    },
    "tags": []
   },
   "outputs": [],
   "source": [
    "def sum_func(x,y):\n",
    "    return x + y"
   ]
  },
  {
   "cell_type": "code",
   "execution_count": 4,
   "metadata": {
    "ExecuteTime": {
     "end_time": "2020-09-28T13:04:18.817726Z",
     "start_time": "2020-09-28T13:04:18.814726Z"
    },
    "execution": {
     "iopub.execute_input": "2020-09-28T14:28:17.881781Z",
     "iopub.status.busy": "2020-09-28T14:28:17.881117Z",
     "iopub.status.idle": "2020-09-28T14:28:17.883370Z",
     "shell.execute_reply": "2020-09-28T14:28:17.883768Z"
    },
    "papermill": {
     "duration": 0.008345,
     "end_time": "2020-09-28T14:28:17.883946",
     "exception": false,
     "start_time": "2020-09-28T14:28:17.875601",
     "status": "completed"
    },
    "tags": []
   },
   "outputs": [
    {
     "name": "stdout",
     "output_type": "stream",
     "text": [
      "called 12\n"
     ]
    }
   ],
   "source": [
    "print('called', sum_func(a,b))"
   ]
  }
 ],
 "metadata": {
  "celltoolbar": "Tags",
  "kernelspec": {
   "display_name": "Python 3",
   "language": "python",
   "name": "python3"
  },
  "language_info": {
   "codemirror_mode": {
    "name": "ipython",
    "version": 3
   },
   "file_extension": ".py",
   "mimetype": "text/x-python",
   "name": "python",
   "nbconvert_exporter": "python",
   "pygments_lexer": "ipython3",
   "version": "3.8.5"
  },
  "papermill": {
   "default_parameters": {},
   "duration": 1.213461,
   "end_time": "2020-09-28T14:28:18.102745",
   "environment_variables": {},
   "exception": null,
   "input_path": "tests/notebooks/sum_test.ipynb",
   "output_path": "tests/notebooks/sum_test_out.ipynb",
   "parameters": {
    "a": 8,
    "b": 4
   },
   "start_time": "2020-09-28T14:28:16.889284",
   "version": "2.2.0"
  }
 },
 "nbformat": 4,
 "nbformat_minor": 4
}