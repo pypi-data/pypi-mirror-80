{
 "cells": [
  {
   "cell_type": "code",
   "execution_count": 4,
   "metadata": {},
   "outputs": [],
   "source": [
    "import numpy as np\n",
    "from pydgrid.pydgrid import grid\n",
    "from pydgrid.plot_bokeh import plot_results"
   ]
  },
  {
   "cell_type": "markdown",
   "metadata": {},
   "source": [
    "## CIGRE LV European System"
   ]
  },
  {
   "cell_type": "code",
   "execution_count": 5,
   "metadata": {},
   "outputs": [],
   "source": [
    "data = {\n",
    "\"buses\":[\n",
    "        {\"bus\": \"R1\",  \"pos_x\":   0, \"pos_y\":    0, \"units\": \"m\", \"U_kV\": 0.4},\n",
    "        {\"bus\": \"R10\", \"pos_x\":   0, \"pos_y\": -315, \"units\": \"m\", \"U_kV\": 0.4}\n",
    "        ],\n",
    "\"transformers\":[\n",
    "        {\"bus_j\": \"R0\",  \"bus_k\": \"R1\",\n",
    "         \"S_n_kVA\": 500.0, \"U_j_kV\":20.0, \"U_k_kV\":0.4,\n",
    "         \"R_cc_pu\": 0.01, \"X_cc_pu\":0.04, \"connection\": \"Dyn11\",\n",
    "         \"conductors_j\": 3, \"conductors_k\": 4}\n",
    "        ],\n",
    "\"lines\":[\n",
    "        {\"bus_j\": \"R1\",  \"bus_k\": \"R10\",  \"code\": \"UG1\", \"m\": 315.0 }\n",
    "        ],\n",
    "\"shunts\":[\n",
    "        {\"bus\":  \"R1\" , \"R\":  3.0, \"X\": 0.0, \"bus_nodes\": [4,0]},\n",
    "        {\"bus\": \"R10\" , \"R\": 40.0, \"X\": 0.0, \"bus_nodes\": [4,0]},\n",
    "        ],\n",
    "\"grid_formers\":[\n",
    "        {\"bus\": \"R0\",\"bus_nodes\": [1, 2, 3],\n",
    "         \"deg\": [0, -120, -240], \"kV\": [11.547, 11.547, 11.547]}\n",
    "        ],\n",
    "\"loads\":[\n",
    "        {\"bus\": \"R10\", \"kVA\": 47.0, \"pf\": 0.95, \"type\":\"3P+N\", \"shape\": \"Shape_1\"}\n",
    "        ],\n",
    "\"line_codes\":\n",
    "        {\"UG1\":\n",
    "            {\"R\":[[ 0.211,  0.049,  0.049,  0.049],\n",
    "                  [ 0.049,  0.211,  0.049,  0.049],\n",
    "                  [ 0.049,  0.049,  0.211,  0.049],\n",
    "                  [ 0.049,  0.049,  0.049,  0.211]],\n",
    "             \"X\":[[ 0.747,  0.673,  0.651,  0.673],\n",
    "                  [ 0.673,  0.747,  0.673,  0.651],\n",
    "                  [ 0.651,  0.673,  0.747,  0.673],\n",
    "                  [ 0.673,  0.651,  0.673,  0.747]]\n",
    "            },\n",
    "        \"UG3\":\n",
    "            {\"R\":[[ 0.871,  0.049,  0.049,  0.049],\n",
    "                  [ 0.049,  0.871,  0.049,  0.049],\n",
    "                  [ 0.049,  0.049,  0.871,  0.049],\n",
    "                  [ 0.049,  0.049,  0.049,  0.871]],\n",
    "             \"X\":[[ 0.797,  0.719,  0.697,  0.719],\n",
    "                  [ 0.719,  0.797,  0.719,  0.697],\n",
    "                  [ 0.697,  0.719,  0.797,  0.719],\n",
    "                  [ 0.719,  0.697,  0.719,  0.797]]\n",
    "            }\n",
    "        }\n",
    "}\n"
   ]
  },
  {
   "cell_type": "code",
   "execution_count": 6,
   "metadata": {},
   "outputs": [
    {
     "data": {
      "text/html": [
       "\n",
       "\n",
       "\n",
       "\n",
       "\n",
       "\n",
       "  <div class=\"bk-root\" id=\"e56e194d-0882-4c76-b3fe-dfbc8792ee76\" data-root-id=\"1147\"></div>\n"
      ]
     },
     "metadata": {},
     "output_type": "display_data"
    },
    {
     "data": {
      "application/javascript": [
       "(function(root) {\n",
       "  function embed_document(root) {\n",
       "    \n",
       "  var docs_json = {\"8c4dcae7-4608-4218-ac55-195462f76551\":{\"roots\":{\"references\":[{\"attributes\":{\"below\":[{\"id\":\"1157\",\"type\":\"LinearAxis\"}],\"left\":[{\"id\":\"1162\",\"type\":\"LinearAxis\"}],\"plot_height\":400,\"renderers\":[{\"id\":\"1157\",\"type\":\"LinearAxis\"},{\"id\":\"1161\",\"type\":\"Grid\"},{\"id\":\"1162\",\"type\":\"LinearAxis\"},{\"id\":\"1166\",\"type\":\"Grid\"},{\"id\":\"1175\",\"type\":\"BoxAnnotation\"},{\"id\":\"1186\",\"type\":\"GlyphRenderer\"},{\"id\":\"1192\",\"type\":\"GlyphRenderer\"},{\"id\":\"1198\",\"type\":\"GlyphRenderer\"}],\"title\":{\"id\":\"1146\",\"type\":\"Title\"},\"toolbar\":{\"id\":\"1173\",\"type\":\"Toolbar\"},\"x_range\":{\"id\":\"1149\",\"type\":\"DataRange1d\"},\"x_scale\":{\"id\":\"1153\",\"type\":\"LinearScale\"},\"y_range\":{\"id\":\"1151\",\"type\":\"DataRange1d\"},\"y_scale\":{\"id\":\"1155\",\"type\":\"LinearScale\"}},\"id\":\"1147\",\"subtype\":\"Figure\",\"type\":\"Plot\"},{\"attributes\":{\"formatter\":{\"id\":\"1221\",\"type\":\"BasicTickFormatter\"},\"plot\":{\"id\":\"1147\",\"subtype\":\"Figure\",\"type\":\"Plot\"},\"ticker\":{\"id\":\"1163\",\"type\":\"BasicTicker\"}},\"id\":\"1162\",\"type\":\"LinearAxis\"},{\"attributes\":{\"source\":{\"id\":\"1188\",\"type\":\"ColumnDataSource\"}},\"id\":\"1193\",\"type\":\"CDSView\"},{\"attributes\":{\"callback\":null},\"id\":\"1151\",\"type\":\"DataRange1d\"},{\"attributes\":{},\"id\":\"1219\",\"type\":\"BasicTickFormatter\"},{\"attributes\":{},\"id\":\"1153\",\"type\":\"LinearScale\"},{\"attributes\":{\"data_source\":{\"id\":\"1194\",\"type\":\"ColumnDataSource\"},\"glyph\":{\"id\":\"1196\",\"type\":\"Circle\"},\"hover_glyph\":null,\"muted_glyph\":null,\"nonselection_glyph\":{\"id\":\"1197\",\"type\":\"Circle\"},\"selection_glyph\":null,\"view\":{\"id\":\"1199\",\"type\":\"CDSView\"}},\"id\":\"1198\",\"type\":\"GlyphRenderer\"},{\"attributes\":{\"dimension\":1,\"plot\":{\"id\":\"1147\",\"subtype\":\"Figure\",\"type\":\"Plot\"},\"ticker\":{\"id\":\"1163\",\"type\":\"BasicTicker\"}},\"id\":\"1166\",\"type\":\"Grid\"},{\"attributes\":{\"fill_alpha\":{\"value\":0.5},\"fill_color\":{\"value\":\"navy\"},\"line_alpha\":{\"value\":0.5},\"line_color\":{\"value\":\"navy\"},\"size\":{\"units\":\"screen\",\"value\":15},\"x\":{\"field\":\"x\"},\"y\":{\"field\":\"y\"}},\"id\":\"1196\",\"type\":\"Circle\"},{\"attributes\":{\"callback\":null,\"data\":{\"bus_id\":[\"R0\",\"R1\",\"R10\"],\"deg_an\":[\"0.00\",\"-30.19\",\"-30.23\"],\"deg_bn\":[\"-120.00\",\"-150.19\",\"-150.41\"],\"deg_cn\":[\"120.00\",\"89.81\",\"89.64\"],\"deg_ng\":[\"0.00\",\"102.37\",\"-77.63\"],\"p_a\":[\"15.18\",\"0.00\",\"-14.88\"],\"p_abc\":[\"45.43\",\"0.00\",\"-44.65\"],\"p_b\":[\"15.10\",\"-0.00\",\"-14.88\"],\"p_c\":[\"15.14\",\"0.00\",\"-14.88\"],\"q_a\":[\"5.10\",\"-0.00\",\"-4.89\"],\"q_abc\":[\"15.23\",\"0.00\",\"-14.68\"],\"q_b\":[\"5.10\",\"0.00\",\"-4.89\"],\"q_c\":[\"5.03\",\"0.00\",\"-4.89\"],\"s_color\":[\"red\",\"blue\",\"green\"],\"s_radio\":[2.18888192887427,1,2.1679483388650276],\"u_avg_pu\":[\"1.000\",\"0.998\",\"0.981\"],\"v_ab\":[19999.99067499782,399.14809020768274,391.9974028237165],\"v_an\":[\"11547.00\",\"230.45\",\"225.78\"],\"v_an_pu\":[\"1.0000\",\"0.9979\",\"0.9777\"],\"v_bc\":[19999.990674997825,399.150211365352,392.9408326187849],\"v_bn\":[\"11547.00\",\"230.45\",\"226.45\"],\"v_bn_pu\":[\"1.0000\",\"0.9979\",\"0.9806\"],\"v_ca\":[19999.99067499783,399.155762137409,392.22716765700005],\"v_cn\":[\"11547.00\",\"230.45\",\"227.41\"],\"v_cn_pu\":[\"1.0000\",\"0.9979\",\"0.9847\"],\"v_ng\":[\"0.00\",\"0.03\",\"0.46\"],\"v_unb\":[\"0.0\",\"0.0\",\"0.4\"],\"x\":[0,0,0],\"y\":[20,0,-315]},\"selected\":{\"id\":\"1228\",\"type\":\"Selection\"},\"selection_policy\":{\"id\":\"1227\",\"type\":\"UnionRenderers\"}},\"id\":\"1194\",\"type\":\"ColumnDataSource\"},{\"attributes\":{},\"id\":\"1171\",\"type\":\"ResetTool\"},{\"attributes\":{},\"id\":\"1158\",\"type\":\"BasicTicker\"},{\"attributes\":{\"data_source\":{\"id\":\"1188\",\"type\":\"ColumnDataSource\"},\"glyph\":{\"id\":\"1190\",\"type\":\"MultiLine\"},\"hover_glyph\":null,\"muted_glyph\":null,\"nonselection_glyph\":{\"id\":\"1191\",\"type\":\"MultiLine\"},\"selection_glyph\":null,\"view\":{\"id\":\"1193\",\"type\":\"CDSView\"}},\"id\":\"1192\",\"type\":\"GlyphRenderer\"},{\"attributes\":{},\"id\":\"1163\",\"type\":\"BasicTicker\"},{\"attributes\":{\"callback\":null},\"id\":\"1149\",\"type\":\"DataRange1d\"},{\"attributes\":{\"line_alpha\":{\"value\":0.5},\"line_color\":{\"value\":\"red\"},\"line_width\":{\"value\":5},\"xs\":{\"field\":\"x_s\"},\"ys\":{\"field\":\"y_s\"}},\"id\":\"1190\",\"type\":\"MultiLine\"},{\"attributes\":{},\"id\":\"1225\",\"type\":\"UnionRenderers\"},{\"attributes\":{\"line_alpha\":{\"value\":0.1},\"line_color\":{\"value\":\"#1f77b4\"},\"line_width\":{\"value\":5},\"xs\":{\"field\":\"x_s\"},\"ys\":{\"field\":\"y_s\"}},\"id\":\"1185\",\"type\":\"MultiLine\"},{\"attributes\":{\"callback\":null,\"renderers\":[{\"id\":\"1192\",\"type\":\"GlyphRenderer\"}],\"tooltips\":\"\\n            <div>\\n            line id = @line_id \\n            <table border=\\\"5\\\">\\n                <tr >\\n                    <td>I<sub>ja</sub> =  @i_j_a_m &ang; @deg_j_a </td>\\n                    <td>I<sub>ka</sub> =  @i_k_a_m &ang; @deg_k_a </td>\\n                </tr>\\n                <tr>\\n                    <td >I<sub>jb</sub> =  @i_j_b_m &ang; @deg_j_b </td>\\n                    <td >I<sub>kb</sub> =  @i_k_b_m &ang; @deg_k_b </td>\\n                </tr>\\n                <tr>\\n                    <td >I<sub>jc</sub> =  @i_j_c_m &ang; @deg_j_c </td>\\n                    <td >I<sub>kc</sub> =  @i_k_c_m &ang; @deg_k_c </td>\\n                </tr>\\n                <tr>\\n                    <td >I<sub>jn</sub> =  @i_j_n_m &ang; @deg_j_n </td>\\n                    <td >I<sub>kn</sub> =  @i_k_n_m &ang; @deg_k_n </td>\\n                </tr>\\n            </table>            \\n            </div>\\n            \"},\"id\":\"1202\",\"type\":\"HoverTool\"},{\"attributes\":{},\"id\":\"1226\",\"type\":\"Selection\"},{\"attributes\":{},\"id\":\"1167\",\"type\":\"PanTool\"},{\"attributes\":{\"callback\":null,\"renderers\":[{\"id\":\"1186\",\"type\":\"GlyphRenderer\"}],\"tooltips\":\"\\n            <div>\\n            transformer id = @trafo_id  \\n            <table border=\\\"5\\\">\\n                <tr >\\n                    <td>I<sub>1a</sub> =  @i_1a_m &ang; @deg_1a </td>\\n                    <td>I<sub>2a</sub> =  @i_2a_m &ang; @deg_2a </td>\\n                </tr>\\n                <tr>\\n                    <td >I<sub>1b</sub> =  @i_1b_m &ang; @deg_1b </td>\\n                    <td >I<sub>2b</sub> =  @i_2b_m &ang; @deg_2b </td>\\n                </tr>\\n                <tr>\\n                    <td >I<sub>1c</sub> =  @i_1c_m &ang; @deg_1c </td>\\n                    <td >I<sub>2c</sub> =  @i_2c_m &ang; @deg_2c </td>\\n                </tr>\\n                <tr>\\n                    <td >I<sub>1n</sub> =  @i_1n_m &ang; @deg_1n </td>\\n                    <td >I<sub>2n</sub> =  @i_2n_m &ang; @deg_2n </td>\\n                </tr>\\n            </table>            \\n            </div>\\n            \"},\"id\":\"1200\",\"type\":\"HoverTool\"},{\"attributes\":{},\"id\":\"1155\",\"type\":\"LinearScale\"},{\"attributes\":{},\"id\":\"1168\",\"type\":\"WheelZoomTool\"},{\"attributes\":{\"callback\":null,\"renderers\":[{\"id\":\"1198\",\"type\":\"GlyphRenderer\"}],\"tooltips\":\"\\n            <div>\\n            bus_id = @bus_id &nbsp &nbsp |  u<sub>avg</sub>= @u_avg_pu pu |  u<sub>unb</sub>= @v_unb %\\n            <table border=\\\"1\\\">\\n                <tr>\\n                <td>v<sub>an</sub> =  @v_an  &ang; @deg_an V </td> <td> S<sub>a</sub> = @p_a + j@q_a kVA</td>\\n                </tr>\\n                      <tr>\\n                      <td> </td> <td>v<sub>ab</sub>= @v_ab V</td>\\n                      </tr>\\n                <tr>\\n                <td>v<sub>bn</sub> = @v_bn &ang; @deg_bn V </td><td> S<sub>b</sub> = @p_b + j@q_b kVA</td>\\n                </tr>\\n                      <tr>\\n                      <td> </td><td>v<sub>bc</sub>= @v_bc V</td>\\n                      </tr>\\n                <tr>\\n                <td>v<sub>cn</sub>  = @v_cn &ang; @deg_cn V </td>  <td>S<sub>c</sub> = @p_c + j@q_c kVA </td>\\n                </tr> \\n                    <tr>\\n                     <td> </td> <td>v<sub>ca</sub>= @v_ca V</td>\\n                    </tr>\\n               <tr>\\n                <td>v<sub>ng</sub>    = @v_ng &ang; @deg_ng V</td>  <td>S<sub>abc</sub> = @p_abc + j@q_abc kVA </td>\\n              </tr>\\n            </table>\\n            </div>\\n            \"},\"id\":\"1204\",\"type\":\"HoverTool\"},{\"attributes\":{\"overlay\":{\"id\":\"1175\",\"type\":\"BoxAnnotation\"}},\"id\":\"1169\",\"type\":\"BoxZoomTool\"},{\"attributes\":{\"line_alpha\":{\"value\":0.1},\"line_color\":{\"value\":\"#1f77b4\"},\"line_width\":{\"value\":5},\"xs\":{\"field\":\"x_s\"},\"ys\":{\"field\":\"y_s\"}},\"id\":\"1191\",\"type\":\"MultiLine\"},{\"attributes\":{},\"id\":\"1170\",\"type\":\"SaveTool\"},{\"attributes\":{\"plot\":{\"id\":\"1147\",\"subtype\":\"Figure\",\"type\":\"Plot\"},\"ticker\":{\"id\":\"1158\",\"type\":\"BasicTicker\"}},\"id\":\"1161\",\"type\":\"Grid\"},{\"attributes\":{\"callback\":null,\"data\":{\"deg_1a\":[-18.56794841963346],\"deg_1b\":[-138.65154871443477],\"deg_1c\":[101.62854660491192],\"deg_1n\":[-26.56505117707799],\"deg_2a\":[131.57145352822738],\"deg_2b\":[11.390270951499602],\"deg_2c\":[-108.55307217400293],\"deg_2n\":[-48.42854647155478],\"i_1a_m\":[1.3870009414442124],\"i_1b_m\":[1.3803670344251955],\"i_1c_m\":[1.3819471239997088],\"i_1n_m\":[3.1776437161565096e-14],\"i_2a_m\":[69.38946976935898],\"i_2b_m\":[69.1842491959768],\"i_2c_m\":[68.8917823148737],\"i_2n_m\":[69.38946976915713],\"trafo_id\":[\"R0-R1\"],\"x_s\":[[0,0]],\"y_s\":[[20,0]]},\"selected\":{\"id\":\"1224\",\"type\":\"Selection\"},\"selection_policy\":{\"id\":\"1223\",\"type\":\"UnionRenderers\"}},\"id\":\"1182\",\"type\":\"ColumnDataSource\"},{\"attributes\":{\"source\":{\"id\":\"1182\",\"type\":\"ColumnDataSource\"}},\"id\":\"1187\",\"type\":\"CDSView\"},{\"attributes\":{\"source\":{\"id\":\"1194\",\"type\":\"ColumnDataSource\"}},\"id\":\"1199\",\"type\":\"CDSView\"},{\"attributes\":{\"line_alpha\":{\"value\":0.5},\"line_color\":{\"value\":\"green\"},\"line_width\":{\"value\":5},\"xs\":{\"field\":\"x_s\"},\"ys\":{\"field\":\"y_s\"}},\"id\":\"1184\",\"type\":\"MultiLine\"},{\"attributes\":{},\"id\":\"1172\",\"type\":\"HelpTool\"},{\"attributes\":{},\"id\":\"1227\",\"type\":\"UnionRenderers\"},{\"attributes\":{},\"id\":\"1228\",\"type\":\"Selection\"},{\"attributes\":{\"plot\":null,\"text\":\"Results\"},\"id\":\"1146\",\"type\":\"Title\"},{\"attributes\":{\"active_drag\":\"auto\",\"active_inspect\":\"auto\",\"active_multi\":null,\"active_scroll\":\"auto\",\"active_tap\":\"auto\",\"tools\":[{\"id\":\"1167\",\"type\":\"PanTool\"},{\"id\":\"1168\",\"type\":\"WheelZoomTool\"},{\"id\":\"1169\",\"type\":\"BoxZoomTool\"},{\"id\":\"1170\",\"type\":\"SaveTool\"},{\"id\":\"1171\",\"type\":\"ResetTool\"},{\"id\":\"1172\",\"type\":\"HelpTool\"},{\"id\":\"1200\",\"type\":\"HoverTool\"},{\"id\":\"1202\",\"type\":\"HoverTool\"},{\"id\":\"1204\",\"type\":\"HoverTool\"}]},\"id\":\"1173\",\"type\":\"Toolbar\"},{\"attributes\":{},\"id\":\"1223\",\"type\":\"UnionRenderers\"},{\"attributes\":{\"callback\":null,\"data\":{\"deg_j_a\":[-48.42854647155478],\"deg_j_b\":[-168.60972904795872],\"deg_j_c\":[71.44692782642191],\"deg_j_n\":[118.91764197721334],\"deg_k_a\":[-48.42854647155478],\"deg_k_b\":[-168.60972904795872],\"deg_k_c\":[71.44692782642191],\"deg_k_n\":[118.91764197721334],\"i_j_a_m\":[69.38946976915713],\"i_j_b_m\":[69.18424919641495],\"i_j_c_m\":[68.89178231454432],\"i_j_n_m\":[0.2889528229491675],\"i_k_a_m\":[69.38946976915713],\"i_k_b_m\":[69.18424919641495],\"i_k_c_m\":[68.89178231454432],\"i_k_n_m\":[0.2889528229491675],\"line_id\":[\"R1-R10\"],\"x_s\":[[0,0]],\"y_s\":[[0,-315]]},\"selected\":{\"id\":\"1226\",\"type\":\"Selection\"},\"selection_policy\":{\"id\":\"1225\",\"type\":\"UnionRenderers\"}},\"id\":\"1188\",\"type\":\"ColumnDataSource\"},{\"attributes\":{\"formatter\":{\"id\":\"1219\",\"type\":\"BasicTickFormatter\"},\"plot\":{\"id\":\"1147\",\"subtype\":\"Figure\",\"type\":\"Plot\"},\"ticker\":{\"id\":\"1158\",\"type\":\"BasicTicker\"}},\"id\":\"1157\",\"type\":\"LinearAxis\"},{\"attributes\":{},\"id\":\"1221\",\"type\":\"BasicTickFormatter\"},{\"attributes\":{\"bottom_units\":\"screen\",\"fill_alpha\":{\"value\":0.5},\"fill_color\":{\"value\":\"lightgrey\"},\"left_units\":\"screen\",\"level\":\"overlay\",\"line_alpha\":{\"value\":1.0},\"line_color\":{\"value\":\"black\"},\"line_dash\":[4,4],\"line_width\":{\"value\":2},\"plot\":null,\"render_mode\":\"css\",\"right_units\":\"screen\",\"top_units\":\"screen\"},\"id\":\"1175\",\"type\":\"BoxAnnotation\"},{\"attributes\":{},\"id\":\"1224\",\"type\":\"Selection\"},{\"attributes\":{\"fill_alpha\":{\"value\":0.1},\"fill_color\":{\"value\":\"#1f77b4\"},\"line_alpha\":{\"value\":0.1},\"line_color\":{\"value\":\"#1f77b4\"},\"size\":{\"units\":\"screen\",\"value\":15},\"x\":{\"field\":\"x\"},\"y\":{\"field\":\"y\"}},\"id\":\"1197\",\"type\":\"Circle\"},{\"attributes\":{\"data_source\":{\"id\":\"1182\",\"type\":\"ColumnDataSource\"},\"glyph\":{\"id\":\"1184\",\"type\":\"MultiLine\"},\"hover_glyph\":null,\"muted_glyph\":null,\"nonselection_glyph\":{\"id\":\"1185\",\"type\":\"MultiLine\"},\"selection_glyph\":null,\"view\":{\"id\":\"1187\",\"type\":\"CDSView\"}},\"id\":\"1186\",\"type\":\"GlyphRenderer\"}],\"root_ids\":[\"1147\"]},\"title\":\"Bokeh Application\",\"version\":\"1.0.4\"}};\n",
       "  var render_items = [{\"docid\":\"8c4dcae7-4608-4218-ac55-195462f76551\",\"roots\":{\"1147\":\"e56e194d-0882-4c76-b3fe-dfbc8792ee76\"}}];\n",
       "  root.Bokeh.embed.embed_items_notebook(docs_json, render_items);\n",
       "\n",
       "  }\n",
       "  if (root.Bokeh !== undefined) {\n",
       "    embed_document(root);\n",
       "  } else {\n",
       "    var attempts = 0;\n",
       "    var timer = setInterval(function(root) {\n",
       "      if (root.Bokeh !== undefined) {\n",
       "        embed_document(root);\n",
       "        clearInterval(timer);\n",
       "      }\n",
       "      attempts++;\n",
       "      if (attempts > 100) {\n",
       "        console.log(\"Bokeh: ERROR: Unable to run BokehJS code because BokehJS library is missing\");\n",
       "        clearInterval(timer);\n",
       "      }\n",
       "    }, 10, root)\n",
       "  }\n",
       "})(window);"
      ],
      "application/vnd.bokehjs_exec.v0+json": ""
     },
     "metadata": {
      "application/vnd.bokehjs_exec.v0+json": {
       "id": "1147"
      }
     },
     "output_type": "display_data"
    }
   ],
   "source": [
    "grid_1 = grid()\n",
    "grid_1.read(data)  # Load data\n",
    "grid_1.pf()  # solve power flow\n",
    "p=plot_results(grid_1)"
   ]
  },
  {
   "cell_type": "code",
   "execution_count": null,
   "metadata": {},
   "outputs": [],
   "source": []
  }
 ],
 "metadata": {
  "anaconda-cloud": {},
  "kernelspec": {
   "display_name": "Python 3",
   "language": "python",
   "name": "python3"
  },
  "language_info": {
   "codemirror_mode": {
    "name": "ipython",
    "version": 3
   },
   "file_extension": ".py",
   "mimetype": "text/x-python",
   "name": "python",
   "nbconvert_exporter": "python",
   "pygments_lexer": "ipython3",
   "version": "3.7.3"
  },
  "widgets": {
   "state": {
    "84b4f7587590459796fce970155c4292": {
     "views": [
      {
       "cell_index": 8
      }
     ]
    }
   },
   "version": "1.2.0"
  }
 },
 "nbformat": 4,
 "nbformat_minor": 1
}
