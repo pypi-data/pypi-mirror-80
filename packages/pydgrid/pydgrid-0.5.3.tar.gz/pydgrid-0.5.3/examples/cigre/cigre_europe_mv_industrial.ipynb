{
 "cells": [
  {
   "cell_type": "code",
   "execution_count": 1,
   "metadata": {},
   "outputs": [],
   "source": [
    "import numpy as np\n",
    "from pydgrid import grid"
   ]
  },
  {
   "cell_type": "code",
   "execution_count": 27,
   "metadata": {},
   "outputs": [],
   "source": [
    "Z_red = 110.0e3**2/5000.0e6\n",
    "ratio=0.1\n",
    "# Z**2 = R**2 + X**2\n",
    "# Z**2 = ratio**2*X**2 + X**2 = X**2 * (ratio**2 + 1.0)\n",
    "X_red = (Z_red**2/(ratio**2 + 1.0))**0.5\n",
    "R_red = ratio*X_red\n",
    "\n",
    "Z_trafo_b = 20.0e3**2/25.0e6\n",
    "V_hv = 110.0/np.sqrt(3)*1.0\n",
    "\n",
    "S1,pf1,S2,pf2 = 15300.0,0.98,5280,0.95\n",
    "S_12_cplx = S1*pf1 + 1j*np.sin(np.arccos(pf1))*S1 + S2*pf2 + 1j*np.sin(np.arccos(pf2))*S2\n",
    "pf_12 = np.cos(np.angle(S_12_cplx))\n",
    "\n",
    "S1,pf1 = 40.0,0.85\n",
    "S_13_cplx = S1*pf1 + 1j*np.sin(np.arccos(pf1))*S1\n",
    "pf_13 = np.cos(np.angle(S_13_cplx))\n",
    "\n",
    "S1,pf1,S2,pf2 = 215.0,0.97,390.0,0.85\n",
    "S_14_cplx = S1*pf1 + 1j*np.sin(np.arccos(pf1))*S1 + S2*pf2 + 1j*np.sin(np.arccos(pf2))*S2\n",
    "pf_14 = np.cos(np.angle(S_14_cplx))\n",
    "\n",
    "data = {     \n",
    "        \"buses\":[\n",
    "                 {\"bus\": \"HVinf\", \"pos_x\":   0, \"pos_y\":  0, \"units\": \"m\", \"U_kV\":110.0},\n",
    "                 {\"bus\": \"HV\",    \"pos_x\":   0, \"pos_y\": -5, \"units\": \"m\", \"U_kV\":110.0},\n",
    "                 {\"bus\": \"12\",    \"pos_x\":   0, \"pos_y\":-15, \"units\": \"m\", \"U_kV\":20.0},\n",
    "                 {\"bus\": \"13\",    \"pos_x\":   0, \"pos_y\":-35, \"units\": \"m\", \"U_kV\":20.0},\n",
    "                 {\"bus\": \"14\",    \"pos_x\":   0, \"pos_y\":-85, \"units\": \"m\", \"U_kV\":20.0},\n",
    "                ],\n",
    "        \"grid_formers\":[\n",
    "                        {\"bus\": \"HVinf\",\n",
    "                        \"bus_nodes\": [1, 2, 3], \"deg\": [0, -120, -240],\n",
    "                        \"kV\": [V_hv,V_hv,V_hv]}\n",
    "                       ],\n",
    "        \"transformers\":[\n",
    "                        {\"bus_j\": \"HV\",  \"bus_k\": \"12\",  \"S_n_kVA\": 25.0e3, \"U_j_kV\":110, \"U_k_kV\":20.0,\n",
    "                         \"R_cc_pu\": 0.001, \"X_cc_pu\":0.12, \"connection\": \"Dyn1\",   \"conductors_j\": 3, \"conductors_k\": 4}\n",
    "                       ],\n",
    "        \"lines\":[\n",
    "                {\"bus_j\": \"HVinf\",  \"bus_k\": \"HV\",  \"code\": \"eq_red\", \"m\": 1000.0},\n",
    "                {\"bus_j\": \"12\",     \"bus_k\": \"13\",  \"code\": \"1\", \"m\": 4.89e3},\n",
    "                {\"bus_j\": \"13\",     \"bus_k\": \"14\",  \"code\": \"1\", \"m\": 3.0e3},\n",
    "                ],\n",
    "        \"shunts\":[\n",
    "                 {\"bus\": \"12\" , \"R\": 0.001,   \"X\": 0.0, \"bus_nodes\": [4,0]},\n",
    "                 {\"bus\": \"14\" , \"R\": 1.0e-10, \"X\": 0.0, \"bus_nodes\": [1,0]},\n",
    "                 #{\"bus\": \"12\" , \"R\": 1.0e-10, \"X\": 0.0, \"bus_nodes\": [2,3]},\n",
    "                 ],\n",
    "        \"loads\":[\n",
    "                # {\"bus\": \"12\" , \"kVA\":0*S_12_cplx, \"pf\": pf_12,\"type\":\"3P+N\"},\n",
    "                # {\"bus\": \"13\" , \"kVA\":0*40.0, \"pf\": 0.85,\"type\":\"3P+N\"},\n",
    "                # {\"bus\": \"14\" , \"kVA\":0*S_14_cplx, \"pf\":pf_14,\"type\":\"3P+N\"},\n",
    "                ],\n",
    "        \"line_codes\":\n",
    "            {\n",
    "            \"eq_red\":  {\"R1\":R_red,\"X1\":X_red},    \n",
    "            \"1\":  {\"R1\":0.510,\"X1\":0.366,\"B1_mu\":3.172,\"R0\":0.658,\"X0\":1.611,\"B0_mu\":1.28},\n",
    "            \"2\":  {\"R1\":89.0e-3,\"X1\":3.5e-3},\n",
    "            }\n",
    "       } "
   ]
  },
  {
   "cell_type": "code",
   "execution_count": 29,
   "metadata": {},
   "outputs": [
    {
     "data": {
      "text/html": [
       "\n",
       "\n",
       "\n",
       "\n",
       "\n",
       "\n",
       "  <div class=\"bk-root\" id=\"7eadedd0-44ac-4486-82c0-8c3a195b592a\"></div>\n"
      ]
     },
     "metadata": {},
     "output_type": "display_data"
    },
    {
     "data": {
      "application/javascript": [
       "(function(root) {\n",
       "  function embed_document(root) {\n",
       "    \n",
       "  var docs_json = {\"a5449746-a79d-44bb-a9fe-8f45be10ef1a\":{\"roots\":{\"references\":[{\"attributes\":{\"below\":[{\"id\":\"2501\",\"type\":\"LinearAxis\"}],\"left\":[{\"id\":\"2506\",\"type\":\"LinearAxis\"}],\"plot_height\":400,\"renderers\":[{\"id\":\"2501\",\"type\":\"LinearAxis\"},{\"id\":\"2505\",\"type\":\"Grid\"},{\"id\":\"2506\",\"type\":\"LinearAxis\"},{\"id\":\"2510\",\"type\":\"Grid\"},{\"id\":\"2519\",\"type\":\"BoxAnnotation\"},{\"id\":\"2530\",\"type\":\"GlyphRenderer\"},{\"id\":\"2536\",\"type\":\"GlyphRenderer\"},{\"id\":\"2542\",\"type\":\"GlyphRenderer\"}],\"title\":{\"id\":\"2490\",\"type\":\"Title\"},\"toolbar\":{\"id\":\"2517\",\"type\":\"Toolbar\"},\"x_range\":{\"id\":\"2493\",\"type\":\"DataRange1d\"},\"x_scale\":{\"id\":\"2497\",\"type\":\"LinearScale\"},\"y_range\":{\"id\":\"2495\",\"type\":\"DataRange1d\"},\"y_scale\":{\"id\":\"2499\",\"type\":\"LinearScale\"}},\"id\":\"2491\",\"subtype\":\"Figure\",\"type\":\"Plot\"},{\"attributes\":{},\"id\":\"2515\",\"type\":\"ResetTool\"},{\"attributes\":{},\"id\":\"2653\",\"type\":\"Selection\"},{\"attributes\":{},\"id\":\"2656\",\"type\":\"UnionRenderers\"},{\"attributes\":{},\"id\":\"2650\",\"type\":\"BasicTickFormatter\"},{\"attributes\":{\"line_alpha\":{\"value\":0.5},\"line_color\":{\"value\":\"red\"},\"line_width\":{\"value\":5},\"xs\":{\"field\":\"x_s\"},\"ys\":{\"field\":\"y_s\"}},\"id\":\"2534\",\"type\":\"MultiLine\"},{\"attributes\":{},\"id\":\"2655\",\"type\":\"Selection\"},{\"attributes\":{\"callback\":null},\"id\":\"2493\",\"type\":\"DataRange1d\"},{\"attributes\":{},\"id\":\"2657\",\"type\":\"Selection\"},{\"attributes\":{},\"id\":\"2652\",\"type\":\"UnionRenderers\"},{\"attributes\":{},\"id\":\"2648\",\"type\":\"BasicTickFormatter\"},{\"attributes\":{\"source\":{\"id\":\"2526\",\"type\":\"ColumnDataSource\"}},\"id\":\"2531\",\"type\":\"CDSView\"},{\"attributes\":{\"fill_alpha\":{\"value\":0.1},\"fill_color\":{\"value\":\"#1f77b4\"},\"line_alpha\":{\"value\":0.1},\"line_color\":{\"value\":\"#1f77b4\"},\"size\":{\"units\":\"screen\",\"value\":15},\"x\":{\"field\":\"x\"},\"y\":{\"field\":\"y\"}},\"id\":\"2541\",\"type\":\"Circle\"},{\"attributes\":{\"active_drag\":\"auto\",\"active_inspect\":\"auto\",\"active_multi\":null,\"active_scroll\":\"auto\",\"active_tap\":\"auto\",\"tools\":[{\"id\":\"2511\",\"type\":\"PanTool\"},{\"id\":\"2512\",\"type\":\"WheelZoomTool\"},{\"id\":\"2513\",\"type\":\"BoxZoomTool\"},{\"id\":\"2514\",\"type\":\"SaveTool\"},{\"id\":\"2515\",\"type\":\"ResetTool\"},{\"id\":\"2516\",\"type\":\"HelpTool\"},{\"id\":\"2544\",\"type\":\"HoverTool\"},{\"id\":\"2546\",\"type\":\"HoverTool\"},{\"id\":\"2548\",\"type\":\"HoverTool\"}]},\"id\":\"2517\",\"type\":\"Toolbar\"},{\"attributes\":{\"callback\":null,\"renderers\":[{\"id\":\"2530\",\"type\":\"GlyphRenderer\"}],\"tooltips\":\"\\n            <div>\\n            transformer id = @trafo_id  \\n            <table border=\\\"5\\\">\\n                <tr >\\n                    <td>I<sub>1a</sub> =  @i_1a_m &ang; @deg_1a </td>\\n                    <td>I<sub>2a</sub> =  @i_2a_m &ang; @deg_2a </td>\\n                </tr>\\n                <tr>\\n                    <td >I<sub>1b</sub> =  @i_1b_m &ang; @deg_1b </td>\\n                    <td >I<sub>2b</sub> =  @i_2b_m &ang; @deg_2b </td>\\n                </tr>\\n                <tr>\\n                    <td >I<sub>1c</sub> =  @i_1c_m &ang; @deg_1c </td>\\n                    <td >I<sub>2c</sub> =  @i_2c_m &ang; @deg_2c </td>\\n                </tr>\\n                <tr>\\n                    <td >I<sub>1n</sub> =  @i_1n_m &ang; @deg_1n </td>\\n                    <td >I<sub>2n</sub> =  @i_2n_m &ang; @deg_2n </td>\\n                </tr>\\n            </table>            \\n            </div>\\n            \"},\"id\":\"2544\",\"type\":\"HoverTool\"},{\"attributes\":{\"callback\":null,\"data\":{\"deg_j_a\":[-31.405544677466068,-31.40526767108868,-31.400452695330884],\"deg_j_b\":[148.5834431792685,91.81351993970807,92.04950100125133],\"deg_j_c\":[-59.99585333135192,-30.167217693482534,-28.622145116603022],\"deg_j_n\":[0.0,-31.393701214608928,-31.395802383039094],\"deg_k_a\":[-31.405544677466068,-31.400452695330834,-31.398489799656176],\"deg_k_b\":[148.5834431792685,92.04950100155222,121.83849090262423],\"deg_k_c\":[-59.99585333135192,-28.622145116521146,-38.23632833851004],\"deg_k_n\":[0.0,-31.39580238303909,-31.398489799656183],\"i_j_a_m\":[130.78245955787284,1246.1489685290728,1246.2140857184904],\"i_j_b_m\":[130.8285997622665,0.2935314750820896,0.11520324624949999],\"i_j_c_m\":[0.052544907402133856,0.2787778110396514,0.10373489613788661],\"i_j_n_m\":[0.0,1246.2668990840498,1246.254201788523],\"i_k_a_m\":[130.78245955787284,1246.2140857184904,1246.2339916832652],\"i_k_b_m\":[130.8285997622665,0.11520324624858225,4.432849737993055e-13],\"i_k_c_m\":[0.052544907402133856,0.10373489613695758,3.3778960993279967e-12],\"i_k_n_m\":[0.0,1246.2542017885219,1246.2339916832682],\"line_id\":[\"HVinf-HV\",\"12-13\",\"13-14\"],\"x_s\":[[0,0],[0,0],[0,0]],\"y_s\":[[0,-5],[-15,-35],[-35,-85]]},\"selected\":{\"id\":\"2655\",\"type\":\"Selection\"},\"selection_policy\":{\"id\":\"2654\",\"type\":\"UnionRenderers\"}},\"id\":\"2532\",\"type\":\"ColumnDataSource\"},{\"attributes\":{},\"id\":\"2516\",\"type\":\"HelpTool\"},{\"attributes\":{},\"id\":\"2502\",\"type\":\"BasicTicker\"},{\"attributes\":{},\"id\":\"2497\",\"type\":\"LinearScale\"},{\"attributes\":{\"data_source\":{\"id\":\"2526\",\"type\":\"ColumnDataSource\"},\"glyph\":{\"id\":\"2528\",\"type\":\"MultiLine\"},\"hover_glyph\":null,\"muted_glyph\":null,\"nonselection_glyph\":{\"id\":\"2529\",\"type\":\"MultiLine\"},\"selection_glyph\":null,\"view\":{\"id\":\"2531\",\"type\":\"CDSView\"}},\"id\":\"2530\",\"type\":\"GlyphRenderer\"},{\"attributes\":{\"line_alpha\":{\"value\":0.5},\"line_color\":{\"value\":\"green\"},\"line_width\":{\"value\":5},\"xs\":{\"field\":\"x_s\"},\"ys\":{\"field\":\"y_s\"}},\"id\":\"2528\",\"type\":\"MultiLine\"},{\"attributes\":{\"line_alpha\":{\"value\":0.1},\"line_color\":{\"value\":\"#1f77b4\"},\"line_width\":{\"value\":5},\"xs\":{\"field\":\"x_s\"},\"ys\":{\"field\":\"y_s\"}},\"id\":\"2529\",\"type\":\"MultiLine\"},{\"attributes\":{\"overlay\":{\"id\":\"2519\",\"type\":\"BoxAnnotation\"}},\"id\":\"2513\",\"type\":\"BoxZoomTool\"},{\"attributes\":{\"data_source\":{\"id\":\"2532\",\"type\":\"ColumnDataSource\"},\"glyph\":{\"id\":\"2534\",\"type\":\"MultiLine\"},\"hover_glyph\":null,\"muted_glyph\":null,\"nonselection_glyph\":{\"id\":\"2535\",\"type\":\"MultiLine\"},\"selection_glyph\":null,\"view\":{\"id\":\"2537\",\"type\":\"CDSView\"}},\"id\":\"2536\",\"type\":\"GlyphRenderer\"},{\"attributes\":{\"callback\":null,\"data\":{\"deg_1a\":[-31.40554467746528],\"deg_1b\":[148.58344317926708],\"deg_1c\":[-59.99585334038418],\"deg_1n\":[-41.436731937093825],\"deg_2a\":[148.59473232891122],\"deg_2b\":[-88.1864800606753],\"deg_2c\":[149.8327823062106],\"deg_2n\":[-31.39370121460905],\"i_1a_m\":[130.78245955787384],\"i_1b_m\":[130.82859976225936],\"i_1c_m\":[0.05254490739748195],\"i_1n_m\":[8.589309868000576e-14],\"i_2a_m\":[1246.148968529074],\"i_2b_m\":[0.29353147508296223],\"i_2c_m\":[0.27877781103658683],\"i_2n_m\":[1246.2668990840489],\"trafo_id\":[\"HV-12\"],\"x_s\":[[0,0]],\"y_s\":[[-5,-15]]},\"selected\":{\"id\":\"2653\",\"type\":\"Selection\"},\"selection_policy\":{\"id\":\"2652\",\"type\":\"UnionRenderers\"}},\"id\":\"2526\",\"type\":\"ColumnDataSource\"},{\"attributes\":{},\"id\":\"2514\",\"type\":\"SaveTool\"},{\"attributes\":{},\"id\":\"2654\",\"type\":\"UnionRenderers\"},{\"attributes\":{\"dimension\":1,\"plot\":{\"id\":\"2491\",\"subtype\":\"Figure\",\"type\":\"Plot\"},\"ticker\":{\"id\":\"2507\",\"type\":\"BasicTicker\"}},\"id\":\"2510\",\"type\":\"Grid\"},{\"attributes\":{\"bottom_units\":\"screen\",\"fill_alpha\":{\"value\":0.5},\"fill_color\":{\"value\":\"lightgrey\"},\"left_units\":\"screen\",\"level\":\"overlay\",\"line_alpha\":{\"value\":1.0},\"line_color\":{\"value\":\"black\"},\"line_dash\":[4,4],\"line_width\":{\"value\":2},\"plot\":null,\"render_mode\":\"css\",\"right_units\":\"screen\",\"top_units\":\"screen\"},\"id\":\"2519\",\"type\":\"BoxAnnotation\"},{\"attributes\":{\"formatter\":{\"id\":\"2648\",\"type\":\"BasicTickFormatter\"},\"plot\":{\"id\":\"2491\",\"subtype\":\"Figure\",\"type\":\"Plot\"},\"ticker\":{\"id\":\"2502\",\"type\":\"BasicTicker\"}},\"id\":\"2501\",\"type\":\"LinearAxis\"},{\"attributes\":{\"line_alpha\":{\"value\":0.1},\"line_color\":{\"value\":\"#1f77b4\"},\"line_width\":{\"value\":5},\"xs\":{\"field\":\"x_s\"},\"ys\":{\"field\":\"y_s\"}},\"id\":\"2535\",\"type\":\"MultiLine\"},{\"attributes\":{},\"id\":\"2499\",\"type\":\"LinearScale\"},{\"attributes\":{\"callback\":null,\"renderers\":[{\"id\":\"2542\",\"type\":\"GlyphRenderer\"}],\"tooltips\":\"\\n            <div>\\n            bus_id = @bus_id &nbsp &nbsp |  u<sub>avg</sub>= @u_avg_pu pu |  u<sub>unb</sub>= @v_unb %\\n            <table border=\\\"1\\\">\\n                <tr>\\n                <td>v<sub>an</sub> =  @v_an  &ang; @deg_an V </td> <td> S<sub>a</sub> = @p_a + j@q_a kVA</td>\\n                </tr>\\n                      <tr>\\n                      <td> </td> <td>v<sub>ab</sub>= @v_ab V</td>\\n                      </tr>\\n                <tr>\\n                <td>v<sub>bn</sub> = @v_bn &ang; @deg_bn V </td><td> S<sub>b</sub> = @p_b + j@q_b kVA</td>\\n                </tr>\\n                      <tr>\\n                      <td> </td><td>v<sub>bc</sub>= @v_bc V</td>\\n                      </tr>\\n                <tr>\\n                <td>v<sub>cn</sub>  = @v_cn &ang; @deg_cn V </td>  <td>S<sub>c</sub> = @p_c + j@q_c kVA </td>\\n                </tr> \\n                    <tr>\\n                     <td> </td> <td>v<sub>ca</sub>= @v_ca V</td>\\n                    </tr>\\n               <tr>\\n                <td>v<sub>ng</sub>    = @v_ng &ang; @deg_ng V</td>  <td>S<sub>abc</sub> = @p_abc + j@q_abc kVA </td>\\n              </tr>\\n            </table>\\n            </div>\\n            \"},\"id\":\"2548\",\"type\":\"HoverTool\"},{\"attributes\":{},\"id\":\"2507\",\"type\":\"BasicTicker\"},{\"attributes\":{},\"id\":\"2512\",\"type\":\"WheelZoomTool\"},{\"attributes\":{\"callback\":null},\"id\":\"2495\",\"type\":\"DataRange1d\"},{\"attributes\":{\"callback\":null,\"renderers\":[{\"id\":\"2536\",\"type\":\"GlyphRenderer\"}],\"tooltips\":\"\\n            <div>\\n            line id = @line_id \\n            <table border=\\\"5\\\">\\n                <tr >\\n                    <td>I<sub>ja</sub> =  @i_j_a_m &ang; @deg_j_a </td>\\n                    <td>I<sub>ka</sub> =  @i_k_a_m &ang; @deg_k_a </td>\\n                </tr>\\n                <tr>\\n                    <td >I<sub>jb</sub> =  @i_j_b_m &ang; @deg_j_b </td>\\n                    <td >I<sub>kb</sub> =  @i_k_b_m &ang; @deg_k_b </td>\\n                </tr>\\n                <tr>\\n                    <td >I<sub>jc</sub> =  @i_j_c_m &ang; @deg_j_c </td>\\n                    <td >I<sub>kc</sub> =  @i_k_c_m &ang; @deg_k_c </td>\\n                </tr>\\n                <tr>\\n                    <td >I<sub>jn</sub> =  @i_j_n_m &ang; @deg_j_n </td>\\n                    <td >I<sub>kn</sub> =  @i_k_n_m &ang; @deg_k_n </td>\\n                </tr>\\n            </table>            \\n            </div>\\n            \"},\"id\":\"2546\",\"type\":\"HoverTool\"},{\"attributes\":{\"formatter\":{\"id\":\"2650\",\"type\":\"BasicTickFormatter\"},\"plot\":{\"id\":\"2491\",\"subtype\":\"Figure\",\"type\":\"Plot\"},\"ticker\":{\"id\":\"2507\",\"type\":\"BasicTicker\"}},\"id\":\"2506\",\"type\":\"LinearAxis\"},{\"attributes\":{\"callback\":null,\"data\":{\"bus_id\":[\"HVinf\",\"HV\",\"12\",\"13\",\"14\"],\"deg_an\":[\"0.00\",\"-0.23\",\"22.99\",\"22.99\",\"-31.40\"],\"deg_bn\":[\"-120.00\",\"-119.96\",\"-89.90\",\"-96.56\",\"-99.69\"],\"deg_cn\":[\"120.00\",\"120.00\",\"149.84\",\"161.81\",\"168.40\"],\"deg_ng\":[\"0.00\",\"0.00\",\"148.61\",\"0.00\",\"0.00\"],\"p_a\":[\"7089.00\",\"0.00\",\"0.00\",\"0.00\",\"0.00\"],\"p_abc\":[\"6880.27\",\"0.00\",\"0.00\",\"0.00\",\"0.00\"],\"p_b\":[\"-205.40\",\"-0.00\",\"0.00\",\"-0.00\",\"-0.00\"],\"p_c\":[\"-3.34\",\"0.00\",\"0.00\",\"0.00\",\"0.00\"],\"q_a\":[\"4328.09\",\"-0.00\",\"0.00\",\"0.00\",\"-0.00\"],\"q_abc\":[\"12634.28\",\"0.00\",\"0.00\",\"0.00\",\"0.00\"],\"q_b\":[\"8306.19\",\"0.00\",\"-0.00\",\"0.00\",\"0.00\"],\"q_c\":[\"0.00\",\"0.00\",\"0.00\",\"0.00\",\"0.00\"],\"s_color\":[\"red\",\"blue\",\"blue\",\"blue\",\"blue\"],\"s_radio\":[20,1,1,1,1],\"u_avg_pu\":[\"1.000\",\"0.997\",\"0.938\",\"0.848\",\"0.801\"],\"v_ab\":[109999.99999999999,109416.9824760643,17509.613930732106,15696.881703795694,14964.65922606741],\"v_an\":[\"63508.53\",\"63318.05\",\"9446.15\",\"3591.49\",\"0.00\"],\"v_an_pu\":[\"1.0000\",\"0.9970\",\"0.8181\",\"0.3110\",\"0.0000\"],\"v_bc\":[110000.0,109747.68555913119,20000.011946112587,20000.873444888777,20001.019046834223],\"v_bn\":[\"63508.53\",\"63194.38\",\"11520.51\",\"13611.61\",\"14964.66\"],\"v_bn_pu\":[\"1.0000\",\"0.9951\",\"0.9977\",\"1.1788\",\"1.2960\"],\"v_ca\":[110000.00000000003,109961.31487191653,18795.24712428443,15053.884972503201,12782.75282109547],\"v_cn\":[\"63508.53\",\"63508.54\",\"11542.95\",\"12164.06\",\"12782.75\"],\"v_cn_pu\":[\"1.0000\",\"1.0000\",\"0.9996\",\"1.0534\",\"1.1070\"],\"v_ng\":[\"0.00\",\"0.00\",\"1.25\",\"0.00\",\"0.00\"],\"v_unb\":[\"0.0\",\"0.3\",\"12.8\",\"63.3\",\"100.0\"],\"x\":[0,0,0,0,0],\"y\":[0,-5,-15,-35,-85]},\"selected\":{\"id\":\"2657\",\"type\":\"Selection\"},\"selection_policy\":{\"id\":\"2656\",\"type\":\"UnionRenderers\"}},\"id\":\"2538\",\"type\":\"ColumnDataSource\"},{\"attributes\":{\"data_source\":{\"id\":\"2538\",\"type\":\"ColumnDataSource\"},\"glyph\":{\"id\":\"2540\",\"type\":\"Circle\"},\"hover_glyph\":null,\"muted_glyph\":null,\"nonselection_glyph\":{\"id\":\"2541\",\"type\":\"Circle\"},\"selection_glyph\":null,\"view\":{\"id\":\"2543\",\"type\":\"CDSView\"}},\"id\":\"2542\",\"type\":\"GlyphRenderer\"},{\"attributes\":{\"plot\":{\"id\":\"2491\",\"subtype\":\"Figure\",\"type\":\"Plot\"},\"ticker\":{\"id\":\"2502\",\"type\":\"BasicTicker\"}},\"id\":\"2505\",\"type\":\"Grid\"},{\"attributes\":{\"plot\":null,\"text\":\"Results\"},\"id\":\"2490\",\"type\":\"Title\"},{\"attributes\":{\"fill_alpha\":{\"value\":0.5},\"fill_color\":{\"value\":\"navy\"},\"line_alpha\":{\"value\":0.5},\"line_color\":{\"value\":\"navy\"},\"size\":{\"units\":\"screen\",\"value\":15},\"x\":{\"field\":\"x\"},\"y\":{\"field\":\"y\"}},\"id\":\"2540\",\"type\":\"Circle\"},{\"attributes\":{\"source\":{\"id\":\"2532\",\"type\":\"ColumnDataSource\"}},\"id\":\"2537\",\"type\":\"CDSView\"},{\"attributes\":{},\"id\":\"2511\",\"type\":\"PanTool\"},{\"attributes\":{\"source\":{\"id\":\"2538\",\"type\":\"ColumnDataSource\"}},\"id\":\"2543\",\"type\":\"CDSView\"}],\"root_ids\":[\"2491\"]},\"title\":\"Bokeh Application\",\"version\":\"1.0.1\"}};\n",
       "  var render_items = [{\"docid\":\"a5449746-a79d-44bb-a9fe-8f45be10ef1a\",\"roots\":{\"2491\":\"7eadedd0-44ac-4486-82c0-8c3a195b592a\"}}];\n",
       "  root.Bokeh.embed.embed_items_notebook(docs_json, render_items);\n",
       "\n",
       "  }\n",
       "  if (root.Bokeh !== undefined) {\n",
       "    embed_document(root);\n",
       "  } else {\n",
       "    var attempts = 0;\n",
       "    var timer = setInterval(function(root) {\n",
       "      if (root.Bokeh !== undefined) {\n",
       "        embed_document(root);\n",
       "        clearInterval(timer);\n",
       "      }\n",
       "      attempts++;\n",
       "      if (attempts > 100) {\n",
       "        console.log(\"Bokeh: ERROR: Unable to run BokehJS code because BokehJS library is missing\");\n",
       "        clearInterval(timer);\n",
       "      }\n",
       "    }, 10, root)\n",
       "  }\n",
       "})(window);"
      ],
      "application/vnd.bokehjs_exec.v0+json": ""
     },
     "metadata": {
      "application/vnd.bokehjs_exec.v0+json": {
       "id": "2491"
      }
     },
     "output_type": "display_data"
    }
   ],
   "source": [
    "sys1 = grid()\n",
    "sys1.read(data)  # Load data\n",
    "sys1.pf()  # solve power flow\n",
    "\n",
    "from pydgrid.plot_bokeh import plot_results\n",
    "fig = plot_results(sys1)"
   ]
  },
  {
   "cell_type": "code",
   "execution_count": null,
   "metadata": {},
   "outputs": [],
   "source": []
  },
  {
   "cell_type": "code",
   "execution_count": 45,
   "metadata": {},
   "outputs": [
    {
     "name": "stdout",
     "output_type": "stream",
     "text": [
      "3ph fault in bus 12 with current = 5.774 kA\n",
      "2ph fault in bus 12 with current = 5.0 kA\n",
      "1ph-gnd fault in bus 12 with current = 5.852 kA\n",
      "3ph fault in bus 13 with current = 2.538 kA\n",
      "2ph fault in bus 13 with current = 2.198 kA\n",
      "1ph-gnd fault in bus 13 with current = 1.8 kA\n",
      "3ph fault in bus 14 with current = 1.82 kA\n",
      "2ph fault in bus 14 with current = 1.576 kA\n",
      "1ph-gnd fault in bus 14 with current = 1.246 kA\n"
     ]
    }
   ],
   "source": [
    "sys1 = grid()\n",
    "\n",
    "fault_list = [('12','3ph'),('12','2ph'),('12','1ph-gnd'),\n",
    "              ('13','3ph'),('13','2ph'),('13','1ph-gnd'),\n",
    "              ('14','3ph'),('14','2ph'),('14','1ph-gnd'),\n",
    "             ]\n",
    "\n",
    "for bus,sc_type in fault_list:\n",
    "    data[\"shunts\"] = [\n",
    "                     {\"bus\": \"12\" , \"R\": 0.001,   \"X\": 0.0, \"bus_nodes\": [4,0]}\n",
    "                     ]\n",
    "    if sc_type == '2ph':\n",
    "        data[\"shunts\"].append({\"bus\": bus , \"R\": 1.0e-10, \"X\": 0.0, \"bus_nodes\": [1,2]})\n",
    "    if sc_type == '3ph':\n",
    "        data[\"shunts\"].append({\"bus\": bus , \"R\": 1.0e-10, \"X\": 0.0, \"bus_nodes\": [1,2]})\n",
    "        data[\"shunts\"].append({\"bus\": bus , \"R\": 1.0e-10, \"X\": 0.0, \"bus_nodes\": [2,3]})\n",
    "    if sc_type == '1ph-gnd':\n",
    "        data[\"shunts\"].append({\"bus\": bus , \"R\": 1.0e-10, \"X\": 0.0, \"bus_nodes\": [1,0]})\n",
    "    sys1.read(data)  # Load data    \n",
    "    sys1.pf()  # solve power flow\n",
    "    i_2a_m = sys1.transformers[0]['i_2a_m']\n",
    "    print('{:s} fault in bus {:s} with current = {:0.4} kA'.format(sc_type,bus,i_2a_m/1000))"
   ]
  },
  {
   "cell_type": "code",
   "execution_count": null,
   "metadata": {},
   "outputs": [],
   "source": []
  },
  {
   "cell_type": "code",
   "execution_count": null,
   "metadata": {},
   "outputs": [],
   "source": []
  },
  {
   "cell_type": "code",
   "execution_count": null,
   "metadata": {},
   "outputs": [],
   "source": []
  },
  {
   "cell_type": "code",
   "execution_count": null,
   "metadata": {},
   "outputs": [],
   "source": []
  },
  {
   "cell_type": "code",
   "execution_count": 90,
   "metadata": {},
   "outputs": [],
   "source": [
    "Z_trafo = 0.016+1j*1.92\n",
    "I_cc_12 = 20.0e3/np.sqrt(3)/Z_trafo\n",
    "Z_base_trafo = 20.0e3**2/25.0e6\n",
    "Z_trafo_pu = Z_trafo/Z_base_trafo"
   ]
  },
  {
   "cell_type": "code",
   "execution_count": 44,
   "metadata": {},
   "outputs": [
    {
     "data": {
      "text/plain": [
       "6013.856493222156"
      ]
     },
     "execution_count": 44,
     "metadata": {},
     "output_type": "execute_result"
    }
   ],
   "source": [
    "abs(I_cc_12)"
   ]
  },
  {
   "cell_type": "code",
   "execution_count": 40,
   "metadata": {},
   "outputs": [
    {
     "data": {
      "text/plain": [
       "(0.001+0.12j)"
      ]
     },
     "execution_count": 40,
     "metadata": {},
     "output_type": "execute_result"
    }
   ],
   "source": [
    "Z_trafo_pu"
   ]
  },
  {
   "cell_type": "code",
   "execution_count": 23,
   "metadata": {},
   "outputs": [
    {
     "data": {
      "text/plain": [
       "[{'bus_j': 'HV',\n",
       "  'bus_k': '12',\n",
       "  'S_n_kVA': 25000.0,\n",
       "  'U_j_kV': 110,\n",
       "  'U_k_kV': 20.0,\n",
       "  'R_cc_pu': 0.001,\n",
       "  'X_cc_pu': 0.12,\n",
       "  'connection': 'Dyn1',\n",
       "  'conductors_j': 3,\n",
       "  'conductors_k': 4,\n",
       "  'bus_j_nodes': [1, 2, 3],\n",
       "  'bus_k_nodes': [1, 2, 3, 4],\n",
       "  'i_1a_m': 130.78245955787384,\n",
       "  'i_1b_m': 130.82859976225936,\n",
       "  'i_1c_m': 0.05254490739748195,\n",
       "  'i_1n_m': 8.589309868000576e-14,\n",
       "  'i_2a_m': 1246.148968529074,\n",
       "  'i_2b_m': 0.29353147508296223,\n",
       "  'i_2c_m': 0.27877781103658683,\n",
       "  'i_2n_m': 1246.2668990840489,\n",
       "  'deg_1a': -31.40554467746528,\n",
       "  'deg_1b': 148.58344317926708,\n",
       "  'deg_1c': -59.99585334038418,\n",
       "  'deg_1n': -41.436731937093825,\n",
       "  'deg_2a': 148.59473232891122,\n",
       "  'deg_2b': -88.1864800606753,\n",
       "  'deg_2c': 149.8327823062106,\n",
       "  'deg_2n': -31.39370121460905}]"
      ]
     },
     "execution_count": 23,
     "metadata": {},
     "output_type": "execute_result"
    }
   ],
   "source": [
    "sys1.transformers"
   ]
  },
  {
   "cell_type": "code",
   "execution_count": 37,
   "metadata": {},
   "outputs": [
    {
     "data": {
      "text/plain": [
       "6351.657962283674"
      ]
     },
     "execution_count": 37,
     "metadata": {},
     "output_type": "execute_result"
    }
   ],
   "source": [
    "5774.2345111669765*1.1"
   ]
  },
  {
   "cell_type": "code",
   "execution_count": 49,
   "metadata": {},
   "outputs": [
    {
     "data": {
      "text/plain": [
       "5500.0"
      ]
     },
     "execution_count": 49,
     "metadata": {},
     "output_type": "execute_result"
    }
   ],
   "source": [
    "5000*1.1"
   ]
  },
  {
   "cell_type": "code",
   "execution_count": null,
   "metadata": {},
   "outputs": [],
   "source": []
  }
 ],
 "metadata": {
  "kernelspec": {
   "display_name": "Python 3",
   "language": "python",
   "name": "python3"
  },
  "language_info": {
   "codemirror_mode": {
    "name": "ipython",
    "version": 3
   },
   "file_extension": ".py",
   "mimetype": "text/x-python",
   "name": "python",
   "nbconvert_exporter": "python",
   "pygments_lexer": "ipython3",
   "version": "3.6.6"
  }
 },
 "nbformat": 4,
 "nbformat_minor": 2
}
