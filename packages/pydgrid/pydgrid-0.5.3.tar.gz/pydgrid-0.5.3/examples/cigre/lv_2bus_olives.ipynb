{
 "cells": [
  {
   "cell_type": "code",
   "execution_count": 5,
   "metadata": {},
   "outputs": [],
   "source": [
    "import numpy as np\n",
    "from pydgrid import grid\n",
    "from pydgrid.plot_bokeh import plot_results"
   ]
  },
  {
   "cell_type": "markdown",
   "metadata": {},
   "source": [
    "## CIGRE LV European System"
   ]
  },
  {
   "cell_type": "code",
   "execution_count": 69,
   "metadata": {},
   "outputs": [
    {
     "data": {
      "text/html": [
       "\n",
       "\n",
       "\n",
       "\n",
       "\n",
       "\n",
       "  <div class=\"bk-root\" id=\"c5f56141-f960-4ff4-a80d-43259157d712\"></div>\n"
      ]
     },
     "metadata": {},
     "output_type": "display_data"
    },
    {
     "data": {
      "application/javascript": [
       "(function(root) {\n",
       "  function embed_document(root) {\n",
       "    \n",
       "  var docs_json = {\"6bf0afb8-6375-4137-998d-1adb12260c8b\":{\"roots\":{\"references\":[{\"attributes\":{\"below\":[{\"id\":\"11573\",\"type\":\"LinearAxis\"}],\"left\":[{\"id\":\"11578\",\"type\":\"LinearAxis\"}],\"plot_height\":400,\"renderers\":[{\"id\":\"11573\",\"type\":\"LinearAxis\"},{\"id\":\"11577\",\"type\":\"Grid\"},{\"id\":\"11578\",\"type\":\"LinearAxis\"},{\"id\":\"11582\",\"type\":\"Grid\"},{\"id\":\"11591\",\"type\":\"BoxAnnotation\"},{\"id\":\"11602\",\"type\":\"GlyphRenderer\"},{\"id\":\"11608\",\"type\":\"GlyphRenderer\"},{\"id\":\"11614\",\"type\":\"GlyphRenderer\"}],\"title\":{\"id\":\"11562\",\"type\":\"Title\"},\"toolbar\":{\"id\":\"11589\",\"type\":\"Toolbar\"},\"x_range\":{\"id\":\"11565\",\"type\":\"DataRange1d\"},\"x_scale\":{\"id\":\"11569\",\"type\":\"LinearScale\"},\"y_range\":{\"id\":\"11567\",\"type\":\"DataRange1d\"},\"y_scale\":{\"id\":\"11571\",\"type\":\"LinearScale\"}},\"id\":\"11563\",\"subtype\":\"Figure\",\"type\":\"Plot\"},{\"attributes\":{\"line_alpha\":{\"value\":0.1},\"line_color\":{\"value\":\"#1f77b4\"},\"line_width\":{\"value\":5},\"xs\":{\"field\":\"x_s\"},\"ys\":{\"field\":\"y_s\"}},\"id\":\"11607\",\"type\":\"MultiLine\"},{\"attributes\":{},\"id\":\"11579\",\"type\":\"BasicTicker\"},{\"attributes\":{\"data_source\":{\"id\":\"11604\",\"type\":\"ColumnDataSource\"},\"glyph\":{\"id\":\"11606\",\"type\":\"MultiLine\"},\"hover_glyph\":null,\"muted_glyph\":null,\"nonselection_glyph\":{\"id\":\"11607\",\"type\":\"MultiLine\"},\"selection_glyph\":null,\"view\":{\"id\":\"11609\",\"type\":\"CDSView\"}},\"id\":\"11608\",\"type\":\"GlyphRenderer\"},{\"attributes\":{\"dimension\":1,\"plot\":{\"id\":\"11563\",\"subtype\":\"Figure\",\"type\":\"Plot\"},\"ticker\":{\"id\":\"11579\",\"type\":\"BasicTicker\"}},\"id\":\"11582\",\"type\":\"Grid\"},{\"attributes\":{\"source\":{\"id\":\"11604\",\"type\":\"ColumnDataSource\"}},\"id\":\"11609\",\"type\":\"CDSView\"},{\"attributes\":{\"line_alpha\":{\"value\":0.5},\"line_color\":{\"value\":\"green\"},\"line_width\":{\"value\":5},\"xs\":{\"field\":\"x_s\"},\"ys\":{\"field\":\"y_s\"}},\"id\":\"11600\",\"type\":\"MultiLine\"},{\"attributes\":{\"callback\":null,\"data\":{\"bus_id\":[\"R1\",\"R10\"],\"deg_an\":[\"-0.00\",\"-1.41\"],\"deg_bn\":[\"-120.00\",\"-120.58\"],\"deg_cn\":[\"120.00\",\"121.90\"],\"deg_ng\":[\"19.18\",\"45.54\"],\"p_a\":[\"10.31\",\"-10.00\"],\"p_abc\":[\"10.95\",\"-10.00\"],\"p_b\":[\"-4.73\",\"5.00\"],\"p_c\":[\"5.36\",\"-5.00\"],\"q_a\":[\"0.25\",\"-0.00\"],\"q_abc\":[\"0.48\",\"-0.00\"],\"q_b\":[\"-8.39\",\"8.66\"],\"q_c\":[\"8.62\",\"-8.66\"],\"s_color\":[\"red\",\"green\"],\"s_radio\":[1.0466962879291564,1.0000000004097274],\"u_avg_pu\":[\"1.000\",\"0.997\"],\"v_ab\":[399.9999867050372,399.8270009947785],\"v_an\":[\"230.94\",\"223.84\"],\"v_an_pu\":[\"1.0000\",\"0.9692\"],\"v_bc\":[399.99998670503726,399.545068619367],\"v_bn\":[\"230.94\",\"239.72\"],\"v_bn_pu\":[\"1.0000\",\"1.0380\"],\"v_ca\":[399.9999867050373,397.24186696440034],\"v_cn\":[\"230.94\",\"227.52\"],\"v_cn_pu\":[\"1.0000\",\"0.9852\"],\"v_ng\":[\"0.00\",\"6.57\"],\"v_unb\":[\"0.0\",\"4.1\"],\"x\":[0,0],\"y\":[0,-315]},\"selected\":{\"id\":\"12017\",\"type\":\"Selection\"},\"selection_policy\":{\"id\":\"12016\",\"type\":\"UnionRenderers\"}},\"id\":\"11610\",\"type\":\"ColumnDataSource\"},{\"attributes\":{\"line_alpha\":{\"value\":0.1},\"line_color\":{\"value\":\"#1f77b4\"},\"line_width\":{\"value\":5},\"xs\":{\"field\":\"x_s\"},\"ys\":{\"field\":\"y_s\"}},\"id\":\"11601\",\"type\":\"MultiLine\"},{\"attributes\":{},\"id\":\"12017\",\"type\":\"Selection\"},{\"attributes\":{},\"id\":\"11583\",\"type\":\"PanTool\"},{\"attributes\":{\"fill_alpha\":{\"value\":0.5},\"fill_color\":{\"value\":\"navy\"},\"line_alpha\":{\"value\":0.5},\"line_color\":{\"value\":\"navy\"},\"size\":{\"units\":\"screen\",\"value\":15},\"x\":{\"field\":\"x\"},\"y\":{\"field\":\"y\"}},\"id\":\"11612\",\"type\":\"Circle\"},{\"attributes\":{},\"id\":\"11584\",\"type\":\"WheelZoomTool\"},{\"attributes\":{\"fill_alpha\":{\"value\":0.1},\"fill_color\":{\"value\":\"#1f77b4\"},\"line_alpha\":{\"value\":0.1},\"line_color\":{\"value\":\"#1f77b4\"},\"size\":{\"units\":\"screen\",\"value\":15},\"x\":{\"field\":\"x\"},\"y\":{\"field\":\"y\"}},\"id\":\"11613\",\"type\":\"Circle\"},{\"attributes\":{\"overlay\":{\"id\":\"11591\",\"type\":\"BoxAnnotation\"}},\"id\":\"11585\",\"type\":\"BoxZoomTool\"},{\"attributes\":{\"data_source\":{\"id\":\"11610\",\"type\":\"ColumnDataSource\"},\"glyph\":{\"id\":\"11612\",\"type\":\"Circle\"},\"hover_glyph\":null,\"muted_glyph\":null,\"nonselection_glyph\":{\"id\":\"11613\",\"type\":\"Circle\"},\"selection_glyph\":null,\"view\":{\"id\":\"11615\",\"type\":\"CDSView\"}},\"id\":\"11614\",\"type\":\"GlyphRenderer\"},{\"attributes\":{},\"id\":\"11586\",\"type\":\"SaveTool\"},{\"attributes\":{\"source\":{\"id\":\"11610\",\"type\":\"ColumnDataSource\"}},\"id\":\"11615\",\"type\":\"CDSView\"},{\"attributes\":{},\"id\":\"11587\",\"type\":\"ResetTool\"},{\"attributes\":{\"callback\":null,\"renderers\":[{\"id\":\"11602\",\"type\":\"GlyphRenderer\"}],\"tooltips\":\"\\n            <div>\\n            transformer id = @trafo_id  \\n            <table border=\\\"5\\\">\\n                <tr >\\n                    <td>I<sub>1a</sub> =  @i_1a_m &ang; @deg_1a </td>\\n                    <td>I<sub>2a</sub> =  @i_2a_m &ang; @deg_2a </td>\\n                </tr>\\n                <tr>\\n                    <td >I<sub>1b</sub> =  @i_1b_m &ang; @deg_1b </td>\\n                    <td >I<sub>2b</sub> =  @i_2b_m &ang; @deg_2b </td>\\n                </tr>\\n                <tr>\\n                    <td >I<sub>1c</sub> =  @i_1c_m &ang; @deg_1c </td>\\n                    <td >I<sub>2c</sub> =  @i_2c_m &ang; @deg_2c </td>\\n                </tr>\\n                <tr>\\n                    <td >I<sub>1n</sub> =  @i_1n_m &ang; @deg_1n </td>\\n                    <td >I<sub>2n</sub> =  @i_2n_m &ang; @deg_2n </td>\\n                </tr>\\n            </table>            \\n            </div>\\n            \"},\"id\":\"11616\",\"type\":\"HoverTool\"},{\"attributes\":{},\"id\":\"11588\",\"type\":\"HelpTool\"},{\"attributes\":{\"callback\":null,\"renderers\":[{\"id\":\"11608\",\"type\":\"GlyphRenderer\"}],\"tooltips\":\"\\n            <div>\\n            line id = @line_id \\n            <table border=\\\"5\\\">\\n                <tr >\\n                    <td>I<sub>ja</sub> =  @i_j_a_m &ang; @deg_j_a </td>\\n                    <td>I<sub>ka</sub> =  @i_k_a_m &ang; @deg_k_a </td>\\n                </tr>\\n                <tr>\\n                    <td >I<sub>jb</sub> =  @i_j_b_m &ang; @deg_j_b </td>\\n                    <td >I<sub>kb</sub> =  @i_k_b_m &ang; @deg_k_b </td>\\n                </tr>\\n                <tr>\\n                    <td >I<sub>jc</sub> =  @i_j_c_m &ang; @deg_j_c </td>\\n                    <td >I<sub>kc</sub> =  @i_k_c_m &ang; @deg_k_c </td>\\n                </tr>\\n                <tr>\\n                    <td >I<sub>jn</sub> =  @i_j_n_m &ang; @deg_j_n </td>\\n                    <td >I<sub>kn</sub> =  @i_k_n_m &ang; @deg_k_n </td>\\n                </tr>\\n            </table>            \\n            </div>\\n            \"},\"id\":\"11618\",\"type\":\"HoverTool\"},{\"attributes\":{\"callback\":null,\"renderers\":[{\"id\":\"11614\",\"type\":\"GlyphRenderer\"}],\"tooltips\":\"\\n            <div>\\n            bus_id = @bus_id &nbsp &nbsp |  u<sub>avg</sub>= @u_avg_pu pu |  u<sub>unb</sub>= @v_unb %\\n            <table border=\\\"1\\\">\\n                <tr>\\n                <td>v<sub>an</sub> =  @v_an  &ang; @deg_an V </td> <td> S<sub>a</sub> = @p_a + j@q_a kVA</td>\\n                </tr>\\n                      <tr>\\n                      <td> </td> <td>v<sub>ab</sub>= @v_ab V</td>\\n                      </tr>\\n                <tr>\\n                <td>v<sub>bn</sub> = @v_bn &ang; @deg_bn V </td><td> S<sub>b</sub> = @p_b + j@q_b kVA</td>\\n                </tr>\\n                      <tr>\\n                      <td> </td><td>v<sub>bc</sub>= @v_bc V</td>\\n                      </tr>\\n                <tr>\\n                <td>v<sub>cn</sub>  = @v_cn &ang; @deg_cn V </td>  <td>S<sub>c</sub> = @p_c + j@q_c kVA </td>\\n                </tr> \\n                    <tr>\\n                     <td> </td> <td>v<sub>ca</sub>= @v_ca V</td>\\n                    </tr>\\n               <tr>\\n                <td>v<sub>ng</sub>    = @v_ng &ang; @deg_ng V</td>  <td>S<sub>abc</sub> = @p_abc + j@q_abc kVA </td>\\n              </tr>\\n            </table>\\n            </div>\\n            \"},\"id\":\"11620\",\"type\":\"HoverTool\"},{\"attributes\":{\"callback\":null},\"id\":\"11567\",\"type\":\"DataRange1d\"},{\"attributes\":{\"bottom_units\":\"screen\",\"fill_alpha\":{\"value\":0.5},\"fill_color\":{\"value\":\"lightgrey\"},\"left_units\":\"screen\",\"level\":\"overlay\",\"line_alpha\":{\"value\":1.0},\"line_color\":{\"value\":\"black\"},\"line_dash\":[4,4],\"line_width\":{\"value\":2},\"plot\":null,\"render_mode\":\"css\",\"right_units\":\"screen\",\"top_units\":\"screen\"},\"id\":\"11591\",\"type\":\"BoxAnnotation\"},{\"attributes\":{},\"id\":\"11569\",\"type\":\"LinearScale\"},{\"attributes\":{},\"id\":\"12009\",\"type\":\"BasicTickFormatter\"},{\"attributes\":{},\"id\":\"11571\",\"type\":\"LinearScale\"},{\"attributes\":{\"data_source\":{\"id\":\"11598\",\"type\":\"ColumnDataSource\"},\"glyph\":{\"id\":\"11600\",\"type\":\"MultiLine\"},\"hover_glyph\":null,\"muted_glyph\":null,\"nonselection_glyph\":{\"id\":\"11601\",\"type\":\"MultiLine\"},\"selection_glyph\":null,\"view\":{\"id\":\"11603\",\"type\":\"CDSView\"}},\"id\":\"11602\",\"type\":\"GlyphRenderer\"},{\"attributes\":{\"callback\":null},\"id\":\"11565\",\"type\":\"DataRange1d\"},{\"attributes\":{},\"id\":\"12012\",\"type\":\"UnionRenderers\"},{\"attributes\":{\"formatter\":{\"id\":\"12007\",\"type\":\"BasicTickFormatter\"},\"plot\":{\"id\":\"11563\",\"subtype\":\"Figure\",\"type\":\"Plot\"},\"ticker\":{\"id\":\"11574\",\"type\":\"BasicTicker\"}},\"id\":\"11573\",\"type\":\"LinearAxis\"},{\"attributes\":{},\"id\":\"12007\",\"type\":\"BasicTickFormatter\"},{\"attributes\":{\"source\":{\"id\":\"11598\",\"type\":\"ColumnDataSource\"}},\"id\":\"11603\",\"type\":\"CDSView\"},{\"attributes\":{},\"id\":\"12013\",\"type\":\"Selection\"},{\"attributes\":{\"active_drag\":\"auto\",\"active_inspect\":\"auto\",\"active_multi\":null,\"active_scroll\":\"auto\",\"active_tap\":\"auto\",\"tools\":[{\"id\":\"11583\",\"type\":\"PanTool\"},{\"id\":\"11584\",\"type\":\"WheelZoomTool\"},{\"id\":\"11585\",\"type\":\"BoxZoomTool\"},{\"id\":\"11586\",\"type\":\"SaveTool\"},{\"id\":\"11587\",\"type\":\"ResetTool\"},{\"id\":\"11588\",\"type\":\"HelpTool\"},{\"id\":\"11616\",\"type\":\"HoverTool\"},{\"id\":\"11618\",\"type\":\"HoverTool\"},{\"id\":\"11620\",\"type\":\"HoverTool\"}]},\"id\":\"11589\",\"type\":\"Toolbar\"},{\"attributes\":{},\"id\":\"11574\",\"type\":\"BasicTicker\"},{\"attributes\":{\"callback\":null,\"data\":{\"deg_1a\":[],\"deg_1b\":[],\"deg_1c\":[],\"deg_1n\":[],\"deg_2a\":[],\"deg_2b\":[],\"deg_2c\":[],\"deg_2n\":[],\"i_1a_m\":[],\"i_1b_m\":[],\"i_1c_m\":[],\"i_1n_m\":[],\"i_2a_m\":[],\"i_2b_m\":[],\"i_2c_m\":[],\"i_2n_m\":[],\"trafo_id\":[],\"x_s\":[],\"y_s\":[]},\"selected\":{\"id\":\"12013\",\"type\":\"Selection\"},\"selection_policy\":{\"id\":\"12012\",\"type\":\"UnionRenderers\"}},\"id\":\"11598\",\"type\":\"ColumnDataSource\"},{\"attributes\":{\"callback\":null,\"data\":{\"deg_j_a\":[-1.414927044983097],\"deg_j_b\":[-0.5789019472979768],\"deg_j_c\":[61.89597591850333],\"deg_j_n\":[-160.8207419106527],\"deg_k_a\":[-1.414927044983097],\"deg_k_b\":[-0.5789019472979768],\"deg_k_c\":[61.89597591850333],\"deg_k_n\":[-160.8207419106527],\"i_j_a_m\":[44.67560715805879],\"i_j_b_m\":[41.71599931379865],\"i_j_c_m\":[43.953065488589374],\"i_j_n_m\":[113.37376391483984],\"i_k_a_m\":[44.67560715805879],\"i_k_b_m\":[41.71599931379865],\"i_k_c_m\":[43.953065488589374],\"i_k_n_m\":[113.37376391483984],\"line_id\":[\"R1-R10\"],\"x_s\":[[0,0]],\"y_s\":[[0,-315]]},\"selected\":{\"id\":\"12015\",\"type\":\"Selection\"},\"selection_policy\":{\"id\":\"12014\",\"type\":\"UnionRenderers\"}},\"id\":\"11604\",\"type\":\"ColumnDataSource\"},{\"attributes\":{},\"id\":\"12014\",\"type\":\"UnionRenderers\"},{\"attributes\":{\"plot\":null,\"text\":\"Results\"},\"id\":\"11562\",\"type\":\"Title\"},{\"attributes\":{\"plot\":{\"id\":\"11563\",\"subtype\":\"Figure\",\"type\":\"Plot\"},\"ticker\":{\"id\":\"11574\",\"type\":\"BasicTicker\"}},\"id\":\"11577\",\"type\":\"Grid\"},{\"attributes\":{},\"id\":\"12015\",\"type\":\"Selection\"},{\"attributes\":{\"formatter\":{\"id\":\"12009\",\"type\":\"BasicTickFormatter\"},\"plot\":{\"id\":\"11563\",\"subtype\":\"Figure\",\"type\":\"Plot\"},\"ticker\":{\"id\":\"11579\",\"type\":\"BasicTicker\"}},\"id\":\"11578\",\"type\":\"LinearAxis\"},{\"attributes\":{\"line_alpha\":{\"value\":0.5},\"line_color\":{\"value\":\"red\"},\"line_width\":{\"value\":5},\"xs\":{\"field\":\"x_s\"},\"ys\":{\"field\":\"y_s\"}},\"id\":\"11606\",\"type\":\"MultiLine\"},{\"attributes\":{},\"id\":\"12016\",\"type\":\"UnionRenderers\"}],\"root_ids\":[\"11563\"]},\"title\":\"Bokeh Application\",\"version\":\"1.0.2\"}};\n",
       "  var render_items = [{\"docid\":\"6bf0afb8-6375-4137-998d-1adb12260c8b\",\"roots\":{\"11563\":\"c5f56141-f960-4ff4-a80d-43259157d712\"}}];\n",
       "  root.Bokeh.embed.embed_items_notebook(docs_json, render_items);\n",
       "\n",
       "  }\n",
       "  if (root.Bokeh !== undefined) {\n",
       "    embed_document(root);\n",
       "  } else {\n",
       "    var attempts = 0;\n",
       "    var timer = setInterval(function(root) {\n",
       "      if (root.Bokeh !== undefined) {\n",
       "        embed_document(root);\n",
       "        clearInterval(timer);\n",
       "      }\n",
       "      attempts++;\n",
       "      if (attempts > 100) {\n",
       "        console.log(\"Bokeh: ERROR: Unable to run BokehJS code because BokehJS library is missing\");\n",
       "        clearInterval(timer);\n",
       "      }\n",
       "    }, 10, root)\n",
       "  }\n",
       "})(window);"
      ],
      "application/vnd.bokehjs_exec.v0+json": ""
     },
     "metadata": {
      "application/vnd.bokehjs_exec.v0+json": {
       "id": "11563"
      }
     },
     "output_type": "display_data"
    }
   ],
   "source": [
    "data = {\n",
    "\"buses\":[\n",
    "\t\t{\"bus\": \"R1\",  \"pos_x\":   0, \"pos_y\":    0, \"units\": \"m\", \"U_kV\": 0.4},\n",
    "\t\t{\"bus\": \"R10\", \"pos_x\":   0, \"pos_y\": -315, \"units\": \"m\", \"U_kV\": 0.4},\n",
    "\t\t],\n",
    "\"lines\":[\n",
    "        {\"bus_j\": \"R1\",  \"bus_k\": \"R10\",  \"code\": \"UG1\", \"m\": 315.0 },\n",
    "        ],\n",
    "\"shunts\":[\n",
    "        {\"bus\":  \"R1\" , \"R\":  1.0e-8, \"X\": 0, \"bus_nodes\": [4,0]},\n",
    "\t\t#{\"bus\":  \"R10\" , \"R\":  1.0e8, \"X\": 320, \"bus_nodes\": [4,0]},\n",
    "\t\t],\n",
    "\"grid_formers\":[\n",
    "\t\t{\"bus\": \"R1\",\"bus_nodes\": [1, 2, 3],\n",
    "\t\t \"deg\": [0, -120, -240], \"kV\": [0.2309401, 0.2309401, 0.2309401]}\n",
    "\t\t],\n",
    "\"loads\":[\n",
    "        {\"bus\":  \"R10\", \"kVA\": 10.0, \"pf\":np.cos(np.deg2rad(0)), \"type\":\"1P+N\", \"bus_nodes\": [1, 4]},\n",
    "        {\"bus\":  \"R10\", \"kVA\": -10.0, \"pf\":np.cos(np.deg2rad(60)), \"type\":\"1P+N\", \"bus_nodes\": [2, 4]},\n",
    "        {\"bus\":  \"R10\", \"kVA\": -10.0, \"pf\":-np.cos(np.deg2rad(60)), \"type\":\"1P+N\", \"bus_nodes\": [3, 4]},\n",
    "\t\t\t],\n",
    "\t\t\t\"line_codes\":\n",
    "\t\t\t\t{\"UG1\":\n",
    "\t\t\t\t\t{\"R\":[[ 0.211,  0.049,  0.049,  0.049],\n",
    "       \t\t\t\t\t[ 0.049,  0.211,  0.049,  0.049],\n",
    "       \t\t\t\t\t[ 0.049,  0.049,  0.211,  0.049],\n",
    "       \t\t\t\t\t[ 0.049,  0.049,  0.049,  0.211]],\n",
    "\t\t\t\t\t \"X\":[[ 0.747,  0.673,  0.651,  0.673],\n",
    "       \t\t\t\t\t[ 0.673,  0.747,  0.673,  0.651],\n",
    "       \t\t\t\t\t[ 0.651,  0.673,  0.747,  0.673],\n",
    "       \t\t\t\t\t[ 0.673,  0.651,  0.673,  0.747]]\n",
    "\t\t\t\t\t},\n",
    "\t\t\t\t\"UG3\":\n",
    "\t\t\t\t\t{\"R\":[[ 0.871,  0.049,  0.049,  0.049],\n",
    "       \t\t\t\t\t[ 0.049,  0.871,  0.049,  0.049],\n",
    "       \t\t\t\t\t[ 0.049,  0.049,  0.871,  0.049],\n",
    "       \t\t\t\t\t[ 0.049,  0.049,  0.049,  0.871]],\n",
    "\t\t\t\t\t \"X\":[[ 0.797,  0.719,  0.697,  0.719],\n",
    "       \t\t\t\t\t[ 0.719,  0.797,  0.719,  0.697],\n",
    "       \t\t\t\t\t[ 0.697,  0.719,  0.797,  0.719],\n",
    "       \t\t\t\t\t[ 0.719,  0.697,  0.719,  0.797]]\n",
    "\t\t\t\t\t}\n",
    "\t\t\t\t}\n",
    "}\n",
    "grid_1 = grid()\n",
    "grid_1.read(data)  # Load data\n",
    "grid_1.pf()  # solve power flow\n",
    "p=plot_results(grid_1)"
   ]
  },
  {
   "cell_type": "code",
   "execution_count": null,
   "metadata": {
    "scrolled": false
   },
   "outputs": [],
   "source": []
  },
  {
   "cell_type": "code",
   "execution_count": null,
   "metadata": {},
   "outputs": [],
   "source": [
    "R = np.array([[ 0.211,  0.049,  0.049,  0.049],\n",
    "              [ 0.049,  0.211,  0.049,  0.049],\n",
    "              [ 0.049,  0.049,  0.211,  0.049],\n",
    "              [ 0.049,  0.049,  0.049,  0.211]])\n",
    "X = np.array([[ 0.747,  0.673,  0.651,  0.673],\n",
    "              [ 0.673,  0.747,  0.673,  0.651],\n",
    "              [ 0.651,  0.673,  0.747,  0.673],\n",
    "              [ 0.673,  0.651,  0.673,  0.747]])\n",
    "\n",
    "Z = 0.315*(R + 1j*X)\n",
    "                     \n",
    "                     "
   ]
  },
  {
   "cell_type": "code",
   "execution_count": null,
   "metadata": {},
   "outputs": [],
   "source": [
    "U_1_n = 0.4e3\n",
    "U_2_n = 0.4e3\n",
    "S_m = 47.0e3\n",
    "fp = 0.95\n",
    "phi = np.arccos(fp)\n",
    "P = S_m*np.cos(phi)\n",
    "Q = S_m*np.sin(phi)\n",
    "S = P + 1j*Q\n",
    "V_1 = U_1_n/np.sqrt(3)*np.array([1,np.exp(-1j*2/3*np.pi),np.exp(-1j*4/3*np.pi)]).reshape(3,1)\n",
    "V_1 = np.vstack((V_1,0))\n",
    "I_2_abcn = np.zeros((4,1))\n",
    "\n",
    "for it in range(10):\n",
    "    V_2_abc_g = V_1 - Z@I_2_abcn\n",
    "    V_2_abc_n = V_2_abc_g[0:3] - V_2_abc_g[3]\n",
    "    I_2_abc = np.conj((S/3)/V_2_abc_n[0:3])\n",
    "    I_2_n = -np.sum(I_2_abc)\n",
    "    I_2_abcn = np.vstack((I_2_abc,I_2_n))\n",
    "\n",
    "print(abs(V_2_abc_g-V_2_abc_g[3]))\n",
    "np.sum(np.conj(I_2_abcn)*V_2_abcn)"
   ]
  },
  {
   "cell_type": "code",
   "execution_count": null,
   "metadata": {},
   "outputs": [],
   "source": [
    "abs(np.conj(I_2_abcn)*V_2_abcn)"
   ]
  },
  {
   "cell_type": "code",
   "execution_count": 10,
   "metadata": {},
   "outputs": [
    {
     "data": {
      "text/plain": [
       "-0.4999999999999998"
      ]
     },
     "execution_count": 10,
     "metadata": {},
     "output_type": "execute_result"
    }
   ],
   "source": [
    "np.cos(np.pi*2/3)"
   ]
  },
  {
   "cell_type": "code",
   "execution_count": null,
   "metadata": {},
   "outputs": [],
   "source": []
  }
 ],
 "metadata": {
  "anaconda-cloud": {},
  "kernelspec": {
   "display_name": "Python 3",
   "language": "python",
   "name": "python3"
  },
  "language_info": {
   "codemirror_mode": {
    "name": "ipython",
    "version": 3
   },
   "file_extension": ".py",
   "mimetype": "text/x-python",
   "name": "python",
   "nbconvert_exporter": "python",
   "pygments_lexer": "ipython3",
   "version": "3.7.1"
  },
  "widgets": {
   "state": {
    "84b4f7587590459796fce970155c4292": {
     "views": [
      {
       "cell_index": 8
      }
     ]
    }
   },
   "version": "1.2.0"
  }
 },
 "nbformat": 4,
 "nbformat_minor": 1
}
