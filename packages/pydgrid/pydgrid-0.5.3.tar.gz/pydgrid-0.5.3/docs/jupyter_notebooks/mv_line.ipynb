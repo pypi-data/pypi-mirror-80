{
 "cells": [
  {
   "cell_type": "markdown",
   "metadata": {},
   "source": [
    "# Short circuits in MV line"
   ]
  },
  {
   "cell_type": "code",
   "execution_count": 19,
   "metadata": {},
   "outputs": [],
   "source": [
    "import numpy as np\n",
    "from pydgrid import grid\n",
    "from pydgrid.plot_bokeh import plot_results"
   ]
  },
  {
   "cell_type": "markdown",
   "metadata": {},
   "source": [
    "![](./png/mv_short_circuits.png)"
   ]
  },
  {
   "cell_type": "markdown",
   "metadata": {},
   "source": [
    "## System"
   ]
  },
  {
   "cell_type": "code",
   "execution_count": 20,
   "metadata": {},
   "outputs": [],
   "source": [
    "data = {\n",
    "\"transformers\":[\n",
    "        {\"bus_j\": \"B0\",  \"bus_k\": \"B1\",  \"S_n_kVA\": 32000.00, \"U_j_kV\":66.0, \"U_k_kV\":18.0,\n",
    "        \"R_cc_pu\": 0.01, \"X_cc_pu\":0.08, \"connection\": \"Dyn11\",\n",
    "        \"conductors_1\": 3, \"conductors_2\": 4}\n",
    "        ],\n",
    "\"lines\":[\n",
    "        {\"bus_j\": \"B1\",  \"bus_k\": \"B2\",  \"code\": \"mv_al_120\", \"m\": 20000.0}\n",
    "        ],\n",
    "\"buses\":[\n",
    "        {\"bus\": \"B0\",  \"pos_x\": 0,  \"pos_y\": 0, \"units\": \"m\", \"U_kV\":66.0},\n",
    "        {\"bus\": \"B1\",  \"pos_x\":30,  \"pos_y\": 0, \"units\": \"m\", \"U_kV\":18.0},\n",
    "        {\"bus\": \"B2\",  \"pos_x\":200, \"pos_y\": 0, \"units\": \"m\", \"U_kV\":18.0}\n",
    "        ],\n",
    "\"grid_formers\":[\n",
    "        {\"bus\": \"B0\",\n",
    "        \"bus_nodes\": [1, 2, 3], \"deg\": [0, -120, -240],\n",
    "        \"kV\": [38.105, 38.105, 38.105]}\n",
    "        ],\n",
    "\"grid_feeders\":[{\"bus\": \"B2\",\"bus_nodes\": [1, 2, 3],\n",
    "                \"kW\": [0, 0, 0], \"kvar\": [0,0,0],\n",
    "                \"kA\": [-0.082,-0.082,-0.082], \"phi_deg\":[0, 0, 0]}\n",
    "                ],   \n",
    "\"line_codes\":\n",
    "        {\"mv_al_35\":  {\"R1\":1.093, \"X1\":0.148, \"R0\":1.093, \"X0\":0.148}, # no hay dato de X1, se toma del 50 mm2\n",
    "         \"mv_al_50\":  {\"R1\":0.8,   \"X1\":0.148, \"R0\":0.8,   \"X0\":0.148},\n",
    "         \"mv_al_70\":  {\"R1\":0.558, \"X1\":0.137, \"R0\":0.558, \"X0\":0.137},\n",
    "         \"mv_al_95\":  {\"R1\":0.403, \"X1\":0.129, \"R0\":0.403, \"X0\":0.129},\n",
    "         \"mv_al_120\": {\"R1\":0.321, \"X1\":0.123, \"R0\":0.321, \"X0\":0.123},\n",
    "         \"mv_al_150\": {\"R1\":0.262, \"X1\":0.118, \"R0\":0.262, \"X0\":0.118},\n",
    "         \"mv_al_185\": {\"R1\":0.209, \"X1\":0.113, \"R0\":0.209, \"X0\":0.113},\n",
    "         \"mv_al_300\": {\"R1\":0.128, \"X1\":0.105, \"R0\":0.128, \"X0\":0.105}\n",
    "         },\n",
    "\"shunts\":[\n",
    "        {\"bus\": \"B1\" , \"R\": 1e3, \"X\": 0.0, \"bus_nodes\": [4,0]},\n",
    "        ]\n",
    "}"
   ]
  },
  {
   "cell_type": "code",
   "execution_count": 21,
   "metadata": {},
   "outputs": [
    {
     "data": {
      "text/html": [
       "\n",
       "\n",
       "\n",
       "\n",
       "\n",
       "\n",
       "  <div class=\"bk-root\" id=\"216c5384-f335-4271-9394-49e966aed7c1\"></div>\n"
      ]
     },
     "metadata": {},
     "output_type": "display_data"
    },
    {
     "data": {
      "application/javascript": [
       "(function(root) {\n",
       "  function embed_document(root) {\n",
       "    \n",
       "  var docs_json = {\"c9648cd2-4935-4085-8972-1ac1afbe3f6e\":{\"roots\":{\"references\":[{\"attributes\":{\"below\":[{\"id\":\"2501\",\"type\":\"LinearAxis\"}],\"left\":[{\"id\":\"2506\",\"type\":\"LinearAxis\"}],\"plot_height\":400,\"renderers\":[{\"id\":\"2501\",\"type\":\"LinearAxis\"},{\"id\":\"2505\",\"type\":\"Grid\"},{\"id\":\"2506\",\"type\":\"LinearAxis\"},{\"id\":\"2510\",\"type\":\"Grid\"},{\"id\":\"2519\",\"type\":\"BoxAnnotation\"},{\"id\":\"2530\",\"type\":\"GlyphRenderer\"},{\"id\":\"2536\",\"type\":\"GlyphRenderer\"},{\"id\":\"2542\",\"type\":\"GlyphRenderer\"}],\"title\":{\"id\":\"2490\",\"type\":\"Title\"},\"toolbar\":{\"id\":\"2517\",\"type\":\"Toolbar\"},\"x_range\":{\"id\":\"2493\",\"type\":\"DataRange1d\"},\"x_scale\":{\"id\":\"2497\",\"type\":\"LinearScale\"},\"y_range\":{\"id\":\"2495\",\"type\":\"DataRange1d\"},\"y_scale\":{\"id\":\"2499\",\"type\":\"LinearScale\"}},\"id\":\"2491\",\"subtype\":\"Figure\",\"type\":\"Plot\"},{\"attributes\":{\"data_source\":{\"id\":\"2532\",\"type\":\"ColumnDataSource\"},\"glyph\":{\"id\":\"2534\",\"type\":\"MultiLine\"},\"hover_glyph\":null,\"muted_glyph\":null,\"nonselection_glyph\":{\"id\":\"2535\",\"type\":\"MultiLine\"},\"selection_glyph\":null,\"view\":{\"id\":\"2537\",\"type\":\"CDSView\"}},\"id\":\"2536\",\"type\":\"GlyphRenderer\"},{\"attributes\":{\"line_alpha\":{\"value\":0.5},\"line_color\":{\"value\":\"green\"},\"line_width\":{\"value\":5},\"xs\":{\"field\":\"x_s\"},\"ys\":{\"field\":\"y_s\"}},\"id\":\"2528\",\"type\":\"MultiLine\"},{\"attributes\":{\"source\":{\"id\":\"2526\",\"type\":\"ColumnDataSource\"}},\"id\":\"2531\",\"type\":\"CDSView\"},{\"attributes\":{},\"id\":\"2648\",\"type\":\"BasicTickFormatter\"},{\"attributes\":{},\"id\":\"2654\",\"type\":\"Selection\"},{\"attributes\":{\"active_drag\":\"auto\",\"active_inspect\":\"auto\",\"active_multi\":null,\"active_scroll\":\"auto\",\"active_tap\":\"auto\",\"tools\":[{\"id\":\"2511\",\"type\":\"PanTool\"},{\"id\":\"2512\",\"type\":\"WheelZoomTool\"},{\"id\":\"2513\",\"type\":\"BoxZoomTool\"},{\"id\":\"2514\",\"type\":\"SaveTool\"},{\"id\":\"2515\",\"type\":\"ResetTool\"},{\"id\":\"2516\",\"type\":\"HelpTool\"},{\"id\":\"2544\",\"type\":\"HoverTool\"},{\"id\":\"2546\",\"type\":\"HoverTool\"},{\"id\":\"2548\",\"type\":\"HoverTool\"}]},\"id\":\"2517\",\"type\":\"Toolbar\"},{\"attributes\":{\"callback\":null},\"id\":\"2493\",\"type\":\"DataRange1d\"},{\"attributes\":{\"plot\":{\"id\":\"2491\",\"subtype\":\"Figure\",\"type\":\"Plot\"},\"ticker\":{\"id\":\"2502\",\"type\":\"BasicTicker\"}},\"id\":\"2505\",\"type\":\"Grid\"},{\"attributes\":{\"line_alpha\":{\"value\":0.5},\"line_color\":{\"value\":\"red\"},\"line_width\":{\"value\":5},\"xs\":{\"field\":\"x_s\"},\"ys\":{\"field\":\"y_s\"}},\"id\":\"2534\",\"type\":\"MultiLine\"},{\"attributes\":{},\"id\":\"2512\",\"type\":\"WheelZoomTool\"},{\"attributes\":{\"callback\":null,\"data\":{\"bus_id\":[\"B0\",\"B1\",\"B2\"],\"deg_an\":[\"0.00\",\"-30.37\",\"-31.48\"],\"deg_bn\":[\"-120.00\",\"-150.37\",\"-151.48\"],\"deg_cn\":[\"120.00\",\"89.63\",\"88.52\"],\"deg_ng\":[\"0.00\",\"-20.56\",\"0.00\"],\"p_a\":[\"851.88\",\"0.00\",\"-808.03\"],\"p_abc\":[\"2555.65\",\"-0.00\",\"-2424.10\"],\"p_b\":[\"851.88\",\"-0.00\",\"-808.03\"],\"p_c\":[\"851.88\",\"0.00\",\"-808.03\"],\"q_a\":[\"21.99\",\"-0.00\",\"0.00\"],\"q_abc\":[\"65.96\",\"-0.00\",\"0.00\"],\"q_b\":[\"21.99\",\"-0.00\",\"0.00\"],\"q_c\":[\"21.99\",\"0.00\",\"0.00\"],\"s_color\":[\"red\",\"green\",\"green\"],\"s_radio\":[15.989055916113225,1,15.56952574115439],\"u_avg_pu\":[\"1.000\",\"0.999\",\"0.948\"],\"v_ab\":[65999.79602241206,17982.965860420412,17067.75059165828],\"v_an\":[\"38105.00\",\"10382.47\",\"9854.07\"],\"v_an_pu\":[\"1.0000\",\"0.9991\",\"0.9482\"],\"v_bc\":[65999.79602241208,17982.96586041859,17067.750591657037],\"v_bn\":[\"38105.00\",\"10382.47\",\"9854.07\"],\"v_bn_pu\":[\"1.0000\",\"0.9991\",\"0.9482\"],\"v_ca\":[65999.79602241208,17982.96586042332,17067.750591661366],\"v_cn\":[\"38105.00\",\"10382.47\",\"9854.07\"],\"v_cn_pu\":[\"1.0000\",\"0.9991\",\"0.9482\"],\"v_ng\":[\"0.00\",\"0.00\",\"0.00\"],\"v_unb\":[\"0.0\",\"0.0\",\"0.0\"],\"x\":[0,30,200],\"y\":[0,0,0]},\"selected\":{\"id\":\"2656\",\"type\":\"Selection\"},\"selection_policy\":{\"id\":\"2655\",\"type\":\"UnionRenderers\"}},\"id\":\"2538\",\"type\":\"ColumnDataSource\"},{\"attributes\":{},\"id\":\"2516\",\"type\":\"HelpTool\"},{\"attributes\":{\"line_alpha\":{\"value\":0.1},\"line_color\":{\"value\":\"#1f77b4\"},\"line_width\":{\"value\":5},\"xs\":{\"field\":\"x_s\"},\"ys\":{\"field\":\"y_s\"}},\"id\":\"2535\",\"type\":\"MultiLine\"},{\"attributes\":{\"fill_alpha\":{\"value\":0.5},\"fill_color\":{\"value\":\"navy\"},\"line_alpha\":{\"value\":0.5},\"line_color\":{\"value\":\"navy\"},\"size\":{\"units\":\"screen\",\"value\":15},\"x\":{\"field\":\"x\"},\"y\":{\"field\":\"y\"}},\"id\":\"2540\",\"type\":\"Circle\"},{\"attributes\":{\"callback\":null},\"id\":\"2495\",\"type\":\"DataRange1d\"},{\"attributes\":{},\"id\":\"2653\",\"type\":\"UnionRenderers\"},{\"attributes\":{},\"id\":\"2499\",\"type\":\"LinearScale\"},{\"attributes\":{\"dimension\":1,\"plot\":{\"id\":\"2491\",\"subtype\":\"Figure\",\"type\":\"Plot\"},\"ticker\":{\"id\":\"2507\",\"type\":\"BasicTicker\"}},\"id\":\"2510\",\"type\":\"Grid\"},{\"attributes\":{\"line_alpha\":{\"value\":0.1},\"line_color\":{\"value\":\"#1f77b4\"},\"line_width\":{\"value\":5},\"xs\":{\"field\":\"x_s\"},\"ys\":{\"field\":\"y_s\"}},\"id\":\"2529\",\"type\":\"MultiLine\"},{\"attributes\":{\"fill_alpha\":{\"value\":0.1},\"fill_color\":{\"value\":\"#1f77b4\"},\"line_alpha\":{\"value\":0.1},\"line_color\":{\"value\":\"#1f77b4\"},\"size\":{\"units\":\"screen\",\"value\":15},\"x\":{\"field\":\"x\"},\"y\":{\"field\":\"y\"}},\"id\":\"2541\",\"type\":\"Circle\"},{\"attributes\":{\"overlay\":{\"id\":\"2519\",\"type\":\"BoxAnnotation\"}},\"id\":\"2513\",\"type\":\"BoxZoomTool\"},{\"attributes\":{\"callback\":null,\"data\":{\"deg_j_a\":[-31.478501303187663],\"deg_j_b\":[-151.47850130294373],\"deg_j_c\":[88.52149869734559],\"deg_j_n\":[-150.57613365336167],\"deg_k_a\":[-31.478501303187663],\"deg_k_b\":[-151.47850130294373],\"deg_k_c\":[88.52149869734559],\"deg_k_n\":[-150.57613365336167],\"i_j_a_m\":[81.9999999998717],\"i_j_b_m\":[82.00000000045509],\"i_j_c_m\":[81.99999999981101],\"i_j_n_m\":[1.2748115831384358e-09],\"i_k_a_m\":[81.9999999998717],\"i_k_b_m\":[82.00000000045509],\"i_k_c_m\":[81.99999999981101],\"i_k_n_m\":[1.2748115831384358e-09],\"line_id\":[\"B1-B2\"],\"x_s\":[[30,200]],\"y_s\":[[0,0]]},\"selected\":{\"id\":\"2654\",\"type\":\"Selection\"},\"selection_policy\":{\"id\":\"2653\",\"type\":\"UnionRenderers\"}},\"id\":\"2532\",\"type\":\"ColumnDataSource\"},{\"attributes\":{},\"id\":\"2515\",\"type\":\"ResetTool\"},{\"attributes\":{},\"id\":\"2514\",\"type\":\"SaveTool\"},{\"attributes\":{},\"id\":\"2656\",\"type\":\"Selection\"},{\"attributes\":{\"callback\":null,\"renderers\":[{\"id\":\"2542\",\"type\":\"GlyphRenderer\"}],\"tooltips\":\"\\n            <div>\\n            bus_id = @bus_id &nbsp &nbsp |  u<sub>avg</sub>= @u_avg_pu pu |  u<sub>unb</sub>= @v_unb %\\n            <table border=\\\"1\\\">\\n                <tr>\\n                <td>v<sub>an</sub> =  @v_an  &ang; @deg_an V </td> <td> S<sub>a</sub> = @p_a + j@q_a kVA</td>\\n                </tr>\\n                      <tr>\\n                      <td> </td> <td>v<sub>ab</sub>= @v_ab V</td>\\n                      </tr>\\n                <tr>\\n                <td>v<sub>bn</sub> = @v_bn &ang; @deg_bn V </td><td> S<sub>b</sub> = @p_b + j@q_b kVA</td>\\n                </tr>\\n                      <tr>\\n                      <td> </td><td>v<sub>bc</sub>= @v_bc V</td>\\n                      </tr>\\n                <tr>\\n                <td>v<sub>cn</sub>  = @v_cn &ang; @deg_cn V </td>  <td>S<sub>c</sub> = @p_c + j@q_c kVA </td>\\n                </tr> \\n                    <tr>\\n                     <td> </td> <td>v<sub>ca</sub>= @v_ca V</td>\\n                    </tr>\\n               <tr>\\n                <td>v<sub>ng</sub>    = @v_ng &ang; @deg_ng V</td>  <td>S<sub>abc</sub> = @p_abc + j@q_abc kVA </td>\\n              </tr>\\n            </table>\\n            </div>\\n            \"},\"id\":\"2548\",\"type\":\"HoverTool\"},{\"attributes\":{},\"id\":\"2497\",\"type\":\"LinearScale\"},{\"attributes\":{\"source\":{\"id\":\"2532\",\"type\":\"ColumnDataSource\"}},\"id\":\"2537\",\"type\":\"CDSView\"},{\"attributes\":{},\"id\":\"2502\",\"type\":\"BasicTicker\"},{\"attributes\":{\"callback\":null,\"renderers\":[{\"id\":\"2530\",\"type\":\"GlyphRenderer\"}],\"tooltips\":\"\\n            <div>\\n            transformer id = @trafo_id  \\n            <table border=\\\"5\\\">\\n                <tr >\\n                    <td>I<sub>1a</sub> =  @i_1a_m &ang; @deg_1a </td>\\n                    <td>I<sub>2a</sub> =  @i_2a_m &ang; @deg_2a </td>\\n                </tr>\\n                <tr>\\n                    <td >I<sub>1b</sub> =  @i_1b_m &ang; @deg_1b </td>\\n                    <td >I<sub>2b</sub> =  @i_2b_m &ang; @deg_2b </td>\\n                </tr>\\n                <tr>\\n                    <td >I<sub>1c</sub> =  @i_1c_m &ang; @deg_1c </td>\\n                    <td >I<sub>2c</sub> =  @i_2c_m &ang; @deg_2c </td>\\n                </tr>\\n                <tr>\\n                    <td >I<sub>1n</sub> =  @i_1n_m &ang; @deg_1n </td>\\n                    <td >I<sub>2n</sub> =  @i_2n_m &ang; @deg_2n </td>\\n                </tr>\\n            </table>            \\n            </div>\\n            \"},\"id\":\"2544\",\"type\":\"HoverTool\"},{\"attributes\":{\"callback\":null,\"data\":{\"deg_1a\":[-1.4785013034576586],\"deg_1b\":[-121.47850130466085],\"deg_1c\":[118.52149869769615],\"deg_1n\":[108.43494882292202],\"deg_2a\":[148.52149869779618],\"deg_2b\":[28.521498696141727],\"deg_2c\":[-91.47850130435592],\"deg_2n\":[-31.478501303187663],\"i_1a_m\":[22.363636363965124],\"i_1b_m\":[22.36363636317381],\"i_1c_m\":[22.36363636316346],\"i_1n_m\":[7.190186943645084e-13],\"i_2a_m\":[82.00000000157783],\"i_2b_m\":[81.99999999946483],\"i_2c_m\":[81.99999999672869],\"i_2n_m\":[81.9999999998717],\"trafo_id\":[\"B0-B1\"],\"x_s\":[[0,30]],\"y_s\":[[0,0]]},\"selected\":{\"id\":\"2652\",\"type\":\"Selection\"},\"selection_policy\":{\"id\":\"2651\",\"type\":\"UnionRenderers\"}},\"id\":\"2526\",\"type\":\"ColumnDataSource\"},{\"attributes\":{\"formatter\":{\"id\":\"2648\",\"type\":\"BasicTickFormatter\"},\"plot\":{\"id\":\"2491\",\"subtype\":\"Figure\",\"type\":\"Plot\"},\"ticker\":{\"id\":\"2502\",\"type\":\"BasicTicker\"}},\"id\":\"2501\",\"type\":\"LinearAxis\"},{\"attributes\":{},\"id\":\"2650\",\"type\":\"BasicTickFormatter\"},{\"attributes\":{},\"id\":\"2511\",\"type\":\"PanTool\"},{\"attributes\":{},\"id\":\"2655\",\"type\":\"UnionRenderers\"},{\"attributes\":{\"formatter\":{\"id\":\"2650\",\"type\":\"BasicTickFormatter\"},\"plot\":{\"id\":\"2491\",\"subtype\":\"Figure\",\"type\":\"Plot\"},\"ticker\":{\"id\":\"2507\",\"type\":\"BasicTicker\"}},\"id\":\"2506\",\"type\":\"LinearAxis\"},{\"attributes\":{\"source\":{\"id\":\"2538\",\"type\":\"ColumnDataSource\"}},\"id\":\"2543\",\"type\":\"CDSView\"},{\"attributes\":{},\"id\":\"2651\",\"type\":\"UnionRenderers\"},{\"attributes\":{\"data_source\":{\"id\":\"2526\",\"type\":\"ColumnDataSource\"},\"glyph\":{\"id\":\"2528\",\"type\":\"MultiLine\"},\"hover_glyph\":null,\"muted_glyph\":null,\"nonselection_glyph\":{\"id\":\"2529\",\"type\":\"MultiLine\"},\"selection_glyph\":null,\"view\":{\"id\":\"2531\",\"type\":\"CDSView\"}},\"id\":\"2530\",\"type\":\"GlyphRenderer\"},{\"attributes\":{\"callback\":null,\"renderers\":[{\"id\":\"2536\",\"type\":\"GlyphRenderer\"}],\"tooltips\":\"\\n            <div>\\n            line id = @line_id \\n            <table border=\\\"5\\\">\\n                <tr >\\n                    <td>I<sub>ja</sub> =  @i_j_a_m &ang; @deg_j_a </td>\\n                    <td>I<sub>ka</sub> =  @i_k_a_m &ang; @deg_k_a </td>\\n                </tr>\\n                <tr>\\n                    <td >I<sub>jb</sub> =  @i_j_b_m &ang; @deg_j_b </td>\\n                    <td >I<sub>kb</sub> =  @i_k_b_m &ang; @deg_k_b </td>\\n                </tr>\\n                <tr>\\n                    <td >I<sub>jc</sub> =  @i_j_c_m &ang; @deg_j_c </td>\\n                    <td >I<sub>kc</sub> =  @i_k_c_m &ang; @deg_k_c </td>\\n                </tr>\\n                <tr>\\n                    <td >I<sub>jn</sub> =  @i_j_n_m &ang; @deg_j_n </td>\\n                    <td >I<sub>kn</sub> =  @i_k_n_m &ang; @deg_k_n </td>\\n                </tr>\\n            </table>            \\n            </div>\\n            \"},\"id\":\"2546\",\"type\":\"HoverTool\"},{\"attributes\":{\"plot\":null,\"text\":\"Results\"},\"id\":\"2490\",\"type\":\"Title\"},{\"attributes\":{\"bottom_units\":\"screen\",\"fill_alpha\":{\"value\":0.5},\"fill_color\":{\"value\":\"lightgrey\"},\"left_units\":\"screen\",\"level\":\"overlay\",\"line_alpha\":{\"value\":1.0},\"line_color\":{\"value\":\"black\"},\"line_dash\":[4,4],\"line_width\":{\"value\":2},\"plot\":null,\"render_mode\":\"css\",\"right_units\":\"screen\",\"top_units\":\"screen\"},\"id\":\"2519\",\"type\":\"BoxAnnotation\"},{\"attributes\":{},\"id\":\"2507\",\"type\":\"BasicTicker\"},{\"attributes\":{},\"id\":\"2652\",\"type\":\"Selection\"},{\"attributes\":{\"data_source\":{\"id\":\"2538\",\"type\":\"ColumnDataSource\"},\"glyph\":{\"id\":\"2540\",\"type\":\"Circle\"},\"hover_glyph\":null,\"muted_glyph\":null,\"nonselection_glyph\":{\"id\":\"2541\",\"type\":\"Circle\"},\"selection_glyph\":null,\"view\":{\"id\":\"2543\",\"type\":\"CDSView\"}},\"id\":\"2542\",\"type\":\"GlyphRenderer\"}],\"root_ids\":[\"2491\"]},\"title\":\"Bokeh Application\",\"version\":\"1.0.2\"}};\n",
       "  var render_items = [{\"docid\":\"c9648cd2-4935-4085-8972-1ac1afbe3f6e\",\"roots\":{\"2491\":\"216c5384-f335-4271-9394-49e966aed7c1\"}}];\n",
       "  root.Bokeh.embed.embed_items_notebook(docs_json, render_items);\n",
       "\n",
       "  }\n",
       "  if (root.Bokeh !== undefined) {\n",
       "    embed_document(root);\n",
       "  } else {\n",
       "    var attempts = 0;\n",
       "    var timer = setInterval(function(root) {\n",
       "      if (root.Bokeh !== undefined) {\n",
       "        embed_document(root);\n",
       "        clearInterval(timer);\n",
       "      }\n",
       "      attempts++;\n",
       "      if (attempts > 100) {\n",
       "        console.log(\"Bokeh: ERROR: Unable to run BokehJS code because BokehJS library is missing\");\n",
       "        clearInterval(timer);\n",
       "      }\n",
       "    }, 10, root)\n",
       "  }\n",
       "})(window);"
      ],
      "application/vnd.bokehjs_exec.v0+json": ""
     },
     "metadata": {
      "application/vnd.bokehjs_exec.v0+json": {
       "id": "2491"
      }
     },
     "output_type": "display_data"
    }
   ],
   "source": [
    "grid_1 = grid()\n",
    "grid_1.read(data)  # Load data\n",
    "grid_1.pf()  # solve power flow\n",
    "p=plot_results(grid_1)"
   ]
  },
  {
   "cell_type": "markdown",
   "metadata": {},
   "source": [
    "## Three phase short circuit"
   ]
  },
  {
   "cell_type": "markdown",
   "metadata": {},
   "source": [
    "![](./png/mv_short_circuits_3ph.png)  "
   ]
  },
  {
   "cell_type": "code",
   "execution_count": 11,
   "metadata": {},
   "outputs": [
    {
     "data": {
      "text/html": [
       "\n",
       "\n",
       "\n",
       "\n",
       "\n",
       "\n",
       "  <div class=\"bk-root\" id=\"00f7ef11-0dd1-4d54-81cd-12c685c8f6d3\"></div>\n"
      ]
     },
     "metadata": {},
     "output_type": "display_data"
    },
    {
     "data": {
      "application/javascript": [
       "(function(root) {\n",
       "  function embed_document(root) {\n",
       "    \n",
       "  var docs_json = {\"8c00efbc-b0c7-4ae6-b1e0-67b4d10fa430\":{\"roots\":{\"references\":[{\"attributes\":{\"below\":[{\"id\":\"1661\",\"type\":\"LinearAxis\"}],\"left\":[{\"id\":\"1666\",\"type\":\"LinearAxis\"}],\"plot_height\":400,\"renderers\":[{\"id\":\"1661\",\"type\":\"LinearAxis\"},{\"id\":\"1665\",\"type\":\"Grid\"},{\"id\":\"1666\",\"type\":\"LinearAxis\"},{\"id\":\"1670\",\"type\":\"Grid\"},{\"id\":\"1679\",\"type\":\"BoxAnnotation\"},{\"id\":\"1690\",\"type\":\"GlyphRenderer\"},{\"id\":\"1696\",\"type\":\"GlyphRenderer\"},{\"id\":\"1702\",\"type\":\"GlyphRenderer\"}],\"title\":{\"id\":\"1650\",\"type\":\"Title\"},\"toolbar\":{\"id\":\"1677\",\"type\":\"Toolbar\"},\"x_range\":{\"id\":\"1653\",\"type\":\"DataRange1d\"},\"x_scale\":{\"id\":\"1657\",\"type\":\"LinearScale\"},\"y_range\":{\"id\":\"1655\",\"type\":\"DataRange1d\"},\"y_scale\":{\"id\":\"1659\",\"type\":\"LinearScale\"}},\"id\":\"1651\",\"subtype\":\"Figure\",\"type\":\"Plot\"},{\"attributes\":{},\"id\":\"1671\",\"type\":\"PanTool\"},{\"attributes\":{\"callback\":null,\"renderers\":[{\"id\":\"1690\",\"type\":\"GlyphRenderer\"}],\"tooltips\":\"\\n            <div>\\n            transformer id = @trafo_id  \\n            <table border=\\\"5\\\">\\n                <tr >\\n                    <td>I<sub>1a</sub> =  @i_1a_m &ang; @deg_1a </td>\\n                    <td>I<sub>2a</sub> =  @i_2a_m &ang; @deg_2a </td>\\n                </tr>\\n                <tr>\\n                    <td >I<sub>1b</sub> =  @i_1b_m &ang; @deg_1b </td>\\n                    <td >I<sub>2b</sub> =  @i_2b_m &ang; @deg_2b </td>\\n                </tr>\\n                <tr>\\n                    <td >I<sub>1c</sub> =  @i_1c_m &ang; @deg_1c </td>\\n                    <td >I<sub>2c</sub> =  @i_2c_m &ang; @deg_2c </td>\\n                </tr>\\n                <tr>\\n                    <td >I<sub>1n</sub> =  @i_1n_m &ang; @deg_1n </td>\\n                    <td >I<sub>2n</sub> =  @i_2n_m &ang; @deg_2n </td>\\n                </tr>\\n            </table>            \\n            </div>\\n            \"},\"id\":\"1704\",\"type\":\"HoverTool\"},{\"attributes\":{\"data_source\":{\"id\":\"1686\",\"type\":\"ColumnDataSource\"},\"glyph\":{\"id\":\"1688\",\"type\":\"MultiLine\"},\"hover_glyph\":null,\"muted_glyph\":null,\"nonselection_glyph\":{\"id\":\"1689\",\"type\":\"MultiLine\"},\"selection_glyph\":null,\"view\":{\"id\":\"1691\",\"type\":\"CDSView\"}},\"id\":\"1690\",\"type\":\"GlyphRenderer\"},{\"attributes\":{},\"id\":\"1672\",\"type\":\"WheelZoomTool\"},{\"attributes\":{},\"id\":\"1657\",\"type\":\"LinearScale\"},{\"attributes\":{\"source\":{\"id\":\"1686\",\"type\":\"ColumnDataSource\"}},\"id\":\"1691\",\"type\":\"CDSView\"},{\"attributes\":{\"overlay\":{\"id\":\"1679\",\"type\":\"BoxAnnotation\"}},\"id\":\"1673\",\"type\":\"BoxZoomTool\"},{\"attributes\":{},\"id\":\"1760\",\"type\":\"BasicTickFormatter\"},{\"attributes\":{\"callback\":null,\"data\":{\"deg_j_a\":[-110.96571184055746],\"deg_j_b\":[176.38831279559273],\"deg_j_c\":[-174.4006606633794],\"deg_j_n\":[-171.6079582977547],\"deg_k_a\":[-110.96571184055746],\"deg_k_b\":[176.38831279559273],\"deg_k_c\":[-174.4006606633794],\"deg_k_n\":[-171.6079582977547],\"i_j_a_m\":[1.693271230872107e-10],\"i_j_b_m\":[5.676879623954013e-10],\"i_j_c_m\":[6.058031322516114e-10],\"i_j_n_m\":[1.2433731117923625e-09],\"i_k_a_m\":[1.693271230872107e-10],\"i_k_b_m\":[5.676879623954013e-10],\"i_k_c_m\":[6.058031322516114e-10],\"i_k_n_m\":[1.2433731117923625e-09],\"line_id\":[\"B1-B2\"],\"x_s\":[[30,200]],\"y_s\":[[0,0]]},\"selected\":{\"id\":\"1766\",\"type\":\"Selection\"},\"selection_policy\":{\"id\":\"1765\",\"type\":\"UnionRenderers\"}},\"id\":\"1692\",\"type\":\"ColumnDataSource\"},{\"attributes\":{\"callback\":null,\"data\":{\"deg_1a\":[-82.87498327772894],\"deg_1b\":[157.12501667200334],\"deg_1c\":[37.12501704536376],\"deg_1n\":[180.0],\"deg_2a\":[67.12501695443873],\"deg_2b\":[-52.87498341894468],\"deg_2c\":[-172.8749830958559],\"deg_2n\":[-110.96571184055746],\"i_1a_m\":[3472.0613954198766],\"i_1b_m\":[3472.0613710532148],\"i_1c_m\":[3472.0613805984854],\"i_1n_m\":[4.547473508864641e-13],\"i_2a_m\":[12730.891776758122],\"i_2b_m\":[12730.891741754845],\"i_2c_m\":[12730.891687416142],\"i_2n_m\":[1.693271230872107e-10],\"trafo_id\":[\"B0-B1\"],\"x_s\":[[0,30]],\"y_s\":[[0,0]]},\"selected\":{\"id\":\"1764\",\"type\":\"Selection\"},\"selection_policy\":{\"id\":\"1763\",\"type\":\"UnionRenderers\"}},\"id\":\"1686\",\"type\":\"ColumnDataSource\"},{\"attributes\":{},\"id\":\"1674\",\"type\":\"SaveTool\"},{\"attributes\":{\"line_alpha\":{\"value\":0.5},\"line_color\":{\"value\":\"red\"},\"line_width\":{\"value\":5},\"xs\":{\"field\":\"x_s\"},\"ys\":{\"field\":\"y_s\"}},\"id\":\"1694\",\"type\":\"MultiLine\"},{\"attributes\":{},\"id\":\"1659\",\"type\":\"LinearScale\"},{\"attributes\":{\"line_alpha\":{\"value\":0.1},\"line_color\":{\"value\":\"#1f77b4\"},\"line_width\":{\"value\":5},\"xs\":{\"field\":\"x_s\"},\"ys\":{\"field\":\"y_s\"}},\"id\":\"1689\",\"type\":\"MultiLine\"},{\"attributes\":{},\"id\":\"1766\",\"type\":\"Selection\"},{\"attributes\":{\"line_alpha\":{\"value\":0.1},\"line_color\":{\"value\":\"#1f77b4\"},\"line_width\":{\"value\":5},\"xs\":{\"field\":\"x_s\"},\"ys\":{\"field\":\"y_s\"}},\"id\":\"1695\",\"type\":\"MultiLine\"},{\"attributes\":{\"formatter\":{\"id\":\"1760\",\"type\":\"BasicTickFormatter\"},\"plot\":{\"id\":\"1651\",\"subtype\":\"Figure\",\"type\":\"Plot\"},\"ticker\":{\"id\":\"1662\",\"type\":\"BasicTicker\"}},\"id\":\"1661\",\"type\":\"LinearAxis\"},{\"attributes\":{},\"id\":\"1675\",\"type\":\"ResetTool\"},{\"attributes\":{\"data_source\":{\"id\":\"1692\",\"type\":\"ColumnDataSource\"},\"glyph\":{\"id\":\"1694\",\"type\":\"MultiLine\"},\"hover_glyph\":null,\"muted_glyph\":null,\"nonselection_glyph\":{\"id\":\"1695\",\"type\":\"MultiLine\"},\"selection_glyph\":null,\"view\":{\"id\":\"1697\",\"type\":\"CDSView\"}},\"id\":\"1696\",\"type\":\"GlyphRenderer\"},{\"attributes\":{\"callback\":null,\"renderers\":[{\"id\":\"1702\",\"type\":\"GlyphRenderer\"}],\"tooltips\":\"\\n            <div>\\n            bus_id = @bus_id &nbsp &nbsp |  u<sub>avg</sub>= @u_avg_pu pu |  u<sub>unb</sub>= @v_unb %\\n            <table border=\\\"1\\\">\\n                <tr>\\n                <td>v<sub>an</sub> =  @v_an  &ang; @deg_an V </td> <td> S<sub>a</sub> = @p_a + j@q_a kVA</td>\\n                </tr>\\n                      <tr>\\n                      <td> </td> <td>v<sub>ab</sub>= @v_ab V</td>\\n                      </tr>\\n                <tr>\\n                <td>v<sub>bn</sub> = @v_bn &ang; @deg_bn V </td><td> S<sub>b</sub> = @p_b + j@q_b kVA</td>\\n                </tr>\\n                      <tr>\\n                      <td> </td><td>v<sub>bc</sub>= @v_bc V</td>\\n                      </tr>\\n                <tr>\\n                <td>v<sub>cn</sub>  = @v_cn &ang; @deg_cn V </td>  <td>S<sub>c</sub> = @p_c + j@q_c kVA </td>\\n                </tr> \\n                    <tr>\\n                     <td> </td> <td>v<sub>ca</sub>= @v_ca V</td>\\n                    </tr>\\n               <tr>\\n                <td>v<sub>ng</sub>    = @v_ng &ang; @deg_ng V</td>  <td>S<sub>abc</sub> = @p_abc + j@q_abc kVA </td>\\n              </tr>\\n            </table>\\n            </div>\\n            \"},\"id\":\"1708\",\"type\":\"HoverTool\"},{\"attributes\":{\"line_alpha\":{\"value\":0.5},\"line_color\":{\"value\":\"green\"},\"line_width\":{\"value\":5},\"xs\":{\"field\":\"x_s\"},\"ys\":{\"field\":\"y_s\"}},\"id\":\"1688\",\"type\":\"MultiLine\"},{\"attributes\":{\"plot\":{\"id\":\"1651\",\"subtype\":\"Figure\",\"type\":\"Plot\"},\"ticker\":{\"id\":\"1662\",\"type\":\"BasicTicker\"}},\"id\":\"1665\",\"type\":\"Grid\"},{\"attributes\":{},\"id\":\"1763\",\"type\":\"UnionRenderers\"},{\"attributes\":{\"formatter\":{\"id\":\"1762\",\"type\":\"BasicTickFormatter\"},\"plot\":{\"id\":\"1651\",\"subtype\":\"Figure\",\"type\":\"Plot\"},\"ticker\":{\"id\":\"1667\",\"type\":\"BasicTicker\"}},\"id\":\"1666\",\"type\":\"LinearAxis\"},{\"attributes\":{\"dimension\":1,\"plot\":{\"id\":\"1651\",\"subtype\":\"Figure\",\"type\":\"Plot\"},\"ticker\":{\"id\":\"1667\",\"type\":\"BasicTicker\"}},\"id\":\"1670\",\"type\":\"Grid\"},{\"attributes\":{\"source\":{\"id\":\"1692\",\"type\":\"ColumnDataSource\"}},\"id\":\"1697\",\"type\":\"CDSView\"},{\"attributes\":{},\"id\":\"1667\",\"type\":\"BasicTicker\"},{\"attributes\":{\"source\":{\"id\":\"1698\",\"type\":\"ColumnDataSource\"}},\"id\":\"1703\",\"type\":\"CDSView\"},{\"attributes\":{},\"id\":\"1762\",\"type\":\"BasicTickFormatter\"},{\"attributes\":{\"callback\":null,\"data\":{\"bus_id\":[\"B0\",\"B1\",\"B2\"],\"deg_an\":[\"0.00\",\"-131.98\",\"-36.87\"],\"deg_bn\":[\"-120.00\",\"127.13\",\"67.12\"],\"deg_cn\":[\"120.00\",\"26.23\",\"37.12\"],\"deg_ng\":[\"0.00\",\"48.02\",\"0.00\"],\"p_a\":[\"16410.16\",\"-0.00\",\"0.00\"],\"p_abc\":[\"49230.47\",\"0.00\",\"0.00\"],\"p_b\":[\"16410.16\",\"0.00\",\"0.00\"],\"p_c\":[\"16410.16\",\"0.00\",\"0.00\"],\"q_a\":[\"131281.24\",\"0.00\",\"-0.00\"],\"q_abc\":[\"393843.72\",\"0.00\",\"0.00\"],\"q_b\":[\"131281.24\",\"0.00\",\"0.00\"],\"q_c\":[\"131281.24\",\"0.00\",\"0.00\"],\"s_color\":[\"red\",\"blue\",\"blue\"],\"s_radio\":[20,1,1],\"u_avg_pu\":[\"1.000\",\"0.000\",\"0.000\"],\"v_ab\":[65999.79602241206,0.00012730810259792353,0.00012730955067138483],\"v_an\":[\"38105.00\",\"0.00\",\"0.00\"],\"v_an_pu\":[\"1.0000\",\"0.0000\",\"0.0000\"],\"v_bc\":[65999.79602241208,0.00012730767961815177,0.00012730776625729975],\"v_bn\":[\"38105.00\",\"0.00\",\"0.00\"],\"v_bn_pu\":[\"1.0000\",\"0.0000\",\"0.0000\"],\"v_ca\":[65999.79602241208,0.0002205023629967814,0.00022050575481277854],\"v_cn\":[\"38105.00\",\"0.00\",\"0.00\"],\"v_cn_pu\":[\"1.0000\",\"0.0000\",\"0.0000\"],\"v_ng\":[\"0.00\",\"0.00\",\"0.00\"],\"v_unb\":[\"0.0\",\"52.3\",\"100.0\"],\"x\":[0,30,200],\"y\":[0,0,0]},\"selected\":{\"id\":\"1768\",\"type\":\"Selection\"},\"selection_policy\":{\"id\":\"1767\",\"type\":\"UnionRenderers\"}},\"id\":\"1698\",\"type\":\"ColumnDataSource\"},{\"attributes\":{\"plot\":null,\"text\":\"Results\"},\"id\":\"1650\",\"type\":\"Title\"},{\"attributes\":{},\"id\":\"1676\",\"type\":\"HelpTool\"},{\"attributes\":{\"callback\":null},\"id\":\"1653\",\"type\":\"DataRange1d\"},{\"attributes\":{},\"id\":\"1662\",\"type\":\"BasicTicker\"},{\"attributes\":{\"active_drag\":\"auto\",\"active_inspect\":\"auto\",\"active_multi\":null,\"active_scroll\":\"auto\",\"active_tap\":\"auto\",\"tools\":[{\"id\":\"1671\",\"type\":\"PanTool\"},{\"id\":\"1672\",\"type\":\"WheelZoomTool\"},{\"id\":\"1673\",\"type\":\"BoxZoomTool\"},{\"id\":\"1674\",\"type\":\"SaveTool\"},{\"id\":\"1675\",\"type\":\"ResetTool\"},{\"id\":\"1676\",\"type\":\"HelpTool\"},{\"id\":\"1704\",\"type\":\"HoverTool\"},{\"id\":\"1706\",\"type\":\"HoverTool\"},{\"id\":\"1708\",\"type\":\"HoverTool\"}]},\"id\":\"1677\",\"type\":\"Toolbar\"},{\"attributes\":{\"fill_alpha\":{\"value\":0.5},\"fill_color\":{\"value\":\"navy\"},\"line_alpha\":{\"value\":0.5},\"line_color\":{\"value\":\"navy\"},\"size\":{\"units\":\"screen\",\"value\":15},\"x\":{\"field\":\"x\"},\"y\":{\"field\":\"y\"}},\"id\":\"1700\",\"type\":\"Circle\"},{\"attributes\":{\"callback\":null,\"renderers\":[{\"id\":\"1696\",\"type\":\"GlyphRenderer\"}],\"tooltips\":\"\\n            <div>\\n            line id = @line_id \\n            <table border=\\\"5\\\">\\n                <tr >\\n                    <td>I<sub>ja</sub> =  @i_j_a_m &ang; @deg_j_a </td>\\n                    <td>I<sub>ka</sub> =  @i_k_a_m &ang; @deg_k_a </td>\\n                </tr>\\n                <tr>\\n                    <td >I<sub>jb</sub> =  @i_j_b_m &ang; @deg_j_b </td>\\n                    <td >I<sub>kb</sub> =  @i_k_b_m &ang; @deg_k_b </td>\\n                </tr>\\n                <tr>\\n                    <td >I<sub>jc</sub> =  @i_j_c_m &ang; @deg_j_c </td>\\n                    <td >I<sub>kc</sub> =  @i_k_c_m &ang; @deg_k_c </td>\\n                </tr>\\n                <tr>\\n                    <td >I<sub>jn</sub> =  @i_j_n_m &ang; @deg_j_n </td>\\n                    <td >I<sub>kn</sub> =  @i_k_n_m &ang; @deg_k_n </td>\\n                </tr>\\n            </table>            \\n            </div>\\n            \"},\"id\":\"1706\",\"type\":\"HoverTool\"},{\"attributes\":{\"callback\":null},\"id\":\"1655\",\"type\":\"DataRange1d\"},{\"attributes\":{},\"id\":\"1765\",\"type\":\"UnionRenderers\"},{\"attributes\":{},\"id\":\"1768\",\"type\":\"Selection\"},{\"attributes\":{\"fill_alpha\":{\"value\":0.1},\"fill_color\":{\"value\":\"#1f77b4\"},\"line_alpha\":{\"value\":0.1},\"line_color\":{\"value\":\"#1f77b4\"},\"size\":{\"units\":\"screen\",\"value\":15},\"x\":{\"field\":\"x\"},\"y\":{\"field\":\"y\"}},\"id\":\"1701\",\"type\":\"Circle\"},{\"attributes\":{},\"id\":\"1764\",\"type\":\"Selection\"},{\"attributes\":{\"bottom_units\":\"screen\",\"fill_alpha\":{\"value\":0.5},\"fill_color\":{\"value\":\"lightgrey\"},\"left_units\":\"screen\",\"level\":\"overlay\",\"line_alpha\":{\"value\":1.0},\"line_color\":{\"value\":\"black\"},\"line_dash\":[4,4],\"line_width\":{\"value\":2},\"plot\":null,\"render_mode\":\"css\",\"right_units\":\"screen\",\"top_units\":\"screen\"},\"id\":\"1679\",\"type\":\"BoxAnnotation\"},{\"attributes\":{},\"id\":\"1767\",\"type\":\"UnionRenderers\"},{\"attributes\":{\"data_source\":{\"id\":\"1698\",\"type\":\"ColumnDataSource\"},\"glyph\":{\"id\":\"1700\",\"type\":\"Circle\"},\"hover_glyph\":null,\"muted_glyph\":null,\"nonselection_glyph\":{\"id\":\"1701\",\"type\":\"Circle\"},\"selection_glyph\":null,\"view\":{\"id\":\"1703\",\"type\":\"CDSView\"}},\"id\":\"1702\",\"type\":\"GlyphRenderer\"}],\"root_ids\":[\"1651\"]},\"title\":\"Bokeh Application\",\"version\":\"1.0.2\"}};\n",
       "  var render_items = [{\"docid\":\"8c00efbc-b0c7-4ae6-b1e0-67b4d10fa430\",\"roots\":{\"1651\":\"00f7ef11-0dd1-4d54-81cd-12c685c8f6d3\"}}];\n",
       "  root.Bokeh.embed.embed_items_notebook(docs_json, render_items);\n",
       "\n",
       "  }\n",
       "  if (root.Bokeh !== undefined) {\n",
       "    embed_document(root);\n",
       "  } else {\n",
       "    var attempts = 0;\n",
       "    var timer = setInterval(function(root) {\n",
       "      if (root.Bokeh !== undefined) {\n",
       "        embed_document(root);\n",
       "        clearInterval(timer);\n",
       "      }\n",
       "      attempts++;\n",
       "      if (attempts > 100) {\n",
       "        console.log(\"Bokeh: ERROR: Unable to run BokehJS code because BokehJS library is missing\");\n",
       "        clearInterval(timer);\n",
       "      }\n",
       "    }, 10, root)\n",
       "  }\n",
       "})(window);"
      ],
      "application/vnd.bokehjs_exec.v0+json": ""
     },
     "metadata": {
      "application/vnd.bokehjs_exec.v0+json": {
       "id": "1651"
      }
     },
     "output_type": "display_data"
    }
   ],
   "source": [
    "grid_1 = grid()\n",
    "data['grid_feeders'] = [{\"bus\": \"B2\",\"bus_nodes\": [1, 2, 3],\n",
    "                \"kW\": [0, 0, 0], \"kvar\": [0,0,0],\n",
    "                \"kA\": [-0.0,-0.0,-0.0], \"phi_deg\":[0, 0, 0]}\n",
    "                ]\n",
    "data['shunts'] = [\n",
    "        {\"bus\": \"B1\" , \"R\": 1000, \"X\": 0.0, \"bus_nodes\": [1,0]},\n",
    "        {\"bus\": \"B1\" , \"R\": 1e-8, \"X\": 0.0, \"bus_nodes\": [1,2]}, # applied fault\n",
    "        {\"bus\": \"B1\" , \"R\": 1e-8, \"X\": 0.0, \"bus_nodes\": [2,3]}, # applied fault\n",
    "]\n",
    "grid_1.read(data)  # Load data\n",
    "grid_1.pf()  # solve power flow\n",
    "p=plot_results(grid_1)"
   ]
  },
  {
   "cell_type": "raw",
   "metadata": {},
   "source": [
    "S = sqrt(3)*U*I\n",
    "I = S/(sqrt(3)*U)\n",
    "Z = U/sqrt(3)/I\n",
    "Z_b = U_b**2/S_b\n",
    "Z = Z_b*Xpu\n",
    "Z_b = Z/Xpu\n",
    "U_b**2/S_b*Xpu =  U/(sqrt(3)*I)\n",
    "\n",
    "U_b**2/S_b*Xpu =  U_b/(sqrt(3)*I)"
   ]
  },
  {
   "cell_type": "code",
   "execution_count": 12,
   "metadata": {},
   "outputs": [
    {
     "name": "stdout",
     "output_type": "stream",
     "text": [
      "I_cc = 12.83 kA\n",
      "S_b = 32000.00 kVA\n"
     ]
    }
   ],
   "source": [
    "S_cc = 400e6\n",
    "U_b = 18e3\n",
    "Xpu = 0.08\n",
    "I = S_cc/(np.sqrt(3)*U_b)\n",
    "S_b = U_b*Xpu*np.sqrt(3)*I\n",
    "print(f'I_cc = {I/1000:0.2f} kA')\n",
    "print(f'S_b = {S_b/1000:0.2f} kVA')\n"
   ]
  },
  {
   "cell_type": "markdown",
   "metadata": {},
   "source": [
    "## Phase ground fault (isolated neutral)"
   ]
  },
  {
   "cell_type": "markdown",
   "metadata": {},
   "source": [
    "![](./png/mv_short_circuits_ph_g_isolated_n.png)  "
   ]
  },
  {
   "cell_type": "code",
   "execution_count": 13,
   "metadata": {},
   "outputs": [],
   "source": [
    "data['grid_feeders'] = [{\"bus\": \"B2\",\"bus_nodes\": [1, 2, 3],\n",
    "                \"kW\": [0, 0, 0], \"kvar\": [0,0,0],\n",
    "                \"kA\": [-0.0,-0.0,-0.0], \"phi_deg\":[0, 0, 0]}\n",
    "                ]\n",
    "\n",
    "data['shunts'] = [\n",
    "        {\"bus\": \"B1\" , \"R\": 1e8, \"X\": 0.0, \"bus_nodes\": [1,0]},\n",
    "        {\"bus\": \"B1\" , \"R\": 1e-8, \"X\": 0.0, \"bus_nodes\": [1,0]}, # applied fault\n",
    "]\n"
   ]
  },
  {
   "cell_type": "code",
   "execution_count": 14,
   "metadata": {},
   "outputs": [
    {
     "data": {
      "text/html": [
       "\n",
       "\n",
       "\n",
       "\n",
       "\n",
       "\n",
       "  <div class=\"bk-root\" id=\"6a63742e-b53e-4b55-92c4-cac5e443bf0f\"></div>\n"
      ]
     },
     "metadata": {},
     "output_type": "display_data"
    },
    {
     "data": {
      "application/javascript": [
       "(function(root) {\n",
       "  function embed_document(root) {\n",
       "    \n",
       "  var docs_json = {\"be7648ff-1e4e-4d55-b11e-81a5854abccf\":{\"roots\":{\"references\":[{\"attributes\":{\"below\":[{\"id\":\"1853\",\"type\":\"LinearAxis\"}],\"left\":[{\"id\":\"1858\",\"type\":\"LinearAxis\"}],\"plot_height\":400,\"renderers\":[{\"id\":\"1853\",\"type\":\"LinearAxis\"},{\"id\":\"1857\",\"type\":\"Grid\"},{\"id\":\"1858\",\"type\":\"LinearAxis\"},{\"id\":\"1862\",\"type\":\"Grid\"},{\"id\":\"1871\",\"type\":\"BoxAnnotation\"},{\"id\":\"1882\",\"type\":\"GlyphRenderer\"},{\"id\":\"1888\",\"type\":\"GlyphRenderer\"},{\"id\":\"1894\",\"type\":\"GlyphRenderer\"}],\"title\":{\"id\":\"1842\",\"type\":\"Title\"},\"toolbar\":{\"id\":\"1869\",\"type\":\"Toolbar\"},\"x_range\":{\"id\":\"1845\",\"type\":\"DataRange1d\"},\"x_scale\":{\"id\":\"1849\",\"type\":\"LinearScale\"},\"y_range\":{\"id\":\"1847\",\"type\":\"DataRange1d\"},\"y_scale\":{\"id\":\"1851\",\"type\":\"LinearScale\"}},\"id\":\"1843\",\"subtype\":\"Figure\",\"type\":\"Plot\"},{\"attributes\":{\"plot\":{\"id\":\"1843\",\"subtype\":\"Figure\",\"type\":\"Plot\"},\"ticker\":{\"id\":\"1854\",\"type\":\"BasicTicker\"}},\"id\":\"1857\",\"type\":\"Grid\"},{\"attributes\":{},\"id\":\"1863\",\"type\":\"PanTool\"},{\"attributes\":{\"data_source\":{\"id\":\"1884\",\"type\":\"ColumnDataSource\"},\"glyph\":{\"id\":\"1886\",\"type\":\"MultiLine\"},\"hover_glyph\":null,\"muted_glyph\":null,\"nonselection_glyph\":{\"id\":\"1887\",\"type\":\"MultiLine\"},\"selection_glyph\":null,\"view\":{\"id\":\"1889\",\"type\":\"CDSView\"}},\"id\":\"1888\",\"type\":\"GlyphRenderer\"},{\"attributes\":{},\"id\":\"1968\",\"type\":\"Selection\"},{\"attributes\":{},\"id\":\"1966\",\"type\":\"BasicTickFormatter\"},{\"attributes\":{\"callback\":null,\"data\":{\"deg_1a\":[0.0],\"deg_1b\":[146.30993247402023],\"deg_1c\":[104.03624346792648],\"deg_1n\":[108.43494882292202],\"deg_2a\":[138.3664606634298],\"deg_2b\":[110.55604521958347],\"deg_2c\":[146.30993247402023],\"deg_2n\":[-110.9657194668918],\"i_1a_m\":[2.2737367544323206e-13],\"i_1b_m\":[4.0990372275064023e-13],\"i_1c_m\":[4.687428401686771e-13],\"i_1n_m\":[7.190186943645084e-13],\"i_2a_m\":[2.737941617577302e-12],\"i_2b_m\":[1.9426815345735873e-12],\"i_2c_m\":[3.279229782005122e-12],\"i_2n_m\":[4.92806705206967e-22],\"trafo_id\":[\"B0-B1\"],\"x_s\":[[0,30]],\"y_s\":[[0,0]]},\"selected\":{\"id\":\"1968\",\"type\":\"Selection\"},\"selection_policy\":{\"id\":\"1967\",\"type\":\"UnionRenderers\"}},\"id\":\"1878\",\"type\":\"ColumnDataSource\"},{\"attributes\":{\"source\":{\"id\":\"1890\",\"type\":\"ColumnDataSource\"}},\"id\":\"1895\",\"type\":\"CDSView\"},{\"attributes\":{\"overlay\":{\"id\":\"1871\",\"type\":\"BoxAnnotation\"}},\"id\":\"1865\",\"type\":\"BoxZoomTool\"},{\"attributes\":{},\"id\":\"1851\",\"type\":\"LinearScale\"},{\"attributes\":{},\"id\":\"1969\",\"type\":\"UnionRenderers\"},{\"attributes\":{},\"id\":\"1866\",\"type\":\"SaveTool\"},{\"attributes\":{},\"id\":\"1970\",\"type\":\"Selection\"},{\"attributes\":{},\"id\":\"1972\",\"type\":\"Selection\"},{\"attributes\":{\"dimension\":1,\"plot\":{\"id\":\"1843\",\"subtype\":\"Figure\",\"type\":\"Plot\"},\"ticker\":{\"id\":\"1859\",\"type\":\"BasicTicker\"}},\"id\":\"1862\",\"type\":\"Grid\"},{\"attributes\":{\"callback\":null},\"id\":\"1845\",\"type\":\"DataRange1d\"},{\"attributes\":{},\"id\":\"1864\",\"type\":\"WheelZoomTool\"},{\"attributes\":{},\"id\":\"1867\",\"type\":\"ResetTool\"},{\"attributes\":{},\"id\":\"1971\",\"type\":\"UnionRenderers\"},{\"attributes\":{\"active_drag\":\"auto\",\"active_inspect\":\"auto\",\"active_multi\":null,\"active_scroll\":\"auto\",\"active_tap\":\"auto\",\"tools\":[{\"id\":\"1863\",\"type\":\"PanTool\"},{\"id\":\"1864\",\"type\":\"WheelZoomTool\"},{\"id\":\"1865\",\"type\":\"BoxZoomTool\"},{\"id\":\"1866\",\"type\":\"SaveTool\"},{\"id\":\"1867\",\"type\":\"ResetTool\"},{\"id\":\"1868\",\"type\":\"HelpTool\"},{\"id\":\"1896\",\"type\":\"HoverTool\"},{\"id\":\"1898\",\"type\":\"HoverTool\"},{\"id\":\"1900\",\"type\":\"HoverTool\"}]},\"id\":\"1869\",\"type\":\"Toolbar\"},{\"attributes\":{},\"id\":\"1868\",\"type\":\"HelpTool\"},{\"attributes\":{\"callback\":null,\"renderers\":[{\"id\":\"1888\",\"type\":\"GlyphRenderer\"}],\"tooltips\":\"\\n            <div>\\n            line id = @line_id \\n            <table border=\\\"5\\\">\\n                <tr >\\n                    <td>I<sub>ja</sub> =  @i_j_a_m &ang; @deg_j_a </td>\\n                    <td>I<sub>ka</sub> =  @i_k_a_m &ang; @deg_k_a </td>\\n                </tr>\\n                <tr>\\n                    <td >I<sub>jb</sub> =  @i_j_b_m &ang; @deg_j_b </td>\\n                    <td >I<sub>kb</sub> =  @i_k_b_m &ang; @deg_k_b </td>\\n                </tr>\\n                <tr>\\n                    <td >I<sub>jc</sub> =  @i_j_c_m &ang; @deg_j_c </td>\\n                    <td >I<sub>kc</sub> =  @i_k_c_m &ang; @deg_k_c </td>\\n                </tr>\\n                <tr>\\n                    <td >I<sub>jn</sub> =  @i_j_n_m &ang; @deg_j_n </td>\\n                    <td >I<sub>kn</sub> =  @i_k_n_m &ang; @deg_k_n </td>\\n                </tr>\\n            </table>            \\n            </div>\\n            \"},\"id\":\"1898\",\"type\":\"HoverTool\"},{\"attributes\":{},\"id\":\"1849\",\"type\":\"LinearScale\"},{\"attributes\":{\"line_alpha\":{\"value\":0.5},\"line_color\":{\"value\":\"green\"},\"line_width\":{\"value\":5},\"xs\":{\"field\":\"x_s\"},\"ys\":{\"field\":\"y_s\"}},\"id\":\"1880\",\"type\":\"MultiLine\"},{\"attributes\":{\"formatter\":{\"id\":\"1964\",\"type\":\"BasicTickFormatter\"},\"plot\":{\"id\":\"1843\",\"subtype\":\"Figure\",\"type\":\"Plot\"},\"ticker\":{\"id\":\"1854\",\"type\":\"BasicTicker\"}},\"id\":\"1853\",\"type\":\"LinearAxis\"},{\"attributes\":{\"bottom_units\":\"screen\",\"fill_alpha\":{\"value\":0.5},\"fill_color\":{\"value\":\"lightgrey\"},\"left_units\":\"screen\",\"level\":\"overlay\",\"line_alpha\":{\"value\":1.0},\"line_color\":{\"value\":\"black\"},\"line_dash\":[4,4],\"line_width\":{\"value\":2},\"plot\":null,\"render_mode\":\"css\",\"right_units\":\"screen\",\"top_units\":\"screen\"},\"id\":\"1871\",\"type\":\"BoxAnnotation\"},{\"attributes\":{},\"id\":\"1854\",\"type\":\"BasicTicker\"},{\"attributes\":{\"line_alpha\":{\"value\":0.5},\"line_color\":{\"value\":\"red\"},\"line_width\":{\"value\":5},\"xs\":{\"field\":\"x_s\"},\"ys\":{\"field\":\"y_s\"}},\"id\":\"1886\",\"type\":\"MultiLine\"},{\"attributes\":{\"data_source\":{\"id\":\"1890\",\"type\":\"ColumnDataSource\"},\"glyph\":{\"id\":\"1892\",\"type\":\"Circle\"},\"hover_glyph\":null,\"muted_glyph\":null,\"nonselection_glyph\":{\"id\":\"1893\",\"type\":\"Circle\"},\"selection_glyph\":null,\"view\":{\"id\":\"1895\",\"type\":\"CDSView\"}},\"id\":\"1894\",\"type\":\"GlyphRenderer\"},{\"attributes\":{\"callback\":null,\"renderers\":[{\"id\":\"1882\",\"type\":\"GlyphRenderer\"}],\"tooltips\":\"\\n            <div>\\n            transformer id = @trafo_id  \\n            <table border=\\\"5\\\">\\n                <tr >\\n                    <td>I<sub>1a</sub> =  @i_1a_m &ang; @deg_1a </td>\\n                    <td>I<sub>2a</sub> =  @i_2a_m &ang; @deg_2a </td>\\n                </tr>\\n                <tr>\\n                    <td >I<sub>1b</sub> =  @i_1b_m &ang; @deg_1b </td>\\n                    <td >I<sub>2b</sub> =  @i_2b_m &ang; @deg_2b </td>\\n                </tr>\\n                <tr>\\n                    <td >I<sub>1c</sub> =  @i_1c_m &ang; @deg_1c </td>\\n                    <td >I<sub>2c</sub> =  @i_2c_m &ang; @deg_2c </td>\\n                </tr>\\n                <tr>\\n                    <td >I<sub>1n</sub> =  @i_1n_m &ang; @deg_1n </td>\\n                    <td >I<sub>2n</sub> =  @i_2n_m &ang; @deg_2n </td>\\n                </tr>\\n            </table>            \\n            </div>\\n            \"},\"id\":\"1896\",\"type\":\"HoverTool\"},{\"attributes\":{\"fill_alpha\":{\"value\":0.1},\"fill_color\":{\"value\":\"#1f77b4\"},\"line_alpha\":{\"value\":0.1},\"line_color\":{\"value\":\"#1f77b4\"},\"size\":{\"units\":\"screen\",\"value\":15},\"x\":{\"field\":\"x\"},\"y\":{\"field\":\"y\"}},\"id\":\"1893\",\"type\":\"Circle\"},{\"attributes\":{\"line_alpha\":{\"value\":0.1},\"line_color\":{\"value\":\"#1f77b4\"},\"line_width\":{\"value\":5},\"xs\":{\"field\":\"x_s\"},\"ys\":{\"field\":\"y_s\"}},\"id\":\"1887\",\"type\":\"MultiLine\"},{\"attributes\":{},\"id\":\"1967\",\"type\":\"UnionRenderers\"},{\"attributes\":{\"fill_alpha\":{\"value\":0.5},\"fill_color\":{\"value\":\"navy\"},\"line_alpha\":{\"value\":0.5},\"line_color\":{\"value\":\"navy\"},\"size\":{\"units\":\"screen\",\"value\":15},\"x\":{\"field\":\"x\"},\"y\":{\"field\":\"y\"}},\"id\":\"1892\",\"type\":\"Circle\"},{\"attributes\":{\"source\":{\"id\":\"1884\",\"type\":\"ColumnDataSource\"}},\"id\":\"1889\",\"type\":\"CDSView\"},{\"attributes\":{},\"id\":\"1859\",\"type\":\"BasicTicker\"},{\"attributes\":{},\"id\":\"1964\",\"type\":\"BasicTickFormatter\"},{\"attributes\":{\"line_alpha\":{\"value\":0.1},\"line_color\":{\"value\":\"#1f77b4\"},\"line_width\":{\"value\":5},\"xs\":{\"field\":\"x_s\"},\"ys\":{\"field\":\"y_s\"}},\"id\":\"1881\",\"type\":\"MultiLine\"},{\"attributes\":{\"callback\":null},\"id\":\"1847\",\"type\":\"DataRange1d\"},{\"attributes\":{\"callback\":null,\"data\":{\"deg_j_a\":[-110.9657194668918],\"deg_j_b\":[180.0],\"deg_j_c\":[3.18055468172262e-14],\"deg_j_n\":[-179.99999988403945],\"deg_k_a\":[-110.9657194668918],\"deg_k_b\":[180.0],\"deg_k_c\":[3.18055468172262e-14],\"deg_k_n\":[-179.99999988403945],\"i_j_a_m\":[4.92806705206967e-22],\"i_j_b_m\":[4.547473508864641e-13],\"i_j_c_m\":[2.2737367544323216e-13],\"i_j_n_m\":[2.273736756195628e-13],\"i_k_a_m\":[4.92806705206967e-22],\"i_k_b_m\":[4.547473508864641e-13],\"i_k_c_m\":[2.2737367544323216e-13],\"i_k_n_m\":[2.273736756195628e-13],\"line_id\":[\"B1-B2\"],\"x_s\":[[30,200]],\"y_s\":[[0,0]]},\"selected\":{\"id\":\"1970\",\"type\":\"Selection\"},\"selection_policy\":{\"id\":\"1969\",\"type\":\"UnionRenderers\"}},\"id\":\"1884\",\"type\":\"ColumnDataSource\"},{\"attributes\":{\"formatter\":{\"id\":\"1966\",\"type\":\"BasicTickFormatter\"},\"plot\":{\"id\":\"1843\",\"subtype\":\"Figure\",\"type\":\"Plot\"},\"ticker\":{\"id\":\"1859\",\"type\":\"BasicTicker\"}},\"id\":\"1858\",\"type\":\"LinearAxis\"},{\"attributes\":{\"plot\":null,\"text\":\"Results\"},\"id\":\"1842\",\"type\":\"Title\"},{\"attributes\":{\"source\":{\"id\":\"1878\",\"type\":\"ColumnDataSource\"}},\"id\":\"1883\",\"type\":\"CDSView\"},{\"attributes\":{\"callback\":null,\"data\":{\"bus_id\":[\"B0\",\"B1\",\"B2\"],\"deg_an\":[\"0.00\",\"-30.00\",\"-20.56\"],\"deg_bn\":[\"-120.00\",\"-150.00\",\"180.00\"],\"deg_cn\":[\"120.00\",\"90.00\",\"120.00\"],\"deg_ng\":[\"0.00\",\"150.00\",\"0.00\"],\"p_a\":[\"0.00\",\"0.00\",\"0.00\"],\"p_abc\":[\"0.00\",\"0.00\",\"0.00\"],\"p_b\":[\"0.00\",\"-0.00\",\"0.00\"],\"p_c\":[\"0.00\",\"0.00\",\"0.00\"],\"q_a\":[\"0.00\",\"-0.00\",\"-0.00\"],\"q_abc\":[\"0.00\",\"0.00\",\"0.00\"],\"q_b\":[\"0.00\",\"0.00\",\"0.00\"],\"q_c\":[\"0.00\",\"0.00\",\"0.00\"],\"s_color\":[\"red\",\"blue\",\"blue\"],\"s_radio\":[1,1,1],\"u_avg_pu\":[\"1.000\",\"1.000\",\"1.155\"],\"v_ab\":[65999.79602241206,17999.944369748748,17999.944369748744],\"v_an\":[\"38105.00\",\"10392.27\",\"0.00\"],\"v_an_pu\":[\"1.0000\",\"1.0000\",\"0.0000\"],\"v_bc\":[65999.79602241208,17999.944369748744,17999.94436974874],\"v_bn\":[\"38105.00\",\"10392.27\",\"17999.94\"],\"v_bn_pu\":[\"1.0000\",\"1.0000\",\"1.7320\"],\"v_ca\":[65999.79602241208,17999.94436974875,17999.94436974875],\"v_cn\":[\"38105.00\",\"10392.27\",\"17999.94\"],\"v_cn_pu\":[\"1.0000\",\"1.0000\",\"1.7320\"],\"v_ng\":[\"0.00\",\"10392.27\",\"0.00\"],\"v_unb\":[\"0.0\",\"0.0\",\"100.0\"],\"x\":[0,30,200],\"y\":[0,0,0]},\"selected\":{\"id\":\"1972\",\"type\":\"Selection\"},\"selection_policy\":{\"id\":\"1971\",\"type\":\"UnionRenderers\"}},\"id\":\"1890\",\"type\":\"ColumnDataSource\"},{\"attributes\":{\"callback\":null,\"renderers\":[{\"id\":\"1894\",\"type\":\"GlyphRenderer\"}],\"tooltips\":\"\\n            <div>\\n            bus_id = @bus_id &nbsp &nbsp |  u<sub>avg</sub>= @u_avg_pu pu |  u<sub>unb</sub>= @v_unb %\\n            <table border=\\\"1\\\">\\n                <tr>\\n                <td>v<sub>an</sub> =  @v_an  &ang; @deg_an V </td> <td> S<sub>a</sub> = @p_a + j@q_a kVA</td>\\n                </tr>\\n                      <tr>\\n                      <td> </td> <td>v<sub>ab</sub>= @v_ab V</td>\\n                      </tr>\\n                <tr>\\n                <td>v<sub>bn</sub> = @v_bn &ang; @deg_bn V </td><td> S<sub>b</sub> = @p_b + j@q_b kVA</td>\\n                </tr>\\n                      <tr>\\n                      <td> </td><td>v<sub>bc</sub>= @v_bc V</td>\\n                      </tr>\\n                <tr>\\n                <td>v<sub>cn</sub>  = @v_cn &ang; @deg_cn V </td>  <td>S<sub>c</sub> = @p_c + j@q_c kVA </td>\\n                </tr> \\n                    <tr>\\n                     <td> </td> <td>v<sub>ca</sub>= @v_ca V</td>\\n                    </tr>\\n               <tr>\\n                <td>v<sub>ng</sub>    = @v_ng &ang; @deg_ng V</td>  <td>S<sub>abc</sub> = @p_abc + j@q_abc kVA </td>\\n              </tr>\\n            </table>\\n            </div>\\n            \"},\"id\":\"1900\",\"type\":\"HoverTool\"},{\"attributes\":{\"data_source\":{\"id\":\"1878\",\"type\":\"ColumnDataSource\"},\"glyph\":{\"id\":\"1880\",\"type\":\"MultiLine\"},\"hover_glyph\":null,\"muted_glyph\":null,\"nonselection_glyph\":{\"id\":\"1881\",\"type\":\"MultiLine\"},\"selection_glyph\":null,\"view\":{\"id\":\"1883\",\"type\":\"CDSView\"}},\"id\":\"1882\",\"type\":\"GlyphRenderer\"}],\"root_ids\":[\"1843\"]},\"title\":\"Bokeh Application\",\"version\":\"1.0.2\"}};\n",
       "  var render_items = [{\"docid\":\"be7648ff-1e4e-4d55-b11e-81a5854abccf\",\"roots\":{\"1843\":\"6a63742e-b53e-4b55-92c4-cac5e443bf0f\"}}];\n",
       "  root.Bokeh.embed.embed_items_notebook(docs_json, render_items);\n",
       "\n",
       "  }\n",
       "  if (root.Bokeh !== undefined) {\n",
       "    embed_document(root);\n",
       "  } else {\n",
       "    var attempts = 0;\n",
       "    var timer = setInterval(function(root) {\n",
       "      if (root.Bokeh !== undefined) {\n",
       "        embed_document(root);\n",
       "        clearInterval(timer);\n",
       "      }\n",
       "      attempts++;\n",
       "      if (attempts > 100) {\n",
       "        console.log(\"Bokeh: ERROR: Unable to run BokehJS code because BokehJS library is missing\");\n",
       "        clearInterval(timer);\n",
       "      }\n",
       "    }, 10, root)\n",
       "  }\n",
       "})(window);"
      ],
      "application/vnd.bokehjs_exec.v0+json": ""
     },
     "metadata": {
      "application/vnd.bokehjs_exec.v0+json": {
       "id": "1843"
      }
     },
     "output_type": "display_data"
    }
   ],
   "source": [
    "grid_ph_g = grid()\n",
    "grid_ph_g.read(data)  # Load data\n",
    "grid_ph_g.pf()  # solve power flow\n",
    "p=plot_results(grid_ph_g)"
   ]
  },
  {
   "cell_type": "markdown",
   "metadata": {},
   "source": [
    "## Phase ground fault (grounded neutral)"
   ]
  },
  {
   "cell_type": "markdown",
   "metadata": {},
   "source": [
    "![](./png/mv_short_circuits_ph_g_n.png)  "
   ]
  },
  {
   "cell_type": "code",
   "execution_count": 15,
   "metadata": {},
   "outputs": [],
   "source": [
    "data['grid_feeders'] = [{\"bus\": \"B2\",\"bus_nodes\": [1, 2, 3],\n",
    "                \"kW\": [0, 0, 0], \"kvar\": [0,0,0],\n",
    "                \"kA\": [-0.0,-0.0,-0.0], \"phi_deg\":[0, 0, 0]}\n",
    "                ]\n",
    "data['shunts'] = [\n",
    "        {\"bus\": \"B1\" , \"R\": 1e-12, \"X\": 0.0, \"bus_nodes\": [4,0]},\n",
    "        {\"bus\": \"B1\" , \"R\": 1e-12, \"X\": 0.0, \"bus_nodes\": [1,0]}, # applied fault\n",
    "]"
   ]
  },
  {
   "cell_type": "code",
   "execution_count": 16,
   "metadata": {},
   "outputs": [
    {
     "data": {
      "text/html": [
       "\n",
       "\n",
       "\n",
       "\n",
       "\n",
       "\n",
       "  <div class=\"bk-root\" id=\"fe319249-5f5c-446a-9719-43a94bdca661\"></div>\n"
      ]
     },
     "metadata": {},
     "output_type": "display_data"
    },
    {
     "data": {
      "application/javascript": [
       "(function(root) {\n",
       "  function embed_document(root) {\n",
       "    \n",
       "  var docs_json = {\"d09ac160-73b2-4171-99b2-4e052d062393\":{\"roots\":{\"references\":[{\"attributes\":{\"below\":[{\"id\":\"2057\",\"type\":\"LinearAxis\"}],\"left\":[{\"id\":\"2062\",\"type\":\"LinearAxis\"}],\"plot_height\":400,\"renderers\":[{\"id\":\"2057\",\"type\":\"LinearAxis\"},{\"id\":\"2061\",\"type\":\"Grid\"},{\"id\":\"2062\",\"type\":\"LinearAxis\"},{\"id\":\"2066\",\"type\":\"Grid\"},{\"id\":\"2075\",\"type\":\"BoxAnnotation\"},{\"id\":\"2086\",\"type\":\"GlyphRenderer\"},{\"id\":\"2092\",\"type\":\"GlyphRenderer\"},{\"id\":\"2098\",\"type\":\"GlyphRenderer\"}],\"title\":{\"id\":\"2046\",\"type\":\"Title\"},\"toolbar\":{\"id\":\"2073\",\"type\":\"Toolbar\"},\"x_range\":{\"id\":\"2049\",\"type\":\"DataRange1d\"},\"x_scale\":{\"id\":\"2053\",\"type\":\"LinearScale\"},\"y_range\":{\"id\":\"2051\",\"type\":\"DataRange1d\"},\"y_scale\":{\"id\":\"2055\",\"type\":\"LinearScale\"}},\"id\":\"2047\",\"subtype\":\"Figure\",\"type\":\"Plot\"},{\"attributes\":{\"callback\":null,\"data\":{\"deg_1a\":[-112.87498365095888],\"deg_1b\":[169.69515353123398],\"deg_1c\":[67.1250163490411],\"deg_1n\":[-153.434948822922],\"deg_2a\":[67.1250163490411],\"deg_2b\":[-72.64597536373867],\"deg_2c\":[-161.565051177078],\"deg_2n\":[90.0],\"i_1a_m\":[2004.5955757769925],\"i_1b_m\":[1.2710574864626038e-12],\"i_1c_m\":[2004.5955757769925],\"i_1n_m\":[5.084229945850415e-13],\"i_2a_m\":[12730.891748202966],\"i_2b_m\":[3.811477339295427e-12],\"i_2c_m\":[2.8760747774580336e-12],\"i_2n_m\":[2.0679515313825692e-25],\"trafo_id\":[\"B0-B1\"],\"x_s\":[[0,30]],\"y_s\":[[0,0]]},\"selected\":{\"id\":\"2184\",\"type\":\"Selection\"},\"selection_policy\":{\"id\":\"2183\",\"type\":\"UnionRenderers\"}},\"id\":\"2082\",\"type\":\"ColumnDataSource\"},{\"attributes\":{\"overlay\":{\"id\":\"2075\",\"type\":\"BoxAnnotation\"}},\"id\":\"2069\",\"type\":\"BoxZoomTool\"},{\"attributes\":{\"callback\":null},\"id\":\"2051\",\"type\":\"DataRange1d\"},{\"attributes\":{},\"id\":\"2184\",\"type\":\"Selection\"},{\"attributes\":{},\"id\":\"2070\",\"type\":\"SaveTool\"},{\"attributes\":{\"callback\":null,\"renderers\":[{\"id\":\"2086\",\"type\":\"GlyphRenderer\"}],\"tooltips\":\"\\n            <div>\\n            transformer id = @trafo_id  \\n            <table border=\\\"5\\\">\\n                <tr >\\n                    <td>I<sub>1a</sub> =  @i_1a_m &ang; @deg_1a </td>\\n                    <td>I<sub>2a</sub> =  @i_2a_m &ang; @deg_2a </td>\\n                </tr>\\n                <tr>\\n                    <td >I<sub>1b</sub> =  @i_1b_m &ang; @deg_1b </td>\\n                    <td >I<sub>2b</sub> =  @i_2b_m &ang; @deg_2b </td>\\n                </tr>\\n                <tr>\\n                    <td >I<sub>1c</sub> =  @i_1c_m &ang; @deg_1c </td>\\n                    <td >I<sub>2c</sub> =  @i_2c_m &ang; @deg_2c </td>\\n                </tr>\\n                <tr>\\n                    <td >I<sub>1n</sub> =  @i_1n_m &ang; @deg_1n </td>\\n                    <td >I<sub>2n</sub> =  @i_2n_m &ang; @deg_2n </td>\\n                </tr>\\n            </table>            \\n            </div>\\n            \"},\"id\":\"2100\",\"type\":\"HoverTool\"},{\"attributes\":{\"callback\":null},\"id\":\"2049\",\"type\":\"DataRange1d\"},{\"attributes\":{\"fill_alpha\":{\"value\":0.1},\"fill_color\":{\"value\":\"#1f77b4\"},\"line_alpha\":{\"value\":0.1},\"line_color\":{\"value\":\"#1f77b4\"},\"size\":{\"units\":\"screen\",\"value\":15},\"x\":{\"field\":\"x\"},\"y\":{\"field\":\"y\"}},\"id\":\"2097\",\"type\":\"Circle\"},{\"attributes\":{\"data_source\":{\"id\":\"2082\",\"type\":\"ColumnDataSource\"},\"glyph\":{\"id\":\"2084\",\"type\":\"MultiLine\"},\"hover_glyph\":null,\"muted_glyph\":null,\"nonselection_glyph\":{\"id\":\"2085\",\"type\":\"MultiLine\"},\"selection_glyph\":null,\"view\":{\"id\":\"2087\",\"type\":\"CDSView\"}},\"id\":\"2086\",\"type\":\"GlyphRenderer\"},{\"attributes\":{},\"id\":\"2183\",\"type\":\"UnionRenderers\"},{\"attributes\":{},\"id\":\"2187\",\"type\":\"UnionRenderers\"},{\"attributes\":{\"formatter\":{\"id\":\"2182\",\"type\":\"BasicTickFormatter\"},\"plot\":{\"id\":\"2047\",\"subtype\":\"Figure\",\"type\":\"Plot\"},\"ticker\":{\"id\":\"2063\",\"type\":\"BasicTicker\"}},\"id\":\"2062\",\"type\":\"LinearAxis\"},{\"attributes\":{\"data_source\":{\"id\":\"2088\",\"type\":\"ColumnDataSource\"},\"glyph\":{\"id\":\"2090\",\"type\":\"MultiLine\"},\"hover_glyph\":null,\"muted_glyph\":null,\"nonselection_glyph\":{\"id\":\"2091\",\"type\":\"MultiLine\"},\"selection_glyph\":null,\"view\":{\"id\":\"2093\",\"type\":\"CDSView\"}},\"id\":\"2092\",\"type\":\"GlyphRenderer\"},{\"attributes\":{},\"id\":\"2063\",\"type\":\"BasicTicker\"},{\"attributes\":{},\"id\":\"2182\",\"type\":\"BasicTickFormatter\"},{\"attributes\":{\"source\":{\"id\":\"2082\",\"type\":\"ColumnDataSource\"}},\"id\":\"2087\",\"type\":\"CDSView\"},{\"attributes\":{\"callback\":null,\"data\":{\"bus_id\":[\"B0\",\"B1\",\"B2\"],\"deg_an\":[\"0.00\",\"-112.87\",\"-112.87\"],\"deg_bn\":[\"-120.00\",\"-150.00\",\"-150.00\"],\"deg_cn\":[\"120.00\",\"90.00\",\"90.00\"],\"deg_ng\":[\"0.00\",\"67.13\",\"0.00\"],\"p_a\":[\"-29692.55\",\"-0.00\",\"-0.00\"],\"p_abc\":[\"16410.15\",\"0.00\",\"0.00\"],\"p_b\":[\"0.00\",\"-0.00\",\"-0.00\"],\"p_c\":[\"46102.71\",\"0.00\",\"0.00\"],\"q_a\":[\"70377.82\",\"0.00\",\"0.00\"],\"q_abc\":[\"131281.24\",\"0.00\",\"0.00\"],\"q_b\":[\"0.00\",\"0.00\",\"0.00\"],\"q_c\":[\"60903.42\",\"0.00\",\"0.00\"],\"s_color\":[\"red\",\"blue\",\"blue\"],\"s_radio\":[20,1,1],\"u_avg_pu\":[\"1.000\",\"0.667\",\"0.667\"],\"v_ab\":[65999.79602241206,10392.272727252423,10392.272727252424],\"v_an\":[\"38105.00\",\"0.00\",\"0.00\"],\"v_an_pu\":[\"1.0000\",\"0.0000\",\"0.0000\"],\"v_bc\":[65999.79602241208,17999.94436974874,17999.944369748744],\"v_bn\":[\"38105.00\",\"10392.27\",\"10392.27\"],\"v_bn_pu\":[\"1.0000\",\"1.0000\",\"1.0000\"],\"v_ca\":[65999.79602241208,10392.272727296184,10392.272727296186],\"v_cn\":[\"38105.00\",\"10392.27\",\"10392.27\"],\"v_cn_pu\":[\"1.0000\",\"1.0000\",\"1.0000\"],\"v_ng\":[\"0.00\",\"0.00\",\"0.00\"],\"v_unb\":[\"0.0\",\"100.0\",\"100.0\"],\"x\":[0,30,200],\"y\":[0,0,0]},\"selected\":{\"id\":\"2188\",\"type\":\"Selection\"},\"selection_policy\":{\"id\":\"2187\",\"type\":\"UnionRenderers\"}},\"id\":\"2094\",\"type\":\"ColumnDataSource\"},{\"attributes\":{\"callback\":null,\"renderers\":[{\"id\":\"2092\",\"type\":\"GlyphRenderer\"}],\"tooltips\":\"\\n            <div>\\n            line id = @line_id \\n            <table border=\\\"5\\\">\\n                <tr >\\n                    <td>I<sub>ja</sub> =  @i_j_a_m &ang; @deg_j_a </td>\\n                    <td>I<sub>ka</sub> =  @i_k_a_m &ang; @deg_k_a </td>\\n                </tr>\\n                <tr>\\n                    <td >I<sub>jb</sub> =  @i_j_b_m &ang; @deg_j_b </td>\\n                    <td >I<sub>kb</sub> =  @i_k_b_m &ang; @deg_k_b </td>\\n                </tr>\\n                <tr>\\n                    <td >I<sub>jc</sub> =  @i_j_c_m &ang; @deg_j_c </td>\\n                    <td >I<sub>kc</sub> =  @i_k_c_m &ang; @deg_k_c </td>\\n                </tr>\\n                <tr>\\n                    <td >I<sub>jn</sub> =  @i_j_n_m &ang; @deg_j_n </td>\\n                    <td >I<sub>kn</sub> =  @i_k_n_m &ang; @deg_k_n </td>\\n                </tr>\\n            </table>            \\n            </div>\\n            \"},\"id\":\"2102\",\"type\":\"HoverTool\"},{\"attributes\":{\"source\":{\"id\":\"2094\",\"type\":\"ColumnDataSource\"}},\"id\":\"2099\",\"type\":\"CDSView\"},{\"attributes\":{},\"id\":\"2072\",\"type\":\"HelpTool\"},{\"attributes\":{\"source\":{\"id\":\"2088\",\"type\":\"ColumnDataSource\"}},\"id\":\"2093\",\"type\":\"CDSView\"},{\"attributes\":{},\"id\":\"2067\",\"type\":\"PanTool\"},{\"attributes\":{\"callback\":null,\"renderers\":[{\"id\":\"2098\",\"type\":\"GlyphRenderer\"}],\"tooltips\":\"\\n            <div>\\n            bus_id = @bus_id &nbsp &nbsp |  u<sub>avg</sub>= @u_avg_pu pu |  u<sub>unb</sub>= @v_unb %\\n            <table border=\\\"1\\\">\\n                <tr>\\n                <td>v<sub>an</sub> =  @v_an  &ang; @deg_an V </td> <td> S<sub>a</sub> = @p_a + j@q_a kVA</td>\\n                </tr>\\n                      <tr>\\n                      <td> </td> <td>v<sub>ab</sub>= @v_ab V</td>\\n                      </tr>\\n                <tr>\\n                <td>v<sub>bn</sub> = @v_bn &ang; @deg_bn V </td><td> S<sub>b</sub> = @p_b + j@q_b kVA</td>\\n                </tr>\\n                      <tr>\\n                      <td> </td><td>v<sub>bc</sub>= @v_bc V</td>\\n                      </tr>\\n                <tr>\\n                <td>v<sub>cn</sub>  = @v_cn &ang; @deg_cn V </td>  <td>S<sub>c</sub> = @p_c + j@q_c kVA </td>\\n                </tr> \\n                    <tr>\\n                     <td> </td> <td>v<sub>ca</sub>= @v_ca V</td>\\n                    </tr>\\n               <tr>\\n                <td>v<sub>ng</sub>    = @v_ng &ang; @deg_ng V</td>  <td>S<sub>abc</sub> = @p_abc + j@q_abc kVA </td>\\n              </tr>\\n            </table>\\n            </div>\\n            \"},\"id\":\"2104\",\"type\":\"HoverTool\"},{\"attributes\":{},\"id\":\"2180\",\"type\":\"BasicTickFormatter\"},{\"attributes\":{},\"id\":\"2068\",\"type\":\"WheelZoomTool\"},{\"attributes\":{\"line_alpha\":{\"value\":0.5},\"line_color\":{\"value\":\"red\"},\"line_width\":{\"value\":5},\"xs\":{\"field\":\"x_s\"},\"ys\":{\"field\":\"y_s\"}},\"id\":\"2090\",\"type\":\"MultiLine\"},{\"attributes\":{\"line_alpha\":{\"value\":0.1},\"line_color\":{\"value\":\"#1f77b4\"},\"line_width\":{\"value\":5},\"xs\":{\"field\":\"x_s\"},\"ys\":{\"field\":\"y_s\"}},\"id\":\"2085\",\"type\":\"MultiLine\"},{\"attributes\":{\"data_source\":{\"id\":\"2094\",\"type\":\"ColumnDataSource\"},\"glyph\":{\"id\":\"2096\",\"type\":\"Circle\"},\"hover_glyph\":null,\"muted_glyph\":null,\"nonselection_glyph\":{\"id\":\"2097\",\"type\":\"Circle\"},\"selection_glyph\":null,\"view\":{\"id\":\"2099\",\"type\":\"CDSView\"}},\"id\":\"2098\",\"type\":\"GlyphRenderer\"},{\"attributes\":{\"callback\":null,\"data\":{\"deg_j_a\":[90.0],\"deg_j_b\":[20.556045219583467],\"deg_j_c\":[-90.0],\"deg_j_n\":[-7.12501634887615],\"deg_k_a\":[90.0],\"deg_k_b\":[20.556045219583467],\"deg_k_c\":[-90.0],\"deg_k_n\":[-7.12501634887615],\"i_j_a_m\":[2.0679515313825692e-25],\"i_j_b_m\":[4.856703836433968e-13],\"i_j_c_m\":[2.273736754432321e-13],\"i_j_n_m\":[4.582862941503037e-13],\"i_k_a_m\":[2.0679515313825692e-25],\"i_k_b_m\":[4.856703836433968e-13],\"i_k_c_m\":[2.273736754432321e-13],\"i_k_n_m\":[4.582862941503037e-13],\"line_id\":[\"B1-B2\"],\"x_s\":[[30,200]],\"y_s\":[[0,0]]},\"selected\":{\"id\":\"2186\",\"type\":\"Selection\"},\"selection_policy\":{\"id\":\"2185\",\"type\":\"UnionRenderers\"}},\"id\":\"2088\",\"type\":\"ColumnDataSource\"},{\"attributes\":{},\"id\":\"2071\",\"type\":\"ResetTool\"},{\"attributes\":{},\"id\":\"2186\",\"type\":\"Selection\"},{\"attributes\":{\"dimension\":1,\"plot\":{\"id\":\"2047\",\"subtype\":\"Figure\",\"type\":\"Plot\"},\"ticker\":{\"id\":\"2063\",\"type\":\"BasicTicker\"}},\"id\":\"2066\",\"type\":\"Grid\"},{\"attributes\":{},\"id\":\"2188\",\"type\":\"Selection\"},{\"attributes\":{\"bottom_units\":\"screen\",\"fill_alpha\":{\"value\":0.5},\"fill_color\":{\"value\":\"lightgrey\"},\"left_units\":\"screen\",\"level\":\"overlay\",\"line_alpha\":{\"value\":1.0},\"line_color\":{\"value\":\"black\"},\"line_dash\":[4,4],\"line_width\":{\"value\":2},\"plot\":null,\"render_mode\":\"css\",\"right_units\":\"screen\",\"top_units\":\"screen\"},\"id\":\"2075\",\"type\":\"BoxAnnotation\"},{\"attributes\":{},\"id\":\"2055\",\"type\":\"LinearScale\"},{\"attributes\":{\"line_alpha\":{\"value\":0.1},\"line_color\":{\"value\":\"#1f77b4\"},\"line_width\":{\"value\":5},\"xs\":{\"field\":\"x_s\"},\"ys\":{\"field\":\"y_s\"}},\"id\":\"2091\",\"type\":\"MultiLine\"},{\"attributes\":{\"plot\":{\"id\":\"2047\",\"subtype\":\"Figure\",\"type\":\"Plot\"},\"ticker\":{\"id\":\"2058\",\"type\":\"BasicTicker\"}},\"id\":\"2061\",\"type\":\"Grid\"},{\"attributes\":{\"formatter\":{\"id\":\"2180\",\"type\":\"BasicTickFormatter\"},\"plot\":{\"id\":\"2047\",\"subtype\":\"Figure\",\"type\":\"Plot\"},\"ticker\":{\"id\":\"2058\",\"type\":\"BasicTicker\"}},\"id\":\"2057\",\"type\":\"LinearAxis\"},{\"attributes\":{\"fill_alpha\":{\"value\":0.5},\"fill_color\":{\"value\":\"navy\"},\"line_alpha\":{\"value\":0.5},\"line_color\":{\"value\":\"navy\"},\"size\":{\"units\":\"screen\",\"value\":15},\"x\":{\"field\":\"x\"},\"y\":{\"field\":\"y\"}},\"id\":\"2096\",\"type\":\"Circle\"},{\"attributes\":{},\"id\":\"2185\",\"type\":\"UnionRenderers\"},{\"attributes\":{},\"id\":\"2058\",\"type\":\"BasicTicker\"},{\"attributes\":{\"line_alpha\":{\"value\":0.5},\"line_color\":{\"value\":\"green\"},\"line_width\":{\"value\":5},\"xs\":{\"field\":\"x_s\"},\"ys\":{\"field\":\"y_s\"}},\"id\":\"2084\",\"type\":\"MultiLine\"},{\"attributes\":{\"plot\":null,\"text\":\"Results\"},\"id\":\"2046\",\"type\":\"Title\"},{\"attributes\":{\"active_drag\":\"auto\",\"active_inspect\":\"auto\",\"active_multi\":null,\"active_scroll\":\"auto\",\"active_tap\":\"auto\",\"tools\":[{\"id\":\"2067\",\"type\":\"PanTool\"},{\"id\":\"2068\",\"type\":\"WheelZoomTool\"},{\"id\":\"2069\",\"type\":\"BoxZoomTool\"},{\"id\":\"2070\",\"type\":\"SaveTool\"},{\"id\":\"2071\",\"type\":\"ResetTool\"},{\"id\":\"2072\",\"type\":\"HelpTool\"},{\"id\":\"2100\",\"type\":\"HoverTool\"},{\"id\":\"2102\",\"type\":\"HoverTool\"},{\"id\":\"2104\",\"type\":\"HoverTool\"}]},\"id\":\"2073\",\"type\":\"Toolbar\"},{\"attributes\":{},\"id\":\"2053\",\"type\":\"LinearScale\"}],\"root_ids\":[\"2047\"]},\"title\":\"Bokeh Application\",\"version\":\"1.0.2\"}};\n",
       "  var render_items = [{\"docid\":\"d09ac160-73b2-4171-99b2-4e052d062393\",\"roots\":{\"2047\":\"fe319249-5f5c-446a-9719-43a94bdca661\"}}];\n",
       "  root.Bokeh.embed.embed_items_notebook(docs_json, render_items);\n",
       "\n",
       "  }\n",
       "  if (root.Bokeh !== undefined) {\n",
       "    embed_document(root);\n",
       "  } else {\n",
       "    var attempts = 0;\n",
       "    var timer = setInterval(function(root) {\n",
       "      if (root.Bokeh !== undefined) {\n",
       "        embed_document(root);\n",
       "        clearInterval(timer);\n",
       "      }\n",
       "      attempts++;\n",
       "      if (attempts > 100) {\n",
       "        console.log(\"Bokeh: ERROR: Unable to run BokehJS code because BokehJS library is missing\");\n",
       "        clearInterval(timer);\n",
       "      }\n",
       "    }, 10, root)\n",
       "  }\n",
       "})(window);"
      ],
      "application/vnd.bokehjs_exec.v0+json": ""
     },
     "metadata": {
      "application/vnd.bokehjs_exec.v0+json": {
       "id": "2047"
      }
     },
     "output_type": "display_data"
    }
   ],
   "source": [
    "grid_ph_n = grid()\n",
    "grid_ph_n.read(data)  # Load data\n",
    "grid_ph_n.pf()  # solve power flow\n",
    "p=plot_results(grid_ph_n)"
   ]
  },
  {
   "cell_type": "markdown",
   "metadata": {},
   "source": [
    "## Phase ground fault (grounded neutral with impedance)"
   ]
  },
  {
   "cell_type": "markdown",
   "metadata": {},
   "source": [
    "![](./png/mv_short_circuits_ph_g_z_n.png)  "
   ]
  },
  {
   "cell_type": "code",
   "execution_count": 17,
   "metadata": {},
   "outputs": [],
   "source": [
    "data['grid_feeders'] = [{\"bus\": \"B2\",\"bus_nodes\": [1, 2, 3],\n",
    "                \"kW\": [0, 0, 0], \"kvar\": [0,0,0],\n",
    "                \"kA\": [-0.0,-0.0,-0.0], \"phi_deg\":[0, 0, 0]}\n",
    "                ]\n",
    "data['shunts'] = [\n",
    "        {\"bus\": \"B1\" , \"R\": 3.5, \"X\": 0.0, \"bus_nodes\": [4,0]},\n",
    "        {\"bus\": \"B1\" , \"R\": 1e-12, \"X\": 0.0, \"bus_nodes\": [1,0]}, # applied fault\n",
    "]"
   ]
  },
  {
   "cell_type": "code",
   "execution_count": 18,
   "metadata": {},
   "outputs": [
    {
     "data": {
      "text/html": [
       "\n",
       "\n",
       "\n",
       "\n",
       "\n",
       "\n",
       "  <div class=\"bk-root\" id=\"2dd6ccae-e6db-466c-aa8a-d51d8740de0a\"></div>\n"
      ]
     },
     "metadata": {},
     "output_type": "display_data"
    },
    {
     "data": {
      "application/javascript": [
       "(function(root) {\n",
       "  function embed_document(root) {\n",
       "    \n",
       "  var docs_json = {\"02063c20-2d13-485d-81d8-4096e10084d9\":{\"roots\":{\"references\":[{\"attributes\":{\"below\":[{\"id\":\"2273\",\"type\":\"LinearAxis\"}],\"left\":[{\"id\":\"2278\",\"type\":\"LinearAxis\"}],\"plot_height\":400,\"renderers\":[{\"id\":\"2273\",\"type\":\"LinearAxis\"},{\"id\":\"2277\",\"type\":\"Grid\"},{\"id\":\"2278\",\"type\":\"LinearAxis\"},{\"id\":\"2282\",\"type\":\"Grid\"},{\"id\":\"2291\",\"type\":\"BoxAnnotation\"},{\"id\":\"2302\",\"type\":\"GlyphRenderer\"},{\"id\":\"2308\",\"type\":\"GlyphRenderer\"},{\"id\":\"2314\",\"type\":\"GlyphRenderer\"}],\"title\":{\"id\":\"2262\",\"type\":\"Title\"},\"toolbar\":{\"id\":\"2289\",\"type\":\"Toolbar\"},\"x_range\":{\"id\":\"2265\",\"type\":\"DataRange1d\"},\"x_scale\":{\"id\":\"2269\",\"type\":\"LinearScale\"},\"y_range\":{\"id\":\"2267\",\"type\":\"DataRange1d\"},\"y_scale\":{\"id\":\"2271\",\"type\":\"LinearScale\"}},\"id\":\"2263\",\"subtype\":\"Figure\",\"type\":\"Plot\"},{\"attributes\":{},\"id\":\"2274\",\"type\":\"BasicTicker\"},{\"attributes\":{\"source\":{\"id\":\"2304\",\"type\":\"ColumnDataSource\"}},\"id\":\"2309\",\"type\":\"CDSView\"},{\"attributes\":{},\"id\":\"2416\",\"type\":\"Selection\"},{\"attributes\":{},\"id\":\"2269\",\"type\":\"LinearScale\"},{\"attributes\":{\"line_alpha\":{\"value\":0.1},\"line_color\":{\"value\":\"#1f77b4\"},\"line_width\":{\"value\":5},\"xs\":{\"field\":\"x_s\"},\"ys\":{\"field\":\"y_s\"}},\"id\":\"2301\",\"type\":\"MultiLine\"},{\"attributes\":{\"callback\":null,\"renderers\":[{\"id\":\"2302\",\"type\":\"GlyphRenderer\"}],\"tooltips\":\"\\n            <div>\\n            transformer id = @trafo_id  \\n            <table border=\\\"5\\\">\\n                <tr >\\n                    <td>I<sub>1a</sub> =  @i_1a_m &ang; @deg_1a </td>\\n                    <td>I<sub>2a</sub> =  @i_2a_m &ang; @deg_2a </td>\\n                </tr>\\n                <tr>\\n                    <td >I<sub>1b</sub> =  @i_1b_m &ang; @deg_1b </td>\\n                    <td >I<sub>2b</sub> =  @i_2b_m &ang; @deg_2b </td>\\n                </tr>\\n                <tr>\\n                    <td >I<sub>1c</sub> =  @i_1c_m &ang; @deg_1c </td>\\n                    <td >I<sub>2c</sub> =  @i_2c_m &ang; @deg_2c </td>\\n                </tr>\\n                <tr>\\n                    <td >I<sub>1n</sub> =  @i_1n_m &ang; @deg_1n </td>\\n                    <td >I<sub>2n</sub> =  @i_2n_m &ang; @deg_2n </td>\\n                </tr>\\n            </table>            \\n            </div>\\n            \"},\"id\":\"2316\",\"type\":\"HoverTool\"},{\"attributes\":{\"overlay\":{\"id\":\"2291\",\"type\":\"BoxAnnotation\"}},\"id\":\"2285\",\"type\":\"BoxZoomTool\"},{\"attributes\":{\"source\":{\"id\":\"2310\",\"type\":\"ColumnDataSource\"}},\"id\":\"2315\",\"type\":\"CDSView\"},{\"attributes\":{\"data_source\":{\"id\":\"2304\",\"type\":\"ColumnDataSource\"},\"glyph\":{\"id\":\"2306\",\"type\":\"MultiLine\"},\"hover_glyph\":null,\"muted_glyph\":null,\"nonselection_glyph\":{\"id\":\"2307\",\"type\":\"MultiLine\"},\"selection_glyph\":null,\"view\":{\"id\":\"2309\",\"type\":\"CDSView\"}},\"id\":\"2308\",\"type\":\"GlyphRenderer\"},{\"attributes\":{\"fill_alpha\":{\"value\":0.1},\"fill_color\":{\"value\":\"#1f77b4\"},\"line_alpha\":{\"value\":0.1},\"line_color\":{\"value\":\"#1f77b4\"},\"size\":{\"units\":\"screen\",\"value\":15},\"x\":{\"field\":\"x\"},\"y\":{\"field\":\"y\"}},\"id\":\"2313\",\"type\":\"Circle\"},{\"attributes\":{\"line_alpha\":{\"value\":0.1},\"line_color\":{\"value\":\"#1f77b4\"},\"line_width\":{\"value\":5},\"xs\":{\"field\":\"x_s\"},\"ys\":{\"field\":\"y_s\"}},\"id\":\"2307\",\"type\":\"MultiLine\"},{\"attributes\":{\"callback\":null,\"data\":{\"bus_id\":[\"B0\",\"B1\",\"B2\"],\"deg_an\":[\"0.00\",\"-42.68\",\"-42.68\"],\"deg_bn\":[\"-120.00\",\"-150.00\",\"174.78\"],\"deg_cn\":[\"120.00\",\"90.00\",\"112.99\"],\"deg_ng\":[\"0.00\",\"137.32\",\"0.00\"],\"p_a\":[\"12419.22\",\"0.00\",\"0.00\"],\"p_abc\":[\"28545.30\",\"0.00\",\"0.00\"],\"p_b\":[\"-0.00\",\"-0.00\",\"0.00\"],\"p_c\":[\"16126.08\",\"0.00\",\"0.00\"],\"q_a\":[\"11450.55\",\"-0.00\",\"-0.00\"],\"q_abc\":[\"6420.46\",\"0.00\",\"0.00\"],\"q_b\":[\"0.00\",\"0.00\",\"0.00\"],\"q_c\":[\"-5030.09\",\"0.00\",\"0.00\"],\"s_color\":[\"red\",\"blue\",\"blue\"],\"s_radio\":[20,1,1],\"u_avg_pu\":[\"1.000\",\"0.983\",\"1.118\"],\"v_ab\":[65999.79602241206,16312.126898189626,16312.126898189626],\"v_an\":[\"38105.00\",\"9853.91\",\"0.00\"],\"v_an_pu\":[\"1.0000\",\"0.9482\",\"0.0000\"],\"v_bc\":[65999.79602241208,17999.944369748748,17999.944369748744],\"v_bn\":[\"38105.00\",\"10392.27\",\"16312.13\"],\"v_bn_pu\":[\"1.0000\",\"1.0000\",\"1.5696\"],\"v_ca\":[65999.79602241208,18545.335256143524,18545.335256143524],\"v_cn\":[\"38105.00\",\"10392.27\",\"18545.34\"],\"v_cn_pu\":[\"1.0000\",\"1.0000\",\"1.7845\"],\"v_ng\":[\"0.00\",\"9853.91\",\"0.00\"],\"v_unb\":[\"0.0\",\"3.5\",\"100.0\"],\"x\":[0,30,200],\"y\":[0,0,0]},\"selected\":{\"id\":\"2416\",\"type\":\"Selection\"},\"selection_policy\":{\"id\":\"2415\",\"type\":\"UnionRenderers\"}},\"id\":\"2310\",\"type\":\"ColumnDataSource\"},{\"attributes\":{\"callback\":null,\"renderers\":[{\"id\":\"2308\",\"type\":\"GlyphRenderer\"}],\"tooltips\":\"\\n            <div>\\n            line id = @line_id \\n            <table border=\\\"5\\\">\\n                <tr >\\n                    <td>I<sub>ja</sub> =  @i_j_a_m &ang; @deg_j_a </td>\\n                    <td>I<sub>ka</sub> =  @i_k_a_m &ang; @deg_k_a </td>\\n                </tr>\\n                <tr>\\n                    <td >I<sub>jb</sub> =  @i_j_b_m &ang; @deg_j_b </td>\\n                    <td >I<sub>kb</sub> =  @i_k_b_m &ang; @deg_k_b </td>\\n                </tr>\\n                <tr>\\n                    <td >I<sub>jc</sub> =  @i_j_c_m &ang; @deg_j_c </td>\\n                    <td >I<sub>kc</sub> =  @i_k_c_m &ang; @deg_k_c </td>\\n                </tr>\\n                <tr>\\n                    <td >I<sub>jn</sub> =  @i_j_n_m &ang; @deg_j_n </td>\\n                    <td >I<sub>kn</sub> =  @i_k_n_m &ang; @deg_k_n </td>\\n                </tr>\\n            </table>            \\n            </div>\\n            \"},\"id\":\"2318\",\"type\":\"HoverTool\"},{\"attributes\":{},\"id\":\"2408\",\"type\":\"BasicTickFormatter\"},{\"attributes\":{\"fill_alpha\":{\"value\":0.5},\"fill_color\":{\"value\":\"navy\"},\"line_alpha\":{\"value\":0.5},\"line_color\":{\"value\":\"navy\"},\"size\":{\"units\":\"screen\",\"value\":15},\"x\":{\"field\":\"x\"},\"y\":{\"field\":\"y\"}},\"id\":\"2312\",\"type\":\"Circle\"},{\"attributes\":{},\"id\":\"2410\",\"type\":\"BasicTickFormatter\"},{\"attributes\":{},\"id\":\"2283\",\"type\":\"PanTool\"},{\"attributes\":{},\"id\":\"2287\",\"type\":\"ResetTool\"},{\"attributes\":{},\"id\":\"2412\",\"type\":\"Selection\"},{\"attributes\":{\"data_source\":{\"id\":\"2298\",\"type\":\"ColumnDataSource\"},\"glyph\":{\"id\":\"2300\",\"type\":\"MultiLine\"},\"hover_glyph\":null,\"muted_glyph\":null,\"nonselection_glyph\":{\"id\":\"2301\",\"type\":\"MultiLine\"},\"selection_glyph\":null,\"view\":{\"id\":\"2303\",\"type\":\"CDSView\"}},\"id\":\"2302\",\"type\":\"GlyphRenderer\"},{\"attributes\":{\"plot\":{\"id\":\"2263\",\"subtype\":\"Figure\",\"type\":\"Plot\"},\"ticker\":{\"id\":\"2274\",\"type\":\"BasicTicker\"}},\"id\":\"2277\",\"type\":\"Grid\"},{\"attributes\":{\"callback\":null,\"renderers\":[{\"id\":\"2314\",\"type\":\"GlyphRenderer\"}],\"tooltips\":\"\\n            <div>\\n            bus_id = @bus_id &nbsp &nbsp |  u<sub>avg</sub>= @u_avg_pu pu |  u<sub>unb</sub>= @v_unb %\\n            <table border=\\\"1\\\">\\n                <tr>\\n                <td>v<sub>an</sub> =  @v_an  &ang; @deg_an V </td> <td> S<sub>a</sub> = @p_a + j@q_a kVA</td>\\n                </tr>\\n                      <tr>\\n                      <td> </td> <td>v<sub>ab</sub>= @v_ab V</td>\\n                      </tr>\\n                <tr>\\n                <td>v<sub>bn</sub> = @v_bn &ang; @deg_bn V </td><td> S<sub>b</sub> = @p_b + j@q_b kVA</td>\\n                </tr>\\n                      <tr>\\n                      <td> </td><td>v<sub>bc</sub>= @v_bc V</td>\\n                      </tr>\\n                <tr>\\n                <td>v<sub>cn</sub>  = @v_cn &ang; @deg_cn V </td>  <td>S<sub>c</sub> = @p_c + j@q_c kVA </td>\\n                </tr> \\n                    <tr>\\n                     <td> </td> <td>v<sub>ca</sub>= @v_ca V</td>\\n                    </tr>\\n               <tr>\\n                <td>v<sub>ng</sub>    = @v_ng &ang; @deg_ng V</td>  <td>S<sub>abc</sub> = @p_abc + j@q_abc kVA </td>\\n              </tr>\\n            </table>\\n            </div>\\n            \"},\"id\":\"2320\",\"type\":\"HoverTool\"},{\"attributes\":{\"data_source\":{\"id\":\"2310\",\"type\":\"ColumnDataSource\"},\"glyph\":{\"id\":\"2312\",\"type\":\"Circle\"},\"hover_glyph\":null,\"muted_glyph\":null,\"nonselection_glyph\":{\"id\":\"2313\",\"type\":\"Circle\"},\"selection_glyph\":null,\"view\":{\"id\":\"2315\",\"type\":\"CDSView\"}},\"id\":\"2314\",\"type\":\"GlyphRenderer\"},{\"attributes\":{},\"id\":\"2413\",\"type\":\"UnionRenderers\"},{\"attributes\":{},\"id\":\"2411\",\"type\":\"UnionRenderers\"},{\"attributes\":{\"plot\":null,\"text\":\"Results\"},\"id\":\"2262\",\"type\":\"Title\"},{\"attributes\":{\"callback\":null,\"data\":{\"deg_j_a\":[-109.6538240580533],\"deg_j_b\":[-90.0],\"deg_j_c\":[180.0],\"deg_j_n\":[-134.99999999997073],\"deg_k_a\":[-109.6538240580533],\"deg_k_b\":[-90.0],\"deg_k_c\":[180.0],\"deg_k_n\":[-134.99999999997073],\"i_j_a_m\":[3.842788703956982e-25],\"i_j_b_m\":[2.2737367544323203e-13],\"i_j_c_m\":[2.2737367544323203e-13],\"i_j_n_m\":[3.2155493553878435e-13],\"i_k_a_m\":[3.842788703956982e-25],\"i_k_b_m\":[2.2737367544323203e-13],\"i_k_c_m\":[2.2737367544323203e-13],\"i_k_n_m\":[3.2155493553878435e-13],\"line_id\":[\"B1-B2\"],\"x_s\":[[30,200]],\"y_s\":[[0,0]]},\"selected\":{\"id\":\"2414\",\"type\":\"Selection\"},\"selection_policy\":{\"id\":\"2413\",\"type\":\"UnionRenderers\"}},\"id\":\"2304\",\"type\":\"ColumnDataSource\"},{\"attributes\":{},\"id\":\"2415\",\"type\":\"UnionRenderers\"},{\"attributes\":{},\"id\":\"2279\",\"type\":\"BasicTicker\"},{\"attributes\":{\"line_alpha\":{\"value\":0.5},\"line_color\":{\"value\":\"red\"},\"line_width\":{\"value\":5},\"xs\":{\"field\":\"x_s\"},\"ys\":{\"field\":\"y_s\"}},\"id\":\"2306\",\"type\":\"MultiLine\"},{\"attributes\":{\"dimension\":1,\"plot\":{\"id\":\"2263\",\"subtype\":\"Figure\",\"type\":\"Plot\"},\"ticker\":{\"id\":\"2279\",\"type\":\"BasicTicker\"}},\"id\":\"2282\",\"type\":\"Grid\"},{\"attributes\":{\"callback\":null},\"id\":\"2265\",\"type\":\"DataRange1d\"},{\"attributes\":{\"callback\":null,\"data\":{\"deg_1a\":[-42.67612435663526],\"deg_1b\":[63.43494882292201],\"deg_1c\":[137.32387564336474],\"deg_1n\":[90.0],\"deg_2a\":[137.32387564336483],\"deg_2b\":[-100.61965527615514],\"deg_2c\":[0.0],\"deg_2n\":[-109.6538240580533],\"i_1a_m\":[443.3110979014615],\"i_1b_m\":[2.5421149729252077e-13],\"i_1c_m\":[443.31109790146155],\"i_1n_m\":[1.1368683772161603e-13],\"i_2a_m\":[2815.4035987897287],\"i_2b_m\":[3.701375270816176e-12],\"i_2c_m\":[2.7284841053187847e-12],\"i_2n_m\":[3.842788703956982e-25],\"trafo_id\":[\"B0-B1\"],\"x_s\":[[0,30]],\"y_s\":[[0,0]]},\"selected\":{\"id\":\"2412\",\"type\":\"Selection\"},\"selection_policy\":{\"id\":\"2411\",\"type\":\"UnionRenderers\"}},\"id\":\"2298\",\"type\":\"ColumnDataSource\"},{\"attributes\":{\"callback\":null},\"id\":\"2267\",\"type\":\"DataRange1d\"},{\"attributes\":{\"line_alpha\":{\"value\":0.5},\"line_color\":{\"value\":\"green\"},\"line_width\":{\"value\":5},\"xs\":{\"field\":\"x_s\"},\"ys\":{\"field\":\"y_s\"}},\"id\":\"2300\",\"type\":\"MultiLine\"},{\"attributes\":{\"active_drag\":\"auto\",\"active_inspect\":\"auto\",\"active_multi\":null,\"active_scroll\":\"auto\",\"active_tap\":\"auto\",\"tools\":[{\"id\":\"2283\",\"type\":\"PanTool\"},{\"id\":\"2284\",\"type\":\"WheelZoomTool\"},{\"id\":\"2285\",\"type\":\"BoxZoomTool\"},{\"id\":\"2286\",\"type\":\"SaveTool\"},{\"id\":\"2287\",\"type\":\"ResetTool\"},{\"id\":\"2288\",\"type\":\"HelpTool\"},{\"id\":\"2316\",\"type\":\"HoverTool\"},{\"id\":\"2318\",\"type\":\"HoverTool\"},{\"id\":\"2320\",\"type\":\"HoverTool\"}]},\"id\":\"2289\",\"type\":\"Toolbar\"},{\"attributes\":{\"formatter\":{\"id\":\"2408\",\"type\":\"BasicTickFormatter\"},\"plot\":{\"id\":\"2263\",\"subtype\":\"Figure\",\"type\":\"Plot\"},\"ticker\":{\"id\":\"2274\",\"type\":\"BasicTicker\"}},\"id\":\"2273\",\"type\":\"LinearAxis\"},{\"attributes\":{\"formatter\":{\"id\":\"2410\",\"type\":\"BasicTickFormatter\"},\"plot\":{\"id\":\"2263\",\"subtype\":\"Figure\",\"type\":\"Plot\"},\"ticker\":{\"id\":\"2279\",\"type\":\"BasicTicker\"}},\"id\":\"2278\",\"type\":\"LinearAxis\"},{\"attributes\":{},\"id\":\"2271\",\"type\":\"LinearScale\"},{\"attributes\":{},\"id\":\"2414\",\"type\":\"Selection\"},{\"attributes\":{\"source\":{\"id\":\"2298\",\"type\":\"ColumnDataSource\"}},\"id\":\"2303\",\"type\":\"CDSView\"},{\"attributes\":{},\"id\":\"2288\",\"type\":\"HelpTool\"},{\"attributes\":{},\"id\":\"2286\",\"type\":\"SaveTool\"},{\"attributes\":{\"bottom_units\":\"screen\",\"fill_alpha\":{\"value\":0.5},\"fill_color\":{\"value\":\"lightgrey\"},\"left_units\":\"screen\",\"level\":\"overlay\",\"line_alpha\":{\"value\":1.0},\"line_color\":{\"value\":\"black\"},\"line_dash\":[4,4],\"line_width\":{\"value\":2},\"plot\":null,\"render_mode\":\"css\",\"right_units\":\"screen\",\"top_units\":\"screen\"},\"id\":\"2291\",\"type\":\"BoxAnnotation\"},{\"attributes\":{},\"id\":\"2284\",\"type\":\"WheelZoomTool\"}],\"root_ids\":[\"2263\"]},\"title\":\"Bokeh Application\",\"version\":\"1.0.2\"}};\n",
       "  var render_items = [{\"docid\":\"02063c20-2d13-485d-81d8-4096e10084d9\",\"roots\":{\"2263\":\"2dd6ccae-e6db-466c-aa8a-d51d8740de0a\"}}];\n",
       "  root.Bokeh.embed.embed_items_notebook(docs_json, render_items);\n",
       "\n",
       "  }\n",
       "  if (root.Bokeh !== undefined) {\n",
       "    embed_document(root);\n",
       "  } else {\n",
       "    var attempts = 0;\n",
       "    var timer = setInterval(function(root) {\n",
       "      if (root.Bokeh !== undefined) {\n",
       "        embed_document(root);\n",
       "        clearInterval(timer);\n",
       "      }\n",
       "      attempts++;\n",
       "      if (attempts > 100) {\n",
       "        console.log(\"Bokeh: ERROR: Unable to run BokehJS code because BokehJS library is missing\");\n",
       "        clearInterval(timer);\n",
       "      }\n",
       "    }, 10, root)\n",
       "  }\n",
       "})(window);"
      ],
      "application/vnd.bokehjs_exec.v0+json": ""
     },
     "metadata": {
      "application/vnd.bokehjs_exec.v0+json": {
       "id": "2263"
      }
     },
     "output_type": "display_data"
    }
   ],
   "source": [
    "grid_ph_n = grid()\n",
    "grid_ph_n.read(data)  # Load data\n",
    "grid_ph_n.pf()  # solve power flow\n",
    "p=plot_results(grid_ph_n)"
   ]
  },
  {
   "cell_type": "markdown",
   "metadata": {},
   "source": [
    "Run this notebook in binder:\n",
    "\n",
    "[![Documentation Status](https://mybinder.org/badge.svg)](https://mybinder.org/v2/gh/pydgrid/pydgrid/master?filepath=/docs/jupyter_notebooks/mv_short_circuit.ipynb)"
   ]
  },
  {
   "cell_type": "code",
   "execution_count": null,
   "metadata": {},
   "outputs": [],
   "source": []
  },
  {
   "cell_type": "code",
   "execution_count": null,
   "metadata": {},
   "outputs": [],
   "source": []
  }
 ],
 "metadata": {
  "kernelspec": {
   "display_name": "Python 3",
   "language": "python",
   "name": "python3"
  },
  "language_info": {
   "codemirror_mode": {
    "name": "ipython",
    "version": 3
   },
   "file_extension": ".py",
   "mimetype": "text/x-python",
   "name": "python",
   "nbconvert_exporter": "python",
   "pygments_lexer": "ipython3",
   "version": "3.7.1"
  }
 },
 "nbformat": 4,
 "nbformat_minor": 2
}
