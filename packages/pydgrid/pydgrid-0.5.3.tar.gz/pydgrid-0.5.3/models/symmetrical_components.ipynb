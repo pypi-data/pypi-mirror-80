{
 "cells": [
  {
   "cell_type": "code",
   "execution_count": 1,
   "metadata": {
    "collapsed": true
   },
   "outputs": [],
   "source": [
    "import numpy as np\n",
    "import numba\n",
    "import matplotlib.pyplot as plt\n",
    "import sympy as sym\n",
    "import scipy.optimize as sopt\n",
    "#plt.style.use('presentation')\n",
    "%matplotlib notebook\n",
    "\n",
    "def d2np(d):\n",
    "    \n",
    "    names = []\n",
    "    numbers = ()\n",
    "    dtypes = []\n",
    "    for item in d:\n",
    "        names += item   \n",
    "        if type(d[item]) == float:\n",
    "            numbers += (d[item],)\n",
    "            dtypes += [(item,float)]\n",
    "        if type(d[item]) == int:\n",
    "            numbers += (d[item],)\n",
    "            dtypes += [(item,int)]\n",
    "        if type(d[item]) == np.ndarray:\n",
    "            numbers += (d[item],)\n",
    "            dtypes += [(item,np.float64,d[item].shape)]\n",
    "    return np.array([numbers],dtype=dtypes)"
   ]
  },
  {
   "cell_type": "code",
   "execution_count": 2,
   "metadata": {
    "collapsed": true
   },
   "outputs": [],
   "source": [
    "alpha = np.exp(2.0/3*np.pi*1j)\n",
    "A_0a =  np.array([[1, 1, 1],\n",
    "                  [1, alpha**2, alpha],\n",
    "                  [1, alpha, alpha**2]])\n",
    "\n",
    "A_a0 = 1/3* np.array([[1, 1, 1],\n",
    "                      [1, alpha, alpha**2],\n",
    "                      [1, alpha**2, alpha]])"
   ]
  },
  {
   "cell_type": "code",
   "execution_count": 3,
   "metadata": {
    "collapsed": true
   },
   "outputs": [],
   "source": [
    "V_0 = 0.0*np.exp(1j*0)\n",
    "V_1 = 400/np.sqrt(3)*np.exp(1j*0)\n",
    "V_2 = 0.0*np.exp(1j*0)\n",
    "V_012 = np.array([V_0,V_1,V_2]).reshape(3,1)"
   ]
  },
  {
   "cell_type": "code",
   "execution_count": 4,
   "metadata": {
    "collapsed": true
   },
   "outputs": [],
   "source": [
    "V_abc = A_0a @ V_012"
   ]
  },
  {
   "cell_type": "code",
   "execution_count": 5,
   "metadata": {},
   "outputs": [
    {
     "data": {
      "text/plain": [
       "array([[ 230.94010768  +0.j],\n",
       "       [-115.47005384-200.j],\n",
       "       [-115.47005384+200.j]])"
      ]
     },
     "execution_count": 5,
     "metadata": {},
     "output_type": "execute_result"
    }
   ],
   "source": [
    "V_abc"
   ]
  },
  {
   "cell_type": "code",
   "execution_count": 6,
   "metadata": {
    "collapsed": true
   },
   "outputs": [],
   "source": [
    "I_0 = 0.0*np.exp(1j*0)\n",
    "I_1 = 10*np.exp(1j*0)\n",
    "I_2 = 0.0*np.exp(1j*0)\n",
    "I_012 = np.array([I_0,I_1,I_2]).reshape(3,1)"
   ]
  },
  {
   "cell_type": "code",
   "execution_count": 7,
   "metadata": {
    "collapsed": true
   },
   "outputs": [],
   "source": [
    "I_abc = A_0a @ I_012"
   ]
  },
  {
   "cell_type": "code",
   "execution_count": 8,
   "metadata": {
    "collapsed": true
   },
   "outputs": [],
   "source": [
    "Z_abc = np.eye(3)*30\n",
    "Y_abc = np.linalg.inv(Z_abc)"
   ]
  },
  {
   "cell_type": "code",
   "execution_count": 9,
   "metadata": {
    "collapsed": true
   },
   "outputs": [],
   "source": [
    "#V_abc = Z_abc @ I_abc"
   ]
  },
  {
   "cell_type": "code",
   "execution_count": 10,
   "metadata": {
    "collapsed": true
   },
   "outputs": [],
   "source": [
    "I_abc = Y_abc @ V_abc"
   ]
  },
  {
   "cell_type": "code",
   "execution_count": 11,
   "metadata": {},
   "outputs": [
    {
     "data": {
      "text/plain": [
       "array([[ 7.69800359+0.j        ],\n",
       "       [-3.84900179-6.66666667j],\n",
       "       [-3.84900179+6.66666667j]])"
      ]
     },
     "execution_count": 11,
     "metadata": {},
     "output_type": "execute_result"
    }
   ],
   "source": [
    "I_abc"
   ]
  },
  {
   "cell_type": "code",
   "execution_count": 12,
   "metadata": {},
   "outputs": [
    {
     "data": {
      "text/plain": [
       "array([[ 0.03333333,  0.        ,  0.        ],\n",
       "       [ 0.        ,  0.03333333,  0.        ],\n",
       "       [ 0.        ,  0.        ,  0.03333333]])"
      ]
     },
     "execution_count": 12,
     "metadata": {},
     "output_type": "execute_result"
    }
   ],
   "source": [
    "Y_abc"
   ]
  },
  {
   "cell_type": "code",
   "execution_count": 13,
   "metadata": {
    "collapsed": true
   },
   "outputs": [],
   "source": [
    "Y_0 = 0.3\n",
    "Y_1 = 0.0\n",
    "Y_2 = 0.0\n",
    "\n",
    "Y_012 = np.array([[ Y_0,  0. ,  0. ],\n",
    "                   [ 0. , Y_1,  0. ],\n",
    "                   [ 0. ,  0. ,  Y_2]])\n"
   ]
  },
  {
   "cell_type": "raw",
   "metadata": {},
   "source": [
    "I_012 = Y_012 @ V_012\n",
    "A_a0 @ I_abc = Y_012 @ (A_a0 @ V_abc)\n",
    "I_abc = A_0a @ Y_012 @ A_a0 @ V_abc\n",
    "Y_abc = A_0a @ Y_012 @ A_a0"
   ]
  },
  {
   "cell_type": "code",
   "execution_count": 14,
   "metadata": {
    "collapsed": true
   },
   "outputs": [],
   "source": [
    "Y_abc = A_0a @ Y_012 @ A_a0"
   ]
  },
  {
   "cell_type": "code",
   "execution_count": 15,
   "metadata": {
    "collapsed": true
   },
   "outputs": [],
   "source": [
    "I_abc = Y_abc @ V_abc"
   ]
  },
  {
   "cell_type": "code",
   "execution_count": 16,
   "metadata": {},
   "outputs": [
    {
     "data": {
      "text/plain": [
       "array([[ -1.77635684e-15 +7.10542736e-15j],\n",
       "       [ -1.77635684e-15 +7.10542736e-15j],\n",
       "       [ -1.77635684e-15 +7.10542736e-15j]])"
      ]
     },
     "execution_count": 16,
     "metadata": {},
     "output_type": "execute_result"
    }
   ],
   "source": [
    "I_abc"
   ]
  },
  {
   "cell_type": "code",
   "execution_count": 17,
   "metadata": {
    "collapsed": true
   },
   "outputs": [],
   "source": [
    "V_0 = 0.0*np.exp(1j*0)\n",
    "V_1 = 400/np.sqrt(3)*np.exp(1j*0)\n",
    "V_2 = 0.0*np.exp(1j*0)\n",
    "V_012 = np.array([V_0,V_1,V_2]).reshape(3,1)\n",
    "\n",
    "I_abc = Y_abc @ V_abc\n",
    "\n"
   ]
  },
  {
   "cell_type": "code",
   "execution_count": 18,
   "metadata": {},
   "outputs": [
    {
     "data": {
      "text/plain": [
       "array([[ 0.1+0.j,  0.1+0.j,  0.1+0.j],\n",
       "       [ 0.1+0.j,  0.1+0.j,  0.1+0.j],\n",
       "       [ 0.1+0.j,  0.1+0.j,  0.1+0.j]])"
      ]
     },
     "execution_count": 18,
     "metadata": {},
     "output_type": "execute_result"
    }
   ],
   "source": [
    "Y_abc"
   ]
  },
  {
   "cell_type": "code",
   "execution_count": 19,
   "metadata": {},
   "outputs": [
    {
     "data": {
      "text/plain": [
       "array([[ -343.75 +3.63797881e-12j],\n",
       "       [ -343.75 +3.63797881e-12j],\n",
       "       [ -343.75 +3.63797881e-12j],\n",
       "       [ 1031.25 +3.63797881e-12j]])"
      ]
     },
     "execution_count": 19,
     "metadata": {},
     "output_type": "execute_result"
    }
   ],
   "source": [
    "Z_gnd = 32.0\n",
    "Y_gnd = 1.0/Z_gnd \n",
    "Y_abcn = np.array([[ 1,  1,  1, -Y_gnd],\n",
    "                   [ 1,  1,  1, -Y_gnd],\n",
    "                   [ 1,  1,  1, -Y_gnd],\n",
    "                   [ 1,  1,  1,  3*Y_gnd]])\n",
    "\n",
    "V_0 = 0.0*np.exp(1j*0)\n",
    "V_1 = 20e3/np.sqrt(3)*np.exp(1j*0)\n",
    "V_2 = 0.0*np.exp(1j*0)\n",
    "V_012 = np.array([V_0,V_1,V_2]).reshape(3,1)\n",
    "V_abc = A_0a @ V_012\n",
    "\n",
    "V_abcn = np.vstack((V_abc,[11e3+1j*0.0]))\n",
    "\n",
    "I_abcn = Y_abcn @ V_abcn\n",
    "I_abcn"
   ]
  },
  {
   "cell_type": "code",
   "execution_count": 20,
   "metadata": {},
   "outputs": [
    {
     "data": {
      "text/plain": [
       "array([[ 11547.00538379    +0.j],\n",
       "       [ -5773.50269190-10000.j],\n",
       "       [ -5773.50269190+10000.j],\n",
       "       [ 11000.00000000    +0.j]])"
      ]
     },
     "execution_count": 20,
     "metadata": {},
     "output_type": "execute_result"
    }
   ],
   "source": [
    "V_abcn"
   ]
  },
  {
   "cell_type": "code",
   "execution_count": 21,
   "metadata": {
    "collapsed": true
   },
   "outputs": [],
   "source": [
    "## Kron reduction"
   ]
  },
  {
   "cell_type": "code",
   "execution_count": 22,
   "metadata": {},
   "outputs": [
    {
     "data": {
      "text/plain": [
       "array([[  2.00000000e-05 +2.77555756e-17j],\n",
       "       [ -1.00000000e-05 +1.73205081e-05j],\n",
       "       [ -1.00000000e-05 -1.73205081e-05j]])"
      ]
     },
     "execution_count": 22,
     "metadata": {},
     "output_type": "execute_result"
    }
   ],
   "source": [
    "Z_gnd = 32.0*3\n",
    "Y_gnd = 1.0/Z_gnd \n",
    "Y_full = -Y_gnd/3+Y_gnd\n",
    "Y_gnd1 = Y_gnd\n",
    "Y_gnd2 = Y_gnd*3\n",
    "Y_abcn = np.array([[  Y_full+1e-6,  Y_full,  Y_full, -Y_gnd1],\n",
    "                   [  Y_full,  Y_full+1e-6,  Y_full, -Y_gnd1],\n",
    "                   [  Y_full,  Y_full,  Y_full+1e-6, -Y_gnd1],\n",
    "                   [ -Y_gnd1, -Y_gnd1, -Y_gnd1,  Y_gnd2]])\n",
    "Y_pp = Y_abcn[0:3,0:3]\n",
    "Y_pn = Y_abcn[0:3,3:4]\n",
    "Y_np = Y_abcn[3:4,0:3]\n",
    "Y_nn = Y_abcn[3:4,3:4]\n",
    "Y_abc = Y_pp - Y_pn @ np.linalg.inv(Y_nn) @ Y_np\n",
    "Z_abc = np.linalg.inv(Y_abc)\n",
    "V_0 = 0e3/np.sqrt(3)*np.exp(1j*0)\n",
    "V_1 = 0e3/np.sqrt(3)*np.exp(1j*0)\n",
    "V_2 = 20.0*np.exp(1j*0)\n",
    "V_012 = np.array([V_0,V_1,V_2]).reshape(3,1)\n",
    "V_abc = A_0a @ V_012\n",
    "\n",
    "I_abc = Y_abc @ V_abc\n",
    "I_abc"
   ]
  },
  {
   "cell_type": "code",
   "execution_count": 23,
   "metadata": {},
   "outputs": [
    {
     "data": {
      "text/plain": [
       "360.8439182435161"
      ]
     },
     "execution_count": 23,
     "metadata": {},
     "output_type": "execute_result"
    }
   ],
   "source": [
    "20e3/np.sqrt(3)/32"
   ]
  },
  {
   "cell_type": "code",
   "execution_count": 24,
   "metadata": {},
   "outputs": [
    {
     "data": {
      "text/plain": [
       "720.0"
      ]
     },
     "execution_count": 24,
     "metadata": {},
     "output_type": "execute_result"
    }
   ],
   "source": [
    "360.0*2"
   ]
  },
  {
   "cell_type": "code",
   "execution_count": 25,
   "metadata": {},
   "outputs": [
    {
     "data": {
      "text/plain": [
       "1080"
      ]
     },
     "execution_count": 25,
     "metadata": {},
     "output_type": "execute_result"
    }
   ],
   "source": [
    "360*3"
   ]
  },
  {
   "cell_type": "code",
   "execution_count": 26,
   "metadata": {},
   "outputs": [
    {
     "data": {
      "text/plain": [
       "array([[ 666698.66359481, -333301.33640496, -333301.33640496],\n",
       "       [-333301.33640496,  666698.66359486, -333301.33640501],\n",
       "       [-333301.33640496, -333301.33640501,  666698.66359486]])"
      ]
     },
     "execution_count": 26,
     "metadata": {},
     "output_type": "execute_result"
    }
   ],
   "source": [
    "np.linalg.inv(Y_abc)"
   ]
  },
  {
   "cell_type": "code",
   "execution_count": null,
   "metadata": {
    "collapsed": true
   },
   "outputs": [],
   "source": []
  },
  {
   "cell_type": "code",
   "execution_count": null,
   "metadata": {
    "collapsed": true
   },
   "outputs": [],
   "source": []
  },
  {
   "cell_type": "code",
   "execution_count": null,
   "metadata": {
    "collapsed": true
   },
   "outputs": [],
   "source": []
  },
  {
   "cell_type": "code",
   "execution_count": null,
   "metadata": {
    "collapsed": true
   },
   "outputs": [],
   "source": []
  }
 ],
 "metadata": {
  "anaconda-cloud": {},
  "kernelspec": {
   "display_name": "Python 3",
   "language": "python",
   "name": "python3"
  },
  "language_info": {
   "codemirror_mode": {
    "name": "ipython",
    "version": 3
   },
   "file_extension": ".py",
   "mimetype": "text/x-python",
   "name": "python",
   "nbconvert_exporter": "python",
   "pygments_lexer": "ipython3",
   "version": "3.6.4"
  }
 },
 "nbformat": 4,
 "nbformat_minor": 1
}
