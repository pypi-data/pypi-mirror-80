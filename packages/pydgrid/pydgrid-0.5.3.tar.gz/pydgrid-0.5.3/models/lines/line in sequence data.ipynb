{
 "cells": [
  {
   "cell_type": "code",
   "execution_count": 1,
   "metadata": {
    "collapsed": true
   },
   "outputs": [],
   "source": [
    "import numpy as np"
   ]
  },
  {
   "cell_type": "code",
   "execution_count": 2,
   "metadata": {
    "collapsed": true
   },
   "outputs": [],
   "source": [
    "alpha = np.exp(2.0/3*np.pi*1j)\n",
    "A_0a =  np.array([[1, 1, 1],\n",
    "                  [1, alpha**2, alpha],\n",
    "                  [1, alpha, alpha**2]])\n",
    "\n",
    "A_a0 = 1/3* np.array([[1, 1, 1],\n",
    "                      [1, alpha, alpha**2],\n",
    "                      [1, alpha**2, alpha]])\n",
    "                  "
   ]
  },
  {
   "cell_type": "code",
   "execution_count": 7,
   "metadata": {
    "collapsed": true
   },
   "outputs": [],
   "source": [
    "R1 = 0.6\n",
    "X1 = 0.8\n",
    "Z_1 = R1 + 1j*X1\n",
    "Z_2 = Z_1\n",
    "Z_0 = 2*Z_1\n",
    "Z_012 = np.array([[Z_0,0,0],[0,Z_1,0],[0,0,Z_2]])"
   ]
  },
  {
   "cell_type": "code",
   "execution_count": 8,
   "metadata": {},
   "outputs": [
    {
     "data": {
      "text/plain": [
       "array([[ 1.2+1.6j,  0.0+0.j ,  0.0+0.j ],\n",
       "       [ 0.0+0.j ,  0.6+0.8j,  0.0+0.j ],\n",
       "       [ 0.0+0.j ,  0.0+0.j ,  0.6+0.8j]])"
      ]
     },
     "execution_count": 8,
     "metadata": {},
     "output_type": "execute_result"
    }
   ],
   "source": [
    "Z_012"
   ]
  },
  {
   "cell_type": "code",
   "execution_count": 9,
   "metadata": {
    "collapsed": true
   },
   "outputs": [],
   "source": [
    "Z_abc = A_a0 @ Z_012 @ A_0a"
   ]
  },
  {
   "cell_type": "code",
   "execution_count": 10,
   "metadata": {},
   "outputs": [
    {
     "data": {
      "text/plain": [
       "array([[ 0.8+1.06666667j,  0.2+0.26666667j,  0.2+0.26666667j],\n",
       "       [ 0.2+0.26666667j,  0.8+1.06666667j,  0.2+0.26666667j],\n",
       "       [ 0.2+0.26666667j,  0.2+0.26666667j,  0.8+1.06666667j]])"
      ]
     },
     "execution_count": 10,
     "metadata": {},
     "output_type": "execute_result"
    }
   ],
   "source": [
    "Z_abc"
   ]
  },
  {
   "cell_type": "code",
   "execution_count": null,
   "metadata": {
    "collapsed": true
   },
   "outputs": [],
   "source": []
  }
 ],
 "metadata": {
  "kernelspec": {
   "display_name": "Python 3",
   "language": "python",
   "name": "python3"
  },
  "language_info": {
   "codemirror_mode": {
    "name": "ipython",
    "version": 3
   },
   "file_extension": ".py",
   "mimetype": "text/x-python",
   "name": "python",
   "nbconvert_exporter": "python",
   "pygments_lexer": "ipython3",
   "version": "3.6.2"
  }
 },
 "nbformat": 4,
 "nbformat_minor": 2
}
